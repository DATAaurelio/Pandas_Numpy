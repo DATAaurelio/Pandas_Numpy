{
 "cells": [
  {
   "cell_type": "code",
   "execution_count": 6,
   "metadata": {},
   "outputs": [],
   "source": [
    "#! pip install sqlite3\n",
    "import sqlite3\n"
   ]
  },
  {
   "cell_type": "code",
   "execution_count": 7,
   "metadata": {},
   "outputs": [
    {
     "ename": "OperationalError",
     "evalue": "unable to open database file",
     "output_type": "error",
     "traceback": [
      "\u001b[0;31m---------------------------------------------------------------------------\u001b[0m",
      "\u001b[0;31mOperationalError\u001b[0m                          Traceback (most recent call last)",
      "Cell \u001b[0;32mIn[7], line 1\u001b[0m\n\u001b[0;32m----> 1\u001b[0m con_sqlt \u001b[38;5;241m=\u001b[39m \u001b[43msqlite3\u001b[49m\u001b[38;5;241;43m.\u001b[39;49m\u001b[43mconnect\u001b[49m\u001b[43m(\u001b[49m\u001b[38;5;124;43mr\u001b[39;49m\u001b[38;5;124;43m\"\u001b[39;49m\u001b[38;5;124;43mUsers/aurelio.sosa.netmind/Pandas/database.db\u001b[39;49m\u001b[38;5;124;43m\"\u001b[39;49m\u001b[43m)\u001b[49m\n\u001b[1;32m      2\u001b[0m dfdb \u001b[38;5;241m=\u001b[39m pd\u001b[38;5;241m.\u001b[39mread_sql_query(\u001b[38;5;124m\"\u001b[39m\u001b[38;5;124mSELECT*FROM movies\u001b[39m\u001b[38;5;124m\"\u001b[39m, con_sqlt)\n\u001b[1;32m      3\u001b[0m con_sqlt\u001b[38;5;241m.\u001b[39mclose()\n",
      "\u001b[0;31mOperationalError\u001b[0m: unable to open database file"
     ]
    }
   ],
   "source": [
    "con_sqlt = sqlite3.connect(r\"Users/aurelio.sosa.netmind/Pandas/database.db\")\n",
    "dfdb = pd.read_sql_query(\"SELECT*FROM movies\", con_sqlt)\n",
    "con_sqlt.close()\n",
    "\n",
    "dfdb\n"
   ]
  },
  {
   "cell_type": "code",
   "execution_count": 7,
   "metadata": {},
   "outputs": [
    {
     "name": "stdout",
     "output_type": "stream",
     "text": [
      "/mnt/batch/tasks/shared/LS_root/mounts/clusters/aurelio-parra/code/Users/aurelio.sosa.netmind/Pandas/Users/aurelio.sosa.netmind/Pandas/database.db\n",
      "Error al conectar a la base de datos: unable to open database file\n"
     ]
    }
   ],
   "source": [
    "import sqlite3\n",
    "import pandas as pd\n",
    "import os\n",
    "\n",
    "# Obtener la ruta absoluta de la base de datos\n",
    "db_path = os.path.abspath(r\"Users/aurelio.sosa.netmind/Pandas/database.db\")\n",
    "print(db_path)\n",
    "\n",
    "# Intentar la conexión\n",
    "try:\n",
    "    con_sqlt = sqlite3.connect(db_path)\n",
    "    dfdb = pd.read_sql_query(\"SELECT * FROM movies\", con_sqlt)\n",
    "    con_sqlt.close()\n",
    "    print(dfdb.head())  # Muestra las primeras filas si la conexión es exitosa\n",
    "except sqlite3.OperationalError as e:\n",
    "    print(\"Error al conectar a la base de datos:\", e)"
   ]
  },
  {
   "cell_type": "code",
   "execution_count": 8,
   "metadata": {},
   "outputs": [
    {
     "name": "stdout",
     "output_type": "stream",
     "text": [
      "Error al conectar a la base de datos: unable to open database file\n",
      "El archivo de base de datos no existe en la ruta especificada.\n"
     ]
    }
   ],
   "source": [
    "import sqlite3\n",
    "import os\n",
    "import pandas as pd\n",
    "\n",
    "# Ruta absoluta del archivo de base de datos\n",
    "db_path = os.path.abspath(r\"Users/aurelio.sosa.netmind/Pandas/database.db\")\n",
    "\n",
    "# Intentar la conexión a la base de datos\n",
    "try:\n",
    "    con_sqlt = sqlite3.connect(db_path)\n",
    "    print(\"Conexión exitosa\")\n",
    "    con_sqlt.close()\n",
    "except sqlite3.OperationalError as e:\n",
    "    print(\"Error al conectar a la base de datos:\", e)\n",
    "\n",
    "if not os.path.exists(db_path):\n",
    "    print(\"El archivo de base de datos no existe en la ruta especificada.\")\n",
    "else:\n",
    "    print(\"El archivo de base de datos existe.\")\n",
    "\n"
   ]
  },
  {
   "cell_type": "code",
   "execution_count": null,
   "metadata": {},
   "outputs": [
    {
     "ename": "OperationalError",
     "evalue": "database is locked",
     "output_type": "error",
     "traceback": [
      "\u001b[0;31m---------------------------------------------------------------------------\u001b[0m",
      "\u001b[0;31mOperationalError\u001b[0m                          Traceback (most recent call last)",
      "Cell \u001b[0;32mIn[10], line 5\u001b[0m\n\u001b[1;32m      2\u001b[0m cursor \u001b[38;5;241m=\u001b[39m con_sqlt\u001b[38;5;241m.\u001b[39mcursor()\n\u001b[1;32m      4\u001b[0m \u001b[38;5;66;03m# Crear una tabla de prueba\u001b[39;00m\n\u001b[0;32m----> 5\u001b[0m \u001b[43mcursor\u001b[49m\u001b[38;5;241;43m.\u001b[39;49m\u001b[43mexecute\u001b[49m\u001b[43m(\u001b[49m\u001b[38;5;124;43m\"\u001b[39;49m\u001b[38;5;124;43mCREATE TABLE IF NOT EXISTS test (id INTEGER, name TEXT)\u001b[39;49m\u001b[38;5;124;43m\"\u001b[39;49m\u001b[43m)\u001b[49m\n\u001b[1;32m      6\u001b[0m con_sqlt\u001b[38;5;241m.\u001b[39mcommit()\n\u001b[1;32m      8\u001b[0m \u001b[38;5;28mprint\u001b[39m(\u001b[38;5;124m\"\u001b[39m\u001b[38;5;124mBase de datos creada exitosamente\u001b[39m\u001b[38;5;124m\"\u001b[39m)\n",
      "\u001b[0;31mOperationalError\u001b[0m: database is locked"
     ]
    }
   ],
   "source": [
    "con_sqlt = sqlite3.connect(\"database.db\")  # Archivo en la misma carpeta\n",
    "cursor = con_sqlt.cursor()\n",
    "\n",
    "# Crear una tabla de prueba\n",
    "cursor.execute(\"CREATE TABLE IF NOT EXISTS test (id INTEGER, name TEXT)\")\n",
    "con_sqlt.commit()\n",
    "\n",
    "print(\"Base de datos creada exitosamente\")\n",
    "con_sqlt.close()\n"
   ]
  },
  {
   "cell_type": "code",
   "execution_count": 11,
   "metadata": {},
   "outputs": [
    {
     "name": "stdout",
     "output_type": "stream",
     "text": [
      "Directorio actual: /mnt/batch/tasks/shared/LS_root/mounts/clusters/aurelio-parra/code/Users/aurelio.sosa.netmind/Pandas\n",
      "Archivos en la carpeta actual: ['.amlignore', '.amlignore.amltmp', 'action_movies.csv', 'colesterol.csv', 'data.zip', 'database.db', 'dataset_salaris.csv', 'flights14.csv', 'FoodMarket.xlsx', 'frutas.csv', 'frutas.json', 'housing.csv', 'import_customers.csv', 'iris.csv', 'movies', 'pandas.ipynb', 'SalariesExtended.xlsx', 'WorldData.xlsx']\n",
      "El archivo de base de datos NO existe.\n"
     ]
    }
   ],
   "source": [
    "import os\n",
    "\n",
    "# Mostrar la ruta actual del script\n",
    "print(\"Directorio actual:\", os.getcwd())\n",
    "\n",
    "# Listar archivos y carpetas en la ubicación actual\n",
    "print(\"Archivos en la carpeta actual:\", os.listdir())\n",
    "\n",
    "# Verificar si la base de datos está en la carpeta\n",
    "db_path = \"Users/aurelio.sosa.netmind/Pandas/database.db\"\n",
    "if os.path.exists(db_path):\n",
    "    print(\"El archivo de base de datos existe.\")\n",
    "else:\n",
    "    print(\"El archivo de base de datos NO existe.\")\n"
   ]
  },
  {
   "cell_type": "code",
   "execution_count": 12,
   "metadata": {},
   "outputs": [
    {
     "name": "stdout",
     "output_type": "stream",
     "text": [
      "                                title  movieId  \\\n",
      "0                    Toy Story (1995)        1   \n",
      "1                      Jumanji (1995)        2   \n",
      "2             Grumpier Old Men (1995)        3   \n",
      "3            Waiting to Exhale (1995)        4   \n",
      "4  Father of the Bride Part II (1995)        5   \n",
      "\n",
      "                                        genres  \n",
      "0  Adventure|Animation|Children|Comedy|Fantasy  \n",
      "1                   Adventure|Children|Fantasy  \n",
      "2                               Comedy|Romance  \n",
      "3                         Comedy|Drama|Romance  \n",
      "4                                       Comedy  \n"
     ]
    }
   ],
   "source": [
    "import sqlite3\n",
    "import pandas as pd\n",
    "\n",
    "# Ruta absoluta detectada\n",
    "db_path = \"/mnt/batch/tasks/shared/LS_root/mounts/clusters/aurelio-parra/code/Users/aurelio.sosa.netmind/Pandas/database.db\"\n",
    "\n",
    "# Intentar la conexión con la ruta absoluta\n",
    "try:\n",
    "    with sqlite3.connect(db_path) as con_sqlt:\n",
    "        dfdb = pd.read_sql_query(\"SELECT * FROM movies\", con_sqlt)\n",
    "    print(dfdb.head()) # Mostrar las primeras filas de la tabla\n",
    "except Exception as e:\n",
    "    print(\"Error al conectar a la base de datos:\", e)\n"
   ]
  },
  {
   "cell_type": "markdown",
   "metadata": {},
   "source": []
  },
  {
   "cell_type": "code",
   "execution_count": null,
   "metadata": {},
   "outputs": [
    {
     "name": "stdout",
     "output_type": "stream",
     "text": [
      "                                          title  movieId  \\\n",
      "0                              Toy Story (1995)        1   \n",
      "2                       Grumpier Old Men (1995)        3   \n",
      "3                      Waiting to Exhale (1995)        4   \n",
      "4            Father of the Bride Part II (1995)        5   \n",
      "6                                Sabrina (1995)        7   \n",
      "...                                         ...      ...   \n",
      "9732                  Gintama: The Movie (2010)   193565   \n",
      "9734                        Silver Spoon (2014)   193571   \n",
      "9737  Black Butler: Book of the Atlantic (2017)   193581   \n",
      "9738               No Game No Life: Zero (2017)   193583   \n",
      "9741        Andrew Dice Clay: Dice Rules (1991)   193609   \n",
      "\n",
      "                                           genres    year  \\\n",
      "0     Adventure|Animation|Children|Comedy|Fantasy  1995.0   \n",
      "2                                  Comedy|Romance  1995.0   \n",
      "3                            Comedy|Drama|Romance  1995.0   \n",
      "4                                          Comedy  1995.0   \n",
      "6                                  Comedy|Romance  1995.0   \n",
      "...                                           ...     ...   \n",
      "9732               Action|Animation|Comedy|Sci-Fi  2010.0   \n",
      "9734                                 Comedy|Drama  2014.0   \n",
      "9737              Action|Animation|Comedy|Fantasy  2017.0   \n",
      "9738                     Animation|Comedy|Fantasy  2017.0   \n",
      "9741                                       Comedy  1991.0   \n",
      "\n",
      "                                             genre_list  \n",
      "0     [Adventure, Animation, Children, Comedy, Fantasy]  \n",
      "2                                     [Comedy, Romance]  \n",
      "3                              [Comedy, Drama, Romance]  \n",
      "4                                              [Comedy]  \n",
      "6                                     [Comedy, Romance]  \n",
      "...                                                 ...  \n",
      "9732                [Action, Animation, Comedy, Sci-Fi]  \n",
      "9734                                    [Comedy, Drama]  \n",
      "9737               [Action, Animation, Comedy, Fantasy]  \n",
      "9738                       [Animation, Comedy, Fantasy]  \n",
      "9741                                           [Comedy]  \n",
      "\n",
      "[3756 rows x 5 columns]\n",
      "                                                  title  movieId  \\\n",
      "2                               Grumpier Old Men (1995)        3   \n",
      "9                                      GoldenEye (1995)       10   \n",
      "376   City Slickers II: The Legend of Curly's Gold (...      432   \n",
      "547                  Cold Fever (Á köldum klaka) (1995)      649   \n",
      "590                            Cold Comfort Farm (1995)      728   \n",
      "...                                                 ...      ...   \n",
      "9048                            Old Men: Robbers (1971)   141820   \n",
      "9460              Kizumonogatari III: Cold Blood (2017)   168218   \n",
      "9515                            Maria Bamford: Old Baby   171631   \n",
      "9602                 Kingsman: The Golden Circle (2017)   176101   \n",
      "9722                                Iron Soldier (2010)   189547   \n",
      "\n",
      "                         genres    year                     genre_list  \n",
      "2                Comedy|Romance  1995.0              [Comedy, Romance]  \n",
      "9     Action|Adventure|Thriller  1995.0  [Action, Adventure, Thriller]  \n",
      "376    Adventure|Comedy|Western  1994.0   [Adventure, Comedy, Western]  \n",
      "547                Comedy|Drama  1995.0                [Comedy, Drama]  \n",
      "590                      Comedy  1995.0                       [Comedy]  \n",
      "...                         ...     ...                            ...  \n",
      "9048                     Comedy  1971.0                       [Comedy]  \n",
      "9460  Animation|Fantasy|Mystery  2017.0  [Animation, Fantasy, Mystery]  \n",
      "9515         (no genres listed)     NaN           [(no genres listed)]  \n",
      "9602    Action|Adventure|Comedy  2017.0    [Action, Adventure, Comedy]  \n",
      "9722              Action|Sci-Fi  2010.0               [Action, Sci-Fi]  \n",
      "\n",
      "[98 rows x 5 columns]\n",
      "                                          title  \\\n",
      "10               American President, The (1995)   \n",
      "11           Dracula: Dead and Loving It (1995)   \n",
      "12                                 Balto (1995)   \n",
      "13                                 Nixon (1995)   \n",
      "14                      Cutthroat Island (1995)   \n",
      "...                                         ...   \n",
      "9737  Black Butler: Book of the Atlantic (2017)   \n",
      "9738               No Game No Life: Zero (2017)   \n",
      "9739                               Flint (2017)   \n",
      "9740        Bungo Stray Dogs: Dead Apple (2018)   \n",
      "9741        Andrew Dice Clay: Dice Rules (1991)   \n",
      "\n",
      "                               genres  \n",
      "10               Comedy|Drama|Romance  \n",
      "11                      Comedy|Horror  \n",
      "12       Adventure|Animation|Children  \n",
      "13                              Drama  \n",
      "14           Action|Adventure|Romance  \n",
      "...                               ...  \n",
      "9737  Action|Animation|Comedy|Fantasy  \n",
      "9738         Animation|Comedy|Fantasy  \n",
      "9739                            Drama  \n",
      "9740                 Action|Animation  \n",
      "9741                           Comedy  \n",
      "\n",
      "[9732 rows x 2 columns]\n",
      "title                                          Toy Story (1995)\n",
      "movieId                                                       1\n",
      "genres              Adventure|Animation|Children|Comedy|Fantasy\n",
      "year                                                     1995.0\n",
      "genre_list    [Adventure, Animation, Children, Comedy, Fantasy]\n",
      "Name: 0, dtype: object\n",
      "                                title  movieId  \\\n",
      "0                    Toy Story (1995)        1   \n",
      "1                      Jumanji (1995)        2   \n",
      "2             Grumpier Old Men (1995)        3   \n",
      "3            Waiting to Exhale (1995)        4   \n",
      "4  Father of the Bride Part II (1995)        5   \n",
      "5                         Heat (1995)        6   \n",
      "6                      Sabrina (1995)        7   \n",
      "7                 Tom and Huck (1995)        8   \n",
      "8                 Sudden Death (1995)        9   \n",
      "9                    GoldenEye (1995)       10   \n",
      "\n",
      "                                        genres    year  \\\n",
      "0  Adventure|Animation|Children|Comedy|Fantasy  1995.0   \n",
      "1                   Adventure|Children|Fantasy  1995.0   \n",
      "2                               Comedy|Romance  1995.0   \n",
      "3                         Comedy|Drama|Romance  1995.0   \n",
      "4                                       Comedy  1995.0   \n",
      "5                        Action|Crime|Thriller  1995.0   \n",
      "6                               Comedy|Romance  1995.0   \n",
      "7                           Adventure|Children  1995.0   \n",
      "8                                       Action  1995.0   \n",
      "9                    Action|Adventure|Thriller  1995.0   \n",
      "\n",
      "                                          genre_list  \n",
      "0  [Adventure, Animation, Children, Comedy, Fantasy]  \n",
      "1                     [Adventure, Children, Fantasy]  \n",
      "2                                  [Comedy, Romance]  \n",
      "3                           [Comedy, Drama, Romance]  \n",
      "4                                           [Comedy]  \n",
      "5                          [Action, Crime, Thriller]  \n",
      "6                                  [Comedy, Romance]  \n",
      "7                              [Adventure, Children]  \n",
      "8                                           [Action]  \n",
      "9                      [Action, Adventure, Thriller]  \n",
      "                                                  title  movieId  \\\n",
      "1                                        Jumanji (1995)        2   \n",
      "3                              Waiting to Exhale (1995)        4   \n",
      "5                                           Heat (1995)        6   \n",
      "7                                   Tom and Huck (1995)        8   \n",
      "9                                      GoldenEye (1995)       10   \n",
      "...                                                 ...      ...   \n",
      "9733  anohana: The Flower We Saw That Day - The Movi...   193567   \n",
      "9735            Love Live! The School Idol Movie (2015)   193573   \n",
      "9737          Black Butler: Book of the Atlantic (2017)   193581   \n",
      "9739                                       Flint (2017)   193585   \n",
      "9741                Andrew Dice Clay: Dice Rules (1991)   193609   \n",
      "\n",
      "                               genres    year  \\\n",
      "1          Adventure|Children|Fantasy  1995.0   \n",
      "3                Comedy|Drama|Romance  1995.0   \n",
      "5               Action|Crime|Thriller  1995.0   \n",
      "7                  Adventure|Children  1995.0   \n",
      "9           Action|Adventure|Thriller  1995.0   \n",
      "...                               ...     ...   \n",
      "9733                  Animation|Drama  2013.0   \n",
      "9735                        Animation  2015.0   \n",
      "9737  Action|Animation|Comedy|Fantasy  2017.0   \n",
      "9739                            Drama  2017.0   \n",
      "9741                           Comedy  1991.0   \n",
      "\n",
      "                                genre_list  \n",
      "1           [Adventure, Children, Fantasy]  \n",
      "3                 [Comedy, Drama, Romance]  \n",
      "5                [Action, Crime, Thriller]  \n",
      "7                    [Adventure, Children]  \n",
      "9            [Action, Adventure, Thriller]  \n",
      "...                                    ...  \n",
      "9733                    [Animation, Drama]  \n",
      "9735                           [Animation]  \n",
      "9737  [Action, Animation, Comedy, Fantasy]  \n",
      "9739                               [Drama]  \n",
      "9741                              [Comedy]  \n",
      "\n",
      "[4871 rows x 5 columns]\n",
      "                                title  movieId  \\\n",
      "0                    Toy Story (1995)        1   \n",
      "2             Grumpier Old Men (1995)        3   \n",
      "4  Father of the Bride Part II (1995)        5   \n",
      "\n",
      "                                        genres    year  \\\n",
      "0  Adventure|Animation|Children|Comedy|Fantasy  1995.0   \n",
      "2                               Comedy|Romance  1995.0   \n",
      "4                                       Comedy  1995.0   \n",
      "\n",
      "                                          genre_list  \n",
      "0  [Adventure, Animation, Children, Comedy, Fantasy]  \n",
      "2                                  [Comedy, Romance]  \n",
      "4                                           [Comedy]  \n",
      "                                      title  movieId  genres    year  \\\n",
      "4        Father of the Bride Part II (1995)        5  Comedy  1995.0   \n",
      "13                             Nixon (1995)       14   Drama  1995.0   \n",
      "17                        Four Rooms (1995)       18  Comedy  1995.0   \n",
      "18    Ace Ventura: When Nature Calls (1995)       19  Comedy  1995.0   \n",
      "25                           Othello (1995)       26   Drama  1995.0   \n",
      "...                                     ...      ...     ...     ...   \n",
      "9726     Jeff Ross Roasts the Border (2017)   190209  Comedy  2017.0   \n",
      "9727                       John From (2015)   190213   Drama  2015.0   \n",
      "9728                    Liquid Truth (2017)   190215   Drama  2017.0   \n",
      "9739                           Flint (2017)   193585   Drama  2017.0   \n",
      "9741    Andrew Dice Clay: Dice Rules (1991)   193609  Comedy  1991.0   \n",
      "\n",
      "     genre_list  \n",
      "4      [Comedy]  \n",
      "13      [Drama]  \n",
      "17     [Comedy]  \n",
      "18     [Comedy]  \n",
      "25      [Drama]  \n",
      "...         ...  \n",
      "9726   [Comedy]  \n",
      "9727    [Drama]  \n",
      "9728    [Drama]  \n",
      "9739    [Drama]  \n",
      "9741   [Comedy]  \n",
      "\n",
      "[1999 rows x 5 columns]\n"
     ]
    }
   ],
   "source": [
    "df_comedy = dfdb.loc[dfdb['genres'].str.contains('Comedy', case=False)]\n",
    "print(df_comedy)\n",
    "\n",
    "df_old_movies = dfdb.loc[dfdb['title'].str.contains('Old', case=False)]\n",
    "print(df_old_movies)\n",
    "\n",
    "df_filtered = dfdb.loc[dfdb['movieId'] > 10, ['title', 'genres']]\n",
    "print(df_filtered)\n",
    "\n",
    "first_movie = dfdb.iloc[0]\n",
    "print(first_movie)\n",
    "\n",
    "top_10_movies = dfdb.iloc[:10]\n",
    "print(top_10_movies)\n",
    "\n",
    "odd_rows = dfdb.iloc[1::2]\n",
    "print(odd_rows)\n",
    "\n",
    "df_selected_ids = dfdb[dfdb['movieId'].isin([1, 3, 5])]\n",
    "print(df_selected_ids)\n",
    "\n",
    "df_comedy_drama = dfdb[dfdb['genres'].isin(['Comedy', 'Drama'])]\n",
    "print(df_comedy_drama)\n",
    "\n",
    "\n",
    "\n",
    "\n"
   ]
  },
  {
   "cell_type": "code",
   "execution_count": null,
   "metadata": {},
   "outputs": [
    {
     "name": "stdout",
     "output_type": "stream",
     "text": [
      "Total de películas de drama: 4361\n",
      "                                title  movieId  \\\n",
      "0                    Toy Story (1995)        1   \n",
      "1                      Jumanji (1995)        2   \n",
      "2             Grumpier Old Men (1995)        3   \n",
      "3            Waiting to Exhale (1995)        4   \n",
      "4  Father of the Bride Part II (1995)        5   \n",
      "\n",
      "                                        genres    year  \n",
      "0  Adventure|Animation|Children|Comedy|Fantasy  1995.0  \n",
      "1                   Adventure|Children|Fantasy  1995.0  \n",
      "2                               Comedy|Romance  1995.0  \n",
      "3                         Comedy|Drama|Romance  1995.0  \n",
      "4                                       Comedy  1995.0  \n",
      "                                    title  movieId  \\\n",
      "0                        Toy Story (1995)        1   \n",
      "1                          Jumanji (1995)        2   \n",
      "2                 Grumpier Old Men (1995)        3   \n",
      "3                Waiting to Exhale (1995)        4   \n",
      "4      Father of the Bride Part II (1995)        5   \n",
      "...                                   ...      ...   \n",
      "9679  The Tale of the Bunny Picnic (1986)   183301   \n",
      "9680                   Patti Rocks (1988)   183317   \n",
      "9688              De platte jungle (1978)   184245   \n",
      "9729                         Bunny (1998)   190219   \n",
      "9741  Andrew Dice Clay: Dice Rules (1991)   193609   \n",
      "\n",
      "                                           genres    year  \n",
      "0     Adventure|Animation|Children|Comedy|Fantasy  1995.0  \n",
      "1                      Adventure|Children|Fantasy  1995.0  \n",
      "2                                  Comedy|Romance  1995.0  \n",
      "3                            Comedy|Drama|Romance  1995.0  \n",
      "4                                          Comedy  1995.0  \n",
      "...                                           ...     ...  \n",
      "9679                                     Children  1986.0  \n",
      "9680                                 Comedy|Drama  1988.0  \n",
      "9688                                  Documentary  1978.0  \n",
      "9729                                    Animation  1998.0  \n",
      "9741                                       Comedy  1991.0  \n",
      "\n",
      "[4949 rows x 4 columns]\n",
      "                                          title  movieId  \\\n",
      "9741        Andrew Dice Clay: Dice Rules (1991)   193609   \n",
      "9740        Bungo Stray Dogs: Dead Apple (2018)   193587   \n",
      "9739                               Flint (2017)   193585   \n",
      "9738               No Game No Life: Zero (2017)   193583   \n",
      "9737  Black Butler: Book of the Atlantic (2017)   193581   \n",
      "...                                         ...      ...   \n",
      "4            Father of the Bride Part II (1995)        5   \n",
      "3                      Waiting to Exhale (1995)        4   \n",
      "2                       Grumpier Old Men (1995)        3   \n",
      "1                                Jumanji (1995)        2   \n",
      "0                              Toy Story (1995)        1   \n",
      "\n",
      "                                           genres    year  \n",
      "9741                                       Comedy  1991.0  \n",
      "9740                             Action|Animation  2018.0  \n",
      "9739                                        Drama  2017.0  \n",
      "9738                     Animation|Comedy|Fantasy  2017.0  \n",
      "9737              Action|Animation|Comedy|Fantasy  2017.0  \n",
      "...                                           ...     ...  \n",
      "4                                          Comedy  1995.0  \n",
      "3                            Comedy|Drama|Romance  1995.0  \n",
      "2                                  Comedy|Romance  1995.0  \n",
      "1                      Adventure|Children|Fantasy  1995.0  \n",
      "0     Adventure|Animation|Children|Comedy|Fantasy  1995.0  \n",
      "\n",
      "[9742 rows x 4 columns]\n",
      "                                                  title  movieId  \\\n",
      "0                                      Toy Story (1995)        1   \n",
      "1                                        Jumanji (1995)        2   \n",
      "2                               Grumpier Old Men (1995)        3   \n",
      "3                              Waiting to Exhale (1995)        4   \n",
      "5                                           Heat (1995)        6   \n",
      "...                                                 ...      ...   \n",
      "9733  anohana: The Flower We Saw That Day - The Movi...   193567   \n",
      "9734                                Silver Spoon (2014)   193571   \n",
      "9737          Black Butler: Book of the Atlantic (2017)   193581   \n",
      "9738                       No Game No Life: Zero (2017)   193583   \n",
      "9740                Bungo Stray Dogs: Dead Apple (2018)   193587   \n",
      "\n",
      "                                           genres    year  \\\n",
      "0     Adventure|Animation|Children|Comedy|Fantasy  1995.0   \n",
      "1                      Adventure|Children|Fantasy  1995.0   \n",
      "2                                  Comedy|Romance  1995.0   \n",
      "3                            Comedy|Drama|Romance  1995.0   \n",
      "5                           Action|Crime|Thriller  1995.0   \n",
      "...                                           ...     ...   \n",
      "9733                              Animation|Drama  2013.0   \n",
      "9734                                 Comedy|Drama  2014.0   \n",
      "9737              Action|Animation|Comedy|Fantasy  2017.0   \n",
      "9738                     Animation|Comedy|Fantasy  2017.0   \n",
      "9740                             Action|Animation  2018.0   \n",
      "\n",
      "                                             genre_list  \n",
      "0     [Adventure, Animation, Children, Comedy, Fantasy]  \n",
      "1                        [Adventure, Children, Fantasy]  \n",
      "2                                     [Comedy, Romance]  \n",
      "3                              [Comedy, Drama, Romance]  \n",
      "5                             [Action, Crime, Thriller]  \n",
      "...                                                 ...  \n",
      "9733                                 [Animation, Drama]  \n",
      "9734                                    [Comedy, Drama]  \n",
      "9737               [Action, Animation, Comedy, Fantasy]  \n",
      "9738                       [Animation, Comedy, Fantasy]  \n",
      "9740                                [Action, Animation]  \n",
      "\n",
      "[6891 rows x 5 columns]\n"
     ]
    }
   ],
   "source": [
    "drama_count = dfdb[dfdb['genres'].str.contains('Drama')].shape[0]\n",
    "print(f\"Total de películas de drama: {drama_count}\")\n",
    "\n",
    "dfdb['year'] = dfdb['title'].str.extract(r'\\((\\d{4})\\)').astype(float)\n",
    "print(dfdb.head())\n",
    "\n",
    "df_before_2000 = dfdb[dfdb['year'] < 2000]\n",
    "print(df_before_2000)\n",
    "\n",
    "df_sorted = dfdb.sort_values(by='movieId', ascending=False)\n",
    "print(df_sorted)\n",
    "\n",
    "dfdb['genre_list'] = dfdb['genres'].str.split('|')\n",
    "df_multiple_genres = dfdb[dfdb['genre_list'].apply(len) > 1]\n",
    "print(df_multiple_genres)\n"
   ]
  },
  {
   "cell_type": "code",
   "execution_count": 15,
   "metadata": {},
   "outputs": [
    {
     "name": "stdout",
     "output_type": "stream",
     "text": [
      "Counter({'Drama': 4361, 'Comedy': 3756, 'Thriller': 1894, 'Action': 1828, 'Romance': 1596, 'Adventure': 1263, 'Crime': 1199, 'Sci-Fi': 980, 'Horror': 978, 'Fantasy': 779, 'Children': 664, 'Animation': 611, 'Mystery': 573, 'Documentary': 440, 'War': 382, 'Musical': 334, 'Western': 167, 'IMAX': 158, 'Film-Noir': 87, '(no genres listed)': 34})\n",
      "                                          title  movieId  \\\n",
      "0                              Toy Story (1995)        1   \n",
      "1                                Jumanji (1995)        2   \n",
      "2                       Grumpier Old Men (1995)        3   \n",
      "3                      Waiting to Exhale (1995)        4   \n",
      "4            Father of the Bride Part II (1995)        5   \n",
      "...                                         ...      ...   \n",
      "9737  Black Butler: Book of the Atlantic (2017)   193581   \n",
      "9738               No Game No Life: Zero (2017)   193583   \n",
      "9739                               Flint (2017)   193585   \n",
      "9740        Bungo Stray Dogs: Dead Apple (2018)   193587   \n",
      "9741        Andrew Dice Clay: Dice Rules (1991)   193609   \n",
      "\n",
      "                                           genres    year  \\\n",
      "0     Adventure|Animation|Children|Comedy|Fantasy  1995.0   \n",
      "1                      Adventure|Children|Fantasy  1995.0   \n",
      "2                                  Comedy|Romance  1995.0   \n",
      "3                            Comedy|Drama|Romance  1995.0   \n",
      "4                                          Comedy  1995.0   \n",
      "...                                           ...     ...   \n",
      "9737              Action|Animation|Comedy|Fantasy  2017.0   \n",
      "9738                     Animation|Comedy|Fantasy  2017.0   \n",
      "9739                                        Drama  2017.0   \n",
      "9740                             Action|Animation  2018.0   \n",
      "9741                                       Comedy  1991.0   \n",
      "\n",
      "                                             genre_list  \n",
      "0     [Adventure, Animation, Children, Comedy, Fantasy]  \n",
      "1                        [Adventure, Children, Fantasy]  \n",
      "2                                     [Comedy, Romance]  \n",
      "3                              [Comedy, Drama, Romance]  \n",
      "4                                              [Comedy]  \n",
      "...                                                 ...  \n",
      "9737               [Action, Animation, Comedy, Fantasy]  \n",
      "9738                       [Animation, Comedy, Fantasy]  \n",
      "9739                                            [Drama]  \n",
      "9740                                [Action, Animation]  \n",
      "9741                                           [Comedy]  \n",
      "\n",
      "[9737 rows x 5 columns]\n"
     ]
    }
   ],
   "source": [
    "from collections import Counter\n",
    "all_genres = dfdb['genres'].str.split('|').sum()\n",
    "genre_counts = Counter(all_genres)\n",
    "print(genre_counts)\n",
    "\n",
    "df_unique_movies = dfdb.drop_duplicates(subset=['title'])\n",
    "print(df_unique_movies)\n"
   ]
  },
  {
   "cell_type": "code",
   "execution_count": null,
   "metadata": {},
   "outputs": [
    {
     "name": "stdout",
     "output_type": "stream",
     "text": [
      "                                                  title  movieId  \\\n",
      "0                                      Toy Story (1995)        1   \n",
      "1                                        Jumanji (1995)        2   \n",
      "2                               Grumpier Old Men (1995)        3   \n",
      "3                              Waiting to Exhale (1995)        4   \n",
      "5                                           Heat (1995)        6   \n",
      "...                                                 ...      ...   \n",
      "9733  anohana: The Flower We Saw That Day - The Movi...   193567   \n",
      "9734                                Silver Spoon (2014)   193571   \n",
      "9737          Black Butler: Book of the Atlantic (2017)   193581   \n",
      "9738                       No Game No Life: Zero (2017)   193583   \n",
      "9740                Bungo Stray Dogs: Dead Apple (2018)   193587   \n",
      "\n",
      "                                           genres    year  \\\n",
      "0     Adventure|Animation|Children|Comedy|Fantasy  1995.0   \n",
      "1                      Adventure|Children|Fantasy  1995.0   \n",
      "2                                  Comedy|Romance  1995.0   \n",
      "3                            Comedy|Drama|Romance  1995.0   \n",
      "5                           Action|Crime|Thriller  1995.0   \n",
      "...                                           ...     ...   \n",
      "9733                              Animation|Drama  2013.0   \n",
      "9734                                 Comedy|Drama  2014.0   \n",
      "9737              Action|Animation|Comedy|Fantasy  2017.0   \n",
      "9738                     Animation|Comedy|Fantasy  2017.0   \n",
      "9740                             Action|Animation  2018.0   \n",
      "\n",
      "                                             genre_list  \n",
      "0     [Adventure, Animation, Children, Comedy, Fantasy]  \n",
      "1                        [Adventure, Children, Fantasy]  \n",
      "2                                     [Comedy, Romance]  \n",
      "3                              [Comedy, Drama, Romance]  \n",
      "5                             [Action, Crime, Thriller]  \n",
      "...                                                 ...  \n",
      "9733                                 [Animation, Drama]  \n",
      "9734                                    [Comedy, Drama]  \n",
      "9737               [Action, Animation, Comedy, Fantasy]  \n",
      "9738                       [Animation, Comedy, Fantasy]  \n",
      "9740                                [Action, Animation]  \n",
      "\n",
      "[6891 rows x 5 columns]\n"
     ]
    }
   ],
   "source": [
    "dfdb['genre_list'] = dfdb['genres'].str.split('|')\n",
    "df_multiple_genres = dfdb[dfdb['genre_list'].apply(len) > 1]\n",
    "print(df_multiple_genres)\n"
   ]
  },
  {
   "cell_type": "code",
   "execution_count": null,
   "metadata": {},
   "outputs": [
    {
     "name": "stdout",
     "output_type": "stream",
     "text": [
      "<class 'pandas.core.frame.DataFrame'>\n",
      "RangeIndex: 9742 entries, 0 to 9741\n",
      "Data columns (total 5 columns):\n",
      " #   Column      Non-Null Count  Dtype  \n",
      "---  ------      --------------  -----  \n",
      " 0   title       9742 non-null   object \n",
      " 1   movieId     9742 non-null   int64  \n",
      " 2   genres      9742 non-null   object \n",
      " 3   year        9729 non-null   float64\n",
      " 4   genre_list  9742 non-null   object \n",
      "dtypes: float64(1), int64(1), object(3)\n",
      "memory usage: 380.7+ KB\n",
      "None\n",
      "             movieId         year\n",
      "count    9742.000000  9729.000000\n",
      "mean    42200.353623  1994.613629\n",
      "std     52160.494854    18.535219\n",
      "min         1.000000  1902.000000\n",
      "25%      3248.250000  1988.000000\n",
      "50%      7300.000000  1999.000000\n",
      "75%     76232.000000  2008.000000\n",
      "max    193609.000000  2018.000000\n",
      "title          0\n",
      "movieId        0\n",
      "genres         0\n",
      "year          13\n",
      "genre_list     0\n",
      "dtype: int64\n",
      "(9737, 5)\n"
     ]
    },
    {
     "name": "stderr",
     "output_type": "stream",
     "text": [
      "/tmp/ipykernel_49827/2884212200.py:8: FutureWarning: A value is trying to be set on a copy of a DataFrame or Series through chained assignment using an inplace method.\n",
      "The behavior will change in pandas 3.0. This inplace method will never work because the intermediate object on which we are setting values always behaves as a copy.\n",
      "\n",
      "For example, when doing 'df[col].method(value, inplace=True)', try using 'df.method({col: value}, inplace=True)' or df[col] = df[col].method(value) instead, to perform the operation inplace on the original object.\n",
      "\n",
      "\n",
      "  dfdb['genres'].fillna('Unknown', inplace=True)\n"
     ]
    }
   ],
   "source": [
    "print(dfdb.info())  # Muestra la estructura del DataFrame\n",
    "print(dfdb.describe())  # Estadísticas de columnas numéricas\n",
    "print(dfdb.isnull().sum())  # Detectar valores nulos por columna\n",
    "\n",
    "dfdb = dfdb.drop_duplicates(subset=['title'])\n",
    "print(dfdb.shape)\n",
    "\n",
    "dfdb['genres'].fillna('Unknown', inplace=True)\n",
    "\n"
   ]
  },
  {
   "cell_type": "code",
   "execution_count": 18,
   "metadata": {},
   "outputs": [
    {
     "name": "stderr",
     "output_type": "stream",
     "text": [
      "/tmp/ipykernel_49827/4256733401.py:1: FutureWarning: A value is trying to be set on a copy of a DataFrame or Series through chained assignment using an inplace method.\n",
      "The behavior will change in pandas 3.0. This inplace method will never work because the intermediate object on which we are setting values always behaves as a copy.\n",
      "\n",
      "For example, when doing 'df[col].method(value, inplace=True)', try using 'df.method({col: value}, inplace=True)' or df[col] = df[col].method(value) instead, to perform the operation inplace on the original object.\n",
      "\n",
      "\n",
      "  dfdb['genres'].fillna('Unknown', inplace=True)\n"
     ]
    }
   ],
   "source": [
    "dfdb['genres'].fillna('Unknown', inplace=True)\n"
   ]
  },
  {
   "cell_type": "code",
   "execution_count": 19,
   "metadata": {},
   "outputs": [],
   "source": [
    "dfdb.dropna(subset=['title', 'genres'], inplace=True)\n"
   ]
  },
  {
   "cell_type": "code",
   "execution_count": null,
   "metadata": {},
   "outputs": [
    {
     "name": "stdout",
     "output_type": "stream",
     "text": [
      "                           title  movieId                        genres  \\\n",
      "3028            Antitrust (2001)     4052          Crime|Drama|Thriller   \n",
      "3029          Double Take (2001)     4053                 Action|Comedy   \n",
      "3030  Save the Last Dance (2001)     4054                 Drama|Romance   \n",
      "3032          Pledge, The (2001)     4056  Crime|Drama|Mystery|Thriller   \n",
      "3040        Sugar & Spice (2001)     4068                        Comedy   \n",
      "\n",
      "        year                         genre_list  \n",
      "3028  2001.0           [Crime, Drama, Thriller]  \n",
      "3029  2001.0                   [Action, Comedy]  \n",
      "3030  2001.0                   [Drama, Romance]  \n",
      "3032  2001.0  [Crime, Drama, Mystery, Thriller]  \n",
      "3040  2001.0                           [Comedy]  \n",
      "                                          title  movieId  \\\n",
      "5                                   Heat (1995)        6   \n",
      "8                           Sudden Death (1995)        9   \n",
      "9                              GoldenEye (1995)       10   \n",
      "14                      Cutthroat Island (1995)       15   \n",
      "19                           Money Train (1995)       20   \n",
      "...                                         ...      ...   \n",
      "9722                        Iron Soldier (2010)   189547   \n",
      "9731                             Gintama (2017)   191005   \n",
      "9732                  Gintama: The Movie (2010)   193565   \n",
      "9737  Black Butler: Book of the Atlantic (2017)   193581   \n",
      "9740        Bungo Stray Dogs: Dead Apple (2018)   193587   \n",
      "\n",
      "                                  genres    year  \\\n",
      "5                  Action|Crime|Thriller  1995.0   \n",
      "8                                 Action  1995.0   \n",
      "9              Action|Adventure|Thriller  1995.0   \n",
      "14              Action|Adventure|Romance  1995.0   \n",
      "19    Action|Comedy|Crime|Drama|Thriller  1995.0   \n",
      "...                                  ...     ...   \n",
      "9722                       Action|Sci-Fi  2010.0   \n",
      "9731      Action|Adventure|Comedy|Sci-Fi  2017.0   \n",
      "9732      Action|Animation|Comedy|Sci-Fi  2010.0   \n",
      "9737     Action|Animation|Comedy|Fantasy  2017.0   \n",
      "9740                    Action|Animation  2018.0   \n",
      "\n",
      "                                    genre_list  \n",
      "5                    [Action, Crime, Thriller]  \n",
      "8                                     [Action]  \n",
      "9                [Action, Adventure, Thriller]  \n",
      "14                [Action, Adventure, Romance]  \n",
      "19    [Action, Comedy, Crime, Drama, Thriller]  \n",
      "...                                        ...  \n",
      "9722                          [Action, Sci-Fi]  \n",
      "9731       [Action, Adventure, Comedy, Sci-Fi]  \n",
      "9732       [Action, Animation, Comedy, Sci-Fi]  \n",
      "9737      [Action, Animation, Comedy, Fantasy]  \n",
      "9740                       [Action, Animation]  \n",
      "\n",
      "[1827 rows x 5 columns]\n"
     ]
    },
    {
     "ename": "KeyError",
     "evalue": "'duration'",
     "output_type": "error",
     "traceback": [
      "\u001b[0;31m---------------------------------------------------------------------------\u001b[0m",
      "\u001b[0;31mKeyError\u001b[0m                                  Traceback (most recent call last)",
      "File \u001b[0;32m/anaconda/envs/azureml_py310_sdkv2/lib/python3.10/site-packages/pandas/core/indexes/base.py:3805\u001b[0m, in \u001b[0;36mIndex.get_loc\u001b[0;34m(self, key)\u001b[0m\n\u001b[1;32m   3804\u001b[0m \u001b[38;5;28;01mtry\u001b[39;00m:\n\u001b[0;32m-> 3805\u001b[0m     \u001b[38;5;28;01mreturn\u001b[39;00m \u001b[38;5;28;43mself\u001b[39;49m\u001b[38;5;241;43m.\u001b[39;49m\u001b[43m_engine\u001b[49m\u001b[38;5;241;43m.\u001b[39;49m\u001b[43mget_loc\u001b[49m\u001b[43m(\u001b[49m\u001b[43mcasted_key\u001b[49m\u001b[43m)\u001b[49m\n\u001b[1;32m   3806\u001b[0m \u001b[38;5;28;01mexcept\u001b[39;00m \u001b[38;5;167;01mKeyError\u001b[39;00m \u001b[38;5;28;01mas\u001b[39;00m err:\n",
      "File \u001b[0;32mindex.pyx:167\u001b[0m, in \u001b[0;36mpandas._libs.index.IndexEngine.get_loc\u001b[0;34m()\u001b[0m\n",
      "File \u001b[0;32mindex.pyx:196\u001b[0m, in \u001b[0;36mpandas._libs.index.IndexEngine.get_loc\u001b[0;34m()\u001b[0m\n",
      "File \u001b[0;32mpandas/_libs/hashtable_class_helper.pxi:7081\u001b[0m, in \u001b[0;36mpandas._libs.hashtable.PyObjectHashTable.get_item\u001b[0;34m()\u001b[0m\n",
      "File \u001b[0;32mpandas/_libs/hashtable_class_helper.pxi:7089\u001b[0m, in \u001b[0;36mpandas._libs.hashtable.PyObjectHashTable.get_item\u001b[0;34m()\u001b[0m\n",
      "\u001b[0;31mKeyError\u001b[0m: 'duration'",
      "\nThe above exception was the direct cause of the following exception:\n",
      "\u001b[0;31mKeyError\u001b[0m                                  Traceback (most recent call last)",
      "Cell \u001b[0;32mIn[20], line 8\u001b[0m\n\u001b[1;32m      5\u001b[0m df_action_movies \u001b[38;5;241m=\u001b[39m dfdb[dfdb[\u001b[38;5;124m'\u001b[39m\u001b[38;5;124mgenres\u001b[39m\u001b[38;5;124m'\u001b[39m]\u001b[38;5;241m.\u001b[39mstr\u001b[38;5;241m.\u001b[39mcontains(\u001b[38;5;124m'\u001b[39m\u001b[38;5;124mAction\u001b[39m\u001b[38;5;124m'\u001b[39m, case\u001b[38;5;241m=\u001b[39m\u001b[38;5;28;01mFalse\u001b[39;00m)]\n\u001b[1;32m      6\u001b[0m \u001b[38;5;28mprint\u001b[39m(df_action_movies)\n\u001b[0;32m----> 8\u001b[0m df_long_movies \u001b[38;5;241m=\u001b[39m dfdb[\u001b[43mdfdb\u001b[49m\u001b[43m[\u001b[49m\u001b[38;5;124;43m'\u001b[39;49m\u001b[38;5;124;43mduration\u001b[39;49m\u001b[38;5;124;43m'\u001b[39;49m\u001b[43m]\u001b[49m \u001b[38;5;241m>\u001b[39m \u001b[38;5;241m120\u001b[39m]\n\u001b[1;32m      9\u001b[0m \u001b[38;5;28mprint\u001b[39m(df_long_movies)\n",
      "File \u001b[0;32m/anaconda/envs/azureml_py310_sdkv2/lib/python3.10/site-packages/pandas/core/frame.py:4102\u001b[0m, in \u001b[0;36mDataFrame.__getitem__\u001b[0;34m(self, key)\u001b[0m\n\u001b[1;32m   4100\u001b[0m \u001b[38;5;28;01mif\u001b[39;00m \u001b[38;5;28mself\u001b[39m\u001b[38;5;241m.\u001b[39mcolumns\u001b[38;5;241m.\u001b[39mnlevels \u001b[38;5;241m>\u001b[39m \u001b[38;5;241m1\u001b[39m:\n\u001b[1;32m   4101\u001b[0m     \u001b[38;5;28;01mreturn\u001b[39;00m \u001b[38;5;28mself\u001b[39m\u001b[38;5;241m.\u001b[39m_getitem_multilevel(key)\n\u001b[0;32m-> 4102\u001b[0m indexer \u001b[38;5;241m=\u001b[39m \u001b[38;5;28;43mself\u001b[39;49m\u001b[38;5;241;43m.\u001b[39;49m\u001b[43mcolumns\u001b[49m\u001b[38;5;241;43m.\u001b[39;49m\u001b[43mget_loc\u001b[49m\u001b[43m(\u001b[49m\u001b[43mkey\u001b[49m\u001b[43m)\u001b[49m\n\u001b[1;32m   4103\u001b[0m \u001b[38;5;28;01mif\u001b[39;00m is_integer(indexer):\n\u001b[1;32m   4104\u001b[0m     indexer \u001b[38;5;241m=\u001b[39m [indexer]\n",
      "File \u001b[0;32m/anaconda/envs/azureml_py310_sdkv2/lib/python3.10/site-packages/pandas/core/indexes/base.py:3812\u001b[0m, in \u001b[0;36mIndex.get_loc\u001b[0;34m(self, key)\u001b[0m\n\u001b[1;32m   3807\u001b[0m     \u001b[38;5;28;01mif\u001b[39;00m \u001b[38;5;28misinstance\u001b[39m(casted_key, \u001b[38;5;28mslice\u001b[39m) \u001b[38;5;129;01mor\u001b[39;00m (\n\u001b[1;32m   3808\u001b[0m         \u001b[38;5;28misinstance\u001b[39m(casted_key, abc\u001b[38;5;241m.\u001b[39mIterable)\n\u001b[1;32m   3809\u001b[0m         \u001b[38;5;129;01mand\u001b[39;00m \u001b[38;5;28many\u001b[39m(\u001b[38;5;28misinstance\u001b[39m(x, \u001b[38;5;28mslice\u001b[39m) \u001b[38;5;28;01mfor\u001b[39;00m x \u001b[38;5;129;01min\u001b[39;00m casted_key)\n\u001b[1;32m   3810\u001b[0m     ):\n\u001b[1;32m   3811\u001b[0m         \u001b[38;5;28;01mraise\u001b[39;00m InvalidIndexError(key)\n\u001b[0;32m-> 3812\u001b[0m     \u001b[38;5;28;01mraise\u001b[39;00m \u001b[38;5;167;01mKeyError\u001b[39;00m(key) \u001b[38;5;28;01mfrom\u001b[39;00m \u001b[38;5;21;01merr\u001b[39;00m\n\u001b[1;32m   3813\u001b[0m \u001b[38;5;28;01mexcept\u001b[39;00m \u001b[38;5;167;01mTypeError\u001b[39;00m:\n\u001b[1;32m   3814\u001b[0m     \u001b[38;5;66;03m# If we have a listlike key, _check_indexing_error will raise\u001b[39;00m\n\u001b[1;32m   3815\u001b[0m     \u001b[38;5;66;03m#  InvalidIndexError. Otherwise we fall through and re-raise\u001b[39;00m\n\u001b[1;32m   3816\u001b[0m     \u001b[38;5;66;03m#  the TypeError.\u001b[39;00m\n\u001b[1;32m   3817\u001b[0m     \u001b[38;5;28mself\u001b[39m\u001b[38;5;241m.\u001b[39m_check_indexing_error(key)\n",
      "\u001b[0;31mKeyError\u001b[0m: 'duration'"
     ]
    }
   ],
   "source": [
    "dfdb['year'] = dfdb['title'].str.extract(r'\\((\\d{4})\\)').astype(float)\n",
    "df_recent_movies = dfdb[dfdb['year'] > 2000]\n",
    "print(df_recent_movies.head())\n",
    "\n",
    "df_action_movies = dfdb[dfdb['genres'].str.contains('Action', case=False)]\n",
    "print(df_action_movies)\n",
    "\n",
    "df_long_movies = dfdb[dfdb['duration'] > 120]\n",
    "print(df_long_movies)\n"
   ]
  },
  {
   "cell_type": "code",
   "execution_count": null,
   "metadata": {},
   "outputs": [
    {
     "ename": "KeyError",
     "evalue": "'duration'",
     "output_type": "error",
     "traceback": [
      "\u001b[0;31m---------------------------------------------------------------------------\u001b[0m",
      "\u001b[0;31mKeyError\u001b[0m                                  Traceback (most recent call last)",
      "File \u001b[0;32m/anaconda/envs/azureml_py310_sdkv2/lib/python3.10/site-packages/pandas/core/indexes/base.py:3805\u001b[0m, in \u001b[0;36mIndex.get_loc\u001b[0;34m(self, key)\u001b[0m\n\u001b[1;32m   3804\u001b[0m \u001b[38;5;28;01mtry\u001b[39;00m:\n\u001b[0;32m-> 3805\u001b[0m     \u001b[38;5;28;01mreturn\u001b[39;00m \u001b[38;5;28;43mself\u001b[39;49m\u001b[38;5;241;43m.\u001b[39;49m\u001b[43m_engine\u001b[49m\u001b[38;5;241;43m.\u001b[39;49m\u001b[43mget_loc\u001b[49m\u001b[43m(\u001b[49m\u001b[43mcasted_key\u001b[49m\u001b[43m)\u001b[49m\n\u001b[1;32m   3806\u001b[0m \u001b[38;5;28;01mexcept\u001b[39;00m \u001b[38;5;167;01mKeyError\u001b[39;00m \u001b[38;5;28;01mas\u001b[39;00m err:\n",
      "File \u001b[0;32mindex.pyx:167\u001b[0m, in \u001b[0;36mpandas._libs.index.IndexEngine.get_loc\u001b[0;34m()\u001b[0m\n",
      "File \u001b[0;32mindex.pyx:196\u001b[0m, in \u001b[0;36mpandas._libs.index.IndexEngine.get_loc\u001b[0;34m()\u001b[0m\n",
      "File \u001b[0;32mpandas/_libs/hashtable_class_helper.pxi:7081\u001b[0m, in \u001b[0;36mpandas._libs.hashtable.PyObjectHashTable.get_item\u001b[0;34m()\u001b[0m\n",
      "File \u001b[0;32mpandas/_libs/hashtable_class_helper.pxi:7089\u001b[0m, in \u001b[0;36mpandas._libs.hashtable.PyObjectHashTable.get_item\u001b[0;34m()\u001b[0m\n",
      "\u001b[0;31mKeyError\u001b[0m: 'duration'",
      "\nThe above exception was the direct cause of the following exception:\n",
      "\u001b[0;31mKeyError\u001b[0m                                  Traceback (most recent call last)",
      "Cell \u001b[0;32mIn[21], line 1\u001b[0m\n\u001b[0;32m----> 1\u001b[0m df_long_movies \u001b[38;5;241m=\u001b[39m dfdb[\u001b[43mdfdb\u001b[49m\u001b[43m[\u001b[49m\u001b[38;5;124;43m'\u001b[39;49m\u001b[38;5;124;43mduration\u001b[39;49m\u001b[38;5;124;43m'\u001b[39;49m\u001b[43m]\u001b[49m \u001b[38;5;241m>\u001b[39m \u001b[38;5;241m120\u001b[39m]\n\u001b[1;32m      2\u001b[0m \u001b[38;5;28mprint\u001b[39m(df_long_movies)\n",
      "File \u001b[0;32m/anaconda/envs/azureml_py310_sdkv2/lib/python3.10/site-packages/pandas/core/frame.py:4102\u001b[0m, in \u001b[0;36mDataFrame.__getitem__\u001b[0;34m(self, key)\u001b[0m\n\u001b[1;32m   4100\u001b[0m \u001b[38;5;28;01mif\u001b[39;00m \u001b[38;5;28mself\u001b[39m\u001b[38;5;241m.\u001b[39mcolumns\u001b[38;5;241m.\u001b[39mnlevels \u001b[38;5;241m>\u001b[39m \u001b[38;5;241m1\u001b[39m:\n\u001b[1;32m   4101\u001b[0m     \u001b[38;5;28;01mreturn\u001b[39;00m \u001b[38;5;28mself\u001b[39m\u001b[38;5;241m.\u001b[39m_getitem_multilevel(key)\n\u001b[0;32m-> 4102\u001b[0m indexer \u001b[38;5;241m=\u001b[39m \u001b[38;5;28;43mself\u001b[39;49m\u001b[38;5;241;43m.\u001b[39;49m\u001b[43mcolumns\u001b[49m\u001b[38;5;241;43m.\u001b[39;49m\u001b[43mget_loc\u001b[49m\u001b[43m(\u001b[49m\u001b[43mkey\u001b[49m\u001b[43m)\u001b[49m\n\u001b[1;32m   4103\u001b[0m \u001b[38;5;28;01mif\u001b[39;00m is_integer(indexer):\n\u001b[1;32m   4104\u001b[0m     indexer \u001b[38;5;241m=\u001b[39m [indexer]\n",
      "File \u001b[0;32m/anaconda/envs/azureml_py310_sdkv2/lib/python3.10/site-packages/pandas/core/indexes/base.py:3812\u001b[0m, in \u001b[0;36mIndex.get_loc\u001b[0;34m(self, key)\u001b[0m\n\u001b[1;32m   3807\u001b[0m     \u001b[38;5;28;01mif\u001b[39;00m \u001b[38;5;28misinstance\u001b[39m(casted_key, \u001b[38;5;28mslice\u001b[39m) \u001b[38;5;129;01mor\u001b[39;00m (\n\u001b[1;32m   3808\u001b[0m         \u001b[38;5;28misinstance\u001b[39m(casted_key, abc\u001b[38;5;241m.\u001b[39mIterable)\n\u001b[1;32m   3809\u001b[0m         \u001b[38;5;129;01mand\u001b[39;00m \u001b[38;5;28many\u001b[39m(\u001b[38;5;28misinstance\u001b[39m(x, \u001b[38;5;28mslice\u001b[39m) \u001b[38;5;28;01mfor\u001b[39;00m x \u001b[38;5;129;01min\u001b[39;00m casted_key)\n\u001b[1;32m   3810\u001b[0m     ):\n\u001b[1;32m   3811\u001b[0m         \u001b[38;5;28;01mraise\u001b[39;00m InvalidIndexError(key)\n\u001b[0;32m-> 3812\u001b[0m     \u001b[38;5;28;01mraise\u001b[39;00m \u001b[38;5;167;01mKeyError\u001b[39;00m(key) \u001b[38;5;28;01mfrom\u001b[39;00m \u001b[38;5;21;01merr\u001b[39;00m\n\u001b[1;32m   3813\u001b[0m \u001b[38;5;28;01mexcept\u001b[39;00m \u001b[38;5;167;01mTypeError\u001b[39;00m:\n\u001b[1;32m   3814\u001b[0m     \u001b[38;5;66;03m# If we have a listlike key, _check_indexing_error will raise\u001b[39;00m\n\u001b[1;32m   3815\u001b[0m     \u001b[38;5;66;03m#  InvalidIndexError. Otherwise we fall through and re-raise\u001b[39;00m\n\u001b[1;32m   3816\u001b[0m     \u001b[38;5;66;03m#  the TypeError.\u001b[39;00m\n\u001b[1;32m   3817\u001b[0m     \u001b[38;5;28mself\u001b[39m\u001b[38;5;241m.\u001b[39m_check_indexing_error(key)\n",
      "\u001b[0;31mKeyError\u001b[0m: 'duration'"
     ]
    }
   ],
   "source": [
    "df_long_movies = dfdb[dfdb['duration'] > 120]\n",
    "print(df_long_movies)\n"
   ]
  },
  {
   "cell_type": "code",
   "execution_count": 22,
   "metadata": {},
   "outputs": [
    {
     "name": "stdout",
     "output_type": "stream",
     "text": [
      "Columnas disponibles en dfdb: ['title', 'movieId', 'genres', 'year', 'genre_list']\n"
     ]
    }
   ],
   "source": [
    "print(\"Columnas disponibles en dfdb:\", dfdb.columns.tolist())\n"
   ]
  },
  {
   "cell_type": "code",
   "execution_count": 23,
   "metadata": {},
   "outputs": [
    {
     "name": "stdout",
     "output_type": "stream",
     "text": [
      "genres\n",
      "Drama                                                  1053\n",
      "Comedy                                                  946\n",
      "Comedy|Drama                                            435\n",
      "Comedy|Romance                                          363\n",
      "Drama|Romance                                           348\n",
      "                                                       ... \n",
      "Action|Crime|Horror|Mystery|Thriller                      1\n",
      "Adventure|Animation|Children|Comedy|Musical|Romance       1\n",
      "Action|Adventure|Animation|Comedy|Crime|Mystery           1\n",
      "Children|Comedy|Fantasy|Sci-Fi                            1\n",
      "Action|Animation|Comedy|Fantasy                           1\n",
      "Name: count, Length: 951, dtype: int64\n"
     ]
    },
    {
     "ename": "KeyError",
     "evalue": "'Column not found: duration'",
     "output_type": "error",
     "traceback": [
      "\u001b[0;31m---------------------------------------------------------------------------\u001b[0m",
      "\u001b[0;31mKeyError\u001b[0m                                  Traceback (most recent call last)",
      "Cell \u001b[0;32mIn[23], line 4\u001b[0m\n\u001b[1;32m      1\u001b[0m genre_counts \u001b[38;5;241m=\u001b[39m dfdb[\u001b[38;5;124m'\u001b[39m\u001b[38;5;124mgenres\u001b[39m\u001b[38;5;124m'\u001b[39m]\u001b[38;5;241m.\u001b[39mvalue_counts()\n\u001b[1;32m      2\u001b[0m \u001b[38;5;28mprint\u001b[39m(genre_counts)\n\u001b[0;32m----> 4\u001b[0m df_avg_duration \u001b[38;5;241m=\u001b[39m \u001b[43mdfdb\u001b[49m\u001b[38;5;241;43m.\u001b[39;49m\u001b[43mgroupby\u001b[49m\u001b[43m(\u001b[49m\u001b[38;5;124;43m'\u001b[39;49m\u001b[38;5;124;43mgenres\u001b[39;49m\u001b[38;5;124;43m'\u001b[39;49m\u001b[43m)\u001b[49m\u001b[43m[\u001b[49m\u001b[38;5;124;43m'\u001b[39;49m\u001b[38;5;124;43mduration\u001b[39;49m\u001b[38;5;124;43m'\u001b[39;49m\u001b[43m]\u001b[49m\u001b[38;5;241m.\u001b[39mmean()\n\u001b[1;32m      5\u001b[0m \u001b[38;5;28mprint\u001b[39m(df_avg_duration)\n",
      "File \u001b[0;32m/anaconda/envs/azureml_py310_sdkv2/lib/python3.10/site-packages/pandas/core/groupby/generic.py:1951\u001b[0m, in \u001b[0;36mDataFrameGroupBy.__getitem__\u001b[0;34m(self, key)\u001b[0m\n\u001b[1;32m   1944\u001b[0m \u001b[38;5;28;01mif\u001b[39;00m \u001b[38;5;28misinstance\u001b[39m(key, \u001b[38;5;28mtuple\u001b[39m) \u001b[38;5;129;01mand\u001b[39;00m \u001b[38;5;28mlen\u001b[39m(key) \u001b[38;5;241m>\u001b[39m \u001b[38;5;241m1\u001b[39m:\n\u001b[1;32m   1945\u001b[0m     \u001b[38;5;66;03m# if len == 1, then it becomes a SeriesGroupBy and this is actually\u001b[39;00m\n\u001b[1;32m   1946\u001b[0m     \u001b[38;5;66;03m# valid syntax, so don't raise\u001b[39;00m\n\u001b[1;32m   1947\u001b[0m     \u001b[38;5;28;01mraise\u001b[39;00m \u001b[38;5;167;01mValueError\u001b[39;00m(\n\u001b[1;32m   1948\u001b[0m         \u001b[38;5;124m\"\u001b[39m\u001b[38;5;124mCannot subset columns with a tuple with more than one element. \u001b[39m\u001b[38;5;124m\"\u001b[39m\n\u001b[1;32m   1949\u001b[0m         \u001b[38;5;124m\"\u001b[39m\u001b[38;5;124mUse a list instead.\u001b[39m\u001b[38;5;124m\"\u001b[39m\n\u001b[1;32m   1950\u001b[0m     )\n\u001b[0;32m-> 1951\u001b[0m \u001b[38;5;28;01mreturn\u001b[39;00m \u001b[38;5;28;43msuper\u001b[39;49m\u001b[43m(\u001b[49m\u001b[43m)\u001b[49m\u001b[38;5;241;43m.\u001b[39;49m\u001b[38;5;21;43m__getitem__\u001b[39;49m\u001b[43m(\u001b[49m\u001b[43mkey\u001b[49m\u001b[43m)\u001b[49m\n",
      "File \u001b[0;32m/anaconda/envs/azureml_py310_sdkv2/lib/python3.10/site-packages/pandas/core/base.py:244\u001b[0m, in \u001b[0;36mSelectionMixin.__getitem__\u001b[0;34m(self, key)\u001b[0m\n\u001b[1;32m    242\u001b[0m \u001b[38;5;28;01melse\u001b[39;00m:\n\u001b[1;32m    243\u001b[0m     \u001b[38;5;28;01mif\u001b[39;00m key \u001b[38;5;129;01mnot\u001b[39;00m \u001b[38;5;129;01min\u001b[39;00m \u001b[38;5;28mself\u001b[39m\u001b[38;5;241m.\u001b[39mobj:\n\u001b[0;32m--> 244\u001b[0m         \u001b[38;5;28;01mraise\u001b[39;00m \u001b[38;5;167;01mKeyError\u001b[39;00m(\u001b[38;5;124mf\u001b[39m\u001b[38;5;124m\"\u001b[39m\u001b[38;5;124mColumn not found: \u001b[39m\u001b[38;5;132;01m{\u001b[39;00mkey\u001b[38;5;132;01m}\u001b[39;00m\u001b[38;5;124m\"\u001b[39m)\n\u001b[1;32m    245\u001b[0m     ndim \u001b[38;5;241m=\u001b[39m \u001b[38;5;28mself\u001b[39m\u001b[38;5;241m.\u001b[39mobj[key]\u001b[38;5;241m.\u001b[39mndim\n\u001b[1;32m    246\u001b[0m     \u001b[38;5;28;01mreturn\u001b[39;00m \u001b[38;5;28mself\u001b[39m\u001b[38;5;241m.\u001b[39m_gotitem(key, ndim\u001b[38;5;241m=\u001b[39mndim)\n",
      "\u001b[0;31mKeyError\u001b[0m: 'Column not found: duration'"
     ]
    }
   ],
   "source": [
    "genre_counts = dfdb['genres'].value_counts()\n",
    "print(genre_counts)\n",
    "\n",
    "df_avg_duration = dfdb.groupby('genres')['duration'].mean()\n",
    "print(df_avg_duration)\n"
   ]
  },
  {
   "cell_type": "code",
   "execution_count": 24,
   "metadata": {},
   "outputs": [
    {
     "name": "stdout",
     "output_type": "stream",
     "text": [
      "decade\n",
      "1900.0       3\n",
      "1910.0       7\n",
      "1920.0      37\n",
      "1930.0     136\n",
      "1940.0     197\n",
      "1950.0     279\n",
      "1960.0     401\n",
      "1970.0     500\n",
      "1980.0    1176\n",
      "1990.0    2211\n",
      "2000.0    2846\n",
      "2010.0    1931\n",
      "dtype: int64\n",
      "                                          title  movieId  \\\n",
      "8600                                 '71 (2014)   117867   \n",
      "8014    'Hellboy': The Seeds of Creation (2004)    97757   \n",
      "5528                     'Round Midnight (1986)    26564   \n",
      "5690                        'Salem's Lot (2004)    27751   \n",
      "614                   'Til There Was You (1997)      779   \n",
      "...                                         ...      ...   \n",
      "1961                            eXistenZ (1999)     2600   \n",
      "3920                                 xXx (2002)     5507   \n",
      "5882             xXx: State of the Union (2005)    33158   \n",
      "1866                      ¡Three Amigos! (1986)     2478   \n",
      "3947  À nous la liberté (Freedom for Us) (1931)     5560   \n",
      "\n",
      "                                           genres    year  \\\n",
      "8600                    Action|Drama|Thriller|War  2014.0   \n",
      "8014  Action|Adventure|Comedy|Documentary|Fantasy  2004.0   \n",
      "5528                                Drama|Musical  1986.0   \n",
      "5690                Drama|Horror|Mystery|Thriller  2004.0   \n",
      "614                                 Drama|Romance  1997.0   \n",
      "...                                           ...     ...   \n",
      "1961                       Action|Sci-Fi|Thriller  1999.0   \n",
      "3920                        Action|Crime|Thriller  2002.0   \n",
      "5882                        Action|Crime|Thriller  2005.0   \n",
      "1866                               Comedy|Western  1986.0   \n",
      "3947                               Comedy|Musical  1931.0   \n",
      "\n",
      "                                             genre_list  decade  \n",
      "8600                     [Action, Drama, Thriller, War]  2010.0  \n",
      "8014  [Action, Adventure, Comedy, Documentary, Fantasy]  2000.0  \n",
      "5528                                   [Drama, Musical]  1980.0  \n",
      "5690                 [Drama, Horror, Mystery, Thriller]  2000.0  \n",
      "614                                    [Drama, Romance]  1990.0  \n",
      "...                                                 ...     ...  \n",
      "1961                         [Action, Sci-Fi, Thriller]  1990.0  \n",
      "3920                          [Action, Crime, Thriller]  2000.0  \n",
      "5882                          [Action, Crime, Thriller]  2000.0  \n",
      "1866                                  [Comedy, Western]  1980.0  \n",
      "3947                                  [Comedy, Musical]  1930.0  \n",
      "\n",
      "[9737 rows x 6 columns]\n",
      "                                  title  movieId  \\\n",
      "9681                  Game Night (2018)   183611   \n",
      "9697           A Wrinkle in Time (2018)   184987   \n",
      "9711   Won't You Be My Neighbor? (2018)   187717   \n",
      "9710     Solo: A Star Wars Story (2018)   187595   \n",
      "9709                  Deadpool 2 (2018)   187593   \n",
      "...                                 ...      ...   \n",
      "9514                             Cosmos   171495   \n",
      "9515            Maria Bamford: Old Baby   171631   \n",
      "9518  Death Note: Desu nôto (2006–2007)   171749   \n",
      "9525                  Generation Iron 2   171891   \n",
      "9611                       Black Mirror   176601   \n",
      "\n",
      "                                 genres    year  \\\n",
      "9681         Action|Comedy|Crime|Horror  2018.0   \n",
      "9697  Adventure|Children|Fantasy|Sci-Fi  2018.0   \n",
      "9711                        Documentary  2018.0   \n",
      "9710   Action|Adventure|Children|Sci-Fi  2018.0   \n",
      "9709               Action|Comedy|Sci-Fi  2018.0   \n",
      "...                                 ...     ...   \n",
      "9514                 (no genres listed)     NaN   \n",
      "9515                 (no genres listed)     NaN   \n",
      "9518                 (no genres listed)     NaN   \n",
      "9525                 (no genres listed)     NaN   \n",
      "9611                 (no genres listed)     NaN   \n",
      "\n",
      "                                  genre_list  decade  \n",
      "9681         [Action, Comedy, Crime, Horror]  2010.0  \n",
      "9697  [Adventure, Children, Fantasy, Sci-Fi]  2010.0  \n",
      "9711                           [Documentary]  2010.0  \n",
      "9710   [Action, Adventure, Children, Sci-Fi]  2010.0  \n",
      "9709                [Action, Comedy, Sci-Fi]  2010.0  \n",
      "...                                      ...     ...  \n",
      "9514                    [(no genres listed)]     NaN  \n",
      "9515                    [(no genres listed)]     NaN  \n",
      "9518                    [(no genres listed)]     NaN  \n",
      "9525                    [(no genres listed)]     NaN  \n",
      "9611                    [(no genres listed)]     NaN  \n",
      "\n",
      "[9737 rows x 6 columns]\n"
     ]
    }
   ],
   "source": [
    "dfdb['decade'] = (dfdb['year'] // 10) * 10\n",
    "movies_by_decade = dfdb.groupby('decade').size()\n",
    "print(movies_by_decade)\n",
    "\n",
    "df_sorted = dfdb.sort_values(by='title', ascending=True)\n",
    "print(df_sorted)\n",
    "\n",
    "df_sorted_by_year = dfdb.sort_values(by='year', ascending=False)\n",
    "print(df_sorted_by_year)\n"
   ]
  },
  {
   "cell_type": "code",
   "execution_count": 25,
   "metadata": {},
   "outputs": [
    {
     "name": "stdout",
     "output_type": "stream",
     "text": [
      "                                  title  movieId  \\\n",
      "9681                  Game Night (2018)   183611   \n",
      "9697           A Wrinkle in Time (2018)   184987   \n",
      "9711   Won't You Be My Neighbor? (2018)   187717   \n",
      "9710     Solo: A Star Wars Story (2018)   187595   \n",
      "9709                  Deadpool 2 (2018)   187593   \n",
      "...                                 ...      ...   \n",
      "9514                             Cosmos   171495   \n",
      "9515            Maria Bamford: Old Baby   171631   \n",
      "9518  Death Note: Desu nôto (2006–2007)   171749   \n",
      "9525                  Generation Iron 2   171891   \n",
      "9611                       Black Mirror   176601   \n",
      "\n",
      "                                 genres    year  \\\n",
      "9681         Action|Comedy|Crime|Horror  2018.0   \n",
      "9697  Adventure|Children|Fantasy|Sci-Fi  2018.0   \n",
      "9711                        Documentary  2018.0   \n",
      "9710   Action|Adventure|Children|Sci-Fi  2018.0   \n",
      "9709               Action|Comedy|Sci-Fi  2018.0   \n",
      "...                                 ...     ...   \n",
      "9514                 (no genres listed)     NaN   \n",
      "9515                 (no genres listed)     NaN   \n",
      "9518                 (no genres listed)     NaN   \n",
      "9525                 (no genres listed)     NaN   \n",
      "9611                 (no genres listed)     NaN   \n",
      "\n",
      "                                  genre_list  decade  \n",
      "9681         [Action, Comedy, Crime, Horror]  2010.0  \n",
      "9697  [Adventure, Children, Fantasy, Sci-Fi]  2010.0  \n",
      "9711                           [Documentary]  2010.0  \n",
      "9710   [Action, Adventure, Children, Sci-Fi]  2010.0  \n",
      "9709                [Action, Comedy, Sci-Fi]  2010.0  \n",
      "...                                      ...     ...  \n",
      "9514                    [(no genres listed)]     NaN  \n",
      "9515                    [(no genres listed)]     NaN  \n",
      "9518                    [(no genres listed)]     NaN  \n",
      "9525                    [(no genres listed)]     NaN  \n",
      "9611                    [(no genres listed)]     NaN  \n",
      "\n",
      "[9737 rows x 6 columns]\n",
      "                                                  title  movieId  \\\n",
      "5868  Trip to the Moon, A (Voyage dans la lune, Le) ...    32898   \n",
      "6355                     The Great Train Robbery (1903)    49389   \n",
      "9020                          The Electric Hotel (1908)   140541   \n",
      "4743                      Birth of a Nation, The (1915)     7065   \n",
      "4846  Intolerance: Love's Struggle Throughout the Ag...     7243   \n",
      "6863                20,000 Leagues Under the Sea (1916)    62383   \n",
      "7210                                  Snow White (1916)    72921   \n",
      "8170                                   Rink, The (1916)   102747   \n",
      "5217                              Immigrant, The (1917)     8511   \n",
      "2363                             Daddy Long Legs (1919)     3132   \n",
      "\n",
      "                               genres    year  \\\n",
      "5868  Action|Adventure|Fantasy|Sci-Fi  1902.0   \n",
      "6355                    Crime|Western  1903.0   \n",
      "9020          Animation|Comedy|Sci-Fi  1908.0   \n",
      "4743                        Drama|War  1915.0   \n",
      "4846                            Drama  1916.0   \n",
      "6863          Action|Adventure|Sci-Fi  1916.0   \n",
      "7210                  Fantasy|Romance  1916.0   \n",
      "8170                           Comedy  1916.0   \n",
      "5217                           Comedy  1917.0   \n",
      "2363                     Comedy|Drama  1919.0   \n",
      "\n",
      "                                genre_list  decade  \n",
      "5868  [Action, Adventure, Fantasy, Sci-Fi]  1900.0  \n",
      "6355                      [Crime, Western]  1900.0  \n",
      "9020           [Animation, Comedy, Sci-Fi]  1900.0  \n",
      "4743                          [Drama, War]  1910.0  \n",
      "4846                               [Drama]  1910.0  \n",
      "6863           [Action, Adventure, Sci-Fi]  1910.0  \n",
      "7210                    [Fantasy, Romance]  1910.0  \n",
      "8170                              [Comedy]  1910.0  \n",
      "5217                              [Comedy]  1910.0  \n",
      "2363                       [Comedy, Drama]  1910.0  \n"
     ]
    }
   ],
   "source": [
    "df_sorted_by_year = dfdb.sort_values(by='year', ascending=False)\n",
    "print(df_sorted_by_year)\n",
    "\n",
    "df_oldest_movies = dfdb.nsmallest(10, 'year')\n",
    "print(df_oldest_movies)\n"
   ]
  },
  {
   "cell_type": "code",
   "execution_count": 26,
   "metadata": {},
   "outputs": [
    {
     "name": "stdout",
     "output_type": "stream",
     "text": [
      "                                                  title  movieId  \\\n",
      "5868  Trip to the Moon, A (Voyage dans la lune, Le) ...    32898   \n",
      "6355                     The Great Train Robbery (1903)    49389   \n",
      "9020                          The Electric Hotel (1908)   140541   \n",
      "4743                      Birth of a Nation, The (1915)     7065   \n",
      "4846  Intolerance: Love's Struggle Throughout the Ag...     7243   \n",
      "6863                20,000 Leagues Under the Sea (1916)    62383   \n",
      "7210                                  Snow White (1916)    72921   \n",
      "8170                                   Rink, The (1916)   102747   \n",
      "5217                              Immigrant, The (1917)     8511   \n",
      "2363                             Daddy Long Legs (1919)     3132   \n",
      "\n",
      "                               genres    year  \\\n",
      "5868  Action|Adventure|Fantasy|Sci-Fi  1902.0   \n",
      "6355                    Crime|Western  1903.0   \n",
      "9020          Animation|Comedy|Sci-Fi  1908.0   \n",
      "4743                        Drama|War  1915.0   \n",
      "4846                            Drama  1916.0   \n",
      "6863          Action|Adventure|Sci-Fi  1916.0   \n",
      "7210                  Fantasy|Romance  1916.0   \n",
      "8170                           Comedy  1916.0   \n",
      "5217                           Comedy  1917.0   \n",
      "2363                     Comedy|Drama  1919.0   \n",
      "\n",
      "                                genre_list  decade  \n",
      "5868  [Action, Adventure, Fantasy, Sci-Fi]  1900.0  \n",
      "6355                      [Crime, Western]  1900.0  \n",
      "9020           [Animation, Comedy, Sci-Fi]  1900.0  \n",
      "4743                          [Drama, War]  1910.0  \n",
      "4846                               [Drama]  1910.0  \n",
      "6863           [Action, Adventure, Sci-Fi]  1910.0  \n",
      "7210                    [Fantasy, Romance]  1910.0  \n",
      "8170                              [Comedy]  1910.0  \n",
      "5217                              [Comedy]  1910.0  \n",
      "2363                       [Comedy, Drama]  1910.0  \n"
     ]
    }
   ],
   "source": [
    "df_oldest_movies = dfdb.nsmallest(10, 'year')\n",
    "print(df_oldest_movies)\n"
   ]
  },
  {
   "cell_type": "code",
   "execution_count": 27,
   "metadata": {},
   "outputs": [
    {
     "name": "stdout",
     "output_type": "stream",
     "text": [
      "Error al conectar a la base de datos: Execution failed on sql 'SELECT * FROM ratings': no such table: ratings\n"
     ]
    },
    {
     "ename": "NameError",
     "evalue": "name 'df_combined' is not defined",
     "output_type": "error",
     "traceback": [
      "\u001b[0;31m---------------------------------------------------------------------------\u001b[0m",
      "\u001b[0;31mOperationalError\u001b[0m                          Traceback (most recent call last)",
      "File \u001b[0;32m/anaconda/envs/azureml_py310_sdkv2/lib/python3.10/site-packages/pandas/io/sql.py:2674\u001b[0m, in \u001b[0;36mSQLiteDatabase.execute\u001b[0;34m(self, sql, params)\u001b[0m\n\u001b[1;32m   2673\u001b[0m \u001b[38;5;28;01mtry\u001b[39;00m:\n\u001b[0;32m-> 2674\u001b[0m     \u001b[43mcur\u001b[49m\u001b[38;5;241;43m.\u001b[39;49m\u001b[43mexecute\u001b[49m\u001b[43m(\u001b[49m\u001b[43msql\u001b[49m\u001b[43m,\u001b[49m\u001b[43m \u001b[49m\u001b[38;5;241;43m*\u001b[39;49m\u001b[43margs\u001b[49m\u001b[43m)\u001b[49m\n\u001b[1;32m   2675\u001b[0m     \u001b[38;5;28;01mreturn\u001b[39;00m cur\n",
      "\u001b[0;31mOperationalError\u001b[0m: no such table: ratings",
      "\nThe above exception was the direct cause of the following exception:\n",
      "\u001b[0;31mDatabaseError\u001b[0m                             Traceback (most recent call last)",
      "Cell \u001b[0;32mIn[27], line 11\u001b[0m\n\u001b[1;32m     10\u001b[0m dfdb \u001b[38;5;241m=\u001b[39m pd\u001b[38;5;241m.\u001b[39mread_sql_query(\u001b[38;5;124m\"\u001b[39m\u001b[38;5;124mSELECT * FROM movies\u001b[39m\u001b[38;5;124m\"\u001b[39m, con_sqlt)\n\u001b[0;32m---> 11\u001b[0m df_ratings \u001b[38;5;241m=\u001b[39m \u001b[43mpd\u001b[49m\u001b[38;5;241;43m.\u001b[39;49m\u001b[43mread_sql_query\u001b[49m\u001b[43m(\u001b[49m\u001b[38;5;124;43m\"\u001b[39;49m\u001b[38;5;124;43mSELECT * FROM ratings\u001b[39;49m\u001b[38;5;124;43m\"\u001b[39;49m\u001b[43m,\u001b[49m\u001b[43m \u001b[49m\u001b[43mcon_sqlt\u001b[49m\u001b[43m)\u001b[49m\n\u001b[1;32m     12\u001b[0m df_combined \u001b[38;5;241m=\u001b[39m pd\u001b[38;5;241m.\u001b[39mmerge(dfdb, df_ratings, on\u001b[38;5;241m=\u001b[39m\u001b[38;5;124m'\u001b[39m\u001b[38;5;124mmovieId\u001b[39m\u001b[38;5;124m'\u001b[39m, how\u001b[38;5;241m=\u001b[39m\u001b[38;5;124m'\u001b[39m\u001b[38;5;124minner\u001b[39m\u001b[38;5;124m'\u001b[39m)\n",
      "File \u001b[0;32m/anaconda/envs/azureml_py310_sdkv2/lib/python3.10/site-packages/pandas/io/sql.py:526\u001b[0m, in \u001b[0;36mread_sql_query\u001b[0;34m(sql, con, index_col, coerce_float, params, parse_dates, chunksize, dtype, dtype_backend)\u001b[0m\n\u001b[1;32m    525\u001b[0m \u001b[38;5;28;01mwith\u001b[39;00m pandasSQL_builder(con) \u001b[38;5;28;01mas\u001b[39;00m pandas_sql:\n\u001b[0;32m--> 526\u001b[0m     \u001b[38;5;28;01mreturn\u001b[39;00m \u001b[43mpandas_sql\u001b[49m\u001b[38;5;241;43m.\u001b[39;49m\u001b[43mread_query\u001b[49m\u001b[43m(\u001b[49m\n\u001b[1;32m    527\u001b[0m \u001b[43m        \u001b[49m\u001b[43msql\u001b[49m\u001b[43m,\u001b[49m\n\u001b[1;32m    528\u001b[0m \u001b[43m        \u001b[49m\u001b[43mindex_col\u001b[49m\u001b[38;5;241;43m=\u001b[39;49m\u001b[43mindex_col\u001b[49m\u001b[43m,\u001b[49m\n\u001b[1;32m    529\u001b[0m \u001b[43m        \u001b[49m\u001b[43mparams\u001b[49m\u001b[38;5;241;43m=\u001b[39;49m\u001b[43mparams\u001b[49m\u001b[43m,\u001b[49m\n\u001b[1;32m    530\u001b[0m \u001b[43m        \u001b[49m\u001b[43mcoerce_float\u001b[49m\u001b[38;5;241;43m=\u001b[39;49m\u001b[43mcoerce_float\u001b[49m\u001b[43m,\u001b[49m\n\u001b[1;32m    531\u001b[0m \u001b[43m        \u001b[49m\u001b[43mparse_dates\u001b[49m\u001b[38;5;241;43m=\u001b[39;49m\u001b[43mparse_dates\u001b[49m\u001b[43m,\u001b[49m\n\u001b[1;32m    532\u001b[0m \u001b[43m        \u001b[49m\u001b[43mchunksize\u001b[49m\u001b[38;5;241;43m=\u001b[39;49m\u001b[43mchunksize\u001b[49m\u001b[43m,\u001b[49m\n\u001b[1;32m    533\u001b[0m \u001b[43m        \u001b[49m\u001b[43mdtype\u001b[49m\u001b[38;5;241;43m=\u001b[39;49m\u001b[43mdtype\u001b[49m\u001b[43m,\u001b[49m\n\u001b[1;32m    534\u001b[0m \u001b[43m        \u001b[49m\u001b[43mdtype_backend\u001b[49m\u001b[38;5;241;43m=\u001b[39;49m\u001b[43mdtype_backend\u001b[49m\u001b[43m,\u001b[49m\n\u001b[1;32m    535\u001b[0m \u001b[43m    \u001b[49m\u001b[43m)\u001b[49m\n",
      "File \u001b[0;32m/anaconda/envs/azureml_py310_sdkv2/lib/python3.10/site-packages/pandas/io/sql.py:2738\u001b[0m, in \u001b[0;36mSQLiteDatabase.read_query\u001b[0;34m(self, sql, index_col, coerce_float, parse_dates, params, chunksize, dtype, dtype_backend)\u001b[0m\n\u001b[1;32m   2727\u001b[0m \u001b[38;5;28;01mdef\u001b[39;00m \u001b[38;5;21mread_query\u001b[39m(\n\u001b[1;32m   2728\u001b[0m     \u001b[38;5;28mself\u001b[39m,\n\u001b[1;32m   2729\u001b[0m     sql,\n\u001b[0;32m   (...)\u001b[0m\n\u001b[1;32m   2736\u001b[0m     dtype_backend: DtypeBackend \u001b[38;5;241m|\u001b[39m Literal[\u001b[38;5;124m\"\u001b[39m\u001b[38;5;124mnumpy\u001b[39m\u001b[38;5;124m\"\u001b[39m] \u001b[38;5;241m=\u001b[39m \u001b[38;5;124m\"\u001b[39m\u001b[38;5;124mnumpy\u001b[39m\u001b[38;5;124m\"\u001b[39m,\n\u001b[1;32m   2737\u001b[0m ) \u001b[38;5;241m-\u001b[39m\u001b[38;5;241m>\u001b[39m DataFrame \u001b[38;5;241m|\u001b[39m Iterator[DataFrame]:\n\u001b[0;32m-> 2738\u001b[0m     cursor \u001b[38;5;241m=\u001b[39m \u001b[38;5;28;43mself\u001b[39;49m\u001b[38;5;241;43m.\u001b[39;49m\u001b[43mexecute\u001b[49m\u001b[43m(\u001b[49m\u001b[43msql\u001b[49m\u001b[43m,\u001b[49m\u001b[43m \u001b[49m\u001b[43mparams\u001b[49m\u001b[43m)\u001b[49m\n\u001b[1;32m   2739\u001b[0m     columns \u001b[38;5;241m=\u001b[39m [col_desc[\u001b[38;5;241m0\u001b[39m] \u001b[38;5;28;01mfor\u001b[39;00m col_desc \u001b[38;5;129;01min\u001b[39;00m cursor\u001b[38;5;241m.\u001b[39mdescription]\n",
      "File \u001b[0;32m/anaconda/envs/azureml_py310_sdkv2/lib/python3.10/site-packages/pandas/io/sql.py:2686\u001b[0m, in \u001b[0;36mSQLiteDatabase.execute\u001b[0;34m(self, sql, params)\u001b[0m\n\u001b[1;32m   2685\u001b[0m ex \u001b[38;5;241m=\u001b[39m DatabaseError(\u001b[38;5;124mf\u001b[39m\u001b[38;5;124m\"\u001b[39m\u001b[38;5;124mExecution failed on sql \u001b[39m\u001b[38;5;124m'\u001b[39m\u001b[38;5;132;01m{\u001b[39;00msql\u001b[38;5;132;01m}\u001b[39;00m\u001b[38;5;124m'\u001b[39m\u001b[38;5;124m: \u001b[39m\u001b[38;5;132;01m{\u001b[39;00mexc\u001b[38;5;132;01m}\u001b[39;00m\u001b[38;5;124m\"\u001b[39m)\n\u001b[0;32m-> 2686\u001b[0m \u001b[38;5;28;01mraise\u001b[39;00m ex \u001b[38;5;28;01mfrom\u001b[39;00m \u001b[38;5;21;01mexc\u001b[39;00m\n",
      "\u001b[0;31mDatabaseError\u001b[0m: Execution failed on sql 'SELECT * FROM ratings': no such table: ratings",
      "\nDuring handling of the above exception, another exception occurred:\n",
      "\u001b[0;31mNameError\u001b[0m                                 Traceback (most recent call last)",
      "Cell \u001b[0;32mIn[27], line 16\u001b[0m\n\u001b[1;32m     14\u001b[0m \u001b[38;5;28;01mexcept\u001b[39;00m \u001b[38;5;167;01mException\u001b[39;00m \u001b[38;5;28;01mas\u001b[39;00m e:\n\u001b[1;32m     15\u001b[0m     \u001b[38;5;28mprint\u001b[39m(\u001b[38;5;124m\"\u001b[39m\u001b[38;5;124mError al conectar a la base de datos:\u001b[39m\u001b[38;5;124m\"\u001b[39m, e)\n\u001b[0;32m---> 16\u001b[0m     \u001b[38;5;28mprint\u001b[39m(\u001b[43mdf_combined\u001b[49m\u001b[38;5;241m.\u001b[39mhead())\n",
      "\u001b[0;31mNameError\u001b[0m: name 'df_combined' is not defined"
     ]
    }
   ],
   "source": [
    "import sqlite3\n",
    "import pandas as pd\n",
    "\n",
    "# Ruta absoluta detectada\n",
    "db_path = \"/mnt/batch/tasks/shared/LS_root/mounts/clusters/aurelio-parra/code/Users/aurelio.sosa.netmind/Pandas/database.db\"\n",
    "\n",
    "# Intentar la conexión con la ruta absoluta\n",
    "try:\n",
    "    with sqlite3.connect(db_path) as con_sqlt:\n",
    "        dfdb = pd.read_sql_query(\"SELECT * FROM movies\", con_sqlt)\n",
    "        df_ratings = pd.read_sql_query(\"SELECT * FROM ratings\", con_sqlt)\n",
    "        df_combined = pd.merge(dfdb, df_ratings, on='movieId', how='inner')\n",
    "    print(dfdb.head()) # Mostrar las primeras filas de la tabla\n",
    "except Exception as e:\n",
    "    print(\"Error al conectar a la base de datos:\", e)\n",
    "    print(df_combined.head())\n",
    "\n"
   ]
  },
  {
   "cell_type": "code",
   "execution_count": 28,
   "metadata": {},
   "outputs": [
    {
     "ename": "NameError",
     "evalue": "name 'conn' is not defined",
     "output_type": "error",
     "traceback": [
      "\u001b[0;31m---------------------------------------------------------------------------\u001b[0m",
      "\u001b[0;31mNameError\u001b[0m                                 Traceback (most recent call last)",
      "Cell \u001b[0;32mIn[28], line 1\u001b[0m\n\u001b[0;32m----> 1\u001b[0m df_ratings \u001b[38;5;241m=\u001b[39m pd\u001b[38;5;241m.\u001b[39mread_sql_query(\u001b[38;5;124m\"\u001b[39m\u001b[38;5;124mSELECT * FROM ratings\u001b[39m\u001b[38;5;124m\"\u001b[39m, \u001b[43mconn\u001b[49m)\n\u001b[1;32m      2\u001b[0m df_combined \u001b[38;5;241m=\u001b[39m pd\u001b[38;5;241m.\u001b[39mmerge(dfdb, df_ratings, on\u001b[38;5;241m=\u001b[39m\u001b[38;5;124m'\u001b[39m\u001b[38;5;124mmovieId\u001b[39m\u001b[38;5;124m'\u001b[39m, how\u001b[38;5;241m=\u001b[39m\u001b[38;5;124m'\u001b[39m\u001b[38;5;124minner\u001b[39m\u001b[38;5;124m'\u001b[39m)\n\u001b[1;32m      3\u001b[0m \u001b[38;5;28mprint\u001b[39m(df_combined\u001b[38;5;241m.\u001b[39mhead())\n",
      "\u001b[0;31mNameError\u001b[0m: name 'conn' is not defined"
     ]
    }
   ],
   "source": [
    "df_ratings = pd.read_sql_query(\"SELECT * FROM ratings\", conn)\n",
    "df_combined = pd.merge(dfdb, df_ratings, on='movieId', how='inner')\n",
    "print(df_combined.head())\n",
    "\n",
    "\n",
    "\n"
   ]
  },
  {
   "cell_type": "code",
   "execution_count": 29,
   "metadata": {},
   "outputs": [
    {
     "ename": "NameError",
     "evalue": "name 'df_ratings' is not defined",
     "output_type": "error",
     "traceback": [
      "\u001b[0;31m---------------------------------------------------------------------------\u001b[0m",
      "\u001b[0;31mNameError\u001b[0m                                 Traceback (most recent call last)",
      "Cell \u001b[0;32mIn[29], line 1\u001b[0m\n\u001b[0;32m----> 1\u001b[0m df_combined_left \u001b[38;5;241m=\u001b[39m pd\u001b[38;5;241m.\u001b[39mmerge(dfdb, \u001b[43mdf_ratings\u001b[49m, on\u001b[38;5;241m=\u001b[39m\u001b[38;5;124m'\u001b[39m\u001b[38;5;124mmovieId\u001b[39m\u001b[38;5;124m'\u001b[39m, how\u001b[38;5;241m=\u001b[39m\u001b[38;5;124m'\u001b[39m\u001b[38;5;124mleft\u001b[39m\u001b[38;5;124m'\u001b[39m)\n\u001b[1;32m      2\u001b[0m \u001b[38;5;28mprint\u001b[39m(df_combined_left\u001b[38;5;241m.\u001b[39mhead())\n",
      "\u001b[0;31mNameError\u001b[0m: name 'df_ratings' is not defined"
     ]
    }
   ],
   "source": [
    "df_combined_left = pd.merge(dfdb, df_ratings, on='movieId', how='left')\n",
    "print(df_combined_left.head())\n"
   ]
  },
  {
   "cell_type": "code",
   "execution_count": 30,
   "metadata": {},
   "outputs": [],
   "source": [
    "dfdb['year'] = dfdb['title'].str.extract(r'\\((\\d{4})\\)')\n",
    "dfdb['year'] = dfdb['year'].astype(float)\n",
    "\n",
    "\n"
   ]
  },
  {
   "cell_type": "code",
   "execution_count": 31,
   "metadata": {},
   "outputs": [
    {
     "name": "stdout",
     "output_type": "stream",
     "text": [
      "                                          title  is_recent\n",
      "0                              Toy Story (1995)      False\n",
      "1                                Jumanji (1995)      False\n",
      "2                       Grumpier Old Men (1995)      False\n",
      "3                      Waiting to Exhale (1995)      False\n",
      "4            Father of the Bride Part II (1995)      False\n",
      "...                                         ...        ...\n",
      "9737  Black Butler: Book of the Atlantic (2017)       True\n",
      "9738               No Game No Life: Zero (2017)       True\n",
      "9739                               Flint (2017)       True\n",
      "9740        Bungo Stray Dogs: Dead Apple (2018)       True\n",
      "9741        Andrew Dice Clay: Dice Rules (1991)      False\n",
      "\n",
      "[9742 rows x 2 columns]\n"
     ]
    }
   ],
   "source": [
    "dfdb['is_recent'] = dfdb['year'] > 2010\n",
    "print(dfdb[['title', 'is_recent']])"
   ]
  },
  {
   "cell_type": "code",
   "execution_count": 32,
   "metadata": {},
   "outputs": [
    {
     "name": "stdout",
     "output_type": "stream",
     "text": [
      "                                          title category\n",
      "0                              Toy Story (1995)  Clásica\n",
      "1                                Jumanji (1995)  Clásica\n",
      "2                       Grumpier Old Men (1995)  Clásica\n",
      "3                      Waiting to Exhale (1995)  Clásica\n",
      "4            Father of the Bride Part II (1995)  Clásica\n",
      "...                                         ...      ...\n",
      "9737  Black Butler: Book of the Atlantic (2017)  Moderna\n",
      "9738               No Game No Life: Zero (2017)  Moderna\n",
      "9739                               Flint (2017)  Moderna\n",
      "9740        Bungo Stray Dogs: Dead Apple (2018)  Moderna\n",
      "9741        Andrew Dice Clay: Dice Rules (1991)  Clásica\n",
      "\n",
      "[9742 rows x 2 columns]\n"
     ]
    }
   ],
   "source": [
    "def categorize_year(year):\n",
    "    if year >= 2000:\n",
    "        return 'Moderna'\n",
    "    elif year >= 1980:\n",
    "        return 'Clásica'\n",
    "    else:\n",
    "        return 'Antigua'\n",
    "\n",
    "dfdb['category'] = dfdb['year'].apply(categorize_year)\n",
    "print(dfdb[['title', 'category']])\n"
   ]
  },
  {
   "cell_type": "code",
   "execution_count": null,
   "metadata": {},
   "outputs": [
    {
     "data": {
      "image/png": "[encoded data removed]",
      "text/plain": [
       "<Figure size 640x480 with 1 Axes>"
      ]
     },
     "metadata": {},
     "output_type": "display_data"
    }
   ],
   "source": [
    "import matplotlib.pyplot as plt\n",
    "\n",
    "genre_counts.head(10).plot(kind='bar', title='Películas por Género')\n",
    "plt.xlabel('Género')\n",
    "plt.ylabel('Cantidad')\n",
    "plt.show()\n"
   ]
  },
  {
   "cell_type": "code",
   "execution_count": null,
   "metadata": {},
   "outputs": [
    {
     "data": {
      "image/png": "[encoded data removed]",
      "text/plain": [
       "<Figure size 640x480 with 1 Axes>"
      ]
     },
     "metadata": {},
     "output_type": "display_data"
    }
   ],
   "source": [
    "movies_by_decade.plot(kind='line', title='Películas por Década')\n",
    "plt.xlabel('Década')\n",
    "plt.ylabel('Cantidad')\n",
    "plt.show()\n"
   ]
  },
  {
   "cell_type": "code",
   "execution_count": 5,
   "metadata": {},
   "outputs": [
    {
     "ename": "NameError",
     "evalue": "name 'df_action_movies' is not defined",
     "output_type": "error",
     "traceback": [
      "\u001b[0;31m---------------------------------------------------------------------------\u001b[0m",
      "\u001b[0;31mNameError\u001b[0m                                 Traceback (most recent call last)",
      "Cell \u001b[0;32mIn[5], line 1\u001b[0m\n\u001b[0;32m----> 1\u001b[0m \u001b[43mdf_action_movies\u001b[49m\u001b[38;5;241m.\u001b[39mto_csv(\u001b[38;5;124m'\u001b[39m\u001b[38;5;124maction_movies.csv\u001b[39m\u001b[38;5;124m'\u001b[39m, index\u001b[38;5;241m=\u001b[39m\u001b[38;5;28;01mFalse\u001b[39;00m)\n",
      "\u001b[0;31mNameError\u001b[0m: name 'df_action_movies' is not defined"
     ]
    }
   ],
   "source": [
    "df_action_movies.to_csv('action_movies.csv', index=False)\n"
   ]
  },
  {
   "cell_type": "code",
   "execution_count": 4,
   "metadata": {},
   "outputs": [
    {
     "ename": "NameError",
     "evalue": "name 'dfdb' is not defined",
     "output_type": "error",
     "traceback": [
      "\u001b[0;31m---------------------------------------------------------------------------\u001b[0m",
      "\u001b[0;31mNameError\u001b[0m                                 Traceback (most recent call last)",
      "Cell \u001b[0;32mIn[4], line 1\u001b[0m\n\u001b[0;32m----> 1\u001b[0m \u001b[43mdfdb\u001b[49m\u001b[38;5;241m.\u001b[39mto_excel(\u001b[38;5;124m'\u001b[39m\u001b[38;5;124mmovies.xlsx\u001b[39m\u001b[38;5;124m'\u001b[39m, index\u001b[38;5;241m=\u001b[39m\u001b[38;5;28;01mFalse\u001b[39;00m)\n",
      "\u001b[0;31mNameError\u001b[0m: name 'dfdb' is not defined"
     ]
    }
   ],
   "source": [
    "\n",
    " \n",
    "dfdb.to_excel('movies.xlsx', index=False)\n"
   ]
  },
  {
   "cell_type": "code",
   "execution_count": 3,
   "metadata": {},
   "outputs": [
    {
     "ename": "NameError",
     "evalue": "name 'conn' is not defined",
     "output_type": "error",
     "traceback": [
      "\u001b[0;31m---------------------------------------------------------------------------\u001b[0m",
      "\u001b[0;31mNameError\u001b[0m                                 Traceback (most recent call last)",
      "Cell \u001b[0;32mIn[3], line 5\u001b[0m\n\u001b[1;32m      2\u001b[0m \u001b[38;5;28;01mimport\u001b[39;00m \u001b[38;5;21;01msqlite3\u001b[39;00m\n\u001b[1;32m      4\u001b[0m query \u001b[38;5;241m=\u001b[39m \u001b[38;5;124m\"\u001b[39m\u001b[38;5;124mSELECT * FROM movies WHERE genres LIKE \u001b[39m\u001b[38;5;124m'\u001b[39m\u001b[38;5;124m%\u001b[39m\u001b[38;5;124mComedy\u001b[39m\u001b[38;5;124m%\u001b[39m\u001b[38;5;124m'\u001b[39m\u001b[38;5;124m\"\u001b[39m\n\u001b[0;32m----> 5\u001b[0m df_comedy \u001b[38;5;241m=\u001b[39m pd\u001b[38;5;241m.\u001b[39mread_sql_query(query, \u001b[43mconn\u001b[49m)\n\u001b[1;32m      6\u001b[0m \u001b[38;5;28mprint\u001b[39m(df_comedy\u001b[38;5;241m.\u001b[39mhead())\n",
      "\u001b[0;31mNameError\u001b[0m: name 'conn' is not defined"
     ]
    }
   ],
   "source": [
    "import pandas as pd\n",
    "import sqlite3\n",
    "\n",
    "query = \"SELECT * FROM movies WHERE genres LIKE '%Comedy%'\"\n",
    "df_comedy = pd.read_sql_query(query, conn)\n",
    "print(df_comedy.head())\n"
   ]
  },
  {
   "cell_type": "code",
   "execution_count": 2,
   "metadata": {},
   "outputs": [
    {
     "name": "stdout",
     "output_type": "stream",
     "text": [
      "Error al conectar a la base de datos: unable to open database file\n"
     ]
    },
    {
     "ename": "NameError",
     "evalue": "name 'conn' is not defined",
     "output_type": "error",
     "traceback": [
      "\u001b[0;31m---------------------------------------------------------------------------\u001b[0m",
      "\u001b[0;31mNameError\u001b[0m                                 Traceback (most recent call last)",
      "Cell \u001b[0;32mIn[2], line 22\u001b[0m\n\u001b[1;32m     19\u001b[0m     \u001b[38;5;28mprint\u001b[39m(\u001b[38;5;124m\"\u001b[39m\u001b[38;5;124mError al conectar a la base de datos:\u001b[39m\u001b[38;5;124m\"\u001b[39m, e)\n\u001b[1;32m     21\u001b[0m \u001b[38;5;28;01mfinally\u001b[39;00m:\n\u001b[0;32m---> 22\u001b[0m     \u001b[43mconn\u001b[49m\u001b[38;5;241m.\u001b[39mclose()  \u001b[38;5;66;03m# Cerrar la conexión a la base de datos\u001b[39;00m\n",
      "\u001b[0;31mNameError\u001b[0m: name 'conn' is not defined"
     ]
    }
   ],
   "source": [
    "import sqlite3\n",
    "import pandas as pd\n",
    "\n",
    "# Ruta de la base de datos\n",
    "db_path = \"/mnt/batch/tasks/shared/LS_root/mounts/clusters/aurelio-parra/code/Users/aurelio.sosa.netmind/Pandas/Users/aurelio.sosa.netmind/Pandas/database.db\"\n",
    "\n",
    "# Establecer la conexión a la base de datos\n",
    "try:\n",
    "    conn = sqlite3.connect(db_path)\n",
    "\n",
    "    # Ejecutar la consulta SQL para obtener las películas de comedia\n",
    "    query = \"SELECT * FROM movies WHERE genres LIKE '%Comedy%'\"\n",
    "    df_comedy = pd.read_sql_query(query, conn)\n",
    "\n",
    "    # Mostrar las primeras filas del DataFrame\n",
    "    print(df_comedy.head())\n",
    "\n",
    "except Exception as e:\n",
    "    print(\"Error al conectar a la base de datos:\", e)\n",
    "\n",
    "finally:\n",
    "    conn.close()  # Cerrar la conexión a la base de datos\n"
   ]
  },
  {
   "cell_type": "code",
   "execution_count": 1,
   "metadata": {},
   "outputs": [
    {
     "name": "stdout",
     "output_type": "stream",
     "text": [
      "Ruta absoluta del archivo: /mnt/batch/tasks/shared/LS_root/mounts/clusters/aurelio-parra/code/Users/aurelio.sosa.netmind/Pandas/database.db\n"
     ]
    }
   ],
   "source": [
    "import os\n",
    "\n",
    "# Ruta relativa del archivo\n",
    "archivo = \"database.db\"\n",
    "\n",
    "# Obtener la ruta absoluta\n",
    "ruta_absoluta = os.path.abspath(archivo)\n",
    "\n",
    "print(\"Ruta absoluta del archivo:\", ruta_absoluta)\n"
   ]
  }
 ],
 "metadata": {
  "kernelspec": {
   "display_name": "Python 3.10 - SDK v2",
   "language": "python",
   "name": "python310-sdkv2"
  },
  "language_info": {
   "codemirror_mode": {
    "name": "ipython",
    "version": 3
   },
   "file_extension": ".py",
   "mimetype": "text/x-python",
   "name": "python",
   "nbconvert_exporter": "python",
   "pygments_lexer": "ipython3",
   "version": "3.10.14"
  }
 },
 "nbformat": 4,
 "nbformat_minor": 2
}
