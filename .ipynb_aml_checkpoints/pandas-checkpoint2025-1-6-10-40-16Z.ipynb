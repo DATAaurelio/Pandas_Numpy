{
  "cells": [
    {
      "cell_type": "code",
      "source": [
        "#! pip install sqlite3\n",
        "import sqlite3\n"
      ],
      "outputs": [],
      "execution_count": 1,
      "metadata": {
        "gather": {
          "logged": 1738231730921
        }
      }
    },
    {
      "cell_type": "code",
      "source": [
        "con_sqlt = sqlite3.connect(r\"Users/aurelio.sosa.netmind/Pandas/database.db\")\n",
        "dfdb = pd.read_sql_query(\"SELECT*FROM movies\", con_sqlt)\n",
        "con_sqlt.close()\n",
        "\n",
        "dfdb\n"
      ],
      "outputs": [
        {
          "output_type": "error",
          "ename": "OperationalError",
          "evalue": "unable to open database file",
          "traceback": [
            "\u001b[0;31m---------------------------------------------------------------------------\u001b[0m",
            "\u001b[0;31mOperationalError\u001b[0m                          Traceback (most recent call last)",
            "Cell \u001b[0;32mIn[2], line 1\u001b[0m\n\u001b[0;32m----> 1\u001b[0m con_sqlt \u001b[38;5;241m=\u001b[39m \u001b[43msqlite3\u001b[49m\u001b[38;5;241;43m.\u001b[39;49m\u001b[43mconnect\u001b[49m\u001b[43m(\u001b[49m\u001b[38;5;124;43mr\u001b[39;49m\u001b[38;5;124;43m\"\u001b[39;49m\u001b[38;5;124;43mUsers/aurelio.sosa.netmind/Pandas/database.db\u001b[39;49m\u001b[38;5;124;43m\"\u001b[39;49m\u001b[43m)\u001b[49m\n\u001b[1;32m      2\u001b[0m dfdb \u001b[38;5;241m=\u001b[39m pd\u001b[38;5;241m.\u001b[39mread_sql_query(\u001b[38;5;124m\"\u001b[39m\u001b[38;5;124mSELECT*FROM movies\u001b[39m\u001b[38;5;124m\"\u001b[39m, con_sqlt)\n\u001b[1;32m      3\u001b[0m con_sqlt\u001b[38;5;241m.\u001b[39mclose()\n",
            "\u001b[0;31mOperationalError\u001b[0m: unable to open database file"
          ]
        }
      ],
      "execution_count": 2,
      "metadata": {
        "gather": {
          "logged": 1738231731402
        }
      }
    },
    {
      "cell_type": "code",
      "source": [
        "import sqlite3\n",
        "import pandas as pd\n",
        "import os\n",
        "\n",
        "# Obtener la ruta absoluta de la base de datos\n",
        "db_path = os.path.abspath(r\"Users/aurelio.sosa.netmind/Pandas/database.db\")\n",
        "print(db_path)\n",
        "\n",
        "# Intentar la conexión\n",
        "try:\n",
        "    con_sqlt = sqlite3.connect(db_path)\n",
        "    dfdb = pd.read_sql_query(\"SELECT * FROM movies\", con_sqlt)\n",
        "    con_sqlt.close()\n",
        "    print(dfdb.head())  # Muestra las primeras filas si la conexión es exitosa\n",
        "except sqlite3.OperationalError as e:\n",
        "    print(\"Error al conectar a la base de datos:\", e)"
      ],
      "outputs": [],
      "execution_count": null,
      "metadata": {
        "gather": {
          "logged": 1738231731649
        }
      }
    },
    {
      "cell_type": "code",
      "source": [
        "import sqlite3\n",
        "import os\n",
        "import pandas as pd\n",
        "\n",
        "# Ruta absoluta del archivo de base de datos\n",
        "db_path = os.path.abspath(r\"Users/aurelio.sosa.netmind/Pandas/database.db\")\n",
        "\n",
        "# Intentar la conexión a la base de datos\n",
        "try:\n",
        "    con_sqlt = sqlite3.connect(db_path)\n",
        "    print(\"Conexión exitosa\")\n",
        "    con_sqlt.close()\n",
        "except sqlite3.OperationalError as e:\n",
        "    print(\"Error al conectar a la base de datos:\", e)\n",
        "\n",
        "if not os.path.exists(db_path):\n",
        "    print(\"El archivo de base de datos no existe en la ruta especificada.\")\n",
        "else:\n",
        "    print(\"El archivo de base de datos existe.\")\n",
        "\n"
      ],
      "outputs": [],
      "execution_count": null,
      "metadata": {
        "gather": {
          "logged": 1738231731674
        }
      }
    },
    {
      "cell_type": "code",
      "source": [
        "con_sqlt = sqlite3.connect(\"database.db\")  # Archivo en la misma carpeta\n",
        "cursor = con_sqlt.cursor()\n",
        "\n",
        "# Crear una tabla de prueba\n",
        "cursor.execute(\"CREATE TABLE IF NOT EXISTS test (id INTEGER, name TEXT)\")\n",
        "con_sqlt.commit()\n",
        "\n",
        "print(\"Base de datos creada exitosamente\")\n",
        "con_sqlt.close()\n"
      ],
      "outputs": [],
      "execution_count": null,
      "metadata": {
        "gather": {
          "logged": 1738231731695
        }
      }
    },
    {
      "cell_type": "code",
      "source": [
        "import os\n",
        "\n",
        "# Mostrar la ruta actual del script\n",
        "print(\"Directorio actual:\", os.getcwd())\n",
        "\n",
        "# Listar archivos y carpetas en la ubicación actual\n",
        "print(\"Archivos en la carpeta actual:\", os.listdir())\n",
        "\n",
        "# Verificar si la base de datos está en la carpeta\n",
        "db_path = \"Users/aurelio.sosa.netmind/Pandas/database.db\"\n",
        "if os.path.exists(db_path):\n",
        "    print(\"El archivo de base de datos existe.\")\n",
        "else:\n",
        "    print(\"El archivo de base de datos NO existe.\")\n"
      ],
      "outputs": [],
      "execution_count": null,
      "metadata": {
        "gather": {
          "logged": 1738231731718
        }
      }
    },
    {
      "cell_type": "code",
      "source": [
        "import sqlite3\n",
        "import pandas as pd\n",
        "\n",
        "# Ruta absoluta detectada\n",
        "db_path = \"/mnt/batch/tasks/shared/LS_root/mounts/clusters/aurelio-parra/code/Users/aurelio.sosa.netmind/Pandas/database.db\"\n",
        "\n",
        "# Intentar la conexión con la ruta absoluta\n",
        "try:\n",
        "    with sqlite3.connect(db_path) as con_sqlt:\n",
        "        dfdb = pd.read_sql_query(\"SELECT * FROM movies\", con_sqlt)\n",
        "    print(dfdb.head()) # Mostrar las primeras filas de la tabla\n",
        "except Exception as e:\n",
        "    print(\"Error al conectar a la base de datos:\", e)\n"
      ],
      "outputs": [
        {
          "output_type": "stream",
          "name": "stdout",
          "text": "                                title  movieId  \\\n0                    Toy Story (1995)        1   \n1                      Jumanji (1995)        2   \n2             Grumpier Old Men (1995)        3   \n3            Waiting to Exhale (1995)        4   \n4  Father of the Bride Part II (1995)        5   \n\n                                        genres  \n0  Adventure|Animation|Children|Comedy|Fantasy  \n1                   Adventure|Children|Fantasy  \n2                               Comedy|Romance  \n3                         Comedy|Drama|Romance  \n4                                       Comedy  \n"
        }
      ],
      "execution_count": 1,
      "metadata": {
        "gather": {
          "logged": 1737639488065
        }
      }
    },
    {
      "cell_type": "markdown",
      "source": [],
      "metadata": {}
    },
    {
      "cell_type": "code",
      "source": [
        "df_comedy = dfdb.loc[dfdb['genres'].str.contains('Comedy', case=False)]\n",
        "print(df_comedy)\n",
        "\n",
        "df_old_movies = dfdb.loc[dfdb['title'].str.contains('Old', case=False)]\n",
        "print(df_old_movies)\n",
        "\n",
        "df_filtered = dfdb.loc[dfdb['movieId'] > 10, ['title', 'genres']]\n",
        "print(df_filtered)\n",
        "\n",
        "first_movie = dfdb.iloc[0]\n",
        "print(first_movie)\n",
        "\n",
        "top_10_movies = dfdb.iloc[:10]\n",
        "print(top_10_movies)\n",
        "\n",
        "odd_rows = dfdb.iloc[1::2]\n",
        "print(odd_rows)\n",
        "\n",
        "df_selected_ids = dfdb[dfdb['movieId'].isin([1, 3, 5])]\n",
        "print(df_selected_ids)\n",
        "\n",
        "df_comedy_drama = dfdb[dfdb['genres'].isin(['Comedy', 'Drama'])]\n",
        "print(df_comedy_drama)\n",
        "\n",
        "\n",
        "\n",
        "\n"
      ],
      "outputs": [
        {
          "output_type": "stream",
          "name": "stdout",
          "text": "                                          title  movieId  \\\n0                              Toy Story (1995)        1   \n2                       Grumpier Old Men (1995)        3   \n3                      Waiting to Exhale (1995)        4   \n4            Father of the Bride Part II (1995)        5   \n6                                Sabrina (1995)        7   \n...                                         ...      ...   \n9732                  Gintama: The Movie (2010)   193565   \n9734                        Silver Spoon (2014)   193571   \n9737  Black Butler: Book of the Atlantic (2017)   193581   \n9738               No Game No Life: Zero (2017)   193583   \n9741        Andrew Dice Clay: Dice Rules (1991)   193609   \n\n                                           genres    year  \\\n0     Adventure|Animation|Children|Comedy|Fantasy  1995.0   \n2                                  Comedy|Romance  1995.0   \n3                            Comedy|Drama|Romance  1995.0   \n4                                          Comedy  1995.0   \n6                                  Comedy|Romance  1995.0   \n...                                           ...     ...   \n9732               Action|Animation|Comedy|Sci-Fi  2010.0   \n9734                                 Comedy|Drama  2014.0   \n9737              Action|Animation|Comedy|Fantasy  2017.0   \n9738                     Animation|Comedy|Fantasy  2017.0   \n9741                                       Comedy  1991.0   \n\n                                             genre_list  \n0     [Adventure, Animation, Children, Comedy, Fantasy]  \n2                                     [Comedy, Romance]  \n3                              [Comedy, Drama, Romance]  \n4                                              [Comedy]  \n6                                     [Comedy, Romance]  \n...                                                 ...  \n9732                [Action, Animation, Comedy, Sci-Fi]  \n9734                                    [Comedy, Drama]  \n9737               [Action, Animation, Comedy, Fantasy]  \n9738                       [Animation, Comedy, Fantasy]  \n9741                                           [Comedy]  \n\n[3756 rows x 5 columns]\n                                                  title  movieId  \\\n2                               Grumpier Old Men (1995)        3   \n9                                      GoldenEye (1995)       10   \n376   City Slickers II: The Legend of Curly's Gold (...      432   \n547                  Cold Fever (Á köldum klaka) (1995)      649   \n590                            Cold Comfort Farm (1995)      728   \n...                                                 ...      ...   \n9048                            Old Men: Robbers (1971)   141820   \n9460              Kizumonogatari III: Cold Blood (2017)   168218   \n9515                            Maria Bamford: Old Baby   171631   \n9602                 Kingsman: The Golden Circle (2017)   176101   \n9722                                Iron Soldier (2010)   189547   \n\n                         genres    year                     genre_list  \n2                Comedy|Romance  1995.0              [Comedy, Romance]  \n9     Action|Adventure|Thriller  1995.0  [Action, Adventure, Thriller]  \n376    Adventure|Comedy|Western  1994.0   [Adventure, Comedy, Western]  \n547                Comedy|Drama  1995.0                [Comedy, Drama]  \n590                      Comedy  1995.0                       [Comedy]  \n...                         ...     ...                            ...  \n9048                     Comedy  1971.0                       [Comedy]  \n9460  Animation|Fantasy|Mystery  2017.0  [Animation, Fantasy, Mystery]  \n9515         (no genres listed)     NaN           [(no genres listed)]  \n9602    Action|Adventure|Comedy  2017.0    [Action, Adventure, Comedy]  \n9722              Action|Sci-Fi  2010.0               [Action, Sci-Fi]  \n\n[98 rows x 5 columns]\n                                          title  \\\n10               American President, The (1995)   \n11           Dracula: Dead and Loving It (1995)   \n12                                 Balto (1995)   \n13                                 Nixon (1995)   \n14                      Cutthroat Island (1995)   \n...                                         ...   \n9737  Black Butler: Book of the Atlantic (2017)   \n9738               No Game No Life: Zero (2017)   \n9739                               Flint (2017)   \n9740        Bungo Stray Dogs: Dead Apple (2018)   \n9741        Andrew Dice Clay: Dice Rules (1991)   \n\n                               genres  \n10               Comedy|Drama|Romance  \n11                      Comedy|Horror  \n12       Adventure|Animation|Children  \n13                              Drama  \n14           Action|Adventure|Romance  \n...                               ...  \n9737  Action|Animation|Comedy|Fantasy  \n9738         Animation|Comedy|Fantasy  \n9739                            Drama  \n9740                 Action|Animation  \n9741                           Comedy  \n\n[9732 rows x 2 columns]\ntitle                                          Toy Story (1995)\nmovieId                                                       1\ngenres              Adventure|Animation|Children|Comedy|Fantasy\nyear                                                     1995.0\ngenre_list    [Adventure, Animation, Children, Comedy, Fantasy]\nName: 0, dtype: object\n                                title  movieId  \\\n0                    Toy Story (1995)        1   \n1                      Jumanji (1995)        2   \n2             Grumpier Old Men (1995)        3   \n3            Waiting to Exhale (1995)        4   \n4  Father of the Bride Part II (1995)        5   \n5                         Heat (1995)        6   \n6                      Sabrina (1995)        7   \n7                 Tom and Huck (1995)        8   \n8                 Sudden Death (1995)        9   \n9                    GoldenEye (1995)       10   \n\n                                        genres    year  \\\n0  Adventure|Animation|Children|Comedy|Fantasy  1995.0   \n1                   Adventure|Children|Fantasy  1995.0   \n2                               Comedy|Romance  1995.0   \n3                         Comedy|Drama|Romance  1995.0   \n4                                       Comedy  1995.0   \n5                        Action|Crime|Thriller  1995.0   \n6                               Comedy|Romance  1995.0   \n7                           Adventure|Children  1995.0   \n8                                       Action  1995.0   \n9                    Action|Adventure|Thriller  1995.0   \n\n                                          genre_list  \n0  [Adventure, Animation, Children, Comedy, Fantasy]  \n1                     [Adventure, Children, Fantasy]  \n2                                  [Comedy, Romance]  \n3                           [Comedy, Drama, Romance]  \n4                                           [Comedy]  \n5                          [Action, Crime, Thriller]  \n6                                  [Comedy, Romance]  \n7                              [Adventure, Children]  \n8                                           [Action]  \n9                      [Action, Adventure, Thriller]  \n                                                  title  movieId  \\\n1                                        Jumanji (1995)        2   \n3                              Waiting to Exhale (1995)        4   \n5                                           Heat (1995)        6   \n7                                   Tom and Huck (1995)        8   \n9                                      GoldenEye (1995)       10   \n...                                                 ...      ...   \n9733  anohana: The Flower We Saw That Day - The Movi...   193567   \n9735            Love Live! The School Idol Movie (2015)   193573   \n9737          Black Butler: Book of the Atlantic (2017)   193581   \n9739                                       Flint (2017)   193585   \n9741                Andrew Dice Clay: Dice Rules (1991)   193609   \n\n                               genres    year  \\\n1          Adventure|Children|Fantasy  1995.0   \n3                Comedy|Drama|Romance  1995.0   \n5               Action|Crime|Thriller  1995.0   \n7                  Adventure|Children  1995.0   \n9           Action|Adventure|Thriller  1995.0   \n...                               ...     ...   \n9733                  Animation|Drama  2013.0   \n9735                        Animation  2015.0   \n9737  Action|Animation|Comedy|Fantasy  2017.0   \n9739                            Drama  2017.0   \n9741                           Comedy  1991.0   \n\n                                genre_list  \n1           [Adventure, Children, Fantasy]  \n3                 [Comedy, Drama, Romance]  \n5                [Action, Crime, Thriller]  \n7                    [Adventure, Children]  \n9            [Action, Adventure, Thriller]  \n...                                    ...  \n9733                    [Animation, Drama]  \n9735                           [Animation]  \n9737  [Action, Animation, Comedy, Fantasy]  \n9739                               [Drama]  \n9741                              [Comedy]  \n\n[4871 rows x 5 columns]\n                                title  movieId  \\\n0                    Toy Story (1995)        1   \n2             Grumpier Old Men (1995)        3   \n4  Father of the Bride Part II (1995)        5   \n\n                                        genres    year  \\\n0  Adventure|Animation|Children|Comedy|Fantasy  1995.0   \n2                               Comedy|Romance  1995.0   \n4                                       Comedy  1995.0   \n\n                                          genre_list  \n0  [Adventure, Animation, Children, Comedy, Fantasy]  \n2                                  [Comedy, Romance]  \n4                                           [Comedy]  \n                                      title  movieId  genres    year  \\\n4        Father of the Bride Part II (1995)        5  Comedy  1995.0   \n13                             Nixon (1995)       14   Drama  1995.0   \n17                        Four Rooms (1995)       18  Comedy  1995.0   \n18    Ace Ventura: When Nature Calls (1995)       19  Comedy  1995.0   \n25                           Othello (1995)       26   Drama  1995.0   \n...                                     ...      ...     ...     ...   \n9726     Jeff Ross Roasts the Border (2017)   190209  Comedy  2017.0   \n9727                       John From (2015)   190213   Drama  2015.0   \n9728                    Liquid Truth (2017)   190215   Drama  2017.0   \n9739                           Flint (2017)   193585   Drama  2017.0   \n9741    Andrew Dice Clay: Dice Rules (1991)   193609  Comedy  1991.0   \n\n     genre_list  \n4      [Comedy]  \n13      [Drama]  \n17     [Comedy]  \n18     [Comedy]  \n25      [Drama]  \n...         ...  \n9726   [Comedy]  \n9727    [Drama]  \n9728    [Drama]  \n9739    [Drama]  \n9741   [Comedy]  \n\n[1999 rows x 5 columns]\n"
        }
      ],
      "execution_count": null,
      "metadata": {}
    },
    {
      "cell_type": "code",
      "source": [
        "drama_count = dfdb[dfdb['genres'].str.contains('Drama')].shape[0]\n",
        "print(f\"Total de películas de drama: {drama_count}\")\n",
        "\n",
        "dfdb['year'] = dfdb['title'].str.extract(r'\\((\\d{4})\\)').astype(float)\n",
        "print(dfdb.head())\n",
        "\n",
        "df_before_2000 = dfdb[dfdb['year'] < 2000]\n",
        "print(df_before_2000)\n",
        "\n",
        "df_sorted = dfdb.sort_values(by='movieId', ascending=False)\n",
        "print(df_sorted)\n",
        "\n",
        "dfdb['genre_list'] = dfdb['genres'].str.split('|')\n",
        "df_multiple_genres = dfdb[dfdb['genre_list'].apply(len) > 1]\n",
        "print(df_multiple_genres)\n"
      ],
      "outputs": [
        {
          "output_type": "stream",
          "name": "stdout",
          "text": "Total de películas de drama: 4361\n                                title  movieId  \\\n0                    Toy Story (1995)        1   \n1                      Jumanji (1995)        2   \n2             Grumpier Old Men (1995)        3   \n3            Waiting to Exhale (1995)        4   \n4  Father of the Bride Part II (1995)        5   \n\n                                        genres    year  \n0  Adventure|Animation|Children|Comedy|Fantasy  1995.0  \n1                   Adventure|Children|Fantasy  1995.0  \n2                               Comedy|Romance  1995.0  \n3                         Comedy|Drama|Romance  1995.0  \n4                                       Comedy  1995.0  \n                                    title  movieId  \\\n0                        Toy Story (1995)        1   \n1                          Jumanji (1995)        2   \n2                 Grumpier Old Men (1995)        3   \n3                Waiting to Exhale (1995)        4   \n4      Father of the Bride Part II (1995)        5   \n...                                   ...      ...   \n9679  The Tale of the Bunny Picnic (1986)   183301   \n9680                   Patti Rocks (1988)   183317   \n9688              De platte jungle (1978)   184245   \n9729                         Bunny (1998)   190219   \n9741  Andrew Dice Clay: Dice Rules (1991)   193609   \n\n                                           genres    year  \n0     Adventure|Animation|Children|Comedy|Fantasy  1995.0  \n1                      Adventure|Children|Fantasy  1995.0  \n2                                  Comedy|Romance  1995.0  \n3                            Comedy|Drama|Romance  1995.0  \n4                                          Comedy  1995.0  \n...                                           ...     ...  \n9679                                     Children  1986.0  \n9680                                 Comedy|Drama  1988.0  \n9688                                  Documentary  1978.0  \n9729                                    Animation  1998.0  \n9741                                       Comedy  1991.0  \n\n[4949 rows x 4 columns]\n                                          title  movieId  \\\n9741        Andrew Dice Clay: Dice Rules (1991)   193609   \n9740        Bungo Stray Dogs: Dead Apple (2018)   193587   \n9739                               Flint (2017)   193585   \n9738               No Game No Life: Zero (2017)   193583   \n9737  Black Butler: Book of the Atlantic (2017)   193581   \n...                                         ...      ...   \n4            Father of the Bride Part II (1995)        5   \n3                      Waiting to Exhale (1995)        4   \n2                       Grumpier Old Men (1995)        3   \n1                                Jumanji (1995)        2   \n0                              Toy Story (1995)        1   \n\n                                           genres    year  \n9741                                       Comedy  1991.0  \n9740                             Action|Animation  2018.0  \n9739                                        Drama  2017.0  \n9738                     Animation|Comedy|Fantasy  2017.0  \n9737              Action|Animation|Comedy|Fantasy  2017.0  \n...                                           ...     ...  \n4                                          Comedy  1995.0  \n3                            Comedy|Drama|Romance  1995.0  \n2                                  Comedy|Romance  1995.0  \n1                      Adventure|Children|Fantasy  1995.0  \n0     Adventure|Animation|Children|Comedy|Fantasy  1995.0  \n\n[9742 rows x 4 columns]\n                                                  title  movieId  \\\n0                                      Toy Story (1995)        1   \n1                                        Jumanji (1995)        2   \n2                               Grumpier Old Men (1995)        3   \n3                              Waiting to Exhale (1995)        4   \n5                                           Heat (1995)        6   \n...                                                 ...      ...   \n9733  anohana: The Flower We Saw That Day - The Movi...   193567   \n9734                                Silver Spoon (2014)   193571   \n9737          Black Butler: Book of the Atlantic (2017)   193581   \n9738                       No Game No Life: Zero (2017)   193583   \n9740                Bungo Stray Dogs: Dead Apple (2018)   193587   \n\n                                           genres    year  \\\n0     Adventure|Animation|Children|Comedy|Fantasy  1995.0   \n1                      Adventure|Children|Fantasy  1995.0   \n2                                  Comedy|Romance  1995.0   \n3                            Comedy|Drama|Romance  1995.0   \n5                           Action|Crime|Thriller  1995.0   \n...                                           ...     ...   \n9733                              Animation|Drama  2013.0   \n9734                                 Comedy|Drama  2014.0   \n9737              Action|Animation|Comedy|Fantasy  2017.0   \n9738                     Animation|Comedy|Fantasy  2017.0   \n9740                             Action|Animation  2018.0   \n\n                                             genre_list  \n0     [Adventure, Animation, Children, Comedy, Fantasy]  \n1                        [Adventure, Children, Fantasy]  \n2                                     [Comedy, Romance]  \n3                              [Comedy, Drama, Romance]  \n5                             [Action, Crime, Thriller]  \n...                                                 ...  \n9733                                 [Animation, Drama]  \n9734                                    [Comedy, Drama]  \n9737               [Action, Animation, Comedy, Fantasy]  \n9738                       [Animation, Comedy, Fantasy]  \n9740                                [Action, Animation]  \n\n[6891 rows x 5 columns]\n"
        }
      ],
      "execution_count": null,
      "metadata": {}
    },
    {
      "cell_type": "code",
      "source": [
        "from collections import Counter\n",
        "all_genres = dfdb['genres'].str.split('|').sum()\n",
        "genre_counts = Counter(all_genres)\n",
        "print(genre_counts)\n",
        "\n",
        "df_unique_movies = dfdb.drop_duplicates(subset=['title'])\n",
        "print(df_unique_movies)\n"
      ],
      "outputs": [
        {
          "output_type": "stream",
          "name": "stdout",
          "text": "Counter({'Drama': 4361, 'Comedy': 3756, 'Thriller': 1894, 'Action': 1828, 'Romance': 1596, 'Adventure': 1263, 'Crime': 1199, 'Sci-Fi': 980, 'Horror': 978, 'Fantasy': 779, 'Children': 664, 'Animation': 611, 'Mystery': 573, 'Documentary': 440, 'War': 382, 'Musical': 334, 'Western': 167, 'IMAX': 158, 'Film-Noir': 87, '(no genres listed)': 34})\n                                          title  movieId  \\\n0                              Toy Story (1995)        1   \n1                                Jumanji (1995)        2   \n2                       Grumpier Old Men (1995)        3   \n3                      Waiting to Exhale (1995)        4   \n4            Father of the Bride Part II (1995)        5   \n...                                         ...      ...   \n9737  Black Butler: Book of the Atlantic (2017)   193581   \n9738               No Game No Life: Zero (2017)   193583   \n9739                               Flint (2017)   193585   \n9740        Bungo Stray Dogs: Dead Apple (2018)   193587   \n9741        Andrew Dice Clay: Dice Rules (1991)   193609   \n\n                                           genres    year  \\\n0     Adventure|Animation|Children|Comedy|Fantasy  1995.0   \n1                      Adventure|Children|Fantasy  1995.0   \n2                                  Comedy|Romance  1995.0   \n3                            Comedy|Drama|Romance  1995.0   \n4                                          Comedy  1995.0   \n...                                           ...     ...   \n9737              Action|Animation|Comedy|Fantasy  2017.0   \n9738                     Animation|Comedy|Fantasy  2017.0   \n9739                                        Drama  2017.0   \n9740                             Action|Animation  2018.0   \n9741                                       Comedy  1991.0   \n\n                                             genre_list  \n0     [Adventure, Animation, Children, Comedy, Fantasy]  \n1                        [Adventure, Children, Fantasy]  \n2                                     [Comedy, Romance]  \n3                              [Comedy, Drama, Romance]  \n4                                              [Comedy]  \n...                                                 ...  \n9737               [Action, Animation, Comedy, Fantasy]  \n9738                       [Animation, Comedy, Fantasy]  \n9739                                            [Drama]  \n9740                                [Action, Animation]  \n9741                                           [Comedy]  \n\n[9737 rows x 5 columns]\n"
        }
      ],
      "execution_count": 15,
      "metadata": {}
    },
    {
      "cell_type": "code",
      "source": [
        "dfdb['genre_list'] = dfdb['genres'].str.split('|')\n",
        "df_multiple_genres = dfdb[dfdb['genre_list'].apply(len) > 1]\n",
        "print(df_multiple_genres)\n"
      ],
      "outputs": [
        {
          "output_type": "stream",
          "name": "stdout",
          "text": "                                                  title  movieId  \\\n0                                      Toy Story (1995)        1   \n1                                        Jumanji (1995)        2   \n2                               Grumpier Old Men (1995)        3   \n3                              Waiting to Exhale (1995)        4   \n5                                           Heat (1995)        6   \n...                                                 ...      ...   \n9733  anohana: The Flower We Saw That Day - The Movi...   193567   \n9734                                Silver Spoon (2014)   193571   \n9737          Black Butler: Book of the Atlantic (2017)   193581   \n9738                       No Game No Life: Zero (2017)   193583   \n9740                Bungo Stray Dogs: Dead Apple (2018)   193587   \n\n                                           genres    year  \\\n0     Adventure|Animation|Children|Comedy|Fantasy  1995.0   \n1                      Adventure|Children|Fantasy  1995.0   \n2                                  Comedy|Romance  1995.0   \n3                            Comedy|Drama|Romance  1995.0   \n5                           Action|Crime|Thriller  1995.0   \n...                                           ...     ...   \n9733                              Animation|Drama  2013.0   \n9734                                 Comedy|Drama  2014.0   \n9737              Action|Animation|Comedy|Fantasy  2017.0   \n9738                     Animation|Comedy|Fantasy  2017.0   \n9740                             Action|Animation  2018.0   \n\n                                             genre_list  \n0     [Adventure, Animation, Children, Comedy, Fantasy]  \n1                        [Adventure, Children, Fantasy]  \n2                                     [Comedy, Romance]  \n3                              [Comedy, Drama, Romance]  \n5                             [Action, Crime, Thriller]  \n...                                                 ...  \n9733                                 [Animation, Drama]  \n9734                                    [Comedy, Drama]  \n9737               [Action, Animation, Comedy, Fantasy]  \n9738                       [Animation, Comedy, Fantasy]  \n9740                                [Action, Animation]  \n\n[6891 rows x 5 columns]\n"
        }
      ],
      "execution_count": null,
      "metadata": {}
    },
    {
      "cell_type": "code",
      "source": [
        "print(dfdb.info())  # Muestra la estructura del DataFrame\n",
        "print(dfdb.describe())  # Estadísticas de columnas numéricas\n",
        "print(dfdb.isnull().sum())  # Detectar valores nulos por columna\n",
        "\n",
        "dfdb = dfdb.drop_duplicates(subset=['title'])\n",
        "print(dfdb.shape)\n",
        "\n",
        "dfdb['genres'].fillna('Unknown', inplace=True)\n",
        "\n"
      ],
      "outputs": [
        {
          "output_type": "stream",
          "name": "stdout",
          "text": "<class 'pandas.core.frame.DataFrame'>\nRangeIndex: 9742 entries, 0 to 9741\nData columns (total 5 columns):\n #   Column      Non-Null Count  Dtype  \n---  ------      --------------  -----  \n 0   title       9742 non-null   object \n 1   movieId     9742 non-null   int64  \n 2   genres      9742 non-null   object \n 3   year        9729 non-null   float64\n 4   genre_list  9742 non-null   object \ndtypes: float64(1), int64(1), object(3)\nmemory usage: 380.7+ KB\nNone\n             movieId         year\ncount    9742.000000  9729.000000\nmean    42200.353623  1994.613629\nstd     52160.494854    18.535219\nmin         1.000000  1902.000000\n25%      3248.250000  1988.000000\n50%      7300.000000  1999.000000\n75%     76232.000000  2008.000000\nmax    193609.000000  2018.000000\ntitle          0\nmovieId        0\ngenres         0\nyear          13\ngenre_list     0\ndtype: int64\n(9737, 5)\n"
        },
        {
          "output_type": "stream",
          "name": "stderr",
          "text": "/tmp/ipykernel_49827/2884212200.py:8: FutureWarning: A value is trying to be set on a copy of a DataFrame or Series through chained assignment using an inplace method.\nThe behavior will change in pandas 3.0. This inplace method will never work because the intermediate object on which we are setting values always behaves as a copy.\n\nFor example, when doing 'df[col].method(value, inplace=True)', try using 'df.method({col: value}, inplace=True)' or df[col] = df[col].method(value) instead, to perform the operation inplace on the original object.\n\n\n  dfdb['genres'].fillna('Unknown', inplace=True)\n"
        }
      ],
      "execution_count": null,
      "metadata": {}
    },
    {
      "cell_type": "code",
      "source": [
        "dfdb['genres'].fillna('Unknown', inplace=True)\n"
      ],
      "outputs": [
        {
          "output_type": "stream",
          "name": "stderr",
          "text": "/tmp/ipykernel_49827/4256733401.py:1: FutureWarning: A value is trying to be set on a copy of a DataFrame or Series through chained assignment using an inplace method.\nThe behavior will change in pandas 3.0. This inplace method will never work because the intermediate object on which we are setting values always behaves as a copy.\n\nFor example, when doing 'df[col].method(value, inplace=True)', try using 'df.method({col: value}, inplace=True)' or df[col] = df[col].method(value) instead, to perform the operation inplace on the original object.\n\n\n  dfdb['genres'].fillna('Unknown', inplace=True)\n"
        }
      ],
      "execution_count": 18,
      "metadata": {}
    },
    {
      "cell_type": "code",
      "source": [
        "dfdb.dropna(subset=['title', 'genres'], inplace=True)\n"
      ],
      "outputs": [],
      "execution_count": 19,
      "metadata": {}
    },
    {
      "cell_type": "code",
      "source": [
        "dfdb['year'] = dfdb['title'].str.extract(r'\\((\\d{4})\\)').astype(float)\n",
        "df_recent_movies = dfdb[dfdb['year'] > 2000]\n",
        "print(df_recent_movies.head())\n",
        "\n",
        "df_action_movies = dfdb[dfdb['genres'].str.contains('Action', case=False)]\n",
        "print(df_action_movies)\n",
        "\n",
        "df_long_movies = dfdb[dfdb['duration'] > 120]\n",
        "print(df_long_movies)\n"
      ],
      "outputs": [
        {
          "output_type": "stream",
          "name": "stdout",
          "text": "                           title  movieId                        genres  \\\n3028            Antitrust (2001)     4052          Crime|Drama|Thriller   \n3029          Double Take (2001)     4053                 Action|Comedy   \n3030  Save the Last Dance (2001)     4054                 Drama|Romance   \n3032          Pledge, The (2001)     4056  Crime|Drama|Mystery|Thriller   \n3040        Sugar & Spice (2001)     4068                        Comedy   \n\n        year                         genre_list  \n3028  2001.0           [Crime, Drama, Thriller]  \n3029  2001.0                   [Action, Comedy]  \n3030  2001.0                   [Drama, Romance]  \n3032  2001.0  [Crime, Drama, Mystery, Thriller]  \n3040  2001.0                           [Comedy]  \n                                          title  movieId  \\\n5                                   Heat (1995)        6   \n8                           Sudden Death (1995)        9   \n9                              GoldenEye (1995)       10   \n14                      Cutthroat Island (1995)       15   \n19                           Money Train (1995)       20   \n...                                         ...      ...   \n9722                        Iron Soldier (2010)   189547   \n9731                             Gintama (2017)   191005   \n9732                  Gintama: The Movie (2010)   193565   \n9737  Black Butler: Book of the Atlantic (2017)   193581   \n9740        Bungo Stray Dogs: Dead Apple (2018)   193587   \n\n                                  genres    year  \\\n5                  Action|Crime|Thriller  1995.0   \n8                                 Action  1995.0   \n9              Action|Adventure|Thriller  1995.0   \n14              Action|Adventure|Romance  1995.0   \n19    Action|Comedy|Crime|Drama|Thriller  1995.0   \n...                                  ...     ...   \n9722                       Action|Sci-Fi  2010.0   \n9731      Action|Adventure|Comedy|Sci-Fi  2017.0   \n9732      Action|Animation|Comedy|Sci-Fi  2010.0   \n9737     Action|Animation|Comedy|Fantasy  2017.0   \n9740                    Action|Animation  2018.0   \n\n                                    genre_list  \n5                    [Action, Crime, Thriller]  \n8                                     [Action]  \n9                [Action, Adventure, Thriller]  \n14                [Action, Adventure, Romance]  \n19    [Action, Comedy, Crime, Drama, Thriller]  \n...                                        ...  \n9722                          [Action, Sci-Fi]  \n9731       [Action, Adventure, Comedy, Sci-Fi]  \n9732       [Action, Animation, Comedy, Sci-Fi]  \n9737      [Action, Animation, Comedy, Fantasy]  \n9740                       [Action, Animation]  \n\n[1827 rows x 5 columns]\n"
        },
        {
          "output_type": "error",
          "ename": "KeyError",
          "evalue": "'duration'",
          "traceback": [
            "\u001b[0;31m---------------------------------------------------------------------------\u001b[0m",
            "\u001b[0;31mKeyError\u001b[0m                                  Traceback (most recent call last)",
            "File \u001b[0;32m/anaconda/envs/azureml_py310_sdkv2/lib/python3.10/site-packages/pandas/core/indexes/base.py:3805\u001b[0m, in \u001b[0;36mIndex.get_loc\u001b[0;34m(self, key)\u001b[0m\n\u001b[1;32m   3804\u001b[0m \u001b[38;5;28;01mtry\u001b[39;00m:\n\u001b[0;32m-> 3805\u001b[0m     \u001b[38;5;28;01mreturn\u001b[39;00m \u001b[38;5;28;43mself\u001b[39;49m\u001b[38;5;241;43m.\u001b[39;49m\u001b[43m_engine\u001b[49m\u001b[38;5;241;43m.\u001b[39;49m\u001b[43mget_loc\u001b[49m\u001b[43m(\u001b[49m\u001b[43mcasted_key\u001b[49m\u001b[43m)\u001b[49m\n\u001b[1;32m   3806\u001b[0m \u001b[38;5;28;01mexcept\u001b[39;00m \u001b[38;5;167;01mKeyError\u001b[39;00m \u001b[38;5;28;01mas\u001b[39;00m err:\n",
            "File \u001b[0;32mindex.pyx:167\u001b[0m, in \u001b[0;36mpandas._libs.index.IndexEngine.get_loc\u001b[0;34m()\u001b[0m\n",
            "File \u001b[0;32mindex.pyx:196\u001b[0m, in \u001b[0;36mpandas._libs.index.IndexEngine.get_loc\u001b[0;34m()\u001b[0m\n",
            "File \u001b[0;32mpandas/_libs/hashtable_class_helper.pxi:7081\u001b[0m, in \u001b[0;36mpandas._libs.hashtable.PyObjectHashTable.get_item\u001b[0;34m()\u001b[0m\n",
            "File \u001b[0;32mpandas/_libs/hashtable_class_helper.pxi:7089\u001b[0m, in \u001b[0;36mpandas._libs.hashtable.PyObjectHashTable.get_item\u001b[0;34m()\u001b[0m\n",
            "\u001b[0;31mKeyError\u001b[0m: 'duration'",
            "\nThe above exception was the direct cause of the following exception:\n",
            "\u001b[0;31mKeyError\u001b[0m                                  Traceback (most recent call last)",
            "Cell \u001b[0;32mIn[20], line 8\u001b[0m\n\u001b[1;32m      5\u001b[0m df_action_movies \u001b[38;5;241m=\u001b[39m dfdb[dfdb[\u001b[38;5;124m'\u001b[39m\u001b[38;5;124mgenres\u001b[39m\u001b[38;5;124m'\u001b[39m]\u001b[38;5;241m.\u001b[39mstr\u001b[38;5;241m.\u001b[39mcontains(\u001b[38;5;124m'\u001b[39m\u001b[38;5;124mAction\u001b[39m\u001b[38;5;124m'\u001b[39m, case\u001b[38;5;241m=\u001b[39m\u001b[38;5;28;01mFalse\u001b[39;00m)]\n\u001b[1;32m      6\u001b[0m \u001b[38;5;28mprint\u001b[39m(df_action_movies)\n\u001b[0;32m----> 8\u001b[0m df_long_movies \u001b[38;5;241m=\u001b[39m dfdb[\u001b[43mdfdb\u001b[49m\u001b[43m[\u001b[49m\u001b[38;5;124;43m'\u001b[39;49m\u001b[38;5;124;43mduration\u001b[39;49m\u001b[38;5;124;43m'\u001b[39;49m\u001b[43m]\u001b[49m \u001b[38;5;241m>\u001b[39m \u001b[38;5;241m120\u001b[39m]\n\u001b[1;32m      9\u001b[0m \u001b[38;5;28mprint\u001b[39m(df_long_movies)\n",
            "File \u001b[0;32m/anaconda/envs/azureml_py310_sdkv2/lib/python3.10/site-packages/pandas/core/frame.py:4102\u001b[0m, in \u001b[0;36mDataFrame.__getitem__\u001b[0;34m(self, key)\u001b[0m\n\u001b[1;32m   4100\u001b[0m \u001b[38;5;28;01mif\u001b[39;00m \u001b[38;5;28mself\u001b[39m\u001b[38;5;241m.\u001b[39mcolumns\u001b[38;5;241m.\u001b[39mnlevels \u001b[38;5;241m>\u001b[39m \u001b[38;5;241m1\u001b[39m:\n\u001b[1;32m   4101\u001b[0m     \u001b[38;5;28;01mreturn\u001b[39;00m \u001b[38;5;28mself\u001b[39m\u001b[38;5;241m.\u001b[39m_getitem_multilevel(key)\n\u001b[0;32m-> 4102\u001b[0m indexer \u001b[38;5;241m=\u001b[39m \u001b[38;5;28;43mself\u001b[39;49m\u001b[38;5;241;43m.\u001b[39;49m\u001b[43mcolumns\u001b[49m\u001b[38;5;241;43m.\u001b[39;49m\u001b[43mget_loc\u001b[49m\u001b[43m(\u001b[49m\u001b[43mkey\u001b[49m\u001b[43m)\u001b[49m\n\u001b[1;32m   4103\u001b[0m \u001b[38;5;28;01mif\u001b[39;00m is_integer(indexer):\n\u001b[1;32m   4104\u001b[0m     indexer \u001b[38;5;241m=\u001b[39m [indexer]\n",
            "File \u001b[0;32m/anaconda/envs/azureml_py310_sdkv2/lib/python3.10/site-packages/pandas/core/indexes/base.py:3812\u001b[0m, in \u001b[0;36mIndex.get_loc\u001b[0;34m(self, key)\u001b[0m\n\u001b[1;32m   3807\u001b[0m     \u001b[38;5;28;01mif\u001b[39;00m \u001b[38;5;28misinstance\u001b[39m(casted_key, \u001b[38;5;28mslice\u001b[39m) \u001b[38;5;129;01mor\u001b[39;00m (\n\u001b[1;32m   3808\u001b[0m         \u001b[38;5;28misinstance\u001b[39m(casted_key, abc\u001b[38;5;241m.\u001b[39mIterable)\n\u001b[1;32m   3809\u001b[0m         \u001b[38;5;129;01mand\u001b[39;00m \u001b[38;5;28many\u001b[39m(\u001b[38;5;28misinstance\u001b[39m(x, \u001b[38;5;28mslice\u001b[39m) \u001b[38;5;28;01mfor\u001b[39;00m x \u001b[38;5;129;01min\u001b[39;00m casted_key)\n\u001b[1;32m   3810\u001b[0m     ):\n\u001b[1;32m   3811\u001b[0m         \u001b[38;5;28;01mraise\u001b[39;00m InvalidIndexError(key)\n\u001b[0;32m-> 3812\u001b[0m     \u001b[38;5;28;01mraise\u001b[39;00m \u001b[38;5;167;01mKeyError\u001b[39;00m(key) \u001b[38;5;28;01mfrom\u001b[39;00m \u001b[38;5;21;01merr\u001b[39;00m\n\u001b[1;32m   3813\u001b[0m \u001b[38;5;28;01mexcept\u001b[39;00m \u001b[38;5;167;01mTypeError\u001b[39;00m:\n\u001b[1;32m   3814\u001b[0m     \u001b[38;5;66;03m# If we have a listlike key, _check_indexing_error will raise\u001b[39;00m\n\u001b[1;32m   3815\u001b[0m     \u001b[38;5;66;03m#  InvalidIndexError. Otherwise we fall through and re-raise\u001b[39;00m\n\u001b[1;32m   3816\u001b[0m     \u001b[38;5;66;03m#  the TypeError.\u001b[39;00m\n\u001b[1;32m   3817\u001b[0m     \u001b[38;5;28mself\u001b[39m\u001b[38;5;241m.\u001b[39m_check_indexing_error(key)\n",
            "\u001b[0;31mKeyError\u001b[0m: 'duration'"
          ]
        }
      ],
      "execution_count": null,
      "metadata": {}
    },
    {
      "cell_type": "code",
      "source": [
        "df_long_movies = dfdb[dfdb['duration'] > 120]\n",
        "print(df_long_movies)\n"
      ],
      "outputs": [
        {
          "output_type": "error",
          "ename": "KeyError",
          "evalue": "'duration'",
          "traceback": [
            "\u001b[0;31m---------------------------------------------------------------------------\u001b[0m",
            "\u001b[0;31mKeyError\u001b[0m                                  Traceback (most recent call last)",
            "File \u001b[0;32m/anaconda/envs/azureml_py310_sdkv2/lib/python3.10/site-packages/pandas/core/indexes/base.py:3805\u001b[0m, in \u001b[0;36mIndex.get_loc\u001b[0;34m(self, key)\u001b[0m\n\u001b[1;32m   3804\u001b[0m \u001b[38;5;28;01mtry\u001b[39;00m:\n\u001b[0;32m-> 3805\u001b[0m     \u001b[38;5;28;01mreturn\u001b[39;00m \u001b[38;5;28;43mself\u001b[39;49m\u001b[38;5;241;43m.\u001b[39;49m\u001b[43m_engine\u001b[49m\u001b[38;5;241;43m.\u001b[39;49m\u001b[43mget_loc\u001b[49m\u001b[43m(\u001b[49m\u001b[43mcasted_key\u001b[49m\u001b[43m)\u001b[49m\n\u001b[1;32m   3806\u001b[0m \u001b[38;5;28;01mexcept\u001b[39;00m \u001b[38;5;167;01mKeyError\u001b[39;00m \u001b[38;5;28;01mas\u001b[39;00m err:\n",
            "File \u001b[0;32mindex.pyx:167\u001b[0m, in \u001b[0;36mpandas._libs.index.IndexEngine.get_loc\u001b[0;34m()\u001b[0m\n",
            "File \u001b[0;32mindex.pyx:196\u001b[0m, in \u001b[0;36mpandas._libs.index.IndexEngine.get_loc\u001b[0;34m()\u001b[0m\n",
            "File \u001b[0;32mpandas/_libs/hashtable_class_helper.pxi:7081\u001b[0m, in \u001b[0;36mpandas._libs.hashtable.PyObjectHashTable.get_item\u001b[0;34m()\u001b[0m\n",
            "File \u001b[0;32mpandas/_libs/hashtable_class_helper.pxi:7089\u001b[0m, in \u001b[0;36mpandas._libs.hashtable.PyObjectHashTable.get_item\u001b[0;34m()\u001b[0m\n",
            "\u001b[0;31mKeyError\u001b[0m: 'duration'",
            "\nThe above exception was the direct cause of the following exception:\n",
            "\u001b[0;31mKeyError\u001b[0m                                  Traceback (most recent call last)",
            "Cell \u001b[0;32mIn[21], line 1\u001b[0m\n\u001b[0;32m----> 1\u001b[0m df_long_movies \u001b[38;5;241m=\u001b[39m dfdb[\u001b[43mdfdb\u001b[49m\u001b[43m[\u001b[49m\u001b[38;5;124;43m'\u001b[39;49m\u001b[38;5;124;43mduration\u001b[39;49m\u001b[38;5;124;43m'\u001b[39;49m\u001b[43m]\u001b[49m \u001b[38;5;241m>\u001b[39m \u001b[38;5;241m120\u001b[39m]\n\u001b[1;32m      2\u001b[0m \u001b[38;5;28mprint\u001b[39m(df_long_movies)\n",
            "File \u001b[0;32m/anaconda/envs/azureml_py310_sdkv2/lib/python3.10/site-packages/pandas/core/frame.py:4102\u001b[0m, in \u001b[0;36mDataFrame.__getitem__\u001b[0;34m(self, key)\u001b[0m\n\u001b[1;32m   4100\u001b[0m \u001b[38;5;28;01mif\u001b[39;00m \u001b[38;5;28mself\u001b[39m\u001b[38;5;241m.\u001b[39mcolumns\u001b[38;5;241m.\u001b[39mnlevels \u001b[38;5;241m>\u001b[39m \u001b[38;5;241m1\u001b[39m:\n\u001b[1;32m   4101\u001b[0m     \u001b[38;5;28;01mreturn\u001b[39;00m \u001b[38;5;28mself\u001b[39m\u001b[38;5;241m.\u001b[39m_getitem_multilevel(key)\n\u001b[0;32m-> 4102\u001b[0m indexer \u001b[38;5;241m=\u001b[39m \u001b[38;5;28;43mself\u001b[39;49m\u001b[38;5;241;43m.\u001b[39;49m\u001b[43mcolumns\u001b[49m\u001b[38;5;241;43m.\u001b[39;49m\u001b[43mget_loc\u001b[49m\u001b[43m(\u001b[49m\u001b[43mkey\u001b[49m\u001b[43m)\u001b[49m\n\u001b[1;32m   4103\u001b[0m \u001b[38;5;28;01mif\u001b[39;00m is_integer(indexer):\n\u001b[1;32m   4104\u001b[0m     indexer \u001b[38;5;241m=\u001b[39m [indexer]\n",
            "File \u001b[0;32m/anaconda/envs/azureml_py310_sdkv2/lib/python3.10/site-packages/pandas/core/indexes/base.py:3812\u001b[0m, in \u001b[0;36mIndex.get_loc\u001b[0;34m(self, key)\u001b[0m\n\u001b[1;32m   3807\u001b[0m     \u001b[38;5;28;01mif\u001b[39;00m \u001b[38;5;28misinstance\u001b[39m(casted_key, \u001b[38;5;28mslice\u001b[39m) \u001b[38;5;129;01mor\u001b[39;00m (\n\u001b[1;32m   3808\u001b[0m         \u001b[38;5;28misinstance\u001b[39m(casted_key, abc\u001b[38;5;241m.\u001b[39mIterable)\n\u001b[1;32m   3809\u001b[0m         \u001b[38;5;129;01mand\u001b[39;00m \u001b[38;5;28many\u001b[39m(\u001b[38;5;28misinstance\u001b[39m(x, \u001b[38;5;28mslice\u001b[39m) \u001b[38;5;28;01mfor\u001b[39;00m x \u001b[38;5;129;01min\u001b[39;00m casted_key)\n\u001b[1;32m   3810\u001b[0m     ):\n\u001b[1;32m   3811\u001b[0m         \u001b[38;5;28;01mraise\u001b[39;00m InvalidIndexError(key)\n\u001b[0;32m-> 3812\u001b[0m     \u001b[38;5;28;01mraise\u001b[39;00m \u001b[38;5;167;01mKeyError\u001b[39;00m(key) \u001b[38;5;28;01mfrom\u001b[39;00m \u001b[38;5;21;01merr\u001b[39;00m\n\u001b[1;32m   3813\u001b[0m \u001b[38;5;28;01mexcept\u001b[39;00m \u001b[38;5;167;01mTypeError\u001b[39;00m:\n\u001b[1;32m   3814\u001b[0m     \u001b[38;5;66;03m# If we have a listlike key, _check_indexing_error will raise\u001b[39;00m\n\u001b[1;32m   3815\u001b[0m     \u001b[38;5;66;03m#  InvalidIndexError. Otherwise we fall through and re-raise\u001b[39;00m\n\u001b[1;32m   3816\u001b[0m     \u001b[38;5;66;03m#  the TypeError.\u001b[39;00m\n\u001b[1;32m   3817\u001b[0m     \u001b[38;5;28mself\u001b[39m\u001b[38;5;241m.\u001b[39m_check_indexing_error(key)\n",
            "\u001b[0;31mKeyError\u001b[0m: 'duration'"
          ]
        }
      ],
      "execution_count": null,
      "metadata": {}
    },
    {
      "cell_type": "code",
      "source": [
        "print(\"Columnas disponibles en dfdb:\", dfdb.columns.tolist())\n"
      ],
      "outputs": [
        {
          "output_type": "stream",
          "name": "stdout",
          "text": "Columnas disponibles en dfdb: ['title', 'movieId', 'genres', 'year', 'genre_list']\n"
        }
      ],
      "execution_count": 22,
      "metadata": {}
    },
    {
      "cell_type": "code",
      "source": [
        "genre_counts = dfdb['genres'].value_counts()\n",
        "print(genre_counts)\n",
        "\n",
        "df_avg_duration = dfdb.groupby('genres')['duration'].mean()\n",
        "print(df_avg_duration)\n"
      ],
      "outputs": [
        {
          "output_type": "stream",
          "name": "stdout",
          "text": "genres\nDrama                                                  1053\nComedy                                                  946\nComedy|Drama                                            435\nComedy|Romance                                          363\nDrama|Romance                                           348\n                                                       ... \nAction|Crime|Horror|Mystery|Thriller                      1\nAdventure|Animation|Children|Comedy|Musical|Romance       1\nAction|Adventure|Animation|Comedy|Crime|Mystery           1\nChildren|Comedy|Fantasy|Sci-Fi                            1\nAction|Animation|Comedy|Fantasy                           1\nName: count, Length: 951, dtype: int64\n"
        },
        {
          "output_type": "error",
          "ename": "KeyError",
          "evalue": "'Column not found: duration'",
          "traceback": [
            "\u001b[0;31m---------------------------------------------------------------------------\u001b[0m",
            "\u001b[0;31mKeyError\u001b[0m                                  Traceback (most recent call last)",
            "Cell \u001b[0;32mIn[23], line 4\u001b[0m\n\u001b[1;32m      1\u001b[0m genre_counts \u001b[38;5;241m=\u001b[39m dfdb[\u001b[38;5;124m'\u001b[39m\u001b[38;5;124mgenres\u001b[39m\u001b[38;5;124m'\u001b[39m]\u001b[38;5;241m.\u001b[39mvalue_counts()\n\u001b[1;32m      2\u001b[0m \u001b[38;5;28mprint\u001b[39m(genre_counts)\n\u001b[0;32m----> 4\u001b[0m df_avg_duration \u001b[38;5;241m=\u001b[39m \u001b[43mdfdb\u001b[49m\u001b[38;5;241;43m.\u001b[39;49m\u001b[43mgroupby\u001b[49m\u001b[43m(\u001b[49m\u001b[38;5;124;43m'\u001b[39;49m\u001b[38;5;124;43mgenres\u001b[39;49m\u001b[38;5;124;43m'\u001b[39;49m\u001b[43m)\u001b[49m\u001b[43m[\u001b[49m\u001b[38;5;124;43m'\u001b[39;49m\u001b[38;5;124;43mduration\u001b[39;49m\u001b[38;5;124;43m'\u001b[39;49m\u001b[43m]\u001b[49m\u001b[38;5;241m.\u001b[39mmean()\n\u001b[1;32m      5\u001b[0m \u001b[38;5;28mprint\u001b[39m(df_avg_duration)\n",
            "File \u001b[0;32m/anaconda/envs/azureml_py310_sdkv2/lib/python3.10/site-packages/pandas/core/groupby/generic.py:1951\u001b[0m, in \u001b[0;36mDataFrameGroupBy.__getitem__\u001b[0;34m(self, key)\u001b[0m\n\u001b[1;32m   1944\u001b[0m \u001b[38;5;28;01mif\u001b[39;00m \u001b[38;5;28misinstance\u001b[39m(key, \u001b[38;5;28mtuple\u001b[39m) \u001b[38;5;129;01mand\u001b[39;00m \u001b[38;5;28mlen\u001b[39m(key) \u001b[38;5;241m>\u001b[39m \u001b[38;5;241m1\u001b[39m:\n\u001b[1;32m   1945\u001b[0m     \u001b[38;5;66;03m# if len == 1, then it becomes a SeriesGroupBy and this is actually\u001b[39;00m\n\u001b[1;32m   1946\u001b[0m     \u001b[38;5;66;03m# valid syntax, so don't raise\u001b[39;00m\n\u001b[1;32m   1947\u001b[0m     \u001b[38;5;28;01mraise\u001b[39;00m \u001b[38;5;167;01mValueError\u001b[39;00m(\n\u001b[1;32m   1948\u001b[0m         \u001b[38;5;124m\"\u001b[39m\u001b[38;5;124mCannot subset columns with a tuple with more than one element. \u001b[39m\u001b[38;5;124m\"\u001b[39m\n\u001b[1;32m   1949\u001b[0m         \u001b[38;5;124m\"\u001b[39m\u001b[38;5;124mUse a list instead.\u001b[39m\u001b[38;5;124m\"\u001b[39m\n\u001b[1;32m   1950\u001b[0m     )\n\u001b[0;32m-> 1951\u001b[0m \u001b[38;5;28;01mreturn\u001b[39;00m \u001b[38;5;28;43msuper\u001b[39;49m\u001b[43m(\u001b[49m\u001b[43m)\u001b[49m\u001b[38;5;241;43m.\u001b[39;49m\u001b[38;5;21;43m__getitem__\u001b[39;49m\u001b[43m(\u001b[49m\u001b[43mkey\u001b[49m\u001b[43m)\u001b[49m\n",
            "File \u001b[0;32m/anaconda/envs/azureml_py310_sdkv2/lib/python3.10/site-packages/pandas/core/base.py:244\u001b[0m, in \u001b[0;36mSelectionMixin.__getitem__\u001b[0;34m(self, key)\u001b[0m\n\u001b[1;32m    242\u001b[0m \u001b[38;5;28;01melse\u001b[39;00m:\n\u001b[1;32m    243\u001b[0m     \u001b[38;5;28;01mif\u001b[39;00m key \u001b[38;5;129;01mnot\u001b[39;00m \u001b[38;5;129;01min\u001b[39;00m \u001b[38;5;28mself\u001b[39m\u001b[38;5;241m.\u001b[39mobj:\n\u001b[0;32m--> 244\u001b[0m         \u001b[38;5;28;01mraise\u001b[39;00m \u001b[38;5;167;01mKeyError\u001b[39;00m(\u001b[38;5;124mf\u001b[39m\u001b[38;5;124m\"\u001b[39m\u001b[38;5;124mColumn not found: \u001b[39m\u001b[38;5;132;01m{\u001b[39;00mkey\u001b[38;5;132;01m}\u001b[39;00m\u001b[38;5;124m\"\u001b[39m)\n\u001b[1;32m    245\u001b[0m     ndim \u001b[38;5;241m=\u001b[39m \u001b[38;5;28mself\u001b[39m\u001b[38;5;241m.\u001b[39mobj[key]\u001b[38;5;241m.\u001b[39mndim\n\u001b[1;32m    246\u001b[0m     \u001b[38;5;28;01mreturn\u001b[39;00m \u001b[38;5;28mself\u001b[39m\u001b[38;5;241m.\u001b[39m_gotitem(key, ndim\u001b[38;5;241m=\u001b[39mndim)\n",
            "\u001b[0;31mKeyError\u001b[0m: 'Column not found: duration'"
          ]
        }
      ],
      "execution_count": 23,
      "metadata": {}
    },
    {
      "cell_type": "code",
      "source": [
        "dfdb['decade'] = (dfdb['year'] // 10) * 10\n",
        "movies_by_decade = dfdb.groupby('decade').size()\n",
        "print(movies_by_decade)\n",
        "\n",
        "df_sorted = dfdb.sort_values(by='title', ascending=True)\n",
        "print(df_sorted)\n",
        "\n",
        "df_sorted_by_year = dfdb.sort_values(by='year', ascending=False)\n",
        "print(df_sorted_by_year)\n"
      ],
      "outputs": [
        {
          "output_type": "stream",
          "name": "stdout",
          "text": "decade\n1900.0       3\n1910.0       7\n1920.0      37\n1930.0     136\n1940.0     197\n1950.0     279\n1960.0     401\n1970.0     500\n1980.0    1176\n1990.0    2211\n2000.0    2846\n2010.0    1931\ndtype: int64\n                                          title  movieId  \\\n8600                                 '71 (2014)   117867   \n8014    'Hellboy': The Seeds of Creation (2004)    97757   \n5528                     'Round Midnight (1986)    26564   \n5690                        'Salem's Lot (2004)    27751   \n614                   'Til There Was You (1997)      779   \n...                                         ...      ...   \n1961                            eXistenZ (1999)     2600   \n3920                                 xXx (2002)     5507   \n5882             xXx: State of the Union (2005)    33158   \n1866                      ¡Three Amigos! (1986)     2478   \n3947  À nous la liberté (Freedom for Us) (1931)     5560   \n\n                                           genres    year  \\\n8600                    Action|Drama|Thriller|War  2014.0   \n8014  Action|Adventure|Comedy|Documentary|Fantasy  2004.0   \n5528                                Drama|Musical  1986.0   \n5690                Drama|Horror|Mystery|Thriller  2004.0   \n614                                 Drama|Romance  1997.0   \n...                                           ...     ...   \n1961                       Action|Sci-Fi|Thriller  1999.0   \n3920                        Action|Crime|Thriller  2002.0   \n5882                        Action|Crime|Thriller  2005.0   \n1866                               Comedy|Western  1986.0   \n3947                               Comedy|Musical  1931.0   \n\n                                             genre_list  decade  \n8600                     [Action, Drama, Thriller, War]  2010.0  \n8014  [Action, Adventure, Comedy, Documentary, Fantasy]  2000.0  \n5528                                   [Drama, Musical]  1980.0  \n5690                 [Drama, Horror, Mystery, Thriller]  2000.0  \n614                                    [Drama, Romance]  1990.0  \n...                                                 ...     ...  \n1961                         [Action, Sci-Fi, Thriller]  1990.0  \n3920                          [Action, Crime, Thriller]  2000.0  \n5882                          [Action, Crime, Thriller]  2000.0  \n1866                                  [Comedy, Western]  1980.0  \n3947                                  [Comedy, Musical]  1930.0  \n\n[9737 rows x 6 columns]\n                                  title  movieId  \\\n9681                  Game Night (2018)   183611   \n9697           A Wrinkle in Time (2018)   184987   \n9711   Won't You Be My Neighbor? (2018)   187717   \n9710     Solo: A Star Wars Story (2018)   187595   \n9709                  Deadpool 2 (2018)   187593   \n...                                 ...      ...   \n9514                             Cosmos   171495   \n9515            Maria Bamford: Old Baby   171631   \n9518  Death Note: Desu nôto (2006–2007)   171749   \n9525                  Generation Iron 2   171891   \n9611                       Black Mirror   176601   \n\n                                 genres    year  \\\n9681         Action|Comedy|Crime|Horror  2018.0   \n9697  Adventure|Children|Fantasy|Sci-Fi  2018.0   \n9711                        Documentary  2018.0   \n9710   Action|Adventure|Children|Sci-Fi  2018.0   \n9709               Action|Comedy|Sci-Fi  2018.0   \n...                                 ...     ...   \n9514                 (no genres listed)     NaN   \n9515                 (no genres listed)     NaN   \n9518                 (no genres listed)     NaN   \n9525                 (no genres listed)     NaN   \n9611                 (no genres listed)     NaN   \n\n                                  genre_list  decade  \n9681         [Action, Comedy, Crime, Horror]  2010.0  \n9697  [Adventure, Children, Fantasy, Sci-Fi]  2010.0  \n9711                           [Documentary]  2010.0  \n9710   [Action, Adventure, Children, Sci-Fi]  2010.0  \n9709                [Action, Comedy, Sci-Fi]  2010.0  \n...                                      ...     ...  \n9514                    [(no genres listed)]     NaN  \n9515                    [(no genres listed)]     NaN  \n9518                    [(no genres listed)]     NaN  \n9525                    [(no genres listed)]     NaN  \n9611                    [(no genres listed)]     NaN  \n\n[9737 rows x 6 columns]\n"
        }
      ],
      "execution_count": 24,
      "metadata": {}
    },
    {
      "cell_type": "code",
      "source": [
        "df_sorted_by_year = dfdb.sort_values(by='year', ascending=False)\n",
        "print(df_sorted_by_year)\n",
        "\n",
        "df_oldest_movies = dfdb.nsmallest(10, 'year')\n",
        "print(df_oldest_movies)\n"
      ],
      "outputs": [
        {
          "output_type": "stream",
          "name": "stdout",
          "text": "                                  title  movieId  \\\n9681                  Game Night (2018)   183611   \n9697           A Wrinkle in Time (2018)   184987   \n9711   Won't You Be My Neighbor? (2018)   187717   \n9710     Solo: A Star Wars Story (2018)   187595   \n9709                  Deadpool 2 (2018)   187593   \n...                                 ...      ...   \n9514                             Cosmos   171495   \n9515            Maria Bamford: Old Baby   171631   \n9518  Death Note: Desu nôto (2006–2007)   171749   \n9525                  Generation Iron 2   171891   \n9611                       Black Mirror   176601   \n\n                                 genres    year  \\\n9681         Action|Comedy|Crime|Horror  2018.0   \n9697  Adventure|Children|Fantasy|Sci-Fi  2018.0   \n9711                        Documentary  2018.0   \n9710   Action|Adventure|Children|Sci-Fi  2018.0   \n9709               Action|Comedy|Sci-Fi  2018.0   \n...                                 ...     ...   \n9514                 (no genres listed)     NaN   \n9515                 (no genres listed)     NaN   \n9518                 (no genres listed)     NaN   \n9525                 (no genres listed)     NaN   \n9611                 (no genres listed)     NaN   \n\n                                  genre_list  decade  \n9681         [Action, Comedy, Crime, Horror]  2010.0  \n9697  [Adventure, Children, Fantasy, Sci-Fi]  2010.0  \n9711                           [Documentary]  2010.0  \n9710   [Action, Adventure, Children, Sci-Fi]  2010.0  \n9709                [Action, Comedy, Sci-Fi]  2010.0  \n...                                      ...     ...  \n9514                    [(no genres listed)]     NaN  \n9515                    [(no genres listed)]     NaN  \n9518                    [(no genres listed)]     NaN  \n9525                    [(no genres listed)]     NaN  \n9611                    [(no genres listed)]     NaN  \n\n[9737 rows x 6 columns]\n                                                  title  movieId  \\\n5868  Trip to the Moon, A (Voyage dans la lune, Le) ...    32898   \n6355                     The Great Train Robbery (1903)    49389   \n9020                          The Electric Hotel (1908)   140541   \n4743                      Birth of a Nation, The (1915)     7065   \n4846  Intolerance: Love's Struggle Throughout the Ag...     7243   \n6863                20,000 Leagues Under the Sea (1916)    62383   \n7210                                  Snow White (1916)    72921   \n8170                                   Rink, The (1916)   102747   \n5217                              Immigrant, The (1917)     8511   \n2363                             Daddy Long Legs (1919)     3132   \n\n                               genres    year  \\\n5868  Action|Adventure|Fantasy|Sci-Fi  1902.0   \n6355                    Crime|Western  1903.0   \n9020          Animation|Comedy|Sci-Fi  1908.0   \n4743                        Drama|War  1915.0   \n4846                            Drama  1916.0   \n6863          Action|Adventure|Sci-Fi  1916.0   \n7210                  Fantasy|Romance  1916.0   \n8170                           Comedy  1916.0   \n5217                           Comedy  1917.0   \n2363                     Comedy|Drama  1919.0   \n\n                                genre_list  decade  \n5868  [Action, Adventure, Fantasy, Sci-Fi]  1900.0  \n6355                      [Crime, Western]  1900.0  \n9020           [Animation, Comedy, Sci-Fi]  1900.0  \n4743                          [Drama, War]  1910.0  \n4846                               [Drama]  1910.0  \n6863           [Action, Adventure, Sci-Fi]  1910.0  \n7210                    [Fantasy, Romance]  1910.0  \n8170                              [Comedy]  1910.0  \n5217                              [Comedy]  1910.0  \n2363                       [Comedy, Drama]  1910.0  \n"
        }
      ],
      "execution_count": 25,
      "metadata": {}
    },
    {
      "cell_type": "code",
      "source": [
        "df_oldest_movies = dfdb.nsmallest(10, 'year')\n",
        "print(df_oldest_movies)\n"
      ],
      "outputs": [
        {
          "output_type": "stream",
          "name": "stdout",
          "text": "                                                  title  movieId  \\\n5868  Trip to the Moon, A (Voyage dans la lune, Le) ...    32898   \n6355                     The Great Train Robbery (1903)    49389   \n9020                          The Electric Hotel (1908)   140541   \n4743                      Birth of a Nation, The (1915)     7065   \n4846  Intolerance: Love's Struggle Throughout the Ag...     7243   \n6863                20,000 Leagues Under the Sea (1916)    62383   \n7210                                  Snow White (1916)    72921   \n8170                                   Rink, The (1916)   102747   \n5217                              Immigrant, The (1917)     8511   \n2363                             Daddy Long Legs (1919)     3132   \n\n                               genres    year  \\\n5868  Action|Adventure|Fantasy|Sci-Fi  1902.0   \n6355                    Crime|Western  1903.0   \n9020          Animation|Comedy|Sci-Fi  1908.0   \n4743                        Drama|War  1915.0   \n4846                            Drama  1916.0   \n6863          Action|Adventure|Sci-Fi  1916.0   \n7210                  Fantasy|Romance  1916.0   \n8170                           Comedy  1916.0   \n5217                           Comedy  1917.0   \n2363                     Comedy|Drama  1919.0   \n\n                                genre_list  decade  \n5868  [Action, Adventure, Fantasy, Sci-Fi]  1900.0  \n6355                      [Crime, Western]  1900.0  \n9020           [Animation, Comedy, Sci-Fi]  1900.0  \n4743                          [Drama, War]  1910.0  \n4846                               [Drama]  1910.0  \n6863           [Action, Adventure, Sci-Fi]  1910.0  \n7210                    [Fantasy, Romance]  1910.0  \n8170                              [Comedy]  1910.0  \n5217                              [Comedy]  1910.0  \n2363                       [Comedy, Drama]  1910.0  \n"
        }
      ],
      "execution_count": 26,
      "metadata": {}
    },
    {
      "cell_type": "code",
      "source": [
        "import sqlite3\n",
        "import pandas as pd\n",
        "\n",
        "# Ruta absoluta detectada\n",
        "db_path = \"/mnt/batch/tasks/shared/LS_root/mounts/clusters/aurelio-parra/code/Users/aurelio.sosa.netmind/Pandas/database.db\"\n",
        "\n",
        "# Intentar la conexión con la ruta absoluta\n",
        "try:\n",
        "    with sqlite3.connect(db_path) as con_sqlt:\n",
        "        dfdb = pd.read_sql_query(\"SELECT * FROM movies\", con_sqlt)\n",
        "        df_ratings = pd.read_sql_query(\"SELECT * FROM ratings\", con_sqlt)\n",
        "        df_combined = pd.merge(dfdb, df_ratings, on='movieId', how='inner')\n",
        "    print(dfdb.head()) # Mostrar las primeras filas de la tabla\n",
        "except Exception as e:\n",
        "    print(\"Error al conectar a la base de datos:\", e)\n",
        "    print(df_combined.head())\n",
        "\n"
      ],
      "outputs": [
        {
          "output_type": "stream",
          "name": "stdout",
          "text": "Error al conectar a la base de datos: Execution failed on sql 'SELECT * FROM ratings': no such table: ratings\n"
        },
        {
          "output_type": "error",
          "ename": "NameError",
          "evalue": "name 'df_combined' is not defined",
          "traceback": [
            "\u001b[0;31m---------------------------------------------------------------------------\u001b[0m",
            "\u001b[0;31mOperationalError\u001b[0m                          Traceback (most recent call last)",
            "File \u001b[0;32m/anaconda/envs/azureml_py310_sdkv2/lib/python3.10/site-packages/pandas/io/sql.py:2674\u001b[0m, in \u001b[0;36mSQLiteDatabase.execute\u001b[0;34m(self, sql, params)\u001b[0m\n\u001b[1;32m   2673\u001b[0m \u001b[38;5;28;01mtry\u001b[39;00m:\n\u001b[0;32m-> 2674\u001b[0m     \u001b[43mcur\u001b[49m\u001b[38;5;241;43m.\u001b[39;49m\u001b[43mexecute\u001b[49m\u001b[43m(\u001b[49m\u001b[43msql\u001b[49m\u001b[43m,\u001b[49m\u001b[43m \u001b[49m\u001b[38;5;241;43m*\u001b[39;49m\u001b[43margs\u001b[49m\u001b[43m)\u001b[49m\n\u001b[1;32m   2675\u001b[0m     \u001b[38;5;28;01mreturn\u001b[39;00m cur\n",
            "\u001b[0;31mOperationalError\u001b[0m: no such table: ratings",
            "\nThe above exception was the direct cause of the following exception:\n",
            "\u001b[0;31mDatabaseError\u001b[0m                             Traceback (most recent call last)",
            "Cell \u001b[0;32mIn[27], line 11\u001b[0m\n\u001b[1;32m     10\u001b[0m dfdb \u001b[38;5;241m=\u001b[39m pd\u001b[38;5;241m.\u001b[39mread_sql_query(\u001b[38;5;124m\"\u001b[39m\u001b[38;5;124mSELECT * FROM movies\u001b[39m\u001b[38;5;124m\"\u001b[39m, con_sqlt)\n\u001b[0;32m---> 11\u001b[0m df_ratings \u001b[38;5;241m=\u001b[39m \u001b[43mpd\u001b[49m\u001b[38;5;241;43m.\u001b[39;49m\u001b[43mread_sql_query\u001b[49m\u001b[43m(\u001b[49m\u001b[38;5;124;43m\"\u001b[39;49m\u001b[38;5;124;43mSELECT * FROM ratings\u001b[39;49m\u001b[38;5;124;43m\"\u001b[39;49m\u001b[43m,\u001b[49m\u001b[43m \u001b[49m\u001b[43mcon_sqlt\u001b[49m\u001b[43m)\u001b[49m\n\u001b[1;32m     12\u001b[0m df_combined \u001b[38;5;241m=\u001b[39m pd\u001b[38;5;241m.\u001b[39mmerge(dfdb, df_ratings, on\u001b[38;5;241m=\u001b[39m\u001b[38;5;124m'\u001b[39m\u001b[38;5;124mmovieId\u001b[39m\u001b[38;5;124m'\u001b[39m, how\u001b[38;5;241m=\u001b[39m\u001b[38;5;124m'\u001b[39m\u001b[38;5;124minner\u001b[39m\u001b[38;5;124m'\u001b[39m)\n",
            "File \u001b[0;32m/anaconda/envs/azureml_py310_sdkv2/lib/python3.10/site-packages/pandas/io/sql.py:526\u001b[0m, in \u001b[0;36mread_sql_query\u001b[0;34m(sql, con, index_col, coerce_float, params, parse_dates, chunksize, dtype, dtype_backend)\u001b[0m\n\u001b[1;32m    525\u001b[0m \u001b[38;5;28;01mwith\u001b[39;00m pandasSQL_builder(con) \u001b[38;5;28;01mas\u001b[39;00m pandas_sql:\n\u001b[0;32m--> 526\u001b[0m     \u001b[38;5;28;01mreturn\u001b[39;00m \u001b[43mpandas_sql\u001b[49m\u001b[38;5;241;43m.\u001b[39;49m\u001b[43mread_query\u001b[49m\u001b[43m(\u001b[49m\n\u001b[1;32m    527\u001b[0m \u001b[43m        \u001b[49m\u001b[43msql\u001b[49m\u001b[43m,\u001b[49m\n\u001b[1;32m    528\u001b[0m \u001b[43m        \u001b[49m\u001b[43mindex_col\u001b[49m\u001b[38;5;241;43m=\u001b[39;49m\u001b[43mindex_col\u001b[49m\u001b[43m,\u001b[49m\n\u001b[1;32m    529\u001b[0m \u001b[43m        \u001b[49m\u001b[43mparams\u001b[49m\u001b[38;5;241;43m=\u001b[39;49m\u001b[43mparams\u001b[49m\u001b[43m,\u001b[49m\n\u001b[1;32m    530\u001b[0m \u001b[43m        \u001b[49m\u001b[43mcoerce_float\u001b[49m\u001b[38;5;241;43m=\u001b[39;49m\u001b[43mcoerce_float\u001b[49m\u001b[43m,\u001b[49m\n\u001b[1;32m    531\u001b[0m \u001b[43m        \u001b[49m\u001b[43mparse_dates\u001b[49m\u001b[38;5;241;43m=\u001b[39;49m\u001b[43mparse_dates\u001b[49m\u001b[43m,\u001b[49m\n\u001b[1;32m    532\u001b[0m \u001b[43m        \u001b[49m\u001b[43mchunksize\u001b[49m\u001b[38;5;241;43m=\u001b[39;49m\u001b[43mchunksize\u001b[49m\u001b[43m,\u001b[49m\n\u001b[1;32m    533\u001b[0m \u001b[43m        \u001b[49m\u001b[43mdtype\u001b[49m\u001b[38;5;241;43m=\u001b[39;49m\u001b[43mdtype\u001b[49m\u001b[43m,\u001b[49m\n\u001b[1;32m    534\u001b[0m \u001b[43m        \u001b[49m\u001b[43mdtype_backend\u001b[49m\u001b[38;5;241;43m=\u001b[39;49m\u001b[43mdtype_backend\u001b[49m\u001b[43m,\u001b[49m\n\u001b[1;32m    535\u001b[0m \u001b[43m    \u001b[49m\u001b[43m)\u001b[49m\n",
            "File \u001b[0;32m/anaconda/envs/azureml_py310_sdkv2/lib/python3.10/site-packages/pandas/io/sql.py:2738\u001b[0m, in \u001b[0;36mSQLiteDatabase.read_query\u001b[0;34m(self, sql, index_col, coerce_float, parse_dates, params, chunksize, dtype, dtype_backend)\u001b[0m\n\u001b[1;32m   2727\u001b[0m \u001b[38;5;28;01mdef\u001b[39;00m \u001b[38;5;21mread_query\u001b[39m(\n\u001b[1;32m   2728\u001b[0m     \u001b[38;5;28mself\u001b[39m,\n\u001b[1;32m   2729\u001b[0m     sql,\n\u001b[0;32m   (...)\u001b[0m\n\u001b[1;32m   2736\u001b[0m     dtype_backend: DtypeBackend \u001b[38;5;241m|\u001b[39m Literal[\u001b[38;5;124m\"\u001b[39m\u001b[38;5;124mnumpy\u001b[39m\u001b[38;5;124m\"\u001b[39m] \u001b[38;5;241m=\u001b[39m \u001b[38;5;124m\"\u001b[39m\u001b[38;5;124mnumpy\u001b[39m\u001b[38;5;124m\"\u001b[39m,\n\u001b[1;32m   2737\u001b[0m ) \u001b[38;5;241m-\u001b[39m\u001b[38;5;241m>\u001b[39m DataFrame \u001b[38;5;241m|\u001b[39m Iterator[DataFrame]:\n\u001b[0;32m-> 2738\u001b[0m     cursor \u001b[38;5;241m=\u001b[39m \u001b[38;5;28;43mself\u001b[39;49m\u001b[38;5;241;43m.\u001b[39;49m\u001b[43mexecute\u001b[49m\u001b[43m(\u001b[49m\u001b[43msql\u001b[49m\u001b[43m,\u001b[49m\u001b[43m \u001b[49m\u001b[43mparams\u001b[49m\u001b[43m)\u001b[49m\n\u001b[1;32m   2739\u001b[0m     columns \u001b[38;5;241m=\u001b[39m [col_desc[\u001b[38;5;241m0\u001b[39m] \u001b[38;5;28;01mfor\u001b[39;00m col_desc \u001b[38;5;129;01min\u001b[39;00m cursor\u001b[38;5;241m.\u001b[39mdescription]\n",
            "File \u001b[0;32m/anaconda/envs/azureml_py310_sdkv2/lib/python3.10/site-packages/pandas/io/sql.py:2686\u001b[0m, in \u001b[0;36mSQLiteDatabase.execute\u001b[0;34m(self, sql, params)\u001b[0m\n\u001b[1;32m   2685\u001b[0m ex \u001b[38;5;241m=\u001b[39m DatabaseError(\u001b[38;5;124mf\u001b[39m\u001b[38;5;124m\"\u001b[39m\u001b[38;5;124mExecution failed on sql \u001b[39m\u001b[38;5;124m'\u001b[39m\u001b[38;5;132;01m{\u001b[39;00msql\u001b[38;5;132;01m}\u001b[39;00m\u001b[38;5;124m'\u001b[39m\u001b[38;5;124m: \u001b[39m\u001b[38;5;132;01m{\u001b[39;00mexc\u001b[38;5;132;01m}\u001b[39;00m\u001b[38;5;124m\"\u001b[39m)\n\u001b[0;32m-> 2686\u001b[0m \u001b[38;5;28;01mraise\u001b[39;00m ex \u001b[38;5;28;01mfrom\u001b[39;00m \u001b[38;5;21;01mexc\u001b[39;00m\n",
            "\u001b[0;31mDatabaseError\u001b[0m: Execution failed on sql 'SELECT * FROM ratings': no such table: ratings",
            "\nDuring handling of the above exception, another exception occurred:\n",
            "\u001b[0;31mNameError\u001b[0m                                 Traceback (most recent call last)",
            "Cell \u001b[0;32mIn[27], line 16\u001b[0m\n\u001b[1;32m     14\u001b[0m \u001b[38;5;28;01mexcept\u001b[39;00m \u001b[38;5;167;01mException\u001b[39;00m \u001b[38;5;28;01mas\u001b[39;00m e:\n\u001b[1;32m     15\u001b[0m     \u001b[38;5;28mprint\u001b[39m(\u001b[38;5;124m\"\u001b[39m\u001b[38;5;124mError al conectar a la base de datos:\u001b[39m\u001b[38;5;124m\"\u001b[39m, e)\n\u001b[0;32m---> 16\u001b[0m     \u001b[38;5;28mprint\u001b[39m(\u001b[43mdf_combined\u001b[49m\u001b[38;5;241m.\u001b[39mhead())\n",
            "\u001b[0;31mNameError\u001b[0m: name 'df_combined' is not defined"
          ]
        }
      ],
      "execution_count": 27,
      "metadata": {}
    },
    {
      "cell_type": "code",
      "source": [
        "df_ratings = pd.read_sql_query(\"SELECT * FROM ratings\", conn)\n",
        "df_combined = pd.merge(dfdb, df_ratings, on='movieId', how='inner')\n",
        "print(df_combined.head())\n",
        "\n",
        "\n",
        "\n"
      ],
      "outputs": [
        {
          "output_type": "error",
          "ename": "NameError",
          "evalue": "name 'conn' is not defined",
          "traceback": [
            "\u001b[0;31m---------------------------------------------------------------------------\u001b[0m",
            "\u001b[0;31mNameError\u001b[0m                                 Traceback (most recent call last)",
            "Cell \u001b[0;32mIn[28], line 1\u001b[0m\n\u001b[0;32m----> 1\u001b[0m df_ratings \u001b[38;5;241m=\u001b[39m pd\u001b[38;5;241m.\u001b[39mread_sql_query(\u001b[38;5;124m\"\u001b[39m\u001b[38;5;124mSELECT * FROM ratings\u001b[39m\u001b[38;5;124m\"\u001b[39m, \u001b[43mconn\u001b[49m)\n\u001b[1;32m      2\u001b[0m df_combined \u001b[38;5;241m=\u001b[39m pd\u001b[38;5;241m.\u001b[39mmerge(dfdb, df_ratings, on\u001b[38;5;241m=\u001b[39m\u001b[38;5;124m'\u001b[39m\u001b[38;5;124mmovieId\u001b[39m\u001b[38;5;124m'\u001b[39m, how\u001b[38;5;241m=\u001b[39m\u001b[38;5;124m'\u001b[39m\u001b[38;5;124minner\u001b[39m\u001b[38;5;124m'\u001b[39m)\n\u001b[1;32m      3\u001b[0m \u001b[38;5;28mprint\u001b[39m(df_combined\u001b[38;5;241m.\u001b[39mhead())\n",
            "\u001b[0;31mNameError\u001b[0m: name 'conn' is not defined"
          ]
        }
      ],
      "execution_count": 28,
      "metadata": {}
    },
    {
      "cell_type": "code",
      "source": [
        "df_combined_left = pd.merge(dfdb, df_ratings, on='movieId', how='left')\n",
        "print(df_combined_left.head())\n"
      ],
      "outputs": [
        {
          "output_type": "error",
          "ename": "NameError",
          "evalue": "name 'df_ratings' is not defined",
          "traceback": [
            "\u001b[0;31m---------------------------------------------------------------------------\u001b[0m",
            "\u001b[0;31mNameError\u001b[0m                                 Traceback (most recent call last)",
            "Cell \u001b[0;32mIn[29], line 1\u001b[0m\n\u001b[0;32m----> 1\u001b[0m df_combined_left \u001b[38;5;241m=\u001b[39m pd\u001b[38;5;241m.\u001b[39mmerge(dfdb, \u001b[43mdf_ratings\u001b[49m, on\u001b[38;5;241m=\u001b[39m\u001b[38;5;124m'\u001b[39m\u001b[38;5;124mmovieId\u001b[39m\u001b[38;5;124m'\u001b[39m, how\u001b[38;5;241m=\u001b[39m\u001b[38;5;124m'\u001b[39m\u001b[38;5;124mleft\u001b[39m\u001b[38;5;124m'\u001b[39m)\n\u001b[1;32m      2\u001b[0m \u001b[38;5;28mprint\u001b[39m(df_combined_left\u001b[38;5;241m.\u001b[39mhead())\n",
            "\u001b[0;31mNameError\u001b[0m: name 'df_ratings' is not defined"
          ]
        }
      ],
      "execution_count": 29,
      "metadata": {}
    },
    {
      "cell_type": "code",
      "source": [
        "dfdb['year'] = dfdb['title'].str.extract(r'\\((\\d{4})\\)')\n",
        "dfdb['year'] = dfdb['year'].astype(float)\n",
        "\n",
        "\n"
      ],
      "outputs": [],
      "execution_count": 30,
      "metadata": {}
    },
    {
      "cell_type": "code",
      "source": [
        "dfdb['is_recent'] = dfdb['year'] > 2010\n",
        "print(dfdb[['title', 'is_recent']])"
      ],
      "outputs": [
        {
          "output_type": "stream",
          "name": "stdout",
          "text": "                                          title  is_recent\n0                              Toy Story (1995)      False\n1                                Jumanji (1995)      False\n2                       Grumpier Old Men (1995)      False\n3                      Waiting to Exhale (1995)      False\n4            Father of the Bride Part II (1995)      False\n...                                         ...        ...\n9737  Black Butler: Book of the Atlantic (2017)       True\n9738               No Game No Life: Zero (2017)       True\n9739                               Flint (2017)       True\n9740        Bungo Stray Dogs: Dead Apple (2018)       True\n9741        Andrew Dice Clay: Dice Rules (1991)      False\n\n[9742 rows x 2 columns]\n"
        }
      ],
      "execution_count": 31,
      "metadata": {}
    },
    {
      "cell_type": "code",
      "source": [
        "def categorize_year(year):\n",
        "    if year >= 2000:\n",
        "        return 'Moderna'\n",
        "    elif year >= 1980:\n",
        "        return 'Clásica'\n",
        "    else:\n",
        "        return 'Antigua'\n",
        "\n",
        "dfdb['category'] = dfdb['year'].apply(categorize_year)\n",
        "print(dfdb[['title', 'category']])\n"
      ],
      "outputs": [
        {
          "output_type": "stream",
          "name": "stdout",
          "text": "                                          title category\n0                              Toy Story (1995)  Clásica\n1                                Jumanji (1995)  Clásica\n2                       Grumpier Old Men (1995)  Clásica\n3                      Waiting to Exhale (1995)  Clásica\n4            Father of the Bride Part II (1995)  Clásica\n...                                         ...      ...\n9737  Black Butler: Book of the Atlantic (2017)  Moderna\n9738               No Game No Life: Zero (2017)  Moderna\n9739                               Flint (2017)  Moderna\n9740        Bungo Stray Dogs: Dead Apple (2018)  Moderna\n9741        Andrew Dice Clay: Dice Rules (1991)  Clásica\n\n[9742 rows x 2 columns]\n"
        }
      ],
      "execution_count": 32,
      "metadata": {}
    },
    {
      "cell_type": "code",
      "source": [
        "import matplotlib.pyplot as plt\n",
        "\n",
        "genre_counts.head(10).plot(kind='bar', title='Películas por Género')\n",
        "plt.xlabel('Género')\n",
        "plt.ylabel('Cantidad')\n",
        "plt.show()\n"
      ],
      "outputs": [
        {
          "output_type": "display_data",
          "data": {
            "image/png": "[encoded data removed]",
            "text/plain": "<Figure size 640x480 with 1 Axes>"
          },
          "metadata": {}
        }
      ],
      "execution_count": null,
      "metadata": {}
    },
    {
      "cell_type": "code",
      "source": [
        "movies_by_decade.plot(kind='line', title='Películas por Década')\n",
        "plt.xlabel('Década')\n",
        "plt.ylabel('Cantidad')\n",
        "plt.show()\n"
      ],
      "outputs": [
        {
          "output_type": "display_data",
          "data": {
            "image/png": "[encoded data removed]",
            "text/plain": "<Figure size 640x480 with 1 Axes>"
          },
          "metadata": {}
        }
      ],
      "execution_count": null,
      "metadata": {}
    },
    {
      "cell_type": "code",
      "source": [
        "df_action_movies.to_csv('action_movies.csv', index=False)\n"
      ],
      "outputs": [
        {
          "output_type": "error",
          "ename": "NameError",
          "evalue": "name 'df_action_movies' is not defined",
          "traceback": [
            "\u001b[0;31m---------------------------------------------------------------------------\u001b[0m",
            "\u001b[0;31mNameError\u001b[0m                                 Traceback (most recent call last)",
            "Cell \u001b[0;32mIn[5], line 1\u001b[0m\n\u001b[0;32m----> 1\u001b[0m \u001b[43mdf_action_movies\u001b[49m\u001b[38;5;241m.\u001b[39mto_csv(\u001b[38;5;124m'\u001b[39m\u001b[38;5;124maction_movies.csv\u001b[39m\u001b[38;5;124m'\u001b[39m, index\u001b[38;5;241m=\u001b[39m\u001b[38;5;28;01mFalse\u001b[39;00m)\n",
            "\u001b[0;31mNameError\u001b[0m: name 'df_action_movies' is not defined"
          ]
        }
      ],
      "execution_count": 5,
      "metadata": {}
    },
    {
      "cell_type": "code",
      "source": [
        "\n",
        " \n",
        "dfdb.to_excel('movies.xlsx', index=False)\n"
      ],
      "outputs": [
        {
          "output_type": "error",
          "ename": "NameError",
          "evalue": "name 'dfdb' is not defined",
          "traceback": [
            "\u001b[0;31m---------------------------------------------------------------------------\u001b[0m",
            "\u001b[0;31mNameError\u001b[0m                                 Traceback (most recent call last)",
            "Cell \u001b[0;32mIn[4], line 1\u001b[0m\n\u001b[0;32m----> 1\u001b[0m \u001b[43mdfdb\u001b[49m\u001b[38;5;241m.\u001b[39mto_excel(\u001b[38;5;124m'\u001b[39m\u001b[38;5;124mmovies.xlsx\u001b[39m\u001b[38;5;124m'\u001b[39m, index\u001b[38;5;241m=\u001b[39m\u001b[38;5;28;01mFalse\u001b[39;00m)\n",
            "\u001b[0;31mNameError\u001b[0m: name 'dfdb' is not defined"
          ]
        }
      ],
      "execution_count": 4,
      "metadata": {}
    },
    {
      "cell_type": "code",
      "source": [
        "import pandas as pd\n",
        "import sqlite3\n",
        "\n",
        "query = \"SELECT * FROM movies WHERE genres LIKE '%Comedy%'\"\n",
        "df_comedy = pd.read_sql_query(query, conn)\n",
        "print(df_comedy.head())\n"
      ],
      "outputs": [
        {
          "output_type": "error",
          "ename": "NameError",
          "evalue": "name 'conn' is not defined",
          "traceback": [
            "\u001b[0;31m---------------------------------------------------------------------------\u001b[0m",
            "\u001b[0;31mNameError\u001b[0m                                 Traceback (most recent call last)",
            "Cell \u001b[0;32mIn[3], line 5\u001b[0m\n\u001b[1;32m      2\u001b[0m \u001b[38;5;28;01mimport\u001b[39;00m \u001b[38;5;21;01msqlite3\u001b[39;00m\n\u001b[1;32m      4\u001b[0m query \u001b[38;5;241m=\u001b[39m \u001b[38;5;124m\"\u001b[39m\u001b[38;5;124mSELECT * FROM movies WHERE genres LIKE \u001b[39m\u001b[38;5;124m'\u001b[39m\u001b[38;5;124m%\u001b[39m\u001b[38;5;124mComedy\u001b[39m\u001b[38;5;124m%\u001b[39m\u001b[38;5;124m'\u001b[39m\u001b[38;5;124m\"\u001b[39m\n\u001b[0;32m----> 5\u001b[0m df_comedy \u001b[38;5;241m=\u001b[39m pd\u001b[38;5;241m.\u001b[39mread_sql_query(query, \u001b[43mconn\u001b[49m)\n\u001b[1;32m      6\u001b[0m \u001b[38;5;28mprint\u001b[39m(df_comedy\u001b[38;5;241m.\u001b[39mhead())\n",
            "\u001b[0;31mNameError\u001b[0m: name 'conn' is not defined"
          ]
        }
      ],
      "execution_count": 3,
      "metadata": {}
    },
    {
      "cell_type": "code",
      "source": [
        "import sqlite3\n",
        "import pandas as pd\n",
        "\n",
        "# Ruta de la base de datos\n",
        "db_path = \"/mnt/batch/tasks/shared/LS_root/mounts/clusters/aurelio-parra/code/Users/aurelio.sosa.netmind/Pandas/Users/aurelio.sosa.netmind/Pandas/database.db\"\n",
        "\n",
        "# Establecer la conexión a la base de datos\n",
        "try:\n",
        "    conn = sqlite3.connect(db_path)\n",
        "\n",
        "    # Ejecutar la consulta SQL para obtener las películas de comedia\n",
        "    query = \"SELECT * FROM movies WHERE genres LIKE '%Comedy%'\"\n",
        "    df_comedy = pd.read_sql_query(query, conn)\n",
        "\n",
        "    # Mostrar las primeras filas del DataFrame\n",
        "    print(df_comedy.head())\n",
        "\n",
        "except Exception as e:\n",
        "    print(\"Error al conectar a la base de datos:\", e)\n",
        "\n",
        "finally:\n",
        "    conn.close()  # Cerrar la conexión a la base de datos\n"
      ],
      "outputs": [
        {
          "output_type": "stream",
          "name": "stdout",
          "text": "Error al conectar a la base de datos: unable to open database file\n"
        },
        {
          "output_type": "error",
          "ename": "NameError",
          "evalue": "name 'conn' is not defined",
          "traceback": [
            "\u001b[0;31m---------------------------------------------------------------------------\u001b[0m",
            "\u001b[0;31mNameError\u001b[0m                                 Traceback (most recent call last)",
            "Cell \u001b[0;32mIn[2], line 22\u001b[0m\n\u001b[1;32m     19\u001b[0m     \u001b[38;5;28mprint\u001b[39m(\u001b[38;5;124m\"\u001b[39m\u001b[38;5;124mError al conectar a la base de datos:\u001b[39m\u001b[38;5;124m\"\u001b[39m, e)\n\u001b[1;32m     21\u001b[0m \u001b[38;5;28;01mfinally\u001b[39;00m:\n\u001b[0;32m---> 22\u001b[0m     \u001b[43mconn\u001b[49m\u001b[38;5;241m.\u001b[39mclose()  \u001b[38;5;66;03m# Cerrar la conexión a la base de datos\u001b[39;00m\n",
            "\u001b[0;31mNameError\u001b[0m: name 'conn' is not defined"
          ]
        }
      ],
      "execution_count": 2,
      "metadata": {}
    },
    {
      "cell_type": "code",
      "source": [
        "import os\n",
        "\n",
        "# Ruta relativa del archivo\n",
        "archivo = \"database.db\"\n",
        "\n",
        "# Obtener la ruta absoluta\n",
        "ruta_absoluta = os.path.abspath(archivo)\n",
        "\n",
        "print(\"Ruta absoluta del archivo:\", ruta_absoluta)\n"
      ],
      "outputs": [
        {
          "output_type": "stream",
          "name": "stdout",
          "text": "Ruta absoluta del archivo: /mnt/batch/tasks/shared/LS_root/mounts/clusters/aurelio-parra/code/Users/aurelio.sosa.netmind/Pandas/database.db\n"
        }
      ],
      "execution_count": 9,
      "metadata": {
        "gather": {
          "logged": 1737622106736
        }
      }
    },
    {
      "cell_type": "code",
      "source": [
        "import pandas as pd\n",
        "\n",
        "series1 = pd.Series(['php', 'python','java','c#'])\n",
        "print(series1)\n"
      ],
      "outputs": [
        {
          "output_type": "stream",
          "name": "stdout",
          "text": "0       php\n1    python\n2      java\n3        c#\ndtype: object\n"
        }
      ],
      "execution_count": 7,
      "metadata": {
        "gather": {
          "logged": 1737622079514
        }
      }
    },
    {
      "cell_type": "code",
      "source": [
        "import pandas as pd\n",
        "\n",
        "# Datos de ejemplo\n",
        "\n",
        "data = {\n",
        "\n",
        "'Producto': ['Manzana', 'Banana', 'Naranja' 'Pera'],\n",
        "'Precio' : [1200, 800, 1500, 1300],\n",
        "'Cantidad': [10, 5, 0, 3]\n",
        "\n",
        "}\n",
        "\n",
        "# Crear DataFrame\n",
        "\n",
        "df = pd.DataFrame(data)\n",
        "\n",
        "# Mostrar información básica\n",
        "\n",
        "print(\"Información del DataFrame:\")\n",
        "print(df.info())\n",
        "\n",
        "# Calcular el valor total por producto (Precio * Cantidad)\n",
        "\n",
        "df['Valor Total'] = df['Precio'] * df['Cantidad']\n",
        "\n",
        "# Mostrar el DataFrame con la nueva columna\n",
        "\n",
        "print(\"\\nDataframe con columna de valor total:\")\n",
        "print(df)\n",
        "\n",
        "\n",
        "\n",
        "\n"
      ],
      "outputs": [],
      "execution_count": null,
      "metadata": {
        "gather": {
          "logged": 1737622932987
        }
      }
    },
    {
      "cell_type": "markdown",
      "source": [
        "**Importar bibliotecas necesarias**"
      ],
      "metadata": {
        "nteract": {
          "transient": {
            "deleting": false
          }
        }
      }
    },
    {
      "cell_type": "code",
      "source": [
        "import psycopg2\n",
        "from psycopg2 import Error # Importar la clase Error\n",
        "from psycopg2 import sql\n",
        "import pandas as pd"
      ],
      "outputs": [],
      "execution_count": 2,
      "metadata": {
        "gather": {
          "logged": 1737639544519
        }
      }
    },
    {
      "cell_type": "markdown",
      "source": [
        "**Conexión con la base de datos PostgreSQL**"
      ],
      "metadata": {
        "nteract": {
          "transient": {
            "deleting": false
          }
        }
      }
    },
    {
      "cell_type": "code",
      "source": [
        "# Conexión a la base de datos\n",
        "def create_database_connection():\n",
        "    conn = None\n",
        "    try:\n",
        "        conn = psycopg2.connect(\n",
        "            database=\"datafundamental\", \n",
        "            user=\"datafundamental_owner\", \n",
        "            password=\"uozci0wQGpA6\", \n",
        "            host=\"ep-solitary-pond-a2p3evpo.eu-central-1.aws.neon.tech\", \n",
        "            sslmode=\"require\", \n",
        "            port=5432\n",
        "        )\n",
        "        print(\"Connected to 'datafundamental' successfully.\")\n",
        "    except psycopg2.Error as err:\n",
        "        print(f\"Error: {err}\")\n",
        "    return conn"
      ],
      "outputs": [],
      "execution_count": 3,
      "metadata": {
        "gather": {
          "logged": 1737639546859
        }
      }
    },
    {
      "cell_type": "markdown",
      "source": [
        "**Obtener todas las filas de una tabla (por ejemplo, customers)**"
      ],
      "metadata": {
        "nteract": {
          "transient": {
            "deleting": false
          }
        }
      }
    },
    {
      "cell_type": "code",
      "source": [
        "import psycopg2\n",
        "import pandas as pd\n",
        "\n",
        "def fetch_data(query):\n",
        "    conn = create_database_connection()\n",
        "    df = pd.read_sql_query(query, conn)\n",
        "    conn.close()\n",
        "    return df\n",
        "\n",
        "# Cargar datos de la tabla customers\n",
        "query = \"SELECT * FROM customers;\"\n",
        "df_customers = fetch_data(query)\n",
        "\n",
        "print(df_customers.head())\n"
      ],
      "outputs": [
        {
          "output_type": "stream",
          "name": "stdout",
          "text": "Connected to 'datafundamental' successfully.\n   customernumber                  customername   contactfirstname  \\\n0             103             Atelier graphique    Carine  Schmitt   \n1             114    Australian Collectors, Co.     Peter Ferguson   \n2             119             La Rochelle Gifts    Janine  Labrune   \n3             121            Baane Mini Imports  Jonas  Bergulfsen   \n4             124  Mini Gifts Distributors Ltd.       Susan Nelson   \n\n          phone                       address        city     state  \\\n0    40.32.2555                54, rue Royale      Nantes      None   \n1  03 9520 4555    636 St Kilda Road, Level 3   Melbourne  Victoria   \n2    40.67.8555  67, rue des Cinquante Otages      Nantes      None   \n3    07-98 9555        Erling Skakkes gate 78     Stavern      None   \n4    4155551450               5677 Strong St.  San Rafael        CA   \n\n  postalcode    country  salesrepemployeenumber  creditlimit  \n0      44000     France                  1370.0      21000.0  \n1       3004  Australia                  1611.0     117300.0  \n2      44000     France                  1370.0     118200.0  \n3       4110     Norway                  1504.0      81700.0  \n4      97562        USA                  1165.0     210500.0  \n"
        }
      ],
      "execution_count": 15,
      "metadata": {
        "gather": {
          "logged": 1737636230707
        }
      }
    },
    {
      "cell_type": "markdown",
      "source": [
        "**Verificar nombres de columnas antes de la consulta**"
      ],
      "metadata": {
        "nteract": {
          "transient": {
            "deleting": false
          }
        }
      }
    },
    {
      "cell_type": "code",
      "source": [
        "query_check_columns = \"\"\"\n",
        "SELECT column_name\n",
        "FROM information_schema.columns\n",
        "WHERE table_name = 'sales';\n",
        "\"\"\"\n",
        "df_columns = fetch_data(query_check_columns)\n",
        "print(\"Columnas disponibles en la tabla 'sales':\")\n",
        "print(df_columns)\n"
      ],
      "outputs": [
        {
          "output_type": "stream",
          "name": "stdout",
          "text": "Connected to 'datafundamental' successfully.\nColumnas disponibles en la tabla 'sales':\n        column_name\n0      sales_amount\n1   orderlinenumber\n2         orderdate\n3       shippeddate\n4      requireddate\n5    customernumber\n6    employeenumber\n7   quantityordered\n8         priceeach\n9       ordernumber\n10      productcode\n11           status\n12         comments\n"
        }
      ],
      "execution_count": 6,
      "metadata": {
        "gather": {
          "logged": 1737628202889
        }
      }
    },
    {
      "cell_type": "markdown",
      "source": [
        "**La consulta correcta para obtener el total de ventas agrupadas por producto sería:**"
      ],
      "metadata": {
        "nteract": {
          "transient": {
            "deleting": false
          }
        }
      }
    },
    {
      "cell_type": "code",
      "source": [
        "query = \"\"\"\n",
        "SELECT productcode, \n",
        "       SUM(quantityordered * priceeach) AS total_sales\n",
        "FROM sales\n",
        "GROUP BY productcode\n",
        "ORDER BY total_sales DESC;\n",
        "\"\"\"\n",
        "\n",
        "df_sales = fetch_data(query)\n",
        "print(df_sales.head())\n"
      ],
      "outputs": [
        {
          "output_type": "stream",
          "name": "stdout",
          "text": "Connected to 'datafundamental' successfully.\n  productcode  total_sales\n0    S18_3232    269597.28\n1    S12_1108    176903.89\n2    S10_1949    176128.92\n3    S10_4698    157284.51\n4    S12_1099    156073.94\n"
        }
      ],
      "execution_count": 7,
      "metadata": {
        "gather": {
          "logged": 1737628206933
        }
      }
    },
    {
      "cell_type": "markdown",
      "source": [
        "**Listar empleados por employeenumber y la ciudad de la oficina**"
      ],
      "metadata": {
        "nteract": {
          "transient": {
            "deleting": false
          }
        }
      }
    },
    {
      "cell_type": "code",
      "source": [
        "query = \"\"\"\n",
        "SELECT * \n",
        "FROM employees \n",
        "WHERE employeenumber > 5000;\n",
        "\n",
        "SELECT * \n",
        "FROM employees \n",
        "WHERE officecity = 'San Francisco';\n",
        "\n",
        "\"\"\"\n",
        "df_employees = fetch_data(query)\n",
        "print(df_employees)"
      ],
      "outputs": [
        {
          "output_type": "stream",
          "name": "stdout",
          "text": "Connected to 'datafundamental' successfully.\n   employeenumber             name extension                           email  \\\n0            1002     Diane Murphy     x5800    dmurphy@classicmodelcars.com   \n1            1056   Mary Patterson     x4611  mpatterso@classicmodelcars.com   \n2            1076    Jeff Firrelli     x9273  jfirrelli@classicmodelcars.com   \n3            1143      Anthony Bow     x5428       abow@classicmodelcars.com   \n4            1165  Leslie Jennings     x3291  ljennings@classicmodelcars.com   \n5            1166  Leslie Thompson     x4065  lthompson@classicmodelcars.com   \n\n   reportsto            jobtitle     officecity      officephone  \\\n0        NaN           President  San Francisco  +1 650 219 4782   \n1     1002.0            VP Sales  San Francisco  +1 650 219 4782   \n2     1002.0        VP Marketing  San Francisco  +1 650 219 4782   \n3     1056.0  Sales Manager (NA)  San Francisco  +1 650 219 4782   \n4     1143.0           Sales Rep  San Francisco  +1 650 219 4782   \n5     1143.0           Sales Rep  San Francisco  +1 650 219 4782   \n\n                  officeaddress officestate officecountry officepostalcode  \\\n0  100 Market Street, Suite 300          CA           USA            94080   \n1  100 Market Street, Suite 300          CA           USA            94080   \n2  100 Market Street, Suite 300          CA           USA            94080   \n3  100 Market Street, Suite 300          CA           USA            94080   \n4  100 Market Street, Suite 300          CA           USA            94080   \n5  100 Market Street, Suite 300          CA           USA            94080   \n\n  officeterritory  \n0              NA  \n1              NA  \n2              NA  \n3              NA  \n4              NA  \n5              NA  \n"
        }
      ],
      "execution_count": 8,
      "metadata": {
        "gather": {
          "logged": 1737628217025
        }
      }
    },
    {
      "cell_type": "markdown",
      "source": [
        "**Filtrar los pagos mayores a 1000 en la tabla payments**"
      ],
      "metadata": {
        "nteract": {
          "transient": {
            "deleting": false
          }
        }
      }
    },
    {
      "cell_type": "code",
      "source": [
        "query = \"\"\"\n",
        "SELECT * FROM payments \n",
        "WHERE amount > 1000;\n",
        "\"\"\"\n",
        "df_payments = fetch_data(query)\n",
        "print(df_payments)\n"
      ],
      "outputs": [
        {
          "output_type": "stream",
          "name": "stdout",
          "text": "Connected to 'datafundamental' successfully.\n     customernumber checknumber paymentdate    amount\n0               103    HQ336336  2004-10-19   6066.78\n1               103    JM555205  2003-06-05  14571.44\n2               103    OM314933  2004-12-18   1676.14\n3               112    BO864823  2004-12-17  14191.12\n4               112     HQ55022  2003-06-06  32641.98\n..              ...         ...         ...       ...\n254             495    BH167026  2003-12-26  59265.14\n255             495    FN155234  2004-05-14   6276.60\n256             496    EU531600  2005-05-25  30253.75\n257             496    MB342426  2003-07-16  32077.44\n258             496     MN89921  2004-12-31  52166.00\n\n[259 rows x 4 columns]\n"
        }
      ],
      "execution_count": 9,
      "metadata": {
        "gather": {
          "logged": 1737628220499
        }
      }
    },
    {
      "cell_type": "markdown",
      "source": [
        "**2. Ejercicios usando Pandas: loc y iloc\n",
        "Una vez que tienes los datos cargados en un DataFrame, puedes aplicar los siguientes ejercicios:\n",
        "\n",
        "a) Filtrar clientes por país usando loc**"
      ],
      "metadata": {
        "nteract": {
          "transient": {
            "deleting": false
          }
        }
      }
    },
    {
      "cell_type": "code",
      "source": [
        "# Filtrar clientes de España\n",
        "df_spain = df_customers.loc[df_customers['country'] == 'Spain']\n",
        "print(df_spain)\n"
      ],
      "outputs": [
        {
          "output_type": "stream",
          "name": "stdout",
          "text": "     customernumber                customername   contactfirstname  \\\n9               141      Euro+ Shopping Channel      Diego  Freyre   \n35              216          Enaco Distributors  Eduardo  Saavedra   \n40              237               ANG Resellers  Alejandra  Camino   \n72              344                 CAF Imports    Jesus Fernandez   \n100             458  Corrida Auto Replicas, Ltd     Martín  Sommer   \n103             465         Anton Designs, Ltd.       Carmen Anton   \n110             484  Iberia Gift Imports, Corp.   José Pedro  Roel   \n\n               phone                                address       city state  \\\n9     (91) 555 94 44                     C/ Moralzarzal, 86     Madrid  None   \n35     (93) 203 4555                 Rambla de Cataluña, 23  Barcelona  None   \n40     (91) 745 6555                            Gran Vía, 1     Madrid  None   \n72   +34 913 728 555  Merchants House, 27-30 Merchants Quay     Madrid  None   \n100   (91) 555 22 82                         C/ Araquil, 67     Madrid  None   \n103   +34 913 728555       c/ Gobelas, 19-1 Urb. La Florida     Madrid  None   \n110   (95) 555 82 82                          C/ Romero, 33    Sevilla  None   \n\n    postalcode country  salesrepemployeenumber  creditlimit  \n9        28034   Spain                  1370.0     227600.0  \n35       08022   Spain                  1702.0      60300.0  \n40       28001   Spain                     NaN          0.0  \n72       28023   Spain                  1702.0      59600.0  \n100      28023   Spain                  1702.0     104600.0  \n103      28023   Spain                     NaN          0.0  \n110      41101   Spain                  1702.0      65700.0  \n"
        }
      ],
      "execution_count": 10,
      "metadata": {
        "gather": {
          "logged": 1737628391535
        }
      }
    },
    {
      "cell_type": "markdown",
      "source": [
        "**b) Seleccionar filas específicas por índice usando iloc**\n"
      ],
      "metadata": {
        "nteract": {
          "transient": {
            "deleting": false
          }
        }
      }
    },
    {
      "cell_type": "code",
      "source": [
        "# Obtener las primeras 10 filas de la tabla employees\n",
        "df_first_10 = df_employees.iloc[:10]\n",
        "print(df_first_10)\n"
      ],
      "outputs": [
        {
          "output_type": "stream",
          "name": "stdout",
          "text": "   employeenumber             name extension                           email  \\\n0            1002     Diane Murphy     x5800    dmurphy@classicmodelcars.com   \n1            1056   Mary Patterson     x4611  mpatterso@classicmodelcars.com   \n2            1076    Jeff Firrelli     x9273  jfirrelli@classicmodelcars.com   \n3            1143      Anthony Bow     x5428       abow@classicmodelcars.com   \n4            1165  Leslie Jennings     x3291  ljennings@classicmodelcars.com   \n5            1166  Leslie Thompson     x4065  lthompson@classicmodelcars.com   \n\n   reportsto            jobtitle     officecity      officephone  \\\n0        NaN           President  San Francisco  +1 650 219 4782   \n1     1002.0            VP Sales  San Francisco  +1 650 219 4782   \n2     1002.0        VP Marketing  San Francisco  +1 650 219 4782   \n3     1056.0  Sales Manager (NA)  San Francisco  +1 650 219 4782   \n4     1143.0           Sales Rep  San Francisco  +1 650 219 4782   \n5     1143.0           Sales Rep  San Francisco  +1 650 219 4782   \n\n                  officeaddress officestate officecountry officepostalcode  \\\n0  100 Market Street, Suite 300          CA           USA            94080   \n1  100 Market Street, Suite 300          CA           USA            94080   \n2  100 Market Street, Suite 300          CA           USA            94080   \n3  100 Market Street, Suite 300          CA           USA            94080   \n4  100 Market Street, Suite 300          CA           USA            94080   \n5  100 Market Street, Suite 300          CA           USA            94080   \n\n  officeterritory  \n0              NA  \n1              NA  \n2              NA  \n3              NA  \n4              NA  \n5              NA  \n"
        }
      ],
      "execution_count": 11,
      "metadata": {
        "gather": {
          "logged": 1737628541932
        }
      }
    },
    {
      "cell_type": "markdown",
      "source": [
        "**c) Seleccionar columnas específicas usando loc**"
      ],
      "metadata": {
        "nteract": {
          "transient": {
            "deleting": false
          }
        }
      }
    },
    {
      "cell_type": "code",
      "source": [
        "query_check_columns = \"\"\"\n",
        "SELECT column_name\n",
        "FROM information_schema.columns\n",
        "WHERE table_name = 'customers';\n",
        "\"\"\"\n",
        "df_columns = fetch_data(query_check_columns)\n",
        "print(\"Columnas disponibles en la tabla 'customers':\")\n",
        "print(df_columns)\n"
      ],
      "outputs": [
        {
          "output_type": "stream",
          "name": "stdout",
          "text": "Connected to 'datafundamental' successfully.\nColumnas disponibles en la tabla 'customers':\n               column_name\n0           customernumber\n1   salesrepemployeenumber\n2              creditlimit\n3                    phone\n4                  address\n5                     city\n6                    state\n7               postalcode\n8                  country\n9             customername\n10        contactfirstname\n"
        }
      ],
      "execution_count": 13,
      "metadata": {
        "gather": {
          "logged": 1737628765152
        }
      }
    },
    {
      "cell_type": "markdown",
      "source": [],
      "metadata": {
        "nteract": {
          "transient": {
            "deleting": false
          }
        }
      }
    },
    {
      "cell_type": "markdown",
      "source": [
        "**Obtener solo número de teléfono y el límite de credito de los clientes**"
      ],
      "metadata": {
        "nteract": {
          "transient": {
            "deleting": false
          }
        }
      }
    },
    {
      "cell_type": "code",
      "source": [
        "# Obtener solo número de teléfono y el límite de credito de los clientes\n",
        "df_names_emails = df_customers.loc[:, ['creditlimit', 'phone']]\n",
        "print(df_names_emails.head())\n"
      ],
      "outputs": [
        {
          "output_type": "stream",
          "name": "stdout",
          "text": "   creditlimit         phone\n0      21000.0    40.32.2555\n1     117300.0  03 9520 4555\n2     118200.0    40.67.8555\n3      81700.0    07-98 9555\n4     210500.0    4155551450\n"
        }
      ],
      "execution_count": 15,
      "metadata": {
        "gather": {
          "logged": 1737628840576
        }
      }
    },
    {
      "cell_type": "markdown",
      "source": [
        "d) Filtrar cada precio del año superior a 100 unidades con loc"
      ],
      "metadata": {
        "nteract": {
          "transient": {
            "deleting": false
          }
        }
      }
    },
    {
      "cell_type": "code",
      "source": [
        "query_check_columns = \"\"\"\n",
        "SELECT column_name\n",
        "FROM information_schema.columns\n",
        "WHERE table_name = 'sales';\n",
        "\"\"\"\n",
        "df_columns = fetch_data(query_check_columns)\n",
        "print(\"Columnas disponibles en la tabla 'sales':\")\n",
        "print(df_columns)\n",
        "\n",
        "query = \"\"\"\n",
        "SELECT * \n",
        "FROM sales \n",
        "WHERE priceeach > 100;\n",
        "\"\"\"\n",
        "\n",
        "df_high_sales_sql = fetch_data(query)\n",
        "print(df_high_sales_sql)\n",
        "\n"
      ],
      "outputs": [
        {
          "output_type": "stream",
          "name": "stdout",
          "text": "Connected to 'datafundamental' successfully.\nColumnas disponibles en la tabla 'sales':\n        column_name\n0      sales_amount\n1   orderlinenumber\n2         orderdate\n3       shippeddate\n4      requireddate\n5    customernumber\n6    employeenumber\n7   quantityordered\n8         priceeach\n9       ordernumber\n10      productcode\n11           status\n12         comments\nConnected to 'datafundamental' successfully.\n      ordernumber  orderlinenumber   orderdate shippeddate requireddate  \\\n0           10100                3  2003-01-06  2003-01-10   2003-01-13   \n1           10101                1  2003-01-09  2003-01-11   2003-01-18   \n2           10101                4  2003-01-09  2003-01-11   2003-01-18   \n3           10103                1  2003-01-29  2003-02-02   2003-02-07   \n4           10103                4  2003-01-29  2003-02-02   2003-02-07   \n...           ...              ...         ...         ...          ...   \n1034        10425                7  2005-05-31        None   2005-06-07   \n1035        10425                8  2005-05-31        None   2005-06-07   \n1036        10425                9  2005-05-31        None   2005-06-07   \n1037        10425               12  2005-05-31        None   2005-06-07   \n1038        10425               13  2005-05-31        None   2005-06-07   \n\n      customernumber  employeenumber productcode      status  \\\n0                363            1216    S18_1749     Shipped   \n1                128            1504    S18_2795     Shipped   \n2                128            1504    S18_2325     Shipped   \n3                121            1504    S24_2300     Shipped   \n4                121            1504    S10_4962     Shipped   \n...              ...             ...         ...         ...   \n1034             119            1370    S18_2319  In Process   \n1035             119            1370    S18_3232  In Process   \n1036             119            1370    S24_2300  In Process   \n1037             119            1370    S10_4962  In Process   \n1038             119            1370    S18_4600  In Process   \n\n                    comments  quantityordered  priceeach  sales_amount  \n0                       None               30     136.00       4080.00  \n1     Check on availability.               26     167.06       4343.56  \n2     Check on availability.               25     108.06       2701.50  \n3                       None               36     107.34       3864.24  \n4                       None               42     119.67       5026.14  \n...                      ...              ...        ...           ...  \n1034                    None               38     117.82       4477.16  \n1035                    None               28     140.55       3935.40  \n1036                    None               49     127.79       6261.71  \n1037                    None               38     131.49       4996.62  \n1038                    None               38     107.76       4094.88  \n\n[1039 rows x 13 columns]\n"
        }
      ],
      "execution_count": 32,
      "metadata": {
        "gather": {
          "logged": 1737630240150
        }
      }
    },
    {
      "cell_type": "markdown",
      "source": [
        "**e) Actualizar valores en el DataFrame usando loc**"
      ],
      "metadata": {
        "nteract": {
          "transient": {
            "deleting": false
          }
        }
      }
    },
    {
      "cell_type": "code",
      "source": [
        "# Verificar los nombres de las columnas\n",
        "query_check_columns = \"\"\"\n",
        "SELECT column_name\n",
        "FROM information_schema.columns\n",
        "WHERE table_name = 'customers';\n",
        "\"\"\"\n",
        "df_columns = fetch_data(query_check_columns)\n",
        "print(\"Columnas disponibles en la tabla 'customers':\")\n",
        "print(df_columns)\n",
        "\n",
        "# Verificar los valores únicos en la columna customernumber\n",
        "print(df_customers['customernumber'].unique())\n",
        "\n",
        "# Cambiar el país de los clientes con ID 150 a 'France'\n",
        "df_customers.loc[df_customers['customernumber'] > 150, 'country'] = 'France'\n",
        "print(df_customers[df_customers['customernumber'] > 150])\n"
      ],
      "outputs": [
        {
          "output_type": "stream",
          "name": "stdout",
          "text": "Connected to 'datafundamental' successfully.\nColumnas disponibles en la tabla 'customers':\n               column_name\n0           customernumber\n1   salesrepemployeenumber\n2              creditlimit\n3                    phone\n4                  address\n5                     city\n6                    state\n7               postalcode\n8                  country\n9             customername\n10        contactfirstname\n[103 114 119 121 124 125 128 129 131 141 144 145 146 151 157 161 166 167\n 168 169 171 172 173 175 181 186 187 189 198 201 202 204 205 206 209 216\n 219 223 227 233 237 239 240 242 247 249 250 256 259 260 273 276 278 282\n 286 293 298 299 303 307 311 314 319 320 321 323 324 328 333 334 335 339\n 344 347 348 350 353 356 357 361 362 363 369 376 379 381 382 386 406 409\n 412 415 424 443 447 448 450 452 455 456 458 459 462 465 471 473 475 477\n 480 481 484 486 487 489 495 496 112]\n     customernumber                    customername contactfirstname  \\\n13              151              Muscle Machine Inc       Jeff Young   \n14              157           Diecast Classics Inc.     Kelvin Leong   \n15              161            Technics Stores Inc.   Juri Hashimoto   \n16              166                Handji Gifts& Co  Wendy Victorino   \n17              167                    Herkku Gifts    Veysel Oeztan   \n..              ...                             ...              ...   \n111             486    Motor Mint Distributors Inc.     Rosa Salazar   \n112             487        Signal Collectibles Ltd.       Sue Taylor   \n113             489  Double Decker Gift Stores, Ltd    Thomas  Smith   \n114             495            Diecast Collectables   Valarie Franco   \n115             496                Kellys Gift Shop     Tony Snowden   \n\n              phone                             address          city state  \\\n13       2125557413        4092 Furth Circle, Suite 400           NYC    NY   \n14       2155551555                    7586 Pompton St.     Allentown    PA   \n15       6505556809                   9408 Furth Circle    Burlingame    CA   \n16     +65 224 1555  106 Linden Road Sandown, 2nd Floor     Singapore  None   \n17    +47 2267 3215     Brehmen St. 121, PR 334 Sentrum        Bergen  None   \n..              ...                                 ...           ...   ...   \n111      2155559857                   11328 Douglas Av.  Philadelphia    PA   \n112      4155554312                   2793 Furth Circle      Brisbane    CA   \n113  (171) 555-7555                     120 Hanover Sq.        London  None   \n114      6175552555                      6251 Ingle Ln.        Boston    MA   \n115   +64 9 5555500                    Arenales 1938 3A    Auckland    None   \n\n    postalcode country  salesrepemployeenumber  creditlimit  \n13       10022  France                  1286.0     138500.0  \n14       70267  France                  1216.0     100600.0  \n15       94217  France                  1165.0      84600.0  \n16      069045  France                  1612.0      97900.0  \n17      N 5804  France                  1504.0      96800.0  \n..         ...     ...                     ...          ...  \n111      71270  France                  1323.0      72600.0  \n112      94217  France                  1165.0      60300.0  \n113    WA1 1DP  France                  1501.0      43300.0  \n114      51003  France                  1188.0      85100.0  \n115       None  France                  1612.0     110000.0  \n\n[103 rows x 11 columns]\n"
        }
      ],
      "execution_count": 38,
      "metadata": {
        "gather": {
          "logged": 1737631012797
        }
      }
    },
    {
      "cell_type": "markdown",
      "source": [
        "**f) Seleccionar filas impares usando iloc**"
      ],
      "metadata": {
        "nteract": {
          "transient": {
            "deleting": false
          }
        }
      }
    },
    {
      "cell_type": "code",
      "source": [
        "query = \"SELECT * FROM products;\"\n",
        "df_products = fetch_data(query)\n",
        "\n",
        "# Mostrar las columnas disponibles para verificar la carga\n",
        "print(df_products.columns)\n",
        "\n",
        "# Seleccionar solo filas impares del DataFrame de productos\n",
        "df_odd_rows = df_products.iloc[1::2]\n",
        "print(df_odd_rows)\n"
      ],
      "outputs": [
        {
          "output_type": "stream",
          "name": "stdout",
          "text": "Connected to 'datafundamental' successfully.\nIndex(['productcode', 'productname', 'productline', 'linetextdescription',\n       'linehtmldescription', 'lineimage'],\n      dtype='object')\n    productcode                                  productname  \\\n1      S10_1949                     1952 Alpine Renault 1300   \n3      S10_4698         2003 Harley-Davidson Eagle Drag Bike   \n5      S10_4962                       1962 LanciaA Delta 16V   \n7      S12_1108                            2001 Ferrari Enzo   \n9      S12_2823                             2002 Suzuki XREO   \n11     S12_3380                           1968 Dodge Charger   \n13     S12_3990                      1970 Plymouth Hemi Cuda   \n15     S12_4675                           1969 Dodge Charger   \n17     S18_1129                              1993 Mazda RX-7   \n19     S18_1367     1936 Mercedes-Benz 500K Special Roadster   \n21     S18_1662                  1980s Black Hawk Helicopter   \n23     S18_1889                  1948 Porsche 356-A Roadster   \n25     S18_2238               1998 Chrysler Plymouth Prowler   \n27     S18_2319                       1964 Mercedes Tour Bus   \n29     S18_2432                        1926 Ford Fire Engine   \n31     S18_2625          1936 Harley Davidson El Knucklehead   \n33     S18_2870                 1999 Indy 500 Monte Carlo SS   \n35    S700_1938                                The Mayflower   \n37     S18_3029                       1999 Yamaha Speed Boat   \n39     S18_3140                            1903 Ford Model A   \n41     S18_3233                            1985 Toyota Supra   \n43     S18_3278                         1969 Dodge Super Bee   \n45     S18_3482                        1976 Ford Gran Torino   \n47     S18_3782                             1957 Vespa GS150   \n49     S18_4027                        1970 Triumph Spitfire   \n51     S18_4522                          1904 Buick Runabout   \n53     S18_4668                      1939 Cadillac Limousine   \n55     S18_4933                        1957 Ford Thunderbird   \n57     S24_1444                           1970 Dodge Coronet   \n59    S700_1691                  American Airlines: B767-300   \n61     S24_1785             1928 British Royal Navy Airplane   \n63     S24_2000                     1960 BSA Gold Star DBD34   \n65     S24_2022    1938 Cadillac V-16 Presidential Limousine   \n67     S24_2360                      1982 Ducati 900 Monster   \n69     S24_2840          1958 Chevy Corvette Limited Edition   \n71     S24_2887                            1952 Citroen-15CV   \n73     S24_2972                      1982 Lamborghini Diablo   \n75     S24_3191                    1969 Chevrolet Camaro Z28   \n77     S24_3420                    1937 Horch 930V Limousine   \n79     S24_3816                     1940 Ford Delivery Sedan   \n81     S24_3949                     Corsair F4U ( Bird Cage)   \n83     S24_4048            1992 Porsche Cayenne Turbo Silver   \n85     S24_4620                        1961 Chevrolet Impala   \n87     S32_1374                             1997 BMW F650 ST   \n89     S32_2509                  1954 Greyhound Scenicruiser   \n91     S32_3522  1996 Peterbilt 379 Stake Bed with Outrigger   \n93     S32_4485                    1974 Ducati 350 Mk3 Desmo   \n95     S50_1392             Diamond T620 Semi-Skirted Tanker   \n97     S50_4713                           2002 Yamaha YZR M1   \n99    S700_2047                                   HMS Bounty   \n101   S700_2610                    The USS Constitution Ship   \n103   S700_2834                                ATA: B757-300   \n105   S700_3505                                  The Titanic   \n107   S700_4002                    American Airlines: MD-11S   \n109    S72_3212                                   Pont Yacht   \n\n          productline                                linetextdescription  \\\n1        Classic Cars  Attention car enthusiasts: Make your wildest c...   \n3         Motorcycles  Our motorcycles are state of the art replicas ...   \n5        Classic Cars  Attention car enthusiasts: Make your wildest c...   \n7        Classic Cars  Attention car enthusiasts: Make your wildest c...   \n9         Motorcycles  Our motorcycles are state of the art replicas ...   \n11       Classic Cars  Attention car enthusiasts: Make your wildest c...   \n13       Classic Cars  Attention car enthusiasts: Make your wildest c...   \n15       Classic Cars  Attention car enthusiasts: Make your wildest c...   \n17       Classic Cars  Attention car enthusiasts: Make your wildest c...   \n19       Vintage Cars  Our Vintage Car models realistically portray a...   \n21             Planes  Unique, diecast airplane and helicopter replic...   \n23       Classic Cars  Attention car enthusiasts: Make your wildest c...   \n25       Classic Cars  Attention car enthusiasts: Make your wildest c...   \n27   Trucks and Buses  The Truck and Bus models are realistic replica...   \n29   Trucks and Buses  The Truck and Bus models are realistic replica...   \n31        Motorcycles  Our motorcycles are state of the art replicas ...   \n33       Classic Cars  Attention car enthusiasts: Make your wildest c...   \n35              Ships  The perfect holiday or anniversary gift for ex...   \n37              Ships  The perfect holiday or anniversary gift for ex...   \n39       Vintage Cars  Our Vintage Car models realistically portray a...   \n41       Classic Cars  Attention car enthusiasts: Make your wildest c...   \n43       Classic Cars  Attention car enthusiasts: Make your wildest c...   \n45       Classic Cars  Attention car enthusiasts: Make your wildest c...   \n47        Motorcycles  Our motorcycles are state of the art replicas ...   \n49       Classic Cars  Attention car enthusiasts: Make your wildest c...   \n51       Vintage Cars  Our Vintage Car models realistically portray a...   \n53       Vintage Cars  Our Vintage Car models realistically portray a...   \n55       Classic Cars  Attention car enthusiasts: Make your wildest c...   \n57       Classic Cars  Attention car enthusiasts: Make your wildest c...   \n59             Planes  Unique, diecast airplane and helicopter replic...   \n61             Planes  Unique, diecast airplane and helicopter replic...   \n63        Motorcycles  Our motorcycles are state of the art replicas ...   \n65       Vintage Cars  Our Vintage Car models realistically portray a...   \n67        Motorcycles  Our motorcycles are state of the art replicas ...   \n69       Classic Cars  Attention car enthusiasts: Make your wildest c...   \n71       Classic Cars  Attention car enthusiasts: Make your wildest c...   \n73       Classic Cars  Attention car enthusiasts: Make your wildest c...   \n75       Classic Cars  Attention car enthusiasts: Make your wildest c...   \n77       Vintage Cars  Our Vintage Car models realistically portray a...   \n79       Vintage Cars  Our Vintage Car models realistically portray a...   \n81             Planes  Unique, diecast airplane and helicopter replic...   \n83       Classic Cars  Attention car enthusiasts: Make your wildest c...   \n85       Classic Cars  Attention car enthusiasts: Make your wildest c...   \n87        Motorcycles  Our motorcycles are state of the art replicas ...   \n89   Trucks and Buses  The Truck and Bus models are realistic replica...   \n91   Trucks and Buses  The Truck and Bus models are realistic replica...   \n93        Motorcycles  Our motorcycles are state of the art replicas ...   \n95   Trucks and Buses  The Truck and Bus models are realistic replica...   \n97        Motorcycles  Our motorcycles are state of the art replicas ...   \n99              Ships  The perfect holiday or anniversary gift for ex...   \n101             Ships  The perfect holiday or anniversary gift for ex...   \n103            Planes  Unique, diecast airplane and helicopter replic...   \n105             Ships  The perfect holiday or anniversary gift for ex...   \n107            Planes  Unique, diecast airplane and helicopter replic...   \n109             Ships  The perfect holiday or anniversary gift for ex...   \n\n    linehtmldescription lineimage  \n1                  None      None  \n3                  None      None  \n5                  None      None  \n7                  None      None  \n9                  None      None  \n11                 None      None  \n13                 None      None  \n15                 None      None  \n17                 None      None  \n19                 None      None  \n21                 None      None  \n23                 None      None  \n25                 None      None  \n27                 None      None  \n29                 None      None  \n31                 None      None  \n33                 None      None  \n35                 None      None  \n37                 None      None  \n39                 None      None  \n41                 None      None  \n43                 None      None  \n45                 None      None  \n47                 None      None  \n49                 None      None  \n51                 None      None  \n53                 None      None  \n55                 None      None  \n57                 None      None  \n59                 None      None  \n61                 None      None  \n63                 None      None  \n65                 None      None  \n67                 None      None  \n69                 None      None  \n71                 None      None  \n73                 None      None  \n75                 None      None  \n77                 None      None  \n79                 None      None  \n81                 None      None  \n83                 None      None  \n85                 None      None  \n87                 None      None  \n89                 None      None  \n91                 None      None  \n93                 None      None  \n95                 None      None  \n97                 None      None  \n99                 None      None  \n101                None      None  \n103                None      None  \n105                None      None  \n107                None      None  \n109                None      None  \n"
        }
      ],
      "execution_count": 40,
      "metadata": {
        "gather": {
          "logged": 1737631430778
        }
      }
    },
    {
      "cell_type": "markdown",
      "source": [
        "g) Ordenar los productos por código descendente y seleccionar los primeros 5"
      ],
      "metadata": {
        "nteract": {
          "transient": {
            "deleting": false
          }
        }
      }
    },
    {
      "cell_type": "code",
      "source": [
        "# Cargar el Dataframe de una consulta SQL\n",
        "query = \"SELECT * FROM sales;\"\n",
        "df_sales = fetch_data(query)\n",
        "\n",
        "# Mostrar las columnas disponibles para verificar la carga\n",
        "print(df_sales.columns)\n",
        "\n",
        "df_describe_sales = df_sales.sort_values(by='productcode', ascending=False).iloc[:5]\n",
        "print(df_describe_sales)\n",
        "\n"
      ],
      "outputs": [
        {
          "output_type": "stream",
          "name": "stdout",
          "text": "Connected to 'datafundamental' successfully.\nIndex(['productcode', 'productname', 'productline', 'linetextdescription',\n       'linehtmldescription', 'lineimage'],\n      dtype='object')\n    productcode                productname productline  \\\n109    S72_3212                 Pont Yacht       Ships   \n108    S72_1253           Boeing X-32A JSF      Planes   \n107   S700_4002  American Airlines: MD-11S      Planes   \n106   S700_3962             The Queen Mary       Ships   \n105   S700_3505                The Titanic       Ships   \n\n                                   linetextdescription linehtmldescription  \\\n109  The perfect holiday or anniversary gift for ex...                None   \n108  Unique, diecast airplane and helicopter replic...                None   \n107  Unique, diecast airplane and helicopter replic...                None   \n106  The perfect holiday or anniversary gift for ex...                None   \n105  The perfect holiday or anniversary gift for ex...                None   \n\n    lineimage  \n109      None  \n108      None  \n107      None  \n106      None  \n105      None  \n"
        }
      ],
      "execution_count": 43,
      "metadata": {
        "gather": {
          "logged": 1737632070453
        }
      }
    },
    {
      "cell_type": "markdown",
      "source": [
        "h) Calcular estadísticas descriptivas de las ventas"
      ],
      "metadata": {
        "nteract": {
          "transient": {
            "deleting": false
          }
        }
      }
    },
    {
      "cell_type": "code",
      "source": [
        "# Cargar el Dataframe de una consulta SQL\n",
        "query = \"SELECT * FROM sales;\"\n",
        "df_sales = fetch_data(query)\n",
        "\n",
        "# Mostrar las columnas disponibles para verificar la carga\n",
        "print(df_sales.columns)\n",
        "\n",
        "# Calcular estadísticas básicas\n",
        "print(df_sales[['employeenumber', 'orderdate']].describe())\n"
      ],
      "outputs": [
        {
          "output_type": "stream",
          "name": "stdout",
          "text": "Connected to 'datafundamental' successfully.\nIndex(['ordernumber', 'orderlinenumber', 'orderdate', 'shippeddate',\n       'requireddate', 'customernumber', 'employeenumber', 'productcode',\n       'status', 'comments', 'quantityordered', 'priceeach', 'sales_amount'],\n      dtype='object')\n       employeenumber\ncount     2859.000000\nmean      1380.933193\nstd        156.604464\nmin       1165.000000\n25%       1216.000000\n50%       1370.000000\n75%       1501.000000\nmax       1702.000000\n"
        }
      ],
      "execution_count": 47,
      "metadata": {
        "gather": {
          "logged": 1737632687796
        }
      }
    },
    {
      "cell_type": "markdown",
      "source": [
        "**i) Filtrar clientes cuyo nombre comience con \"A\"\n",
        "j) Combinar los DataFrames de productos y ventas con un merge**"
      ],
      "metadata": {
        "nteract": {
          "transient": {
            "deleting": false
          }
        }
      }
    },
    {
      "cell_type": "code",
      "source": [
        "# Cargar el Dataframe de una consulta SQL\n",
        "query = \"SELECT * FROM customers;\"\n",
        "df_customers = fetch_data(query)\n",
        "\n",
        "query = \"SELECT * FROM products;\"\n",
        "df_products = fetch_data(query)\n",
        "\n",
        "query = \"SELECT * FROM sales;\"\n",
        "df_sales = fetch_data(query)\n",
        "\n",
        "# Mostrar las columnas disponibles para verificar la carga\n",
        "print(df_customers.columns)\n",
        "print(df_products.columns)\n",
        "print(df_sales.columns)\n",
        "\n",
        "df_customers_a = df_customers.loc[df_customers['city'].str.startswith('A')]\n",
        "print(df_customers_a)\n",
        "\n",
        "df_merged = pd.merge(df_sales, df_products, on='productcode', how='inner')\n",
        "print(df_merged.head())\n"
      ],
      "outputs": [
        {
          "output_type": "stream",
          "name": "stdout",
          "text": "Connected to 'datafundamental' successfully.\nConnected to 'datafundamental' successfully.\nConnected to 'datafundamental' successfully.\nIndex(['customernumber', 'customername', 'contactfirstname', 'phone',\n       'address', 'city', 'state', 'postalcode', 'country',\n       'salesrepemployeenumber', 'creditlimit'],\n      dtype='object')\nIndex(['productcode', 'productname', 'productline', 'linetextdescription',\n       'linehtmldescription', 'lineimage'],\n      dtype='object')\nIndex(['ordernumber', 'orderlinenumber', 'orderdate', 'shippeddate',\n       'requireddate', 'customernumber', 'employeenumber', 'productcode',\n       'status', 'comments', 'quantityordered', 'priceeach', 'sales_amount'],\n      dtype='object')\n     customernumber                customername  contactfirstname  \\\n14              157       Diecast Classics Inc.      Kelvin Leong   \n58              303            Schuyler Imports  Bradley Schuyler   \n65              323  Down Under Souveniers, Inc       Mike Graham   \n78              357             GiftsForHim.com   Wales MacKinlay   \n101             459            Warburg Exchange     Sven  Ottlieb   \n115             496            Kellys Gift Shop      Tony Snowden   \n\n               phone                        address        city state  \\\n14        2155551555               7586 Pompton St.   Allentown    PA   \n58   +31 20 491 9555               Kingsfordweg 151   Amsterdam  None   \n65    +64 9 312 5555  162-164 Grafton Road, Level 2  Auckland    None   \n78      64-9-3763555           199 Great North Road    Auckland  None   \n101      0241-039123                   Walserweg 21      Aachen  None   \n115    +64 9 5555500               Arenales 1938 3A  Auckland    None   \n\n    postalcode      country  salesrepemployeenumber  creditlimit  \n14       70267          USA                  1216.0     100600.0  \n58     1043 GR  Netherlands                     NaN          0.0  \n65        None  New Zealand                  1612.0      88000.0  \n78        None  New Zealand                  1612.0      77700.0  \n101      52066      Germany                     NaN          0.0  \n115       None  New Zealand                  1612.0     110000.0  \n   ordernumber  orderlinenumber   orderdate shippeddate requireddate  \\\n0        10100                1  2003-01-06  2003-01-10   2003-01-13   \n1        10110                5  2003-03-18  2003-03-20   2003-03-24   \n2        10124                4  2003-05-21  2003-05-25   2003-05-29   \n3        10138                4  2003-07-07  2003-07-13   2003-07-16   \n4        10149                9  2003-09-12  2003-09-17   2003-09-18   \n\n   customernumber  employeenumber productcode   status  \\\n0             363            1216    S24_3969  Shipped   \n1             187            1501    S24_3969  Shipped   \n2             112            1166    S24_3969  Shipped   \n3             496            1612    S24_3969  Shipped   \n4             487            1165    S24_3969  Shipped   \n\n                                            comments  quantityordered  \\\n0                                               None               49   \n1                                               None               48   \n2  Customer very concerned about the exact color ...               46   \n3                                               None               29   \n4                                               None               26   \n\n   priceeach  sales_amount                       productname   productline  \\\n0      35.29       1729.21  1936 Mercedes Benz 500k Roadster  Vintage Cars   \n1      35.29       1693.92  1936 Mercedes Benz 500k Roadster  Vintage Cars   \n2      36.11       1661.06  1936 Mercedes Benz 500k Roadster  Vintage Cars   \n3      32.82        951.78  1936 Mercedes Benz 500k Roadster  Vintage Cars   \n4      38.57       1002.82  1936 Mercedes Benz 500k Roadster  Vintage Cars   \n\n                                 linetextdescription linehtmldescription  \\\n0  Our Vintage Car models realistically portray a...                None   \n1  Our Vintage Car models realistically portray a...                None   \n2  Our Vintage Car models realistically portray a...                None   \n3  Our Vintage Car models realistically portray a...                None   \n4  Our Vintage Car models realistically portray a...                None   \n\n  lineimage  \n0      None  \n1      None  \n2      None  \n3      None  \n4      None  \n"
        }
      ],
      "execution_count": 16,
      "metadata": {
        "gather": {
          "logged": 1737636241120
        }
      }
    },
    {
      "cell_type": "markdown",
      "source": [
        "Ejercicios Pandas DataFrames 02\n",
        "\n",
        "El dataset de vuelos \"flights14.csv\" y tiene todas estas columnas ,\"year\",\"month\",\"day\",\"dep_delay\",\"arr_delay\",\"carrier\",\"origin\",\"dest\",\"air_time\",\"distance\",\"hour\"\n",
        "\n",
        " \n",
        "escribe un programa Pandas para dividir los datos basados en origen u destino. Muestra cada grupo y el número de elementos por grupo\n",
        " \n",
        "Escribe un programa Pandas para calcula la media, desviación estándar, min y max del retraso total de cada orgige-destino.\n",
        " \n",
        "Escribe un programa Pandas para dividir un conjunto de datos y agruparlos por dos columnas, y luego ordenar los resultados agregados dentro de los grupos.\n",
        "En el siguiente conjunto de datos de vuelos, agrupar \"date\" (fecha completa) y \"carrier\". Luego ordenar la suma de 'total_delay' dentro de los grupos. tiene todas estas columnas ,\"year\",\"month\",\"day\",\"dep_delay\",\"arr_delay\",\"carrier\",\"origin\",\"dest\",\"air_time\",\"distance\",\"hour\"\n",
        "\n",
        " \n",
        "Escribe un programa Pandas para contar el múmero de retrasos de salida por mes y origen.\n",
        " \n",
        "Escribe un programa Pandas para cargar los datos de productos y ventas del archivo FoodMarket.xlsx y mézclalos en un solo dataframe.\n",
        " \n",
        "Escribe un programa Pandas para extraer información sobre el número de compras totales y el monto total por nombre de producto y año.\n"
      ],
      "metadata": {
        "nteract": {
          "transient": {
            "deleting": false
          }
        }
      }
    },
    {
      "cell_type": "code",
      "source": [
        "import pandas as pd\n",
        "\n",
        "# Cargar el dataset\n",
        "df = pd.read_csv('flights14.csv')\n",
        "\n",
        "# Agrupar por origen y destino y contar el número de elementos\n",
        "grouped = df.groupby(['origin', 'dest']).size().reset_index(name='counts')\n",
        "print(grouped)\n"
      ],
      "outputs": [
        {
          "output_type": "stream",
          "name": "stdout",
          "text": "    origin dest  counts\n0      EWR  ALB     169\n1      EWR  ANC      13\n2      EWR  ATL    4182\n3      EWR  AUS     568\n4      EWR  AVL     145\n..     ...  ...     ...\n216    LGA  SYR     332\n217    LGA  TPA    1852\n218    LGA  TVC      36\n219    LGA  TYS     167\n220    LGA  XNA     441\n\n[221 rows x 3 columns]\n"
        }
      ],
      "execution_count": 5,
      "metadata": {
        "gather": {
          "logged": 1737639579626
        }
      }
    },
    {
      "cell_type": "code",
      "source": [
        "# Calcular el retraso total\n",
        "df['total_delay'] = df['dep_delay'] + df['arr_delay']\n",
        "\n",
        "# Agrupar por origen y destino y calcular estadísticas\n",
        "stats = df.groupby(['origin', 'dest'])['total_delay'].agg(['mean', 'std', 'min', 'max']).reset_index()\n",
        "print(stats)\n"
      ],
      "outputs": [
        {
          "output_type": "stream",
          "name": "stdout",
          "text": "    origin dest       mean         std  min   max\n0      EWR  ALB  35.230769   92.478247  -36   618\n1      EWR  ANC  15.307692   43.453777  -30   121\n2      EWR  ATL  32.235533  114.946191  -47  2177\n3      EWR  AUS   5.871479   63.006811  -62   539\n4      EWR  AVL  24.903448   82.071727  -33   625\n..     ...  ...        ...         ...  ...   ...\n216    LGA  SYR  23.346386   88.091602  -54   844\n217    LGA  TPA  15.267279   80.570698  -57   964\n218    LGA  TVC  71.500000  183.741200  -41   765\n219    LGA  TYS  17.305389   57.004937  -44   291\n220    LGA  XNA   6.911565   53.977890  -64   320\n\n[221 rows x 6 columns]\n"
        }
      ],
      "execution_count": 6,
      "metadata": {
        "gather": {
          "logged": 1737639582380
        }
      }
    },
    {
      "cell_type": "code",
      "source": [
        "# Agrupar por origen y destino y ordenar por el retraso total dentro de cada grupo\n",
        "sorted_group = df.groupby(['origin', 'dest']).apply(lambda x: x.sort_values(by='total_delay', ascending=False)).reset_index(drop=True)\n",
        "print(sorted_group)\n"
      ],
      "outputs": [
        {
          "output_type": "stream",
          "name": "stdout",
          "text": "        Unnamed: 0  year  month  day  dep_delay  arr_delay carrier origin  \\\n0           123600  2014      6    3        310        308      EV    EWR   \n1             2178  2014      1    4        220        211      EV    EWR   \n2            10241  2014      1   15        151        158      EV    EWR   \n3            84933  2014      4   18        153        153      EV    EWR   \n4            72153  2014      4    3        144        160      EV    EWR   \n...            ...   ...    ...  ...        ...        ...     ...    ...   \n253311      222282  2014      9   24        -10        -40      MQ    LGA   \n253312      197346  2014      8   26        -12        -43      MQ    LGA   \n253313      204502  2014      9    3        -12        -48      MQ    LGA   \n253314      206193  2014      9    5        -12        -49      MQ    LGA   \n253315      198280  2014      8   27        -14        -50      MQ    LGA   \n\n       dest  air_time  distance  hour  total_delay  \n0       ALB        36       143    18          618  \n1       ALB        32       143    15          431  \n2       ALB        28       143    19          309  \n3       ALB        40       143    16          306  \n4       ALB        44       143    16          304  \n...     ...       ...       ...   ...          ...  \n253311  XNA       149      1147    14          -50  \n253312  XNA       146      1147    14          -55  \n253313  XNA       146      1147    14          -60  \n253314  XNA       147      1147    14          -61  \n253315  XNA       146      1147    14          -64  \n\n[253316 rows x 13 columns]\n"
        }
      ],
      "execution_count": 7,
      "metadata": {
        "gather": {
          "logged": 1737639633649
        }
      }
    },
    {
      "cell_type": "code",
      "source": [
        "# Crear columna de fecha completa\n",
        "df['date'] = pd.to_datetime(df[['year', 'month', 'day']])\n",
        "\n",
        "# Agrupar por fecha y aerolínea y sumar retrasos\n",
        "grouped_date_carrier = df.groupby(['date', 'carrier'])['total_delay'].sum().reset_index()\n",
        "\n",
        "# Ordenar por suma de retraso total dentro de los grupos\n",
        "sorted_group = grouped_date_carrier.sort_values(by='total_delay', ascending=False)\n",
        "print(sorted_group)\n"
      ],
      "outputs": [
        {
          "output_type": "stream",
          "name": "stdout",
          "text": "           date carrier  total_delay\n41   2014-01-04      B6        44745\n54   2014-01-05      B6        40968\n55   2014-01-05      DL        35392\n29   2014-01-03      DL        30180\n35   2014-01-03      UA        29968\n...         ...     ...          ...\n3196 2014-09-03      B6        -2581\n1924 2014-05-31      UA        -2625\n1405 2014-04-21      DL        -2641\n3910 2014-10-29      UA        -2670\n3882 2014-10-27      B6        -2676\n\n[3938 rows x 3 columns]\n"
        }
      ],
      "execution_count": 8,
      "metadata": {
        "gather": {
          "logged": 1737639684178
        }
      }
    },
    {
      "cell_type": "code",
      "source": [
        "# Agrupar por mes y origen y contar retrasos de salida\n",
        "delay_counts = df[df['dep_delay'] > 0].groupby(['month', 'origin']).size().reset_index(name='count')\n",
        "print(delay_counts)\n"
      ],
      "outputs": [
        {
          "output_type": "stream",
          "name": "stdout",
          "text": "    month origin  count\n0       1    EWR   4594\n1       1    JFK   3670\n2       1    LGA   3261\n3       2    EWR   3823\n4       2    JFK   3164\n5       2    LGA   2590\n6       3    EWR   3984\n7       3    JFK   2722\n8       3    LGA   2851\n9       4    EWR   3927\n10      4    JFK   2436\n11      4    LGA   2671\n12      5    EWR   3745\n13      5    JFK   3020\n14      5    LGA   3102\n15      6    EWR   4788\n16      6    JFK   3042\n17      6    LGA   3375\n18      7    EWR   4617\n19      7    JFK   3781\n20      7    LGA   3192\n21      8    EWR   4234\n22      8    JFK   3315\n23      8    LGA   3046\n24      9    EWR   2983\n25      9    JFK   2204\n26      9    LGA   2160\n27     10    EWR   3325\n28     10    JFK   2749\n29     10    LGA   3058\n"
        }
      ],
      "execution_count": 9,
      "metadata": {
        "gather": {
          "logged": 1737639721343
        }
      }
    },
    {
      "cell_type": "code",
      "source": [
        "# Cargar archivos Excel\n",
        "df_products = pd.read_excel('FoodMarket.xlsx', sheet_name='Products')\n",
        "df_sales = pd.read_excel('FoodMarket.xlsx', sheet_name='Sales')\n",
        "\n",
        "# Unir ambos dataframes\n",
        "df_merged = pd.merge(df_products, df_sales, on='product_id')\n",
        "print(df_merged)\n"
      ],
      "outputs": [
        {
          "output_type": "error",
          "ename": "ValueError",
          "evalue": "Worksheet named 'Sales' not found",
          "traceback": [
            "\u001b[0;31m---------------------------------------------------------------------------\u001b[0m",
            "\u001b[0;31mValueError\u001b[0m                                Traceback (most recent call last)",
            "Cell \u001b[0;32mIn[10], line 3\u001b[0m\n\u001b[1;32m      1\u001b[0m \u001b[38;5;66;03m# Cargar archivos Excel\u001b[39;00m\n\u001b[1;32m      2\u001b[0m df_products \u001b[38;5;241m=\u001b[39m pd\u001b[38;5;241m.\u001b[39mread_excel(\u001b[38;5;124m'\u001b[39m\u001b[38;5;124mFoodMarket.xlsx\u001b[39m\u001b[38;5;124m'\u001b[39m, sheet_name\u001b[38;5;241m=\u001b[39m\u001b[38;5;124m'\u001b[39m\u001b[38;5;124mProducts\u001b[39m\u001b[38;5;124m'\u001b[39m)\n\u001b[0;32m----> 3\u001b[0m df_sales \u001b[38;5;241m=\u001b[39m \u001b[43mpd\u001b[49m\u001b[38;5;241;43m.\u001b[39;49m\u001b[43mread_excel\u001b[49m\u001b[43m(\u001b[49m\u001b[38;5;124;43m'\u001b[39;49m\u001b[38;5;124;43mFoodMarket.xlsx\u001b[39;49m\u001b[38;5;124;43m'\u001b[39;49m\u001b[43m,\u001b[49m\u001b[43m \u001b[49m\u001b[43msheet_name\u001b[49m\u001b[38;5;241;43m=\u001b[39;49m\u001b[38;5;124;43m'\u001b[39;49m\u001b[38;5;124;43mSales\u001b[39;49m\u001b[38;5;124;43m'\u001b[39;49m\u001b[43m)\u001b[49m\n\u001b[1;32m      5\u001b[0m \u001b[38;5;66;03m# Unir ambos dataframes\u001b[39;00m\n\u001b[1;32m      6\u001b[0m df_merged \u001b[38;5;241m=\u001b[39m pd\u001b[38;5;241m.\u001b[39mmerge(df_products, df_sales, on\u001b[38;5;241m=\u001b[39m\u001b[38;5;124m'\u001b[39m\u001b[38;5;124mproduct_id\u001b[39m\u001b[38;5;124m'\u001b[39m)\n",
            "File \u001b[0;32m/anaconda/envs/azureml_py38/lib/python3.10/site-packages/pandas/util/_decorators.py:311\u001b[0m, in \u001b[0;36mdeprecate_nonkeyword_arguments.<locals>.decorate.<locals>.wrapper\u001b[0;34m(*args, **kwargs)\u001b[0m\n\u001b[1;32m    305\u001b[0m \u001b[38;5;28;01mif\u001b[39;00m \u001b[38;5;28mlen\u001b[39m(args) \u001b[38;5;241m>\u001b[39m num_allow_args:\n\u001b[1;32m    306\u001b[0m     warnings\u001b[38;5;241m.\u001b[39mwarn(\n\u001b[1;32m    307\u001b[0m         msg\u001b[38;5;241m.\u001b[39mformat(arguments\u001b[38;5;241m=\u001b[39marguments),\n\u001b[1;32m    308\u001b[0m         \u001b[38;5;167;01mFutureWarning\u001b[39;00m,\n\u001b[1;32m    309\u001b[0m         stacklevel\u001b[38;5;241m=\u001b[39mstacklevel,\n\u001b[1;32m    310\u001b[0m     )\n\u001b[0;32m--> 311\u001b[0m \u001b[38;5;28;01mreturn\u001b[39;00m \u001b[43mfunc\u001b[49m\u001b[43m(\u001b[49m\u001b[38;5;241;43m*\u001b[39;49m\u001b[43margs\u001b[49m\u001b[43m,\u001b[49m\u001b[43m \u001b[49m\u001b[38;5;241;43m*\u001b[39;49m\u001b[38;5;241;43m*\u001b[39;49m\u001b[43mkwargs\u001b[49m\u001b[43m)\u001b[49m\n",
            "File \u001b[0;32m/anaconda/envs/azureml_py38/lib/python3.10/site-packages/pandas/io/excel/_base.py:372\u001b[0m, in \u001b[0;36mread_excel\u001b[0;34m(io, sheet_name, header, names, index_col, usecols, squeeze, dtype, engine, converters, true_values, false_values, skiprows, nrows, na_values, keep_default_na, na_filter, verbose, parse_dates, date_parser, thousands, comment, skipfooter, convert_float, mangle_dupe_cols, storage_options)\u001b[0m\n\u001b[1;32m    366\u001b[0m     \u001b[38;5;28;01mraise\u001b[39;00m \u001b[38;5;167;01mValueError\u001b[39;00m(\n\u001b[1;32m    367\u001b[0m         \u001b[38;5;124m\"\u001b[39m\u001b[38;5;124mEngine should not be specified when passing \u001b[39m\u001b[38;5;124m\"\u001b[39m\n\u001b[1;32m    368\u001b[0m         \u001b[38;5;124m\"\u001b[39m\u001b[38;5;124man ExcelFile - ExcelFile already has the engine set\u001b[39m\u001b[38;5;124m\"\u001b[39m\n\u001b[1;32m    369\u001b[0m     )\n\u001b[1;32m    371\u001b[0m \u001b[38;5;28;01mtry\u001b[39;00m:\n\u001b[0;32m--> 372\u001b[0m     data \u001b[38;5;241m=\u001b[39m \u001b[43mio\u001b[49m\u001b[38;5;241;43m.\u001b[39;49m\u001b[43mparse\u001b[49m\u001b[43m(\u001b[49m\n\u001b[1;32m    373\u001b[0m \u001b[43m        \u001b[49m\u001b[43msheet_name\u001b[49m\u001b[38;5;241;43m=\u001b[39;49m\u001b[43msheet_name\u001b[49m\u001b[43m,\u001b[49m\n\u001b[1;32m    374\u001b[0m \u001b[43m        \u001b[49m\u001b[43mheader\u001b[49m\u001b[38;5;241;43m=\u001b[39;49m\u001b[43mheader\u001b[49m\u001b[43m,\u001b[49m\n\u001b[1;32m    375\u001b[0m \u001b[43m        \u001b[49m\u001b[43mnames\u001b[49m\u001b[38;5;241;43m=\u001b[39;49m\u001b[43mnames\u001b[49m\u001b[43m,\u001b[49m\n\u001b[1;32m    376\u001b[0m \u001b[43m        \u001b[49m\u001b[43mindex_col\u001b[49m\u001b[38;5;241;43m=\u001b[39;49m\u001b[43mindex_col\u001b[49m\u001b[43m,\u001b[49m\n\u001b[1;32m    377\u001b[0m \u001b[43m        \u001b[49m\u001b[43musecols\u001b[49m\u001b[38;5;241;43m=\u001b[39;49m\u001b[43musecols\u001b[49m\u001b[43m,\u001b[49m\n\u001b[1;32m    378\u001b[0m \u001b[43m        \u001b[49m\u001b[43msqueeze\u001b[49m\u001b[38;5;241;43m=\u001b[39;49m\u001b[43msqueeze\u001b[49m\u001b[43m,\u001b[49m\n\u001b[1;32m    379\u001b[0m \u001b[43m        \u001b[49m\u001b[43mdtype\u001b[49m\u001b[38;5;241;43m=\u001b[39;49m\u001b[43mdtype\u001b[49m\u001b[43m,\u001b[49m\n\u001b[1;32m    380\u001b[0m \u001b[43m        \u001b[49m\u001b[43mconverters\u001b[49m\u001b[38;5;241;43m=\u001b[39;49m\u001b[43mconverters\u001b[49m\u001b[43m,\u001b[49m\n\u001b[1;32m    381\u001b[0m \u001b[43m        \u001b[49m\u001b[43mtrue_values\u001b[49m\u001b[38;5;241;43m=\u001b[39;49m\u001b[43mtrue_values\u001b[49m\u001b[43m,\u001b[49m\n\u001b[1;32m    382\u001b[0m \u001b[43m        \u001b[49m\u001b[43mfalse_values\u001b[49m\u001b[38;5;241;43m=\u001b[39;49m\u001b[43mfalse_values\u001b[49m\u001b[43m,\u001b[49m\n\u001b[1;32m    383\u001b[0m \u001b[43m        \u001b[49m\u001b[43mskiprows\u001b[49m\u001b[38;5;241;43m=\u001b[39;49m\u001b[43mskiprows\u001b[49m\u001b[43m,\u001b[49m\n\u001b[1;32m    384\u001b[0m \u001b[43m        \u001b[49m\u001b[43mnrows\u001b[49m\u001b[38;5;241;43m=\u001b[39;49m\u001b[43mnrows\u001b[49m\u001b[43m,\u001b[49m\n\u001b[1;32m    385\u001b[0m \u001b[43m        \u001b[49m\u001b[43mna_values\u001b[49m\u001b[38;5;241;43m=\u001b[39;49m\u001b[43mna_values\u001b[49m\u001b[43m,\u001b[49m\n\u001b[1;32m    386\u001b[0m \u001b[43m        \u001b[49m\u001b[43mkeep_default_na\u001b[49m\u001b[38;5;241;43m=\u001b[39;49m\u001b[43mkeep_default_na\u001b[49m\u001b[43m,\u001b[49m\n\u001b[1;32m    387\u001b[0m \u001b[43m        \u001b[49m\u001b[43mna_filter\u001b[49m\u001b[38;5;241;43m=\u001b[39;49m\u001b[43mna_filter\u001b[49m\u001b[43m,\u001b[49m\n\u001b[1;32m    388\u001b[0m \u001b[43m        \u001b[49m\u001b[43mverbose\u001b[49m\u001b[38;5;241;43m=\u001b[39;49m\u001b[43mverbose\u001b[49m\u001b[43m,\u001b[49m\n\u001b[1;32m    389\u001b[0m \u001b[43m        \u001b[49m\u001b[43mparse_dates\u001b[49m\u001b[38;5;241;43m=\u001b[39;49m\u001b[43mparse_dates\u001b[49m\u001b[43m,\u001b[49m\n\u001b[1;32m    390\u001b[0m \u001b[43m        \u001b[49m\u001b[43mdate_parser\u001b[49m\u001b[38;5;241;43m=\u001b[39;49m\u001b[43mdate_parser\u001b[49m\u001b[43m,\u001b[49m\n\u001b[1;32m    391\u001b[0m \u001b[43m        \u001b[49m\u001b[43mthousands\u001b[49m\u001b[38;5;241;43m=\u001b[39;49m\u001b[43mthousands\u001b[49m\u001b[43m,\u001b[49m\n\u001b[1;32m    392\u001b[0m \u001b[43m        \u001b[49m\u001b[43mcomment\u001b[49m\u001b[38;5;241;43m=\u001b[39;49m\u001b[43mcomment\u001b[49m\u001b[43m,\u001b[49m\n\u001b[1;32m    393\u001b[0m \u001b[43m        \u001b[49m\u001b[43mskipfooter\u001b[49m\u001b[38;5;241;43m=\u001b[39;49m\u001b[43mskipfooter\u001b[49m\u001b[43m,\u001b[49m\n\u001b[1;32m    394\u001b[0m \u001b[43m        \u001b[49m\u001b[43mconvert_float\u001b[49m\u001b[38;5;241;43m=\u001b[39;49m\u001b[43mconvert_float\u001b[49m\u001b[43m,\u001b[49m\n\u001b[1;32m    395\u001b[0m \u001b[43m        \u001b[49m\u001b[43mmangle_dupe_cols\u001b[49m\u001b[38;5;241;43m=\u001b[39;49m\u001b[43mmangle_dupe_cols\u001b[49m\u001b[43m,\u001b[49m\n\u001b[1;32m    396\u001b[0m \u001b[43m    \u001b[49m\u001b[43m)\u001b[49m\n\u001b[1;32m    397\u001b[0m \u001b[38;5;28;01mfinally\u001b[39;00m:\n\u001b[1;32m    398\u001b[0m     \u001b[38;5;66;03m# make sure to close opened file handles\u001b[39;00m\n\u001b[1;32m    399\u001b[0m     \u001b[38;5;28;01mif\u001b[39;00m should_close:\n",
            "File \u001b[0;32m/anaconda/envs/azureml_py38/lib/python3.10/site-packages/pandas/io/excel/_base.py:1272\u001b[0m, in \u001b[0;36mExcelFile.parse\u001b[0;34m(self, sheet_name, header, names, index_col, usecols, squeeze, converters, true_values, false_values, skiprows, nrows, na_values, parse_dates, date_parser, thousands, comment, skipfooter, convert_float, mangle_dupe_cols, **kwds)\u001b[0m\n\u001b[1;32m   1238\u001b[0m \u001b[38;5;28;01mdef\u001b[39;00m \u001b[38;5;21mparse\u001b[39m(\n\u001b[1;32m   1239\u001b[0m     \u001b[38;5;28mself\u001b[39m,\n\u001b[1;32m   1240\u001b[0m     sheet_name\u001b[38;5;241m=\u001b[39m\u001b[38;5;241m0\u001b[39m,\n\u001b[0;32m   (...)\u001b[0m\n\u001b[1;32m   1259\u001b[0m     \u001b[38;5;241m*\u001b[39m\u001b[38;5;241m*\u001b[39mkwds,\n\u001b[1;32m   1260\u001b[0m ):\n\u001b[1;32m   1261\u001b[0m \u001b[38;5;250m    \u001b[39m\u001b[38;5;124;03m\"\"\"\u001b[39;00m\n\u001b[1;32m   1262\u001b[0m \u001b[38;5;124;03m    Parse specified sheet(s) into a DataFrame.\u001b[39;00m\n\u001b[1;32m   1263\u001b[0m \n\u001b[0;32m   (...)\u001b[0m\n\u001b[1;32m   1270\u001b[0m \u001b[38;5;124;03m        DataFrame from the passed in Excel file.\u001b[39;00m\n\u001b[1;32m   1271\u001b[0m \u001b[38;5;124;03m    \"\"\"\u001b[39;00m\n\u001b[0;32m-> 1272\u001b[0m     \u001b[38;5;28;01mreturn\u001b[39;00m \u001b[38;5;28;43mself\u001b[39;49m\u001b[38;5;241;43m.\u001b[39;49m\u001b[43m_reader\u001b[49m\u001b[38;5;241;43m.\u001b[39;49m\u001b[43mparse\u001b[49m\u001b[43m(\u001b[49m\n\u001b[1;32m   1273\u001b[0m \u001b[43m        \u001b[49m\u001b[43msheet_name\u001b[49m\u001b[38;5;241;43m=\u001b[39;49m\u001b[43msheet_name\u001b[49m\u001b[43m,\u001b[49m\n\u001b[1;32m   1274\u001b[0m \u001b[43m        \u001b[49m\u001b[43mheader\u001b[49m\u001b[38;5;241;43m=\u001b[39;49m\u001b[43mheader\u001b[49m\u001b[43m,\u001b[49m\n\u001b[1;32m   1275\u001b[0m \u001b[43m        \u001b[49m\u001b[43mnames\u001b[49m\u001b[38;5;241;43m=\u001b[39;49m\u001b[43mnames\u001b[49m\u001b[43m,\u001b[49m\n\u001b[1;32m   1276\u001b[0m \u001b[43m        \u001b[49m\u001b[43mindex_col\u001b[49m\u001b[38;5;241;43m=\u001b[39;49m\u001b[43mindex_col\u001b[49m\u001b[43m,\u001b[49m\n\u001b[1;32m   1277\u001b[0m \u001b[43m        \u001b[49m\u001b[43musecols\u001b[49m\u001b[38;5;241;43m=\u001b[39;49m\u001b[43musecols\u001b[49m\u001b[43m,\u001b[49m\n\u001b[1;32m   1278\u001b[0m \u001b[43m        \u001b[49m\u001b[43msqueeze\u001b[49m\u001b[38;5;241;43m=\u001b[39;49m\u001b[43msqueeze\u001b[49m\u001b[43m,\u001b[49m\n\u001b[1;32m   1279\u001b[0m \u001b[43m        \u001b[49m\u001b[43mconverters\u001b[49m\u001b[38;5;241;43m=\u001b[39;49m\u001b[43mconverters\u001b[49m\u001b[43m,\u001b[49m\n\u001b[1;32m   1280\u001b[0m \u001b[43m        \u001b[49m\u001b[43mtrue_values\u001b[49m\u001b[38;5;241;43m=\u001b[39;49m\u001b[43mtrue_values\u001b[49m\u001b[43m,\u001b[49m\n\u001b[1;32m   1281\u001b[0m \u001b[43m        \u001b[49m\u001b[43mfalse_values\u001b[49m\u001b[38;5;241;43m=\u001b[39;49m\u001b[43mfalse_values\u001b[49m\u001b[43m,\u001b[49m\n\u001b[1;32m   1282\u001b[0m \u001b[43m        \u001b[49m\u001b[43mskiprows\u001b[49m\u001b[38;5;241;43m=\u001b[39;49m\u001b[43mskiprows\u001b[49m\u001b[43m,\u001b[49m\n\u001b[1;32m   1283\u001b[0m \u001b[43m        \u001b[49m\u001b[43mnrows\u001b[49m\u001b[38;5;241;43m=\u001b[39;49m\u001b[43mnrows\u001b[49m\u001b[43m,\u001b[49m\n\u001b[1;32m   1284\u001b[0m \u001b[43m        \u001b[49m\u001b[43mna_values\u001b[49m\u001b[38;5;241;43m=\u001b[39;49m\u001b[43mna_values\u001b[49m\u001b[43m,\u001b[49m\n\u001b[1;32m   1285\u001b[0m \u001b[43m        \u001b[49m\u001b[43mparse_dates\u001b[49m\u001b[38;5;241;43m=\u001b[39;49m\u001b[43mparse_dates\u001b[49m\u001b[43m,\u001b[49m\n\u001b[1;32m   1286\u001b[0m \u001b[43m        \u001b[49m\u001b[43mdate_parser\u001b[49m\u001b[38;5;241;43m=\u001b[39;49m\u001b[43mdate_parser\u001b[49m\u001b[43m,\u001b[49m\n\u001b[1;32m   1287\u001b[0m \u001b[43m        \u001b[49m\u001b[43mthousands\u001b[49m\u001b[38;5;241;43m=\u001b[39;49m\u001b[43mthousands\u001b[49m\u001b[43m,\u001b[49m\n\u001b[1;32m   1288\u001b[0m \u001b[43m        \u001b[49m\u001b[43mcomment\u001b[49m\u001b[38;5;241;43m=\u001b[39;49m\u001b[43mcomment\u001b[49m\u001b[43m,\u001b[49m\n\u001b[1;32m   1289\u001b[0m \u001b[43m        \u001b[49m\u001b[43mskipfooter\u001b[49m\u001b[38;5;241;43m=\u001b[39;49m\u001b[43mskipfooter\u001b[49m\u001b[43m,\u001b[49m\n\u001b[1;32m   1290\u001b[0m \u001b[43m        \u001b[49m\u001b[43mconvert_float\u001b[49m\u001b[38;5;241;43m=\u001b[39;49m\u001b[43mconvert_float\u001b[49m\u001b[43m,\u001b[49m\n\u001b[1;32m   1291\u001b[0m \u001b[43m        \u001b[49m\u001b[43mmangle_dupe_cols\u001b[49m\u001b[38;5;241;43m=\u001b[39;49m\u001b[43mmangle_dupe_cols\u001b[49m\u001b[43m,\u001b[49m\n\u001b[1;32m   1292\u001b[0m \u001b[43m        \u001b[49m\u001b[38;5;241;43m*\u001b[39;49m\u001b[38;5;241;43m*\u001b[39;49m\u001b[43mkwds\u001b[49m\u001b[43m,\u001b[49m\n\u001b[1;32m   1293\u001b[0m \u001b[43m    \u001b[49m\u001b[43m)\u001b[49m\n",
            "File \u001b[0;32m/anaconda/envs/azureml_py38/lib/python3.10/site-packages/pandas/io/excel/_base.py:535\u001b[0m, in \u001b[0;36mBaseExcelReader.parse\u001b[0;34m(self, sheet_name, header, names, index_col, usecols, squeeze, dtype, true_values, false_values, skiprows, nrows, na_values, verbose, parse_dates, date_parser, thousands, comment, skipfooter, convert_float, mangle_dupe_cols, **kwds)\u001b[0m\n\u001b[1;32m    532\u001b[0m     \u001b[38;5;28mprint\u001b[39m(\u001b[38;5;124mf\u001b[39m\u001b[38;5;124m\"\u001b[39m\u001b[38;5;124mReading sheet \u001b[39m\u001b[38;5;132;01m{\u001b[39;00masheetname\u001b[38;5;132;01m}\u001b[39;00m\u001b[38;5;124m\"\u001b[39m)\n\u001b[1;32m    534\u001b[0m \u001b[38;5;28;01mif\u001b[39;00m \u001b[38;5;28misinstance\u001b[39m(asheetname, \u001b[38;5;28mstr\u001b[39m):\n\u001b[0;32m--> 535\u001b[0m     sheet \u001b[38;5;241m=\u001b[39m \u001b[38;5;28;43mself\u001b[39;49m\u001b[38;5;241;43m.\u001b[39;49m\u001b[43mget_sheet_by_name\u001b[49m\u001b[43m(\u001b[49m\u001b[43masheetname\u001b[49m\u001b[43m)\u001b[49m\n\u001b[1;32m    536\u001b[0m \u001b[38;5;28;01melse\u001b[39;00m:  \u001b[38;5;66;03m# assume an integer if not a string\u001b[39;00m\n\u001b[1;32m    537\u001b[0m     sheet \u001b[38;5;241m=\u001b[39m \u001b[38;5;28mself\u001b[39m\u001b[38;5;241m.\u001b[39mget_sheet_by_index(asheetname)\n",
            "File \u001b[0;32m/anaconda/envs/azureml_py38/lib/python3.10/site-packages/pandas/io/excel/_openpyxl.py:542\u001b[0m, in \u001b[0;36mOpenpyxlReader.get_sheet_by_name\u001b[0;34m(self, name)\u001b[0m\n\u001b[1;32m    541\u001b[0m \u001b[38;5;28;01mdef\u001b[39;00m \u001b[38;5;21mget_sheet_by_name\u001b[39m(\u001b[38;5;28mself\u001b[39m, name: \u001b[38;5;28mstr\u001b[39m):\n\u001b[0;32m--> 542\u001b[0m     \u001b[38;5;28;43mself\u001b[39;49m\u001b[38;5;241;43m.\u001b[39;49m\u001b[43mraise_if_bad_sheet_by_name\u001b[49m\u001b[43m(\u001b[49m\u001b[43mname\u001b[49m\u001b[43m)\u001b[49m\n\u001b[1;32m    543\u001b[0m     \u001b[38;5;28;01mreturn\u001b[39;00m \u001b[38;5;28mself\u001b[39m\u001b[38;5;241m.\u001b[39mbook[name]\n",
            "File \u001b[0;32m/anaconda/envs/azureml_py38/lib/python3.10/site-packages/pandas/io/excel/_base.py:474\u001b[0m, in \u001b[0;36mBaseExcelReader.raise_if_bad_sheet_by_name\u001b[0;34m(self, name)\u001b[0m\n\u001b[1;32m    472\u001b[0m \u001b[38;5;28;01mdef\u001b[39;00m \u001b[38;5;21mraise_if_bad_sheet_by_name\u001b[39m(\u001b[38;5;28mself\u001b[39m, name: \u001b[38;5;28mstr\u001b[39m) \u001b[38;5;241m-\u001b[39m\u001b[38;5;241m>\u001b[39m \u001b[38;5;28;01mNone\u001b[39;00m:\n\u001b[1;32m    473\u001b[0m     \u001b[38;5;28;01mif\u001b[39;00m name \u001b[38;5;129;01mnot\u001b[39;00m \u001b[38;5;129;01min\u001b[39;00m \u001b[38;5;28mself\u001b[39m\u001b[38;5;241m.\u001b[39msheet_names:\n\u001b[0;32m--> 474\u001b[0m         \u001b[38;5;28;01mraise\u001b[39;00m \u001b[38;5;167;01mValueError\u001b[39;00m(\u001b[38;5;124mf\u001b[39m\u001b[38;5;124m\"\u001b[39m\u001b[38;5;124mWorksheet named \u001b[39m\u001b[38;5;124m'\u001b[39m\u001b[38;5;132;01m{\u001b[39;00mname\u001b[38;5;132;01m}\u001b[39;00m\u001b[38;5;124m'\u001b[39m\u001b[38;5;124m not found\u001b[39m\u001b[38;5;124m\"\u001b[39m)\n",
            "\u001b[0;31mValueError\u001b[0m: Worksheet named 'Sales' not found"
          ]
        }
      ],
      "execution_count": 10,
      "metadata": {
        "gather": {
          "logged": 1737639959332
        }
      }
    },
    {
      "cell_type": "markdown",
      "source": [
        "**Determinar la calidad de los datos**"
      ],
      "metadata": {
        "nteract": {
          "transient": {
            "deleting": false
          }
        }
      }
    },
    {
      "cell_type": "code",
      "source": [
        "import pandas as pd\n",
        "\n",
        "# Cargar el archivo\n",
        "file_path = \"/mnt/batch/tasks/shared/LS_root/mounts/clusters/aurelio-parra/code/Users/aurelio.sosa.netmind/Pandas/Users/aurelio.sosa.netmind/Pandas/housing.csv\"\n",
        "df = pd.read_csv(file_path)\n",
        "\n",
        "# Evaluación de calidad de datos\n",
        "\n",
        "# 1. Completitud (Valores faltantes)\n",
        "missing_values = df.isnull().sum()\n",
        "missing_percentage = (missing_values / len(df)) * 100\n",
        "\n",
        "# 2. Duplicados\n",
        "duplicate_rows = df[df.duplicated()]\n",
        "\n",
        "# 3. Outliers usando IQR\n",
        "Q1 = df.quantile(0.25)\n",
        "Q3 = df.quantile(0.75)\n",
        "IQR = Q3 - Q1\n",
        "\n",
        "# Identificar valores atípicos en cada columna numérica\n",
        "outliers = ((df < (Q1 - 1.5 * IQR)) | (df > (Q3 + 1.5 * IQR))).sum()\n",
        "\n",
        "# 4. Resumen de calidad\n",
        "quality_report = pd.DataFrame({\n",
        "    \"Missing Values\": missing_values,\n",
        "    \"Missing %\": missing_percentage,\n",
        "    \"Outliers\": outliers,\n",
        "    \"Duplicate Rows\": len(duplicate_rows)\n",
        "})\n",
        "\n",
        "# Mostrar los resultados\n",
        "import ace_tools as tools\n",
        "tools.display_dataframe_to_user(name=\"Reporte de Calidad de Datos\", dataframe=quality_report)\n",
        "\n"
      ],
      "outputs": [],
      "execution_count": null,
      "metadata": {
        "gather": {
          "logged": 1738231341380
        }
      }
    },
    {
      "cell_type": "code",
      "source": [
        "import os\n",
        "\n",
        "# Ruta relativa del archivo\n",
        "file_path = \"Users/aurelio.sosa.netmind/Pandas/housing.csv\"\n",
        "\n",
        "# Obtener la ruta absoluta\n",
        "absolute_path = os.path.abspath(file_path)\n",
        "\n",
        "# Imprimir la ruta absoluta\n",
        "print(\"Ruta absoluta del archivo:\", absolute_path)"
      ],
      "outputs": [
        {
          "output_type": "stream",
          "name": "stdout",
          "text": "Ruta absoluta del archivo: /mnt/batch/tasks/shared/LS_root/mounts/clusters/aurelio-parra/code/Users/aurelio.sosa.netmind/Pandas/Users/aurelio.sosa.netmind/Pandas/housing.csv\n"
        }
      ],
      "execution_count": 10,
      "metadata": {
        "gather": {
          "logged": 1738231226458
        }
      }
    },
    {
      "cell_type": "code",
      "source": [
        "import pandas as pd\n",
        "import os\n",
        "\n",
        "# Ruta del archivo en Azure\n",
        "file_path = \"/mnt/batch/tasks/shared/LS_root/mounts/clusters/aurelio-parra/code/Users/aurelio.sosa.netmind/Pandas/Users/aurelio.sosa.netmind/Pandas/housing.csv\"\n",
        "\n",
        "# Verificar si el archivo existe\n",
        "if os.path.exists(file_path):\n",
        "    # Cargar el dataset\n",
        "    df = pd.read_csv(file_path)\n",
        "\n",
        "    # 1. Completitud (Valores faltantes)\n",
        "    missing_values = df.isnull().sum()\n",
        "    missing_percentage = (missing_values / len(df)) * 100\n",
        "\n",
        "    # 2. Duplicados\n",
        "    duplicate_rows = df[df.duplicated()]\n",
        "\n",
        "    # 3. Outliers usando IQR (Rango intercuartil)\n",
        "    Q1 = df.quantile(0.25, numeric_only=True)\n",
        "    Q3 = df.quantile(0.75, numeric_only=True)\n",
        "    IQR = Q3 - Q1\n",
        "\n",
        "    # Identificar valores atípicos en cada columna numérica\n",
        "    outliers = ((df < (Q1 - 1.5 * IQR)) | (df > (Q3 + 1.5 * IQR))).sum()\n",
        "\n",
        "    # 4. Resumen de calidad\n",
        "    quality_report = pd.DataFrame({\n",
        "        \"Missing Values\": missing_values,\n",
        "        \"Missing %\": missing_percentage,\n",
        "        \"Outliers\": outliers,\n",
        "        \"Duplicate Rows\": len(duplicate_rows)\n",
        "    })\n",
        "\n",
        "    # Mostrar el reporte\n",
        "    print(\"🔍 Reporte de Calidad de los Datos:\")\n",
        "    print(quality_report)\n",
        "else:\n",
        "    print(f\"❌ El archivo no se encuentra en la ruta: {file_path}\")\n"
      ],
      "outputs": [
        {
          "output_type": "stream",
          "name": "stdout",
          "text": "❌ El archivo no se encuentra en la ruta: /mnt/batch/tasks/shared/LS_root/mounts/clusters/aurelio-parra/code/Users/aurelio.sosa.netmind/Pandas/Users/aurelio.sosa.netmind/Pandas/housing.csv\n"
        }
      ],
      "execution_count": 13,
      "metadata": {
        "gather": {
          "logged": 1738231440706
        }
      }
    },
    {
      "cell_type": "code",
      "source": [
        "import os\n",
        "\n",
        "# Ruta del directorio donde debería estar el archivo\n",
        "directory_path = r\"/mnt/batch/tasks/shared/LS_root/mounts/clusters/aurelio-parra/code/Users/aurelio.sosa.netmind/Pandas/Users/aurelio.sosa.netmind/Pandas/\"\n",
        "\n",
        "# Listar archivos en el directorio\n",
        "if os.path.exists(directory_path):\n",
        "    print(\"Archivos en el directorio:\")\n",
        "    print(os.listdir(directory_path))\n",
        "else:\n",
        "    print(f\"❌ La ruta no existe: {directory_path}\")\n"
      ],
      "outputs": [
        {
          "output_type": "stream",
          "name": "stdout",
          "text": "❌ La ruta no existe: /mnt/batch/tasks/shared/LS_root/mounts/clusters/aurelio-parra/code/Users/aurelio.sosa.netmind/Pandas/Users/aurelio.sosa.netmind/Pandas/\n"
        }
      ],
      "execution_count": 5,
      "metadata": {
        "gather": {
          "logged": 1738232296490
        }
      }
    },
    {
      "cell_type": "code",
      "source": [
        "import pandas as pd\n",
        "import numpy as np\n",
        "\n",
        "# Crear un DataFrame con valores nulos\n",
        "df = pd.DataFrame({\n",
        "    'A': [1, 2, np.nan, 4],\n",
        "    'B': [None, 5, 6, 7]\n",
        "})\n",
        "\n",
        "# Ver valores nulos\n",
        "print(df.isnull())  # Muestra True en valores nulos\n",
        "print(df.isnull().sum())  # Cuenta los nulos por columna\n"
      ],
      "outputs": [
        {
          "output_type": "stream",
          "name": "stdout",
          "text": "       A      B\n0  False   True\n1  False  False\n2   True  False\n3  False  False\nA    1\nB    1\ndtype: int64\n"
        }
      ],
      "execution_count": 1,
      "metadata": {
        "gather": {
          "logged": 1738572174207
        }
      }
    },
    {
      "cell_type": "code",
      "source": [
        "df_cleaned = df.dropna()  # Elimina filas con valores nulos\n",
        "print(df_cleaned)\n"
      ],
      "outputs": [
        {
          "output_type": "stream",
          "name": "stdout",
          "text": "     A    B\n1  2.0  5.0\n3  4.0  7.0\n"
        }
      ],
      "execution_count": 2,
      "metadata": {
        "gather": {
          "logged": 1738572297460
        }
      }
    },
    {
      "cell_type": "code",
      "source": [
        "df_filled = df.fillna(0)  # Reemplaza nulos con 0\n",
        "df_filled = df.fillna(df.mean())  # Rellena con el promedio de cada columna\n",
        "print(df_filled)\n"
      ],
      "outputs": [
        {
          "output_type": "stream",
          "name": "stdout",
          "text": "          A    B\n0  1.000000  6.0\n1  2.000000  5.0\n2  2.333333  6.0\n3  4.000000  7.0\n"
        }
      ],
      "execution_count": 3,
      "metadata": {
        "gather": {
          "logged": 1738572378865
        }
      }
    },
    {
      "cell_type": "code",
      "source": [
        "df = pd.DataFrame({\n",
        "    'Edad': [25, -3, 150, 30, 28],  # Edad negativa o fuera de rango\n",
        "    'Género': ['M', 'F', 'Otro', 'Desconocido', 'Mujer']  # Valores mal categorizados\n",
        "})\n",
        "\n",
        "# Detectar valores fuera de rango en Edad\n",
        "df['Edad_invalida'] = (df['Edad'] < 0) | (df['Edad'] > 120)\n",
        "print(df[df['Edad_invalida']])\n",
        "\n",
        "# Ver categorías únicas en Género\n",
        "print(df['Género'].unique())\n"
      ],
      "outputs": [
        {
          "output_type": "stream",
          "name": "stdout",
          "text": "   Edad Género  Edad_invalida\n1    -3      F           True\n2   150   Otro           True\n['M' 'F' 'Otro' 'Desconocido' 'Mujer']\n"
        }
      ],
      "execution_count": 4,
      "metadata": {
        "gather": {
          "logged": 1738572490373
        }
      }
    },
    {
      "cell_type": "code",
      "source": [
        "# Reemplazar valores erróneos en Género\n",
        "df['Género'] = df['Género'].replace({'Mujer': 'F', 'Desconocido': 'Otro'})\n",
        "print(df)\n",
        "\n",
        "# Ajustar edades incorrectas\n",
        "df['Edad'] = df['Edad'].apply(lambda x: np.nan if x < 0 or x > 120 else x)\n"
      ],
      "outputs": [
        {
          "output_type": "stream",
          "name": "stdout",
          "text": "   Edad Género  Edad_invalida\n0    25      M          False\n1    -3      F           True\n2   150   Otro           True\n3    30   Otro          False\n4    28      F          False\n"
        }
      ],
      "execution_count": 5,
      "metadata": {
        "gather": {
          "logged": 1738572575992
        }
      }
    },
    {
      "cell_type": "code",
      "source": [
        "df = pd.DataFrame({\n",
        "    'ID': [1, 2, 2, 3, 4, 4],\n",
        "    'Nombre': ['Ana', 'Luis', 'Luis', 'Carlos', 'Laura', 'Laura']\n",
        "})\n",
        "\n",
        "# Detectar duplicados\n",
        "print(df.duplicated())  # Devuelve True en filas duplicadas\n"
      ],
      "outputs": [
        {
          "output_type": "stream",
          "name": "stdout",
          "text": "0    False\n1    False\n2     True\n3    False\n4    False\n5     True\ndtype: bool\n"
        }
      ],
      "execution_count": 6,
      "metadata": {
        "gather": {
          "logged": 1738572672234
        }
      }
    },
    {
      "cell_type": "code",
      "source": [
        "df = df.drop_duplicates()  # Elimina duplicados\n",
        "print(df)\n"
      ],
      "outputs": [
        {
          "output_type": "stream",
          "name": "stdout",
          "text": "   ID  Nombre\n0   1     Ana\n1   2    Luis\n3   3  Carlos\n4   4   Laura\n"
        }
      ],
      "execution_count": 7,
      "metadata": {
        "gather": {
          "logged": 1738572745224
        }
      }
    },
    {
      "cell_type": "code",
      "source": [
        "df = pd.DataFrame({\n",
        "    'Fecha': ['2024-02-01', '02/03/2024', 'Enero 5, 2024'],  # Formatos inconsistentes\n",
        "    'Precio': ['100.5', '200$', '300']  # Valores con caracteres incorrectos\n",
        "})\n",
        "\n",
        "# Convertir fecha a formato estándar\n",
        "df['Fecha'] = pd.to_datetime(df['Fecha'], errors='coerce')\n",
        "\n",
        "# Convertir precios a número (eliminando caracteres no numéricos)\n",
        "df['Precio'] = df['Precio'].replace('[^\\d.]', '', regex=True).astype(float)\n",
        "print(df)\n"
      ],
      "outputs": [
        {
          "output_type": "stream",
          "name": "stdout",
          "text": "       Fecha  Precio\n0 2024-02-01   100.5\n1 2024-02-03   200.0\n2        NaT   300.0\n"
        }
      ],
      "execution_count": 8,
      "metadata": {
        "gather": {
          "logged": 1738572830278
        }
      }
    },
    {
      "cell_type": "code",
      "source": [
        "import pandas as pd\n",
        "import numpy as np\n",
        "\n",
        "# Crear un DataFrame con diferentes tipos de datos\n",
        "df = pd.DataFrame({\n",
        "    'ID': [1, 2, 3, 4, 5],\n",
        "    'Edad': [25, np.nan, 30, 40, 22],\n",
        "    'Salario': [50000, 60000, np.nan, 70000, 55000],\n",
        "    'Género': ['M', 'F', 'M', 'F', 'M'],\n",
        "    'Fecha': pd.to_datetime(['2024-01-01', '2024-02-15', '2024-03-10', np.nan, '2024-04-05'])\n",
        "})\n",
        "\n",
        "# Seleccionar solo columnas numéricas\n",
        "df_numericas = df.select_dtypes(include=['number'])\n",
        "print(df_numericas)\n",
        "\n",
        "# Seleccionar solo columnas de tipo objeto (categóricas)\n",
        "df_categoricas = df.select_dtypes(include=['object'])\n",
        "print(df_categoricas)\n"
      ],
      "outputs": [
        {
          "output_type": "stream",
          "name": "stdout",
          "text": "   ID  Edad  Salario\n0   1  25.0  50000.0\n1   2   NaN  60000.0\n2   3  30.0      NaN\n3   4  40.0  70000.0\n4   5  22.0  55000.0\n  Género\n0      M\n1      F\n2      M\n3      F\n4      M\n"
        }
      ],
      "execution_count": 1,
      "metadata": {
        "gather": {
          "logged": 1738574342556
        }
      }
    },
    {
      "cell_type": "code",
      "source": [
        "# Ver valores únicos en la columna 'Género'\n",
        "print(df['Género'].unique())\n",
        "\n",
        "# Contar cuántos valores únicos tiene la columna 'Género'\n",
        "print(df['Género'].nunique())\n"
      ],
      "outputs": [
        {
          "output_type": "stream",
          "name": "stdout",
          "text": "['M' 'F']\n2\n"
        }
      ],
      "execution_count": 2,
      "metadata": {
        "gather": {
          "logged": 1738574454579
        }
      }
    },
    {
      "cell_type": "code",
      "source": [
        "df['Género'] = df['Género'].replace({'Masculino': 'M', 'Femenino': 'F', 'm': 'M', 'f': 'F'})\n"
      ],
      "outputs": [],
      "execution_count": 3,
      "metadata": {
        "gather": {
          "logged": 1738574540531
        }
      }
    },
    {
      "cell_type": "code",
      "source": [
        "# Resumen estadístico de las columnas numéricas\n",
        "print(df.describe())\n",
        "\n",
        "# Ver la frecuencia de cada valor en 'Género'\n",
        "print(df['Género'].value_counts())\n"
      ],
      "outputs": [
        {
          "output_type": "stream",
          "name": "stdout",
          "text": "             ID       Edad       Salario\ncount  5.000000   4.000000      4.000000\nmean   3.000000  29.250000  58750.000000\nstd    1.581139   7.889867   8539.125638\nmin    1.000000  22.000000  50000.000000\n25%    2.000000  24.250000  53750.000000\n50%    3.000000  27.500000  57500.000000\n75%    4.000000  32.500000  62500.000000\nmax    5.000000  40.000000  70000.000000\nM    3\nF    2\nName: Género, dtype: int64\n"
        }
      ],
      "execution_count": 4,
      "metadata": {
        "gather": {
          "logged": 1738574753463
        }
      }
    },
    {
      "cell_type": "code",
      "source": [
        "df.loc[(df['Edad'] < 0) | (df['Edad'] > 120), 'Edad'] = np.nan\n"
      ],
      "outputs": [],
      "execution_count": 5,
      "metadata": {
        "gather": {
          "logged": 1738574885374
        }
      }
    },
    {
      "cell_type": "code",
      "source": [
        "df['Edad'].fillna(df['Edad'].mean(), inplace=True)\n",
        "df['Salario'].fillna(df['Salario'].median(), inplace=True)\n"
      ],
      "outputs": [],
      "execution_count": 6,
      "metadata": {
        "gather": {
          "logged": 1738574933171
        }
      }
    },
    {
      "cell_type": "code",
      "source": [
        "df = df.dropna(subset=['Fecha'])\n"
      ],
      "outputs": [],
      "execution_count": 7,
      "metadata": {
        "gather": {
          "logged": 1738575067758
        }
      }
    },
    {
      "cell_type": "code",
      "source": [
        "df['Salario'] = df['Salario'].astype(float)\n"
      ],
      "outputs": [],
      "execution_count": 8,
      "metadata": {
        "gather": {
          "logged": 1738575131743
        }
      }
    },
    {
      "cell_type": "code",
      "source": [
        "df['Fecha'] = pd.to_datetime(df['Fecha'], errors='coerce')\n"
      ],
      "outputs": [],
      "execution_count": 9,
      "metadata": {
        "gather": {
          "logged": 1738575233459
        }
      }
    },
    {
      "cell_type": "code",
      "source": [
        "import pandas as pd\n",
        "import numpy as np\n",
        "import matplotlib.pyplot as plt\n",
        "import seaborn as sns\n",
        "\n",
        "# Crear un dataset de ejemplo\n",
        "df = pd.DataFrame({\n",
        "    'Edad': [25, 30, 35, 40, np.nan, 50, 60, 30, 27, 45],\n",
        "    'Salario': [30000, 40000, 50000, 60000, 55000, np.nan, 65000, 40000, 37000, 72000],\n",
        "    'Género': ['M', 'F', 'M', 'F', 'F', 'M', 'F', 'M', 'F', 'M'],\n",
        "    'Compras': [2, 4, 5, 6, 5, 7, 8, 3, 2, 9]\n",
        "})\n",
        "\n",
        "# Mostrar las primeras filas\n",
        "print(df.head())\n",
        "\n",
        "# Información general de las columnas\n",
        "print(df.info())\n",
        "\n",
        "# Verificar valores nulos\n",
        "print(df.isnull().sum())\n",
        "\n",
        "# Distribución de datos numéricos\n",
        "df.hist(figsize=(8, 5))\n",
        "plt.show()\n",
        "\n",
        "# Boxplot para detectar valores atípicos en \"Salario\"\n",
        "sns.boxplot(x=df['Salario'])\n",
        "plt.show()\n",
        "\n",
        "# Mapa de calor de valores nulos\n",
        "sns.heatmap(df.isnull(), cmap='viridis', cbar=False, yticklabels=False)\n",
        "plt.show()\n"
      ],
      "outputs": [
        {
          "output_type": "stream",
          "name": "stdout",
          "text": "   Edad  Salario Género  Compras\n0  25.0  30000.0      M        2\n1  30.0  40000.0      F        4\n2  35.0  50000.0      M        5\n3  40.0  60000.0      F        6\n4   NaN  55000.0      F        5\n<class 'pandas.core.frame.DataFrame'>\nRangeIndex: 10 entries, 0 to 9\nData columns (total 4 columns):\n #   Column   Non-Null Count  Dtype  \n---  ------   --------------  -----  \n 0   Edad     9 non-null      float64\n 1   Salario  9 non-null      float64\n 2   Género   10 non-null     object \n 3   Compras  10 non-null     int64  \ndtypes: float64(2), int64(1), object(1)\nmemory usage: 448.0+ bytes\nNone\nEdad       1\nSalario    1\nGénero     0\nCompras    0\ndtype: int64\n"
        },
        {
          "output_type": "display_data",
          "data": {
            "text/plain": "<Figure size 800x500 with 4 Axes>",
            "image/png": "[encoded data removed]"
          },
          "metadata": {}
        },
        {
          "output_type": "display_data",
          "data": {
            "text/plain": "<Figure size 640x480 with 1 Axes>",
            "image/png": "[encoded data removed]"
          },
          "metadata": {}
        },
        {
          "output_type": "display_data",
          "data": {
            "text/plain": "<Figure size 640x480 with 1 Axes>",
            "image/png": "[encoded data removed]"
          },
          "metadata": {}
        }
      ],
      "execution_count": 10,
      "metadata": {
        "gather": {
          "logged": 1738575878034
        }
      }
    },
    {
      "cell_type": "code",
      "source": [
        "# Estadísticas descriptivas generales\n",
        "print(df.describe())\n"
      ],
      "outputs": [
        {
          "output_type": "stream",
          "name": "stdout",
          "text": "            Edad       Salario    Compras\ncount   9.000000      9.000000  10.000000\nmean   38.000000  49888.888889   5.100000\nstd    11.768602  14154.897072   2.424413\nmin    25.000000  30000.000000   2.000000\n25%    30.000000  40000.000000   3.250000\n50%    35.000000  50000.000000   5.000000\n75%    45.000000  60000.000000   6.750000\nmax    60.000000  72000.000000   9.000000\n"
        }
      ],
      "execution_count": 11,
      "metadata": {
        "gather": {
          "logged": 1738576217294
        }
      }
    },
    {
      "cell_type": "code",
      "source": [
        "# Contar valores únicos en una columna categórica\n",
        "print(df['Género'].value_counts())\n"
      ],
      "outputs": [
        {
          "output_type": "stream",
          "name": "stdout",
          "text": "M    5\nF    5\nName: Género, dtype: int64\n"
        }
      ],
      "execution_count": 12,
      "metadata": {
        "gather": {
          "logged": 1738576369080
        }
      }
    },
    {
      "cell_type": "code",
      "source": [
        "# Calcular IQR para la variable Salario\n",
        "Q1 = df['Salario'].quantile(0.25)\n",
        "Q3 = df['Salario'].quantile(0.75)\n",
        "IQR = Q3 - Q1\n",
        "\n",
        "# Definir límites superior e inferior\n",
        "limite_inferior = Q1 - 1.5 * IQR\n",
        "limite_superior = Q3 + 1.5 * IQR\n",
        "\n",
        "# Filtrar valores dentro del rango aceptable\n",
        "df_sin_outliers = df[(df['Salario'] >= limite_inferior) & (df['Salario'] <= limite_superior)]\n",
        "\n",
        "print(df_sin_outliers)\n"
      ],
      "outputs": [
        {
          "output_type": "stream",
          "name": "stdout",
          "text": "   Edad  Salario Género  Compras\n0  25.0  30000.0      M        2\n1  30.0  40000.0      F        4\n2  35.0  50000.0      M        5\n3  40.0  60000.0      F        6\n4   NaN  55000.0      F        5\n6  60.0  65000.0      F        8\n7  30.0  40000.0      M        3\n8  27.0  37000.0      F        2\n9  45.0  72000.0      M        9\n"
        }
      ],
      "execution_count": 13,
      "metadata": {
        "gather": {
          "logged": 1738576444801
        }
      }
    },
    {
      "cell_type": "code",
      "source": [
        "# Matriz de correlación\n",
        "corr_matrix = df.corr()\n",
        "\n",
        "# Visualización con heatmap\n",
        "plt.figure(figsize=(6, 4))\n",
        "sns.heatmap(corr_matrix, annot=True, cmap='coolwarm', fmt=\".2f\")\n",
        "plt.show()\n"
      ],
      "outputs": [
        {
          "output_type": "display_data",
          "data": {
            "text/plain": "<Figure size 600x400 with 2 Axes>",
            "image/png": "[encoded data removed]"
          },
          "metadata": {}
        }
      ],
      "execution_count": 14,
      "metadata": {
        "gather": {
          "logged": 1738576675635
        }
      }
    },
    {
      "cell_type": "code",
      "source": [
        "import pandas as pd\n",
        "import numpy as np\n",
        "import matplotlib.pyplot as plt\n",
        "import seaborn as sns\n",
        "\n",
        "# Crear un dataset de ejemplo con valores inconsistentes, nulos y outliers\n",
        "df = pd.DataFrame({\n",
        "    'Edad': [25, 30, 35, 40, np.nan, 50, 150, 30, 27, -5],\n",
        "    'Salario': [30000, 40000, 50000, 60000, 55000, np.nan, 100000, 40000, 37000, 72000],\n",
        "    'Género': ['M', 'F', 'M', 'F', 'F', 'M', 'Otro', 'm', 'f', 'M'],\n",
        "    'Compras': [2, 4, 5, 6, 5, 7, 30, 3, 2, 9]\n",
        "})\n",
        "\n",
        "# 1️⃣ Manejo de valores nulos\n",
        "df['Edad'].fillna(df['Edad'].median(), inplace=True)  # Rellenar con la mediana\n",
        "df['Salario'].fillna(df['Salario'].median(), inplace=True)  # Rellenar con la mediana\n",
        "\n",
        "# 2️⃣ Estandarización de datos categóricos\n",
        "df['Género'] = df['Género'].replace({'m': 'M', 'f': 'F', 'Otro': 'O'})\n",
        "\n",
        "# 3️⃣ Eliminación de valores atípicos (Edad y Compras) usando Rango Intercuartil (IQR)\n",
        "for col in ['Edad', 'Salario', 'Compras']:\n",
        "    Q1 = df[col].quantile(0.25)\n",
        "    Q3 = df[col].quantile(0.75)\n",
        "    IQR = Q3 - Q1\n",
        "    limite_inferior = Q1 - 1.5 * IQR\n",
        "    limite_superior = Q3 + 1.5 * IQR\n",
        "    df = df[(df[col] >= limite_inferior) & (df[col] <= limite_superior)]\n",
        "\n",
        "# 4️⃣ Conversión de tipos de datos (si fuera necesario)\n",
        "df['Edad'] = df['Edad'].astype(int)  # Convertir Edad a entero\n",
        "\n",
        "# 5️⃣ Verificación final de la limpieza\n",
        "cleaned_summary = df.describe()\n",
        "cleaned_info = df.info()\n",
        "cleaned_nulls = df.isnull().sum()\n",
        "cleaned_values = df.nunique()\n",
        "\n",
        "# Visualización final después de la limpieza\n",
        "plt.figure(figsize=(8, 5))\n",
        "sns.heatmap(df.isnull(), cmap='viridis', cbar=False, yticklabels=False)\n",
        "plt.title(\"Mapa de calor de valores nulos después de la limpieza\")\n",
        "plt.show()\n",
        "\n",
        "# Mostrar los datos limpios después del proceso de limpieza\n",
        "print(\"📌 Datos limpios después de la limpieza:\")\n",
        "print(df)\n",
        "\n",
        "# Resumen estadístico de los datos limpios\n",
        "print(\"\\n📊 Resumen estadístico de los datos limpios:\")\n",
        "print(df.describe())\n",
        "\n",
        "# Información general del DataFrame después de la limpieza\n",
        "print(\"\\n🔍 Información del DataFrame después de la limpieza:\")\n",
        "print(df.info())\n",
        "\n",
        "# Mostrar valores únicos por columna\n",
        "print(\"\\n🔹 Valores únicos en cada columna:\")\n",
        "for col in df.columns:\n",
        "    print(f\"{col}: {df[col].unique()}\")\n",
        "\n"
      ],
      "outputs": [
        {
          "output_type": "stream",
          "name": "stdout",
          "text": "<class 'pandas.core.frame.DataFrame'>\nInt64Index: 8 entries, 0 to 8\nData columns (total 4 columns):\n #   Column   Non-Null Count  Dtype  \n---  ------   --------------  -----  \n 0   Edad     8 non-null      int64  \n 1   Salario  8 non-null      float64\n 2   Género   8 non-null      object \n 3   Compras  8 non-null      int64  \ndtypes: float64(1), int64(2), object(1)\nmemory usage: 320.0+ bytes\n"
        },
        {
          "output_type": "display_data",
          "data": {
            "text/plain": "<Figure size 800x500 with 1 Axes>",
            "image/png": "[encoded data removed]"
          },
          "metadata": {}
        },
        {
          "output_type": "stream",
          "name": "stdout",
          "text": "📌 Datos limpios después de la limpieza:\n   Edad  Salario Género  Compras\n0    25  30000.0      M        2\n1    30  40000.0      F        4\n2    35  50000.0      M        5\n3    40  60000.0      F        6\n4    30  55000.0      F        5\n5    50  50000.0      M        7\n7    30  40000.0      M        3\n8    27  37000.0      F        2\n\n📊 Resumen estadístico de los datos limpios:\n           Edad       Salario   Compras\ncount   8.00000      8.000000  8.000000\nmean   33.37500  45250.000000  4.250000\nstd     8.17553  10095.968078  1.832251\nmin    25.00000  30000.000000  2.000000\n25%    29.25000  39250.000000  2.750000\n50%    30.00000  45000.000000  4.500000\n75%    36.25000  51250.000000  5.250000\nmax    50.00000  60000.000000  7.000000\n\n🔍 Información del DataFrame después de la limpieza:\n<class 'pandas.core.frame.DataFrame'>\nInt64Index: 8 entries, 0 to 8\nData columns (total 4 columns):\n #   Column   Non-Null Count  Dtype  \n---  ------   --------------  -----  \n 0   Edad     8 non-null      int64  \n 1   Salario  8 non-null      float64\n 2   Género   8 non-null      object \n 3   Compras  8 non-null      int64  \ndtypes: float64(1), int64(2), object(1)\nmemory usage: 320.0+ bytes\nNone\n\n🔹 Valores únicos en cada columna:\nEdad: [25 30 35 40 50 27]\nSalario: [30000. 40000. 50000. 60000. 55000. 37000.]\nGénero: ['M' 'F']\nCompras: [2 4 5 6 7 3]\n"
        }
      ],
      "execution_count": 16,
      "metadata": {
        "gather": {
          "logged": 1738577512341
        }
      }
    },
    {
      "cell_type": "code",
      "source": [
        "import pandas as pd\n",
        "import numpy as np\n",
        "import matplotlib.pyplot as plt\n",
        "import seaborn as sns\n",
        "from sklearn.cluster import KMeans\n",
        "from sklearn.preprocessing import StandardScaler\n",
        "\n",
        "# Crear un dataset limpio\n",
        "df = pd.DataFrame({\n",
        "    'Edad': [25, 30, 35, 40, 30, 50, 30, 27],\n",
        "    'Salario': [30000, 40000, 50000, 60000, 55000, 50000, 40000, 37000],\n",
        "    'Género': ['M', 'F', 'M', 'F', 'F', 'M', 'M', 'F'],\n",
        "    'Compras': [2, 4, 5, 6, 5, 7, 3, 2]\n",
        "})\n",
        "\n",
        "# 📌 Análisis de Correlaciones (Corrigiendo el error)\n",
        "# Matriz de correlación sin el argumento 'numeric_only' para evitar errores en versiones anteriores de pandas\n",
        "corr_matrix = df.select_dtypes(include=['number']).corr()\n",
        "\n",
        "# Visualización con heatmap\n",
        "plt.figure(figsize=(6, 4))\n",
        "sns.heatmap(corr_matrix, annot=True, cmap='coolwarm', fmt=\".2f\")\n",
        "plt.title(\"Matriz de Correlación\")\n",
        "plt.show()\n",
        "\n",
        "# 📌 Análisis de Clustering (Agrupación de Datos)\n",
        "# Seleccionar solo variables numéricas para clustering\n",
        "df_clustering = df[['Edad', 'Salario', 'Compras']]\n",
        "\n",
        "# Estandarizar los datos para evitar que una variable domine sobre las demás\n",
        "scaler = StandardScaler()\n",
        "df_scaled = scaler.fit_transform(df_clustering)\n",
        "\n",
        "# Aplicar K-Means con 2 clusters\n",
        "kmeans = KMeans(n_clusters=2, random_state=42, n_init=10)\n",
        "df['Cluster'] = kmeans.fit_predict(df_scaled)\n",
        "\n",
        "# Visualización de Clusters\n",
        "plt.figure(figsize=(6, 4))\n",
        "sns.scatterplot(x=df['Edad'], y=df['Salario'], hue=df['Cluster'], palette='coolwarm', s=100)\n",
        "plt.title(\"Clusters basados en Edad y Salario\")\n",
        "plt.xlabel(\"Edad\")\n",
        "plt.ylabel(\"Salario\")\n",
        "plt.legend(title=\"Cluster\")\n",
        "plt.show()\n",
        "\n",
        "# Mostrar datos con cluster asignado\n",
        "df.head()\n",
        "\n",
        "\n"
      ],
      "outputs": [
        {
          "output_type": "display_data",
          "data": {
            "text/plain": "<Figure size 600x400 with 2 Axes>",
            "image/png": "[encoded data removed]"
          },
          "metadata": {}
        },
        {
          "output_type": "display_data",
          "data": {
            "text/plain": "<Figure size 600x400 with 1 Axes>",
            "image/png": "[encoded data removed]"
          },
          "metadata": {}
        },
        {
          "output_type": "execute_result",
          "execution_count": 5,
          "data": {
            "text/plain": "   Edad  Salario Género  Compras  Cluster\n0    25    30000      M        2        1\n1    30    40000      F        4        1\n2    35    50000      M        5        0\n3    40    60000      F        6        0\n4    30    55000      F        5        0",
            "text/html": "<div>\n<style scoped>\n    .dataframe tbody tr th:only-of-type {\n        vertical-align: middle;\n    }\n\n    .dataframe tbody tr th {\n        vertical-align: top;\n    }\n\n    .dataframe thead th {\n        text-align: right;\n    }\n</style>\n<table border=\"1\" class=\"dataframe\">\n  <thead>\n    <tr style=\"text-align: right;\">\n      <th></th>\n      <th>Edad</th>\n      <th>Salario</th>\n      <th>Género</th>\n      <th>Compras</th>\n      <th>Cluster</th>\n    </tr>\n  </thead>\n  <tbody>\n    <tr>\n      <th>0</th>\n      <td>25</td>\n      <td>30000</td>\n      <td>M</td>\n      <td>2</td>\n      <td>1</td>\n    </tr>\n    <tr>\n      <th>1</th>\n      <td>30</td>\n      <td>40000</td>\n      <td>F</td>\n      <td>4</td>\n      <td>1</td>\n    </tr>\n    <tr>\n      <th>2</th>\n      <td>35</td>\n      <td>50000</td>\n      <td>M</td>\n      <td>5</td>\n      <td>0</td>\n    </tr>\n    <tr>\n      <th>3</th>\n      <td>40</td>\n      <td>60000</td>\n      <td>F</td>\n      <td>6</td>\n      <td>0</td>\n    </tr>\n    <tr>\n      <th>4</th>\n      <td>30</td>\n      <td>55000</td>\n      <td>F</td>\n      <td>5</td>\n      <td>0</td>\n    </tr>\n  </tbody>\n</table>\n</div>"
          },
          "metadata": {}
        }
      ],
      "execution_count": 5,
      "metadata": {
        "gather": {
          "logged": 1738579404095
        }
      }
    },
    {
      "cell_type": "code",
      "source": [
        "from sklearn.cluster import DBSCAN\n",
        "from scipy.cluster.hierarchy import linkage, dendrogram, fcluster\n",
        "\n",
        "# 📌 K-Means con 3 Clusters\n",
        "kmeans_3 = KMeans(n_clusters=3, random_state=42, n_init=10)\n",
        "df['Cluster_K3'] = kmeans_3.fit_predict(df_scaled)\n",
        "\n",
        "# Visualización de Clusters con K=3\n",
        "plt.figure(figsize=(6, 4))\n",
        "sns.scatterplot(x=df['Edad'], y=df['Salario'], hue=df['Cluster_K3'], palette='viridis', s=100)\n",
        "plt.title(\"Clusters con K-Means (K=3)\")\n",
        "plt.xlabel(\"Edad\")\n",
        "plt.ylabel(\"Salario\")\n",
        "plt.legend(title=\"Cluster\")\n",
        "plt.show()\n",
        "\n",
        "# 📌 Clustering Jerárquico\n",
        "# Computar la matriz de enlaces para el clustering jerárquico\n",
        "linkage_matrix = linkage(df_scaled, method='ward')\n",
        "\n",
        "# Graficar el dendrograma\n",
        "plt.figure(figsize=(8, 5))\n",
        "dendrogram(linkage_matrix, labels=df.index, leaf_rotation=90, leaf_font_size=10)\n",
        "plt.title(\"Dendrograma - Clustering Jerárquico\")\n",
        "plt.xlabel(\"Índice del Cliente\")\n",
        "plt.ylabel(\"Distancia\")\n",
        "plt.show()\n",
        "\n",
        "# Asignar clusters desde el dendrograma\n",
        "df['Cluster_Hierarchical'] = fcluster(linkage_matrix, t=3, criterion='maxclust')\n",
        "\n",
        "# 📌 Clustering con DBSCAN\n",
        "dbscan = DBSCAN(eps=1.2, min_samples=2)  # Ajuste de parámetros\n",
        "df['Cluster_DBSCAN'] = dbscan.fit_predict(df_scaled)\n",
        "\n",
        "# Visualización de Clusters con DBSCAN\n",
        "plt.figure(figsize=(6, 4))\n",
        "sns.scatterplot(x=df['Edad'], y=df['Salario'], hue=df['Cluster_DBSCAN'], palette='Set1', s=100)\n",
        "plt.title(\"Clusters con DBSCAN\")\n",
        "plt.xlabel(\"Edad\")\n",
        "plt.ylabel(\"Salario\")\n",
        "plt.legend(title=\"Cluster\")\n",
        "plt.show()\n",
        "\n",
        "# Mostrar datos con clusters asignados\n",
        "df.head()\n"
      ],
      "outputs": [
        {
          "output_type": "display_data",
          "data": {
            "text/plain": "<Figure size 600x400 with 1 Axes>",
            "image/png": "[encoded data removed]"
          },
          "metadata": {}
        },
        {
          "output_type": "display_data",
          "data": {
            "text/plain": "<Figure size 800x500 with 1 Axes>",
            "image/png": "[encoded data removed]"
          },
          "metadata": {}
        },
        {
          "output_type": "display_data",
          "data": {
            "text/plain": "<Figure size 600x400 with 1 Axes>",
            "image/png": "[encoded data removed]"
          },
          "metadata": {}
        },
        {
          "output_type": "execute_result",
          "execution_count": 6,
          "data": {
            "text/plain": "   Edad  Salario Género  Compras  Cluster  Cluster_K3  Cluster_Hierarchical  \\\n0    25    30000      M        2        1           0                     1   \n1    30    40000      F        4        1           0                     1   \n2    35    50000      M        5        0           2                     2   \n3    40    60000      F        6        0           2                     2   \n4    30    55000      F        5        0           2                     2   \n\n   Cluster_DBSCAN  \n0               0  \n1               0  \n2               1  \n3              -1  \n4               1  ",
            "text/html": "<div>\n<style scoped>\n    .dataframe tbody tr th:only-of-type {\n        vertical-align: middle;\n    }\n\n    .dataframe tbody tr th {\n        vertical-align: top;\n    }\n\n    .dataframe thead th {\n        text-align: right;\n    }\n</style>\n<table border=\"1\" class=\"dataframe\">\n  <thead>\n    <tr style=\"text-align: right;\">\n      <th></th>\n      <th>Edad</th>\n      <th>Salario</th>\n      <th>Género</th>\n      <th>Compras</th>\n      <th>Cluster</th>\n      <th>Cluster_K3</th>\n      <th>Cluster_Hierarchical</th>\n      <th>Cluster_DBSCAN</th>\n    </tr>\n  </thead>\n  <tbody>\n    <tr>\n      <th>0</th>\n      <td>25</td>\n      <td>30000</td>\n      <td>M</td>\n      <td>2</td>\n      <td>1</td>\n      <td>0</td>\n      <td>1</td>\n      <td>0</td>\n    </tr>\n    <tr>\n      <th>1</th>\n      <td>30</td>\n      <td>40000</td>\n      <td>F</td>\n      <td>4</td>\n      <td>1</td>\n      <td>0</td>\n      <td>1</td>\n      <td>0</td>\n    </tr>\n    <tr>\n      <th>2</th>\n      <td>35</td>\n      <td>50000</td>\n      <td>M</td>\n      <td>5</td>\n      <td>0</td>\n      <td>2</td>\n      <td>2</td>\n      <td>1</td>\n    </tr>\n    <tr>\n      <th>3</th>\n      <td>40</td>\n      <td>60000</td>\n      <td>F</td>\n      <td>6</td>\n      <td>0</td>\n      <td>2</td>\n      <td>2</td>\n      <td>-1</td>\n    </tr>\n    <tr>\n      <th>4</th>\n      <td>30</td>\n      <td>55000</td>\n      <td>F</td>\n      <td>5</td>\n      <td>0</td>\n      <td>2</td>\n      <td>2</td>\n      <td>1</td>\n    </tr>\n  </tbody>\n</table>\n</div>"
          },
          "metadata": {}
        }
      ],
      "execution_count": 6,
      "metadata": {
        "gather": {
          "logged": 1738579941479
        }
      }
    },
    {
      "cell_type": "code",
      "source": [
        "import pandas as pd\n",
        "import numpy as np\n",
        "import matplotlib.pyplot as plt\n",
        "import seaborn as sns\n",
        "from sklearn.cluster import KMeans\n",
        "from sklearn.preprocessing import StandardScaler\n",
        "import os\n",
        "\n",
        "# Ruta relativa del archivo\n",
        "file_path = \"Users/aurelio.sosa.netmind/Pandas/ejercicio4/sales.csv\"\n",
        "file_path1 = \"Users/aurelio.sosa.netmind/Pandas/ejercicio4/payments.csv\"\n",
        "\n",
        "# Obtener la ruta absoluta\n",
        "absolute_path = os.path.abspath(file_path)\n",
        "absolute_path1 = os.path.abspath(file_path1)\n",
        "\n",
        "# Imprimir la ruta absoluta\n",
        "print(\"Ruta absoluta del archivo:\", absolute_path)\n",
        "print(\"Ruta absoluta del archivo:\", absolute_path1)\n",
        "\n",
        "\n",
        "# Cargar los archivos CSV proporcionados\n",
        "sales_file_path = '/mnt/batch/tasks/shared/LS_root/mounts/clusters/aurelio-parra/code/Users/aurelio.sosa.netmind/Pandas/Users/aurelio.sosa.netmind/Pandas/ejercicio4/sales.csv'\n",
        "payments_file_path = '/mnt/batch/tasks/shared/LS_root/mounts/clusters/aurelio-parra/code/Users/aurelio.sosa.netmind/Pandas/Users/aurelio.sosa.netmind/Pandas/ejercicio4/payments.csv'\n",
        "\n",
        "# Leer los archivos CSV en DataFrames\n",
        "df_sales = pd.read_csv(sales_file_path)\n",
        "df_payments = pd.read_csv(payments_file_path)\n",
        "\n",
        "# Mostrar las primeras filas de ambos DataFrames\n",
        "df_sales.head(), df_payments.head()\n"
      ],
      "outputs": [
        {
          "output_type": "stream",
          "name": "stdout",
          "text": "Ruta absoluta del archivo: /mnt/batch/tasks/shared/LS_root/mounts/clusters/aurelio-parra/code/Users/aurelio.sosa.netmind/Pandas/Users/aurelio.sosa.netmind/Pandas/ejercicio4/sales.csv\nRuta absoluta del archivo: /mnt/batch/tasks/shared/LS_root/mounts/clusters/aurelio-parra/code/Users/aurelio.sosa.netmind/Pandas/Users/aurelio.sosa.netmind/Pandas/ejercicio4/payments.csv\n"
        },
        {
          "output_type": "error",
          "ename": "FileNotFoundError",
          "evalue": "[Errno 2] No such file or directory: '/mnt/batch/tasks/shared/LS_root/mounts/clusters/aurelio-parra/code/Users/aurelio.sosa.netmind/Pandas/Users/aurelio.sosa.netmind/Pandas/ejercicio4/sales.csv'",
          "traceback": [
            "\u001b[0;31m---------------------------------------------------------------------------\u001b[0m",
            "\u001b[0;31mFileNotFoundError\u001b[0m                         Traceback (most recent call last)",
            "Cell \u001b[0;32mIn[9], line 27\u001b[0m\n\u001b[1;32m     24\u001b[0m payments_file_path \u001b[38;5;241m=\u001b[39m \u001b[38;5;124m'\u001b[39m\u001b[38;5;124m/mnt/batch/tasks/shared/LS_root/mounts/clusters/aurelio-parra/code/Users/aurelio.sosa.netmind/Pandas/Users/aurelio.sosa.netmind/Pandas/ejercicio4/payments.csv\u001b[39m\u001b[38;5;124m'\u001b[39m\n\u001b[1;32m     26\u001b[0m \u001b[38;5;66;03m# Leer los archivos CSV en DataFrames\u001b[39;00m\n\u001b[0;32m---> 27\u001b[0m df_sales \u001b[38;5;241m=\u001b[39m \u001b[43mpd\u001b[49m\u001b[38;5;241;43m.\u001b[39;49m\u001b[43mread_csv\u001b[49m\u001b[43m(\u001b[49m\u001b[43msales_file_path\u001b[49m\u001b[43m)\u001b[49m\n\u001b[1;32m     28\u001b[0m df_payments \u001b[38;5;241m=\u001b[39m pd\u001b[38;5;241m.\u001b[39mread_csv(payments_file_path)\n\u001b[1;32m     30\u001b[0m \u001b[38;5;66;03m# Mostrar las primeras filas de ambos DataFrames\u001b[39;00m\n",
            "File \u001b[0;32m/anaconda/envs/azureml_py38/lib/python3.10/site-packages/pandas/util/_decorators.py:311\u001b[0m, in \u001b[0;36mdeprecate_nonkeyword_arguments.<locals>.decorate.<locals>.wrapper\u001b[0;34m(*args, **kwargs)\u001b[0m\n\u001b[1;32m    305\u001b[0m \u001b[38;5;28;01mif\u001b[39;00m \u001b[38;5;28mlen\u001b[39m(args) \u001b[38;5;241m>\u001b[39m num_allow_args:\n\u001b[1;32m    306\u001b[0m     warnings\u001b[38;5;241m.\u001b[39mwarn(\n\u001b[1;32m    307\u001b[0m         msg\u001b[38;5;241m.\u001b[39mformat(arguments\u001b[38;5;241m=\u001b[39marguments),\n\u001b[1;32m    308\u001b[0m         \u001b[38;5;167;01mFutureWarning\u001b[39;00m,\n\u001b[1;32m    309\u001b[0m         stacklevel\u001b[38;5;241m=\u001b[39mstacklevel,\n\u001b[1;32m    310\u001b[0m     )\n\u001b[0;32m--> 311\u001b[0m \u001b[38;5;28;01mreturn\u001b[39;00m \u001b[43mfunc\u001b[49m\u001b[43m(\u001b[49m\u001b[38;5;241;43m*\u001b[39;49m\u001b[43margs\u001b[49m\u001b[43m,\u001b[49m\u001b[43m \u001b[49m\u001b[38;5;241;43m*\u001b[39;49m\u001b[38;5;241;43m*\u001b[39;49m\u001b[43mkwargs\u001b[49m\u001b[43m)\u001b[49m\n",
            "File \u001b[0;32m/anaconda/envs/azureml_py38/lib/python3.10/site-packages/pandas/io/parsers/readers.py:586\u001b[0m, in \u001b[0;36mread_csv\u001b[0;34m(filepath_or_buffer, sep, delimiter, header, names, index_col, usecols, squeeze, prefix, mangle_dupe_cols, dtype, engine, converters, true_values, false_values, skipinitialspace, skiprows, skipfooter, nrows, na_values, keep_default_na, na_filter, verbose, skip_blank_lines, parse_dates, infer_datetime_format, keep_date_col, date_parser, dayfirst, cache_dates, iterator, chunksize, compression, thousands, decimal, lineterminator, quotechar, quoting, doublequote, escapechar, comment, encoding, encoding_errors, dialect, error_bad_lines, warn_bad_lines, on_bad_lines, delim_whitespace, low_memory, memory_map, float_precision, storage_options)\u001b[0m\n\u001b[1;32m    571\u001b[0m kwds_defaults \u001b[38;5;241m=\u001b[39m _refine_defaults_read(\n\u001b[1;32m    572\u001b[0m     dialect,\n\u001b[1;32m    573\u001b[0m     delimiter,\n\u001b[0;32m   (...)\u001b[0m\n\u001b[1;32m    582\u001b[0m     defaults\u001b[38;5;241m=\u001b[39m{\u001b[38;5;124m\"\u001b[39m\u001b[38;5;124mdelimiter\u001b[39m\u001b[38;5;124m\"\u001b[39m: \u001b[38;5;124m\"\u001b[39m\u001b[38;5;124m,\u001b[39m\u001b[38;5;124m\"\u001b[39m},\n\u001b[1;32m    583\u001b[0m )\n\u001b[1;32m    584\u001b[0m kwds\u001b[38;5;241m.\u001b[39mupdate(kwds_defaults)\n\u001b[0;32m--> 586\u001b[0m \u001b[38;5;28;01mreturn\u001b[39;00m \u001b[43m_read\u001b[49m\u001b[43m(\u001b[49m\u001b[43mfilepath_or_buffer\u001b[49m\u001b[43m,\u001b[49m\u001b[43m \u001b[49m\u001b[43mkwds\u001b[49m\u001b[43m)\u001b[49m\n",
            "File \u001b[0;32m/anaconda/envs/azureml_py38/lib/python3.10/site-packages/pandas/io/parsers/readers.py:482\u001b[0m, in \u001b[0;36m_read\u001b[0;34m(filepath_or_buffer, kwds)\u001b[0m\n\u001b[1;32m    479\u001b[0m _validate_names(kwds\u001b[38;5;241m.\u001b[39mget(\u001b[38;5;124m\"\u001b[39m\u001b[38;5;124mnames\u001b[39m\u001b[38;5;124m\"\u001b[39m, \u001b[38;5;28;01mNone\u001b[39;00m))\n\u001b[1;32m    481\u001b[0m \u001b[38;5;66;03m# Create the parser.\u001b[39;00m\n\u001b[0;32m--> 482\u001b[0m parser \u001b[38;5;241m=\u001b[39m \u001b[43mTextFileReader\u001b[49m\u001b[43m(\u001b[49m\u001b[43mfilepath_or_buffer\u001b[49m\u001b[43m,\u001b[49m\u001b[43m \u001b[49m\u001b[38;5;241;43m*\u001b[39;49m\u001b[38;5;241;43m*\u001b[39;49m\u001b[43mkwds\u001b[49m\u001b[43m)\u001b[49m\n\u001b[1;32m    484\u001b[0m \u001b[38;5;28;01mif\u001b[39;00m chunksize \u001b[38;5;129;01mor\u001b[39;00m iterator:\n\u001b[1;32m    485\u001b[0m     \u001b[38;5;28;01mreturn\u001b[39;00m parser\n",
            "File \u001b[0;32m/anaconda/envs/azureml_py38/lib/python3.10/site-packages/pandas/io/parsers/readers.py:811\u001b[0m, in \u001b[0;36mTextFileReader.__init__\u001b[0;34m(self, f, engine, **kwds)\u001b[0m\n\u001b[1;32m    808\u001b[0m \u001b[38;5;28;01mif\u001b[39;00m \u001b[38;5;124m\"\u001b[39m\u001b[38;5;124mhas_index_names\u001b[39m\u001b[38;5;124m\"\u001b[39m \u001b[38;5;129;01min\u001b[39;00m kwds:\n\u001b[1;32m    809\u001b[0m     \u001b[38;5;28mself\u001b[39m\u001b[38;5;241m.\u001b[39moptions[\u001b[38;5;124m\"\u001b[39m\u001b[38;5;124mhas_index_names\u001b[39m\u001b[38;5;124m\"\u001b[39m] \u001b[38;5;241m=\u001b[39m kwds[\u001b[38;5;124m\"\u001b[39m\u001b[38;5;124mhas_index_names\u001b[39m\u001b[38;5;124m\"\u001b[39m]\n\u001b[0;32m--> 811\u001b[0m \u001b[38;5;28mself\u001b[39m\u001b[38;5;241m.\u001b[39m_engine \u001b[38;5;241m=\u001b[39m \u001b[38;5;28;43mself\u001b[39;49m\u001b[38;5;241;43m.\u001b[39;49m\u001b[43m_make_engine\u001b[49m\u001b[43m(\u001b[49m\u001b[38;5;28;43mself\u001b[39;49m\u001b[38;5;241;43m.\u001b[39;49m\u001b[43mengine\u001b[49m\u001b[43m)\u001b[49m\n",
            "File \u001b[0;32m/anaconda/envs/azureml_py38/lib/python3.10/site-packages/pandas/io/parsers/readers.py:1040\u001b[0m, in \u001b[0;36mTextFileReader._make_engine\u001b[0;34m(self, engine)\u001b[0m\n\u001b[1;32m   1036\u001b[0m     \u001b[38;5;28;01mraise\u001b[39;00m \u001b[38;5;167;01mValueError\u001b[39;00m(\n\u001b[1;32m   1037\u001b[0m         \u001b[38;5;124mf\u001b[39m\u001b[38;5;124m\"\u001b[39m\u001b[38;5;124mUnknown engine: \u001b[39m\u001b[38;5;132;01m{\u001b[39;00mengine\u001b[38;5;132;01m}\u001b[39;00m\u001b[38;5;124m (valid options are \u001b[39m\u001b[38;5;132;01m{\u001b[39;00mmapping\u001b[38;5;241m.\u001b[39mkeys()\u001b[38;5;132;01m}\u001b[39;00m\u001b[38;5;124m)\u001b[39m\u001b[38;5;124m\"\u001b[39m\n\u001b[1;32m   1038\u001b[0m     )\n\u001b[1;32m   1039\u001b[0m \u001b[38;5;66;03m# error: Too many arguments for \"ParserBase\"\u001b[39;00m\n\u001b[0;32m-> 1040\u001b[0m \u001b[38;5;28;01mreturn\u001b[39;00m \u001b[43mmapping\u001b[49m\u001b[43m[\u001b[49m\u001b[43mengine\u001b[49m\u001b[43m]\u001b[49m\u001b[43m(\u001b[49m\u001b[38;5;28;43mself\u001b[39;49m\u001b[38;5;241;43m.\u001b[39;49m\u001b[43mf\u001b[49m\u001b[43m,\u001b[49m\u001b[43m \u001b[49m\u001b[38;5;241;43m*\u001b[39;49m\u001b[38;5;241;43m*\u001b[39;49m\u001b[38;5;28;43mself\u001b[39;49m\u001b[38;5;241;43m.\u001b[39;49m\u001b[43moptions\u001b[49m\u001b[43m)\u001b[49m\n",
            "File \u001b[0;32m/anaconda/envs/azureml_py38/lib/python3.10/site-packages/pandas/io/parsers/c_parser_wrapper.py:51\u001b[0m, in \u001b[0;36mCParserWrapper.__init__\u001b[0;34m(self, src, **kwds)\u001b[0m\n\u001b[1;32m     48\u001b[0m kwds[\u001b[38;5;124m\"\u001b[39m\u001b[38;5;124musecols\u001b[39m\u001b[38;5;124m\"\u001b[39m] \u001b[38;5;241m=\u001b[39m \u001b[38;5;28mself\u001b[39m\u001b[38;5;241m.\u001b[39musecols\n\u001b[1;32m     50\u001b[0m \u001b[38;5;66;03m# open handles\u001b[39;00m\n\u001b[0;32m---> 51\u001b[0m \u001b[38;5;28;43mself\u001b[39;49m\u001b[38;5;241;43m.\u001b[39;49m\u001b[43m_open_handles\u001b[49m\u001b[43m(\u001b[49m\u001b[43msrc\u001b[49m\u001b[43m,\u001b[49m\u001b[43m \u001b[49m\u001b[43mkwds\u001b[49m\u001b[43m)\u001b[49m\n\u001b[1;32m     52\u001b[0m \u001b[38;5;28;01massert\u001b[39;00m \u001b[38;5;28mself\u001b[39m\u001b[38;5;241m.\u001b[39mhandles \u001b[38;5;129;01mis\u001b[39;00m \u001b[38;5;129;01mnot\u001b[39;00m \u001b[38;5;28;01mNone\u001b[39;00m\n\u001b[1;32m     54\u001b[0m \u001b[38;5;66;03m# Have to pass int, would break tests using TextReader directly otherwise :(\u001b[39;00m\n",
            "File \u001b[0;32m/anaconda/envs/azureml_py38/lib/python3.10/site-packages/pandas/io/parsers/base_parser.py:222\u001b[0m, in \u001b[0;36mParserBase._open_handles\u001b[0;34m(self, src, kwds)\u001b[0m\n\u001b[1;32m    218\u001b[0m \u001b[38;5;28;01mdef\u001b[39;00m \u001b[38;5;21m_open_handles\u001b[39m(\u001b[38;5;28mself\u001b[39m, src: FilePathOrBuffer, kwds: \u001b[38;5;28mdict\u001b[39m[\u001b[38;5;28mstr\u001b[39m, Any]) \u001b[38;5;241m-\u001b[39m\u001b[38;5;241m>\u001b[39m \u001b[38;5;28;01mNone\u001b[39;00m:\n\u001b[1;32m    219\u001b[0m \u001b[38;5;250m    \u001b[39m\u001b[38;5;124;03m\"\"\"\u001b[39;00m\n\u001b[1;32m    220\u001b[0m \u001b[38;5;124;03m    Let the readers open IOHandles after they are done with their potential raises.\u001b[39;00m\n\u001b[1;32m    221\u001b[0m \u001b[38;5;124;03m    \"\"\"\u001b[39;00m\n\u001b[0;32m--> 222\u001b[0m     \u001b[38;5;28mself\u001b[39m\u001b[38;5;241m.\u001b[39mhandles \u001b[38;5;241m=\u001b[39m \u001b[43mget_handle\u001b[49m\u001b[43m(\u001b[49m\n\u001b[1;32m    223\u001b[0m \u001b[43m        \u001b[49m\u001b[43msrc\u001b[49m\u001b[43m,\u001b[49m\n\u001b[1;32m    224\u001b[0m \u001b[43m        \u001b[49m\u001b[38;5;124;43m\"\u001b[39;49m\u001b[38;5;124;43mr\u001b[39;49m\u001b[38;5;124;43m\"\u001b[39;49m\u001b[43m,\u001b[49m\n\u001b[1;32m    225\u001b[0m \u001b[43m        \u001b[49m\u001b[43mencoding\u001b[49m\u001b[38;5;241;43m=\u001b[39;49m\u001b[43mkwds\u001b[49m\u001b[38;5;241;43m.\u001b[39;49m\u001b[43mget\u001b[49m\u001b[43m(\u001b[49m\u001b[38;5;124;43m\"\u001b[39;49m\u001b[38;5;124;43mencoding\u001b[39;49m\u001b[38;5;124;43m\"\u001b[39;49m\u001b[43m,\u001b[49m\u001b[43m \u001b[49m\u001b[38;5;28;43;01mNone\u001b[39;49;00m\u001b[43m)\u001b[49m\u001b[43m,\u001b[49m\n\u001b[1;32m    226\u001b[0m \u001b[43m        \u001b[49m\u001b[43mcompression\u001b[49m\u001b[38;5;241;43m=\u001b[39;49m\u001b[43mkwds\u001b[49m\u001b[38;5;241;43m.\u001b[39;49m\u001b[43mget\u001b[49m\u001b[43m(\u001b[49m\u001b[38;5;124;43m\"\u001b[39;49m\u001b[38;5;124;43mcompression\u001b[39;49m\u001b[38;5;124;43m\"\u001b[39;49m\u001b[43m,\u001b[49m\u001b[43m \u001b[49m\u001b[38;5;28;43;01mNone\u001b[39;49;00m\u001b[43m)\u001b[49m\u001b[43m,\u001b[49m\n\u001b[1;32m    227\u001b[0m \u001b[43m        \u001b[49m\u001b[43mmemory_map\u001b[49m\u001b[38;5;241;43m=\u001b[39;49m\u001b[43mkwds\u001b[49m\u001b[38;5;241;43m.\u001b[39;49m\u001b[43mget\u001b[49m\u001b[43m(\u001b[49m\u001b[38;5;124;43m\"\u001b[39;49m\u001b[38;5;124;43mmemory_map\u001b[39;49m\u001b[38;5;124;43m\"\u001b[39;49m\u001b[43m,\u001b[49m\u001b[43m \u001b[49m\u001b[38;5;28;43;01mFalse\u001b[39;49;00m\u001b[43m)\u001b[49m\u001b[43m,\u001b[49m\n\u001b[1;32m    228\u001b[0m \u001b[43m        \u001b[49m\u001b[43mstorage_options\u001b[49m\u001b[38;5;241;43m=\u001b[39;49m\u001b[43mkwds\u001b[49m\u001b[38;5;241;43m.\u001b[39;49m\u001b[43mget\u001b[49m\u001b[43m(\u001b[49m\u001b[38;5;124;43m\"\u001b[39;49m\u001b[38;5;124;43mstorage_options\u001b[39;49m\u001b[38;5;124;43m\"\u001b[39;49m\u001b[43m,\u001b[49m\u001b[43m \u001b[49m\u001b[38;5;28;43;01mNone\u001b[39;49;00m\u001b[43m)\u001b[49m\u001b[43m,\u001b[49m\n\u001b[1;32m    229\u001b[0m \u001b[43m        \u001b[49m\u001b[43merrors\u001b[49m\u001b[38;5;241;43m=\u001b[39;49m\u001b[43mkwds\u001b[49m\u001b[38;5;241;43m.\u001b[39;49m\u001b[43mget\u001b[49m\u001b[43m(\u001b[49m\u001b[38;5;124;43m\"\u001b[39;49m\u001b[38;5;124;43mencoding_errors\u001b[39;49m\u001b[38;5;124;43m\"\u001b[39;49m\u001b[43m,\u001b[49m\u001b[43m \u001b[49m\u001b[38;5;124;43m\"\u001b[39;49m\u001b[38;5;124;43mstrict\u001b[39;49m\u001b[38;5;124;43m\"\u001b[39;49m\u001b[43m)\u001b[49m\u001b[43m,\u001b[49m\n\u001b[1;32m    230\u001b[0m \u001b[43m    \u001b[49m\u001b[43m)\u001b[49m\n",
            "File \u001b[0;32m/anaconda/envs/azureml_py38/lib/python3.10/site-packages/pandas/io/common.py:702\u001b[0m, in \u001b[0;36mget_handle\u001b[0;34m(path_or_buf, mode, encoding, compression, memory_map, is_text, errors, storage_options)\u001b[0m\n\u001b[1;32m    697\u001b[0m \u001b[38;5;28;01melif\u001b[39;00m \u001b[38;5;28misinstance\u001b[39m(handle, \u001b[38;5;28mstr\u001b[39m):\n\u001b[1;32m    698\u001b[0m     \u001b[38;5;66;03m# Check whether the filename is to be opened in binary mode.\u001b[39;00m\n\u001b[1;32m    699\u001b[0m     \u001b[38;5;66;03m# Binary mode does not support 'encoding' and 'newline'.\u001b[39;00m\n\u001b[1;32m    700\u001b[0m     \u001b[38;5;28;01mif\u001b[39;00m ioargs\u001b[38;5;241m.\u001b[39mencoding \u001b[38;5;129;01mand\u001b[39;00m \u001b[38;5;124m\"\u001b[39m\u001b[38;5;124mb\u001b[39m\u001b[38;5;124m\"\u001b[39m \u001b[38;5;129;01mnot\u001b[39;00m \u001b[38;5;129;01min\u001b[39;00m ioargs\u001b[38;5;241m.\u001b[39mmode:\n\u001b[1;32m    701\u001b[0m         \u001b[38;5;66;03m# Encoding\u001b[39;00m\n\u001b[0;32m--> 702\u001b[0m         handle \u001b[38;5;241m=\u001b[39m \u001b[38;5;28;43mopen\u001b[39;49m\u001b[43m(\u001b[49m\n\u001b[1;32m    703\u001b[0m \u001b[43m            \u001b[49m\u001b[43mhandle\u001b[49m\u001b[43m,\u001b[49m\n\u001b[1;32m    704\u001b[0m \u001b[43m            \u001b[49m\u001b[43mioargs\u001b[49m\u001b[38;5;241;43m.\u001b[39;49m\u001b[43mmode\u001b[49m\u001b[43m,\u001b[49m\n\u001b[1;32m    705\u001b[0m \u001b[43m            \u001b[49m\u001b[43mencoding\u001b[49m\u001b[38;5;241;43m=\u001b[39;49m\u001b[43mioargs\u001b[49m\u001b[38;5;241;43m.\u001b[39;49m\u001b[43mencoding\u001b[49m\u001b[43m,\u001b[49m\n\u001b[1;32m    706\u001b[0m \u001b[43m            \u001b[49m\u001b[43merrors\u001b[49m\u001b[38;5;241;43m=\u001b[39;49m\u001b[43merrors\u001b[49m\u001b[43m,\u001b[49m\n\u001b[1;32m    707\u001b[0m \u001b[43m            \u001b[49m\u001b[43mnewline\u001b[49m\u001b[38;5;241;43m=\u001b[39;49m\u001b[38;5;124;43m\"\u001b[39;49m\u001b[38;5;124;43m\"\u001b[39;49m\u001b[43m,\u001b[49m\n\u001b[1;32m    708\u001b[0m \u001b[43m        \u001b[49m\u001b[43m)\u001b[49m\n\u001b[1;32m    709\u001b[0m     \u001b[38;5;28;01melse\u001b[39;00m:\n\u001b[1;32m    710\u001b[0m         \u001b[38;5;66;03m# Binary mode\u001b[39;00m\n\u001b[1;32m    711\u001b[0m         handle \u001b[38;5;241m=\u001b[39m \u001b[38;5;28mopen\u001b[39m(handle, ioargs\u001b[38;5;241m.\u001b[39mmode)\n",
            "\u001b[0;31mFileNotFoundError\u001b[0m: [Errno 2] No such file or directory: '/mnt/batch/tasks/shared/LS_root/mounts/clusters/aurelio-parra/code/Users/aurelio.sosa.netmind/Pandas/Users/aurelio.sosa.netmind/Pandas/ejercicio4/sales.csv'"
          ]
        }
      ],
      "execution_count": 9,
      "metadata": {
        "gather": {
          "logged": 1738581689542
        }
      }
    },
    {
      "cell_type": "code",
      "source": [
        "import pandas as pd\n",
        "import numpy as np\n",
        "import matplotlib.pyplot as plt\n",
        "import seaborn as sns\n",
        "from sklearn.cluster import KMeans\n",
        "from sklearn.preprocessing import StandardScaler\n",
        "import os\n",
        "\n",
        "# Ruta relativa de los archivos\n",
        "relative_sales_path = \"Users/aurelio.sosa.netmind/Pandas/ejercicio4/sales.csv\"\n",
        "relative_payments_path = \"Users/aurelio.sosa.netmind/Pandas/ejercicio4/payments.csv\"\n",
        "\n",
        "# Obtener la ruta absoluta correcta\n",
        "sales_file_path = os.path.abspath(relative_sales_path)\n",
        "payments_file_path = os.path.abspath(relative_payments_path)\n",
        "\n",
        "# Verificar si los archivos existen antes de cargarlos\n",
        "if not os.path.exists(sales_file_path):\n",
        "    print(f\"❌ Error: El archivo de ventas no se encontró en {sales_file_path}\")\n",
        "else:\n",
        "    print(f\"✅ Archivo de ventas encontrado en: {sales_file_path}\")\n",
        "\n",
        "if not os.path.exists(payments_file_path):\n",
        "    print(f\"❌ Error: El archivo de pagos no se encontró en {payments_file_path}\")\n",
        "else:\n",
        "    print(f\"✅ Archivo de pagos encontrado en: {payments_file_path}\")\n",
        "\n",
        "# Cargar los archivos CSV solo si existen\n",
        "if os.path.exists(sales_file_path) and os.path.exists(payments_file_path):\n",
        "    df_sales = pd.read_csv(sales_file_path)\n",
        "    df_payments = pd.read_csv(payments_file_path)\n",
        "\n",
        "    # Mostrar las primeras filas de ambos DataFrames\n",
        "    print(\"📊 Primeras filas de 'sales.csv':\")\n",
        "    print(df_sales.head())\n",
        "\n",
        "    print(\"\\n📊 Primeras filas de 'payments.csv':\")\n",
        "    print(df_payments.head())\n",
        "else:\n",
        "    print(\"❌ No se pudieron cargar los archivos debido a rutas incorrectas.\")\n"
      ],
      "outputs": [
        {
          "output_type": "stream",
          "name": "stdout",
          "text": "❌ Error: El archivo de ventas no se encontró en /mnt/batch/tasks/shared/LS_root/mounts/clusters/aurelio-parra/code/Users/aurelio.sosa.netmind/Pandas/Users/aurelio.sosa.netmind/Pandas/ejercicio4/sales.csv\n❌ Error: El archivo de pagos no se encontró en /mnt/batch/tasks/shared/LS_root/mounts/clusters/aurelio-parra/code/Users/aurelio.sosa.netmind/Pandas/Users/aurelio.sosa.netmind/Pandas/ejercicio4/payments.csv\n❌ No se pudieron cargar los archivos debido a rutas incorrectas.\n"
        }
      ],
      "execution_count": 10,
      "metadata": {
        "gather": {
          "logged": 1738581848426
        }
      }
    },
    {
      "cell_type": "code",
      "source": [
        "import pandas as pd\n",
        "import os\n",
        "\n",
        "# Definir rutas relativas\n",
        "file_path_sales = \"Users/aurelio.sosa.netmind/Pandas/ejercicio4/sales.csv\"\n",
        "file_path_payments = \"Users/aurelio.sosa.netmind/Pandas/ejercicio4/payments.csv\"\n",
        "\n",
        "# Obtener rutas absolutas\n",
        "absolute_path_sales = os.path.abspath(file_path_sales)\n",
        "absolute_path_payments = os.path.abspath(file_path_payments)\n",
        "\n",
        "# Verificar si los archivos existen antes de cargarlos\n",
        "if not os.path.exists(absolute_path_sales):\n",
        "    print(f\"❌ Error: El archivo de ventas no se encontró en {absolute_path_sales}\")\n",
        "else:\n",
        "    print(f\"✅ Archivo de ventas encontrado en: {absolute_path_sales}\")\n",
        "\n",
        "if not os.path.exists(absolute_path_payments):\n",
        "    print(f\"❌ Error: El archivo de pagos no se encontró en {absolute_path_payments}\")\n",
        "else:\n",
        "    print(f\"✅ Archivo de pagos encontrado en: {absolute_path_payments}\")\n",
        "\n",
        "# Si los archivos existen, proceder a la carga\n",
        "if os.path.exists(absolute_path_sales) and os.path.exists(absolute_path_payments):\n",
        "    df_sales = pd.read_csv(absolute_path_sales)\n",
        "    df_payments = pd.read_csv(absolute_path_payments)\n",
        "\n",
        "    # Mostrar las primeras filas de ambos DataFrames\n",
        "    print(\"\\n📊 Primeras filas de 'sales.csv':\")\n",
        "    print(df_sales.head())\n",
        "\n",
        "    print(\"\\n📊 Primeras filas de 'payments.csv':\")\n",
        "    print(df_payments.head())\n",
        "else:\n",
        "    print(\"❌ No se pudieron cargar los archivos debido a rutas incorrectas.\")\n"
      ],
      "outputs": [
        {
          "output_type": "stream",
          "name": "stdout",
          "text": "❌ Error: El archivo de ventas no se encontró en /mnt/batch/tasks/shared/LS_root/mounts/clusters/aurelio-parra/code/Users/aurelio.sosa.netmind/Pandas/Users/aurelio.sosa.netmind/Pandas/ejercicio4/sales.csv\n❌ Error: El archivo de pagos no se encontró en /mnt/batch/tasks/shared/LS_root/mounts/clusters/aurelio-parra/code/Users/aurelio.sosa.netmind/Pandas/Users/aurelio.sosa.netmind/Pandas/ejercicio4/payments.csv\n❌ No se pudieron cargar los archivos debido a rutas incorrectas.\n"
        }
      ],
      "execution_count": 11,
      "metadata": {
        "gather": {
          "logged": 1738581927147
        }
      }
    },
    {
      "cell_type": "code",
      "source": [
        "import pandas as pd\n",
        "import os\n",
        "\n",
        "# Definir la ruta correcta de los archivos\n",
        "file_path_sales = \"/mnt/batch/tasks/shared/LS_root/mounts/clusters/aurelio-parra/code/Users/aurelio.sosa.netmind/Pandas/ejercicio4/sales.csv\"\n",
        "file_path_payments = \"/mnt/batch/tasks/shared/LS_root/mounts/clusters/aurelio-parra/code/Users/aurelio.sosa.netmind/Pandas/ejercicio4/payments.csv\"\n",
        "\n",
        "# Verificar si los archivos existen antes de cargarlos\n",
        "if os.path.exists(file_path_sales) and os.path.exists(file_path_payments):\n",
        "    print(\"✅ Archivos encontrados, procediendo con la carga...\\n\")\n",
        "    \n",
        "    # Cargar los archivos CSV en DataFrames\n",
        "    df_sales = pd.read_csv(file_path_sales)\n",
        "    df_payments = pd.read_csv(file_path_payments)\n",
        "\n",
        "    # Mostrar las primeras filas de ambos DataFrames\n",
        "    print(\"📊 Primeras filas de 'sales.csv':\")\n",
        "    print(df_sales.head(), \"\\n\")\n",
        "\n",
        "    print(\"📊 Primeras filas de 'payments.csv':\")\n",
        "    print(df_payments.head())\n",
        "\n",
        "else:\n",
        "    print(\"❌ No se pudieron cargar los archivos debido a rutas incorrectas.\")\n"
      ],
      "outputs": [
        {
          "output_type": "stream",
          "name": "stdout",
          "text": "✅ Archivos encontrados, procediendo con la carga...\n\n📊 Primeras filas de 'sales.csv':\n       0  0.1  0000-00-00 0000-00-00.1 0000-00-00.2  0.2   0.3 productCode  \\\n0  10100    1  0000-00-00   0000-00-00   0000-00-00  363  1216    S24_3969   \n1  10100    2  0000-00-00   0000-00-00   0000-00-00  363  1216    S18_2248   \n2  10100    3  0000-00-00   0000-00-00   0000-00-00  363  1216    S18_1749   \n3  10100    4  0000-00-00   0000-00-00   0000-00-00  363  1216    S18_4409   \n4  10101    1  0000-00-00   0000-00-00   0000-00-00  128  1504    S18_2795   \n\n    status                comments  0.4    0.00   0.00.1 origin  \n0  Shipped                     NaN   49   35.29  1729.21  spain  \n1  Shipped                     NaN   50   55.09  2754.50  spain  \n2  Shipped                     NaN   30  136.00  4080.00  spain  \n3  Shipped                     NaN   22   75.46  1660.12  spain  \n4  Shipped  Check on availability.   26  167.06  4343.56  spain   \n\n📊 Primeras filas de 'payments.csv':\n     0 checkNumber  0000-00-00      0.00\n0  103    HQ336336  2004-10-19   6066.78\n1  103    JM555205  2003-06-05  14571.44\n2  103    OM314933  2004-12-18   1676.14\n3  112    BO864823  2004-12-17  14191.12\n4  112     HQ55022  2003-06-06  32641.98\n"
        }
      ],
      "execution_count": 12,
      "metadata": {
        "gather": {
          "logged": 1738582137982
        }
      }
    },
    {
      "cell_type": "code",
      "source": [
        "# Volver a cargar los archivos CSV con la primera fila como encabezado\n",
        "df_sales = pd.read_csv(sales_file_path, header=None)\n",
        "df_payments = pd.read_csv(payments_file_path, header=None)\n",
        "\n",
        "# Mostrar las primeras filas de ambos DataFrames para analizar la estructura\n",
        "df_sales.head(), df_payments.head()\n"
      ],
      "outputs": [
        {
          "output_type": "error",
          "ename": "FileNotFoundError",
          "evalue": "[Errno 2] No such file or directory: '/mnt/batch/tasks/shared/LS_root/mounts/clusters/aurelio-parra/code/Users/aurelio.sosa.netmind/Pandas/Users/aurelio.sosa.netmind/Pandas/ejercicio4/sales.csv'",
          "traceback": [
            "\u001b[0;31m---------------------------------------------------------------------------\u001b[0m",
            "\u001b[0;31mFileNotFoundError\u001b[0m                         Traceback (most recent call last)",
            "Cell \u001b[0;32mIn[13], line 2\u001b[0m\n\u001b[1;32m      1\u001b[0m \u001b[38;5;66;03m# Volver a cargar los archivos CSV con la primera fila como encabezado\u001b[39;00m\n\u001b[0;32m----> 2\u001b[0m df_sales \u001b[38;5;241m=\u001b[39m \u001b[43mpd\u001b[49m\u001b[38;5;241;43m.\u001b[39;49m\u001b[43mread_csv\u001b[49m\u001b[43m(\u001b[49m\u001b[43msales_file_path\u001b[49m\u001b[43m,\u001b[49m\u001b[43m \u001b[49m\u001b[43mheader\u001b[49m\u001b[38;5;241;43m=\u001b[39;49m\u001b[38;5;28;43;01mNone\u001b[39;49;00m\u001b[43m)\u001b[49m\n\u001b[1;32m      3\u001b[0m df_payments \u001b[38;5;241m=\u001b[39m pd\u001b[38;5;241m.\u001b[39mread_csv(payments_file_path, header\u001b[38;5;241m=\u001b[39m\u001b[38;5;28;01mNone\u001b[39;00m)\n\u001b[1;32m      5\u001b[0m \u001b[38;5;66;03m# Mostrar las primeras filas de ambos DataFrames para analizar la estructura\u001b[39;00m\n",
            "File \u001b[0;32m/anaconda/envs/azureml_py38/lib/python3.10/site-packages/pandas/util/_decorators.py:311\u001b[0m, in \u001b[0;36mdeprecate_nonkeyword_arguments.<locals>.decorate.<locals>.wrapper\u001b[0;34m(*args, **kwargs)\u001b[0m\n\u001b[1;32m    305\u001b[0m \u001b[38;5;28;01mif\u001b[39;00m \u001b[38;5;28mlen\u001b[39m(args) \u001b[38;5;241m>\u001b[39m num_allow_args:\n\u001b[1;32m    306\u001b[0m     warnings\u001b[38;5;241m.\u001b[39mwarn(\n\u001b[1;32m    307\u001b[0m         msg\u001b[38;5;241m.\u001b[39mformat(arguments\u001b[38;5;241m=\u001b[39marguments),\n\u001b[1;32m    308\u001b[0m         \u001b[38;5;167;01mFutureWarning\u001b[39;00m,\n\u001b[1;32m    309\u001b[0m         stacklevel\u001b[38;5;241m=\u001b[39mstacklevel,\n\u001b[1;32m    310\u001b[0m     )\n\u001b[0;32m--> 311\u001b[0m \u001b[38;5;28;01mreturn\u001b[39;00m \u001b[43mfunc\u001b[49m\u001b[43m(\u001b[49m\u001b[38;5;241;43m*\u001b[39;49m\u001b[43margs\u001b[49m\u001b[43m,\u001b[49m\u001b[43m \u001b[49m\u001b[38;5;241;43m*\u001b[39;49m\u001b[38;5;241;43m*\u001b[39;49m\u001b[43mkwargs\u001b[49m\u001b[43m)\u001b[49m\n",
            "File \u001b[0;32m/anaconda/envs/azureml_py38/lib/python3.10/site-packages/pandas/io/parsers/readers.py:586\u001b[0m, in \u001b[0;36mread_csv\u001b[0;34m(filepath_or_buffer, sep, delimiter, header, names, index_col, usecols, squeeze, prefix, mangle_dupe_cols, dtype, engine, converters, true_values, false_values, skipinitialspace, skiprows, skipfooter, nrows, na_values, keep_default_na, na_filter, verbose, skip_blank_lines, parse_dates, infer_datetime_format, keep_date_col, date_parser, dayfirst, cache_dates, iterator, chunksize, compression, thousands, decimal, lineterminator, quotechar, quoting, doublequote, escapechar, comment, encoding, encoding_errors, dialect, error_bad_lines, warn_bad_lines, on_bad_lines, delim_whitespace, low_memory, memory_map, float_precision, storage_options)\u001b[0m\n\u001b[1;32m    571\u001b[0m kwds_defaults \u001b[38;5;241m=\u001b[39m _refine_defaults_read(\n\u001b[1;32m    572\u001b[0m     dialect,\n\u001b[1;32m    573\u001b[0m     delimiter,\n\u001b[0;32m   (...)\u001b[0m\n\u001b[1;32m    582\u001b[0m     defaults\u001b[38;5;241m=\u001b[39m{\u001b[38;5;124m\"\u001b[39m\u001b[38;5;124mdelimiter\u001b[39m\u001b[38;5;124m\"\u001b[39m: \u001b[38;5;124m\"\u001b[39m\u001b[38;5;124m,\u001b[39m\u001b[38;5;124m\"\u001b[39m},\n\u001b[1;32m    583\u001b[0m )\n\u001b[1;32m    584\u001b[0m kwds\u001b[38;5;241m.\u001b[39mupdate(kwds_defaults)\n\u001b[0;32m--> 586\u001b[0m \u001b[38;5;28;01mreturn\u001b[39;00m \u001b[43m_read\u001b[49m\u001b[43m(\u001b[49m\u001b[43mfilepath_or_buffer\u001b[49m\u001b[43m,\u001b[49m\u001b[43m \u001b[49m\u001b[43mkwds\u001b[49m\u001b[43m)\u001b[49m\n",
            "File \u001b[0;32m/anaconda/envs/azureml_py38/lib/python3.10/site-packages/pandas/io/parsers/readers.py:482\u001b[0m, in \u001b[0;36m_read\u001b[0;34m(filepath_or_buffer, kwds)\u001b[0m\n\u001b[1;32m    479\u001b[0m _validate_names(kwds\u001b[38;5;241m.\u001b[39mget(\u001b[38;5;124m\"\u001b[39m\u001b[38;5;124mnames\u001b[39m\u001b[38;5;124m\"\u001b[39m, \u001b[38;5;28;01mNone\u001b[39;00m))\n\u001b[1;32m    481\u001b[0m \u001b[38;5;66;03m# Create the parser.\u001b[39;00m\n\u001b[0;32m--> 482\u001b[0m parser \u001b[38;5;241m=\u001b[39m \u001b[43mTextFileReader\u001b[49m\u001b[43m(\u001b[49m\u001b[43mfilepath_or_buffer\u001b[49m\u001b[43m,\u001b[49m\u001b[43m \u001b[49m\u001b[38;5;241;43m*\u001b[39;49m\u001b[38;5;241;43m*\u001b[39;49m\u001b[43mkwds\u001b[49m\u001b[43m)\u001b[49m\n\u001b[1;32m    484\u001b[0m \u001b[38;5;28;01mif\u001b[39;00m chunksize \u001b[38;5;129;01mor\u001b[39;00m iterator:\n\u001b[1;32m    485\u001b[0m     \u001b[38;5;28;01mreturn\u001b[39;00m parser\n",
            "File \u001b[0;32m/anaconda/envs/azureml_py38/lib/python3.10/site-packages/pandas/io/parsers/readers.py:811\u001b[0m, in \u001b[0;36mTextFileReader.__init__\u001b[0;34m(self, f, engine, **kwds)\u001b[0m\n\u001b[1;32m    808\u001b[0m \u001b[38;5;28;01mif\u001b[39;00m \u001b[38;5;124m\"\u001b[39m\u001b[38;5;124mhas_index_names\u001b[39m\u001b[38;5;124m\"\u001b[39m \u001b[38;5;129;01min\u001b[39;00m kwds:\n\u001b[1;32m    809\u001b[0m     \u001b[38;5;28mself\u001b[39m\u001b[38;5;241m.\u001b[39moptions[\u001b[38;5;124m\"\u001b[39m\u001b[38;5;124mhas_index_names\u001b[39m\u001b[38;5;124m\"\u001b[39m] \u001b[38;5;241m=\u001b[39m kwds[\u001b[38;5;124m\"\u001b[39m\u001b[38;5;124mhas_index_names\u001b[39m\u001b[38;5;124m\"\u001b[39m]\n\u001b[0;32m--> 811\u001b[0m \u001b[38;5;28mself\u001b[39m\u001b[38;5;241m.\u001b[39m_engine \u001b[38;5;241m=\u001b[39m \u001b[38;5;28;43mself\u001b[39;49m\u001b[38;5;241;43m.\u001b[39;49m\u001b[43m_make_engine\u001b[49m\u001b[43m(\u001b[49m\u001b[38;5;28;43mself\u001b[39;49m\u001b[38;5;241;43m.\u001b[39;49m\u001b[43mengine\u001b[49m\u001b[43m)\u001b[49m\n",
            "File \u001b[0;32m/anaconda/envs/azureml_py38/lib/python3.10/site-packages/pandas/io/parsers/readers.py:1040\u001b[0m, in \u001b[0;36mTextFileReader._make_engine\u001b[0;34m(self, engine)\u001b[0m\n\u001b[1;32m   1036\u001b[0m     \u001b[38;5;28;01mraise\u001b[39;00m \u001b[38;5;167;01mValueError\u001b[39;00m(\n\u001b[1;32m   1037\u001b[0m         \u001b[38;5;124mf\u001b[39m\u001b[38;5;124m\"\u001b[39m\u001b[38;5;124mUnknown engine: \u001b[39m\u001b[38;5;132;01m{\u001b[39;00mengine\u001b[38;5;132;01m}\u001b[39;00m\u001b[38;5;124m (valid options are \u001b[39m\u001b[38;5;132;01m{\u001b[39;00mmapping\u001b[38;5;241m.\u001b[39mkeys()\u001b[38;5;132;01m}\u001b[39;00m\u001b[38;5;124m)\u001b[39m\u001b[38;5;124m\"\u001b[39m\n\u001b[1;32m   1038\u001b[0m     )\n\u001b[1;32m   1039\u001b[0m \u001b[38;5;66;03m# error: Too many arguments for \"ParserBase\"\u001b[39;00m\n\u001b[0;32m-> 1040\u001b[0m \u001b[38;5;28;01mreturn\u001b[39;00m \u001b[43mmapping\u001b[49m\u001b[43m[\u001b[49m\u001b[43mengine\u001b[49m\u001b[43m]\u001b[49m\u001b[43m(\u001b[49m\u001b[38;5;28;43mself\u001b[39;49m\u001b[38;5;241;43m.\u001b[39;49m\u001b[43mf\u001b[49m\u001b[43m,\u001b[49m\u001b[43m \u001b[49m\u001b[38;5;241;43m*\u001b[39;49m\u001b[38;5;241;43m*\u001b[39;49m\u001b[38;5;28;43mself\u001b[39;49m\u001b[38;5;241;43m.\u001b[39;49m\u001b[43moptions\u001b[49m\u001b[43m)\u001b[49m\n",
            "File \u001b[0;32m/anaconda/envs/azureml_py38/lib/python3.10/site-packages/pandas/io/parsers/c_parser_wrapper.py:51\u001b[0m, in \u001b[0;36mCParserWrapper.__init__\u001b[0;34m(self, src, **kwds)\u001b[0m\n\u001b[1;32m     48\u001b[0m kwds[\u001b[38;5;124m\"\u001b[39m\u001b[38;5;124musecols\u001b[39m\u001b[38;5;124m\"\u001b[39m] \u001b[38;5;241m=\u001b[39m \u001b[38;5;28mself\u001b[39m\u001b[38;5;241m.\u001b[39musecols\n\u001b[1;32m     50\u001b[0m \u001b[38;5;66;03m# open handles\u001b[39;00m\n\u001b[0;32m---> 51\u001b[0m \u001b[38;5;28;43mself\u001b[39;49m\u001b[38;5;241;43m.\u001b[39;49m\u001b[43m_open_handles\u001b[49m\u001b[43m(\u001b[49m\u001b[43msrc\u001b[49m\u001b[43m,\u001b[49m\u001b[43m \u001b[49m\u001b[43mkwds\u001b[49m\u001b[43m)\u001b[49m\n\u001b[1;32m     52\u001b[0m \u001b[38;5;28;01massert\u001b[39;00m \u001b[38;5;28mself\u001b[39m\u001b[38;5;241m.\u001b[39mhandles \u001b[38;5;129;01mis\u001b[39;00m \u001b[38;5;129;01mnot\u001b[39;00m \u001b[38;5;28;01mNone\u001b[39;00m\n\u001b[1;32m     54\u001b[0m \u001b[38;5;66;03m# Have to pass int, would break tests using TextReader directly otherwise :(\u001b[39;00m\n",
            "File \u001b[0;32m/anaconda/envs/azureml_py38/lib/python3.10/site-packages/pandas/io/parsers/base_parser.py:222\u001b[0m, in \u001b[0;36mParserBase._open_handles\u001b[0;34m(self, src, kwds)\u001b[0m\n\u001b[1;32m    218\u001b[0m \u001b[38;5;28;01mdef\u001b[39;00m \u001b[38;5;21m_open_handles\u001b[39m(\u001b[38;5;28mself\u001b[39m, src: FilePathOrBuffer, kwds: \u001b[38;5;28mdict\u001b[39m[\u001b[38;5;28mstr\u001b[39m, Any]) \u001b[38;5;241m-\u001b[39m\u001b[38;5;241m>\u001b[39m \u001b[38;5;28;01mNone\u001b[39;00m:\n\u001b[1;32m    219\u001b[0m \u001b[38;5;250m    \u001b[39m\u001b[38;5;124;03m\"\"\"\u001b[39;00m\n\u001b[1;32m    220\u001b[0m \u001b[38;5;124;03m    Let the readers open IOHandles after they are done with their potential raises.\u001b[39;00m\n\u001b[1;32m    221\u001b[0m \u001b[38;5;124;03m    \"\"\"\u001b[39;00m\n\u001b[0;32m--> 222\u001b[0m     \u001b[38;5;28mself\u001b[39m\u001b[38;5;241m.\u001b[39mhandles \u001b[38;5;241m=\u001b[39m \u001b[43mget_handle\u001b[49m\u001b[43m(\u001b[49m\n\u001b[1;32m    223\u001b[0m \u001b[43m        \u001b[49m\u001b[43msrc\u001b[49m\u001b[43m,\u001b[49m\n\u001b[1;32m    224\u001b[0m \u001b[43m        \u001b[49m\u001b[38;5;124;43m\"\u001b[39;49m\u001b[38;5;124;43mr\u001b[39;49m\u001b[38;5;124;43m\"\u001b[39;49m\u001b[43m,\u001b[49m\n\u001b[1;32m    225\u001b[0m \u001b[43m        \u001b[49m\u001b[43mencoding\u001b[49m\u001b[38;5;241;43m=\u001b[39;49m\u001b[43mkwds\u001b[49m\u001b[38;5;241;43m.\u001b[39;49m\u001b[43mget\u001b[49m\u001b[43m(\u001b[49m\u001b[38;5;124;43m\"\u001b[39;49m\u001b[38;5;124;43mencoding\u001b[39;49m\u001b[38;5;124;43m\"\u001b[39;49m\u001b[43m,\u001b[49m\u001b[43m \u001b[49m\u001b[38;5;28;43;01mNone\u001b[39;49;00m\u001b[43m)\u001b[49m\u001b[43m,\u001b[49m\n\u001b[1;32m    226\u001b[0m \u001b[43m        \u001b[49m\u001b[43mcompression\u001b[49m\u001b[38;5;241;43m=\u001b[39;49m\u001b[43mkwds\u001b[49m\u001b[38;5;241;43m.\u001b[39;49m\u001b[43mget\u001b[49m\u001b[43m(\u001b[49m\u001b[38;5;124;43m\"\u001b[39;49m\u001b[38;5;124;43mcompression\u001b[39;49m\u001b[38;5;124;43m\"\u001b[39;49m\u001b[43m,\u001b[49m\u001b[43m \u001b[49m\u001b[38;5;28;43;01mNone\u001b[39;49;00m\u001b[43m)\u001b[49m\u001b[43m,\u001b[49m\n\u001b[1;32m    227\u001b[0m \u001b[43m        \u001b[49m\u001b[43mmemory_map\u001b[49m\u001b[38;5;241;43m=\u001b[39;49m\u001b[43mkwds\u001b[49m\u001b[38;5;241;43m.\u001b[39;49m\u001b[43mget\u001b[49m\u001b[43m(\u001b[49m\u001b[38;5;124;43m\"\u001b[39;49m\u001b[38;5;124;43mmemory_map\u001b[39;49m\u001b[38;5;124;43m\"\u001b[39;49m\u001b[43m,\u001b[49m\u001b[43m \u001b[49m\u001b[38;5;28;43;01mFalse\u001b[39;49;00m\u001b[43m)\u001b[49m\u001b[43m,\u001b[49m\n\u001b[1;32m    228\u001b[0m \u001b[43m        \u001b[49m\u001b[43mstorage_options\u001b[49m\u001b[38;5;241;43m=\u001b[39;49m\u001b[43mkwds\u001b[49m\u001b[38;5;241;43m.\u001b[39;49m\u001b[43mget\u001b[49m\u001b[43m(\u001b[49m\u001b[38;5;124;43m\"\u001b[39;49m\u001b[38;5;124;43mstorage_options\u001b[39;49m\u001b[38;5;124;43m\"\u001b[39;49m\u001b[43m,\u001b[49m\u001b[43m \u001b[49m\u001b[38;5;28;43;01mNone\u001b[39;49;00m\u001b[43m)\u001b[49m\u001b[43m,\u001b[49m\n\u001b[1;32m    229\u001b[0m \u001b[43m        \u001b[49m\u001b[43merrors\u001b[49m\u001b[38;5;241;43m=\u001b[39;49m\u001b[43mkwds\u001b[49m\u001b[38;5;241;43m.\u001b[39;49m\u001b[43mget\u001b[49m\u001b[43m(\u001b[49m\u001b[38;5;124;43m\"\u001b[39;49m\u001b[38;5;124;43mencoding_errors\u001b[39;49m\u001b[38;5;124;43m\"\u001b[39;49m\u001b[43m,\u001b[49m\u001b[43m \u001b[49m\u001b[38;5;124;43m\"\u001b[39;49m\u001b[38;5;124;43mstrict\u001b[39;49m\u001b[38;5;124;43m\"\u001b[39;49m\u001b[43m)\u001b[49m\u001b[43m,\u001b[49m\n\u001b[1;32m    230\u001b[0m \u001b[43m    \u001b[49m\u001b[43m)\u001b[49m\n",
            "File \u001b[0;32m/anaconda/envs/azureml_py38/lib/python3.10/site-packages/pandas/io/common.py:702\u001b[0m, in \u001b[0;36mget_handle\u001b[0;34m(path_or_buf, mode, encoding, compression, memory_map, is_text, errors, storage_options)\u001b[0m\n\u001b[1;32m    697\u001b[0m \u001b[38;5;28;01melif\u001b[39;00m \u001b[38;5;28misinstance\u001b[39m(handle, \u001b[38;5;28mstr\u001b[39m):\n\u001b[1;32m    698\u001b[0m     \u001b[38;5;66;03m# Check whether the filename is to be opened in binary mode.\u001b[39;00m\n\u001b[1;32m    699\u001b[0m     \u001b[38;5;66;03m# Binary mode does not support 'encoding' and 'newline'.\u001b[39;00m\n\u001b[1;32m    700\u001b[0m     \u001b[38;5;28;01mif\u001b[39;00m ioargs\u001b[38;5;241m.\u001b[39mencoding \u001b[38;5;129;01mand\u001b[39;00m \u001b[38;5;124m\"\u001b[39m\u001b[38;5;124mb\u001b[39m\u001b[38;5;124m\"\u001b[39m \u001b[38;5;129;01mnot\u001b[39;00m \u001b[38;5;129;01min\u001b[39;00m ioargs\u001b[38;5;241m.\u001b[39mmode:\n\u001b[1;32m    701\u001b[0m         \u001b[38;5;66;03m# Encoding\u001b[39;00m\n\u001b[0;32m--> 702\u001b[0m         handle \u001b[38;5;241m=\u001b[39m \u001b[38;5;28;43mopen\u001b[39;49m\u001b[43m(\u001b[49m\n\u001b[1;32m    703\u001b[0m \u001b[43m            \u001b[49m\u001b[43mhandle\u001b[49m\u001b[43m,\u001b[49m\n\u001b[1;32m    704\u001b[0m \u001b[43m            \u001b[49m\u001b[43mioargs\u001b[49m\u001b[38;5;241;43m.\u001b[39;49m\u001b[43mmode\u001b[49m\u001b[43m,\u001b[49m\n\u001b[1;32m    705\u001b[0m \u001b[43m            \u001b[49m\u001b[43mencoding\u001b[49m\u001b[38;5;241;43m=\u001b[39;49m\u001b[43mioargs\u001b[49m\u001b[38;5;241;43m.\u001b[39;49m\u001b[43mencoding\u001b[49m\u001b[43m,\u001b[49m\n\u001b[1;32m    706\u001b[0m \u001b[43m            \u001b[49m\u001b[43merrors\u001b[49m\u001b[38;5;241;43m=\u001b[39;49m\u001b[43merrors\u001b[49m\u001b[43m,\u001b[49m\n\u001b[1;32m    707\u001b[0m \u001b[43m            \u001b[49m\u001b[43mnewline\u001b[49m\u001b[38;5;241;43m=\u001b[39;49m\u001b[38;5;124;43m\"\u001b[39;49m\u001b[38;5;124;43m\"\u001b[39;49m\u001b[43m,\u001b[49m\n\u001b[1;32m    708\u001b[0m \u001b[43m        \u001b[49m\u001b[43m)\u001b[49m\n\u001b[1;32m    709\u001b[0m     \u001b[38;5;28;01melse\u001b[39;00m:\n\u001b[1;32m    710\u001b[0m         \u001b[38;5;66;03m# Binary mode\u001b[39;00m\n\u001b[1;32m    711\u001b[0m         handle \u001b[38;5;241m=\u001b[39m \u001b[38;5;28mopen\u001b[39m(handle, ioargs\u001b[38;5;241m.\u001b[39mmode)\n",
            "\u001b[0;31mFileNotFoundError\u001b[0m: [Errno 2] No such file or directory: '/mnt/batch/tasks/shared/LS_root/mounts/clusters/aurelio-parra/code/Users/aurelio.sosa.netmind/Pandas/Users/aurelio.sosa.netmind/Pandas/ejercicio4/sales.csv'"
          ]
        }
      ],
      "execution_count": 13,
      "metadata": {
        "gather": {
          "logged": 1738582348236
        }
      }
    },
    {
      "cell_type": "code",
      "source": [
        "# Ver información general de los datos\n",
        "print(\"\\n📌 Información sobre 'sales.csv':\")\n",
        "print(df_sales.info())\n",
        "\n",
        "print(\"\\n📌 Información sobre 'payments.csv':\")\n",
        "print(df_payments.info())\n",
        "\n",
        "# Revisar valores nulos\n",
        "print(\"\\n🔎 Valores nulos en 'sales.csv':\")\n",
        "print(df_sales.isnull().sum())\n",
        "\n",
        "print(\"\\n🔎 Valores nulos en 'payments.csv':\")\n",
        "print(df_payments.isnull().sum())\n"
      ],
      "outputs": [
        {
          "output_type": "stream",
          "name": "stdout",
          "text": "\n📌 Información sobre 'sales.csv':\n<class 'pandas.core.frame.DataFrame'>\nRangeIndex: 3001 entries, 0 to 3000\nData columns (total 14 columns):\n #   Column        Non-Null Count  Dtype  \n---  ------        --------------  -----  \n 0   0             3001 non-null   int64  \n 1   0.1           3001 non-null   int64  \n 2   0000-00-00    3001 non-null   object \n 3   0000-00-00.1  2859 non-null   object \n 4   0000-00-00.2  3001 non-null   object \n 5   0.2           3001 non-null   int64  \n 6   0.3           3001 non-null   int64  \n 7   productCode   3001 non-null   object \n 8   status        3001 non-null   object \n 9   comments      759 non-null    object \n 10  0.4           3001 non-null   int64  \n 11  0.00          3001 non-null   float64\n 12  0.00.1        3001 non-null   float64\n 13  origin        3001 non-null   object \ndtypes: float64(2), int64(5), object(7)\nmemory usage: 328.4+ KB\nNone\n\n📌 Información sobre 'payments.csv':\n<class 'pandas.core.frame.DataFrame'>\nRangeIndex: 278 entries, 0 to 277\nData columns (total 4 columns):\n #   Column       Non-Null Count  Dtype  \n---  ------       --------------  -----  \n 0   0            278 non-null    int64  \n 1   checkNumber  278 non-null    object \n 2   0000-00-00   278 non-null    object \n 3   0.00         278 non-null    float64\ndtypes: float64(1), int64(1), object(2)\nmemory usage: 8.8+ KB\nNone\n\n🔎 Valores nulos en 'sales.csv':\n0                  0\n0.1                0\n0000-00-00         0\n0000-00-00.1     142\n0000-00-00.2       0\n0.2                0\n0.3                0\nproductCode        0\nstatus             0\ncomments        2242\n0.4                0\n0.00               0\n0.00.1             0\norigin             0\ndtype: int64\n\n🔎 Valores nulos en 'payments.csv':\n0              0\ncheckNumber    0\n0000-00-00     0\n0.00           0\ndtype: int64\n"
        }
      ],
      "execution_count": 14,
      "metadata": {
        "gather": {
          "logged": 1738582489876
        }
      }
    },
    {
      "cell_type": "code",
      "source": [
        "# Mostrar las primeras filas y las columnas disponibles para verificar su contenido\n",
        "df_sales_info = df_sales.head()\n",
        "df_payments_info = df_payments.head()\n",
        "df_sales_columns = df_sales.columns.tolist()\n",
        "df_payments_columns = df_payments.columns.tolist()\n",
        "\n",
        "df_sales_info, df_sales_columns, df_payments_info, df_payments_columns\n",
        "\n"
      ],
      "outputs": [
        {
          "output_type": "execute_result",
          "execution_count": 18,
          "data": {
            "text/plain": "(       0  0.1  0000-00-00 0000-00-00.1 0000-00-00.2  0.2   0.3 productCode  \\\n 0  10100    1  0000-00-00   0000-00-00   0000-00-00  363  1216    S24_3969   \n 1  10100    2  0000-00-00   0000-00-00   0000-00-00  363  1216    S18_2248   \n 2  10100    3  0000-00-00   0000-00-00   0000-00-00  363  1216    S18_1749   \n 3  10100    4  0000-00-00   0000-00-00   0000-00-00  363  1216    S18_4409   \n 4  10101    1  0000-00-00   0000-00-00   0000-00-00  128  1504    S18_2795   \n \n     status                comments  0.4    0.00   0.00.1 origin  \n 0  Shipped                     NaN   49   35.29  1729.21  spain  \n 1  Shipped                     NaN   50   55.09  2754.50  spain  \n 2  Shipped                     NaN   30  136.00  4080.00  spain  \n 3  Shipped                     NaN   22   75.46  1660.12  spain  \n 4  Shipped  Check on availability.   26  167.06  4343.56  spain  ,\n ['0',\n  '0.1',\n  '0000-00-00',\n  '0000-00-00.1',\n  '0000-00-00.2',\n  '0.2',\n  '0.3',\n  'productCode',\n  'status',\n  'comments',\n  '0.4',\n  '0.00',\n  '0.00.1',\n  'origin'],\n      0 checkNumber  0000-00-00      0.00\n 0  103    HQ336336  2004-10-19   6066.78\n 1  103    JM555205  2003-06-05  14571.44\n 2  103    OM314933  2004-12-18   1676.14\n 3  112    BO864823  2004-12-17  14191.12\n 4  112     HQ55022  2003-06-06  32641.98,\n ['0', 'checkNumber', '0000-00-00', '0.00'])"
          },
          "metadata": {}
        }
      ],
      "execution_count": 18,
      "metadata": {
        "gather": {
          "logged": 1738583339108
        }
      }
    },
    {
      "cell_type": "code",
      "source": [
        "from ydata_profiling import ProfileReport\n",
        "import pandas as pd\n",
        "\n",
        "# Definir las rutas de los archivos\n",
        "sales_file_path = r\"/mnt/batch/tasks/shared/LS_root/mounts/clusters/aurelio-parra/code/Users/aurelio.sosa.netmind/Pandas/Pandas_Numpy/Users/aurelio.sosa.netmind/Pandas/Pandas_Numpy/ejercicio4/sales.csv\"\n",
        "payments_file_path = r\"/mnt/batch/tasks/shared/LS_root/mounts/clusters/aurelio-parra/code/Users/aurelio.sosa.netmind/Pandas/Pandas_Numpy/Users/aurelio.sosa.netmind/Pandas/Pandas_Numpy/ejercicio4/payments.csv\"\n",
        "\n",
        "# Cargar los archivos en DataFrames\n",
        "sales_df = pd.read_csv(sales_file_path)\n",
        "payments_df = pd.read_csv(payments_file_path)\n",
        "\n",
        "# Mostrar las primeras filas de cada dataset\n",
        "sales_df.head(), payments_df.head()\n",
        "\n",
        "# Generar los informes de perfilado\n",
        "payments_profile = ProfileReport(payments_df, title=\"Perfil de Payments\", explorative=True)\n",
        "sales_profile = ProfileReport(sales_df, title=\"Perfil de Sales\", explorative=True)\n",
        "\n",
        "# Guardar los informes en archivos HTML\n",
        "payments_profile.to_file('/mnt/data/payments_profile.html')\n",
        "sales_profile.to_file('/mnt/data/sales_profile.html')\n"
      ],
      "outputs": [],
      "execution_count": null,
      "metadata": {
        "gather": {
          "logged": 1738838150998
        }
      }
    },
    {
      "cell_type": "code",
      "source": [
        "!pip install ydata-profiling\n",
        "profile.to_notebookiframe()"
      ],
      "outputs": [],
      "execution_count": null,
      "metadata": {}
    },
    {
      "cell_type": "code",
      "source": [
        "import os\n",
        "\n",
        "# Definir las rutas relativas\n",
        "sales_file_path = r\"Users/aurelio.sosa.netmind/Pandas/Pandas_Numpy/ejercicio4/sales.csv\"\n",
        "payments_file_path = r\"Users/aurelio.sosa.netmind/Pandas/Pandas_Numpy/ejercicio4/payments.csv\"\n",
        "\n",
        "# Convertir las rutas relativas a rutas absolutas\n",
        "absolute_sales_path = os.path.abspath(sales_file_path)\n",
        "absolute_payments_path = os.path.abspath(payments_file_path)\n",
        "\n",
        "print(\"Ruta absoluta de sales.csv:\", absolute_sales_path)\n",
        "print(\"Ruta absoluta de payments.csv:\", absolute_payments_path)\n"
      ],
      "outputs": [
        {
          "output_type": "stream",
          "name": "stdout",
          "text": "Ruta absoluta de sales.csv: /mnt/batch/tasks/shared/LS_root/mounts/clusters/aurelio-parra/code/Users/aurelio.sosa.netmind/Pandas/Pandas_Numpy/Users/aurelio.sosa.netmind/Pandas/Pandas_Numpy/ejercicio4/sales.csv\nRuta absoluta de payments.csv: /mnt/batch/tasks/shared/LS_root/mounts/clusters/aurelio-parra/code/Users/aurelio.sosa.netmind/Pandas/Pandas_Numpy/Users/aurelio.sosa.netmind/Pandas/Pandas_Numpy/ejercicio4/payments.csv\n"
        }
      ],
      "execution_count": 7,
      "metadata": {
        "gather": {
          "logged": 1738838350007
        }
      }
    }
  ],
  "metadata": {
    "kernelspec": {
      "name": "python38-azureml",
      "language": "python",
      "display_name": "Python 3.8 - AzureML"
    },
    "language_info": {
      "name": "python",
      "version": "3.10.11",
      "mimetype": "text/x-python",
      "codemirror_mode": {
        "name": "ipython",
        "version": 3
      },
      "pygments_lexer": "ipython3",
      "nbconvert_exporter": "python",
      "file_extension": ".py"
    },
    "kernel_info": {
      "name": "python38-azureml"
    },
    "nteract": {
      "version": "nteract-front-end@1.0.0"
    },
    "microsoft": {
      "ms_spell_check": {
        "ms_spell_check_language": "es"
      },
      "host": {
        "AzureML": {
          "notebookHasBeenCompleted": true
        }
      }
    }
  },
  "nbformat": 4,
  "nbformat_minor": 2
}