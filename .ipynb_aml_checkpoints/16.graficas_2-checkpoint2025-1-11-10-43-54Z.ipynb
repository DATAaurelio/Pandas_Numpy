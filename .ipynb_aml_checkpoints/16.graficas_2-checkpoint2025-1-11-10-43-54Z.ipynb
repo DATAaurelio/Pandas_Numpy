{
  "cells": [
    {
      "cell_type": "markdown",
      "source": [
        ">## **¿Qué hace este código?** ##\n",
        "\n",
        "Verifica si el archivo existe antes de intentar leerlo.\n",
        "\n",
        "Imprime la ruta absoluta correcta que puedes utilizar directamente para cargar el archivo.\n",
        "\n",
        "Carga el archivo CSV si existe y muestra las primeras filas.\n",
        "\n",
        "Si el archivo no se encuentra:\n",
        "\n",
        "Asegúrate de que el archivo esté en el mismo directorio donde estás ejecutando el notebook."
      ],
      "metadata": {
        "nteract": {
          "transient": {
            "deleting": false
          }
        }
      }
    },
    {
      "cell_type": "code",
      "source": [
        "import pandas as pd\n",
        "import os\n",
        "\n",
        "# Definir el nombre del archivo\n",
        "file_name = 'sales (2).csv'\n",
        "\n",
        "# Verificar la existencia del archivo en el directorio actual\n",
        "if os.path.exists(file_name):\n",
        "    # Obtener la ruta absoluta\n",
        "    absolute_path = os.path.abspath(file_name)\n",
        "    print(f'Ruta absoluta del archivo: {absolute_path}')\n",
        "    \n",
        "    # Cargar el archivo CSV usando la ruta absoluta obtenida\n",
        "    df = pd.read_csv(absolute_path)\n",
        "    \n",
        "    # Mostrar las primeras filas para revisar la estructura de los datos\n",
        "    print(df.head())\n",
        "else:\n",
        "    print(f'El archivo \"{file_name}\" no se encuentra en el directorio actual.')\n",
        "\n"
      ],
      "outputs": [
        {
          "output_type": "stream",
          "name": "stdout",
          "text": "Ruta absoluta del archivo: /mnt/batch/tasks/shared/LS_root/mounts/clusters/aurelio-parra/code/Users/aurelio.sosa.netmind/Pandas/Pandas_Numpy/sales (2).csv\n   ordernumber  orderlinenumber   orderdate shippeddate requireddate  \\\n0        10100                1  2003-01-06  2003-01-10   2003-01-13   \n1        10100                2  2003-01-06  2003-01-10   2003-01-13   \n2        10100                3  2003-01-06  2003-01-10   2003-01-13   \n3        10100                4  2003-01-06  2003-01-10   2003-01-13   \n4        10101                1  2003-01-09  2003-01-11   2003-01-18   \n\n   customernumber  employeenumber productcode   status  \\\n0             363            1216    S24_3969  Shipped   \n1             363            1216    S18_2248  Shipped   \n2             363            1216    S18_1749  Shipped   \n3             363            1216    S18_4409  Shipped   \n4             128            1504    S18_2795  Shipped   \n\n                 comments  quantityordered  priceeach  sales_amount  \n0                     NaN               49      35.29       1729.21  \n1                     NaN               50      55.09       2754.50  \n2                     NaN               30     136.00       4080.00  \n3                     NaN               22      75.46       1660.12  \n4  Check on availability.               26     167.06       4343.56  \n"
        }
      ],
      "execution_count": 10,
      "metadata": {
        "gather": {
          "logged": 1739268941002
        }
      }
    },
    {
      "cell_type": "markdown",
      "source": [
        "Aquí tienes el código ajustado para que la representación de los datos sea más visual usando tablas interactivas. También te permitirá elegir qué columnas y filas mostrar:\n",
        "\n",
        "### Explicación de los cambios:\n",
        "1. **Visualización Mejorada:**  \n",
        "   Utilizo `display()` de `IPython.display` para mostrar las tablas de manera más amigable, especialmente útil si trabajas en Jupyter o Azure Notebooks.\n",
        "\n",
        "2. **Selección de Columnas y Filas:**\n",
        "   - **`columnas_deseadas`:** Aquí puedes personalizar qué columnas deseas ver.\n",
        "   - **`filas_deseadas`:** Controla qué filas mostrar usando `iloc[]` (índices de filas).\n",
        "\n",
        "### Cómo Personalizar:\n",
        "- **Cambiar el número de filas que muestra `head`:**  \n",
        "  Modifica `df.head(10)` a cualquier número que desees, por ejemplo, `df.head(20)`.\n",
        "\n",
        "- **Seleccionar columnas específicas:**  \n",
        "  Cambia `columnas_deseadas` para incluir las columnas que más te interesan.\n",
        "\n",
        "- **Cambiar el rango de filas:**  \n",
        "  Modifica `df.iloc[5:15]` para ajustar el rango de filas que quieres visualizar.\n"
      ],
      "metadata": {
        "nteract": {
          "transient": {
            "deleting": false
          }
        }
      }
    },
    {
      "cell_type": "code",
      "source": [
        "import pandas as pd\n",
        "import os\n",
        "from IPython.display import display  # Para mostrar tablas de forma más visual en Jupyter Notebooks\n",
        "\n",
        "# Definir el nombre del archivo\n",
        "file_name = 'sales (2).csv'\n",
        "\n",
        "# Verificar la existencia del archivo en el directorio actual\n",
        "if os.path.exists(file_name):\n",
        "    # Obtener la ruta absoluta\n",
        "    absolute_path = os.path.abspath(file_name)\n",
        "    print(f'Ruta absoluta del archivo: {absolute_path}')\n",
        "    \n",
        "    # Cargar el archivo CSV usando la ruta absoluta obtenida\n",
        "    df = pd.read_csv(absolute_path)\n",
        "    \n",
        "    # Visualización más clara de las primeras filas\n",
        "    display(df.head(10))  # Cambia el número de filas que deseas mostrar aquí\n",
        "    \n",
        "    # --- Selección personalizada de filas y columnas ---\n",
        "    columnas_deseadas = ['orderdate', 'productcode', 'quantityordered', 'sales_amount']  # Cambia las columnas aquí\n",
        "    filas_deseadas = df.iloc[5:15]  # Cambia el rango de filas que deseas visualizar\n",
        "    \n",
        "    # Mostrar la selección personalizada\n",
        "    display(filas_deseadas[columnas_deseadas])\n",
        "\n",
        "else:\n",
        "    print(f'El archivo \"{file_name}\" no se encuentra en el directorio actual.')\n"
      ],
      "outputs": [
        {
          "output_type": "stream",
          "name": "stdout",
          "text": "Ruta absoluta del archivo: /mnt/batch/tasks/shared/LS_root/mounts/clusters/aurelio-parra/code/Users/aurelio.sosa.netmind/Pandas/Pandas_Numpy/sales (2).csv\n"
        },
        {
          "output_type": "display_data",
          "data": {
            "text/plain": "   ordernumber  orderlinenumber   orderdate shippeddate requireddate  \\\n0        10100                1  2003-01-06  2003-01-10   2003-01-13   \n1        10100                2  2003-01-06  2003-01-10   2003-01-13   \n2        10100                3  2003-01-06  2003-01-10   2003-01-13   \n3        10100                4  2003-01-06  2003-01-10   2003-01-13   \n4        10101                1  2003-01-09  2003-01-11   2003-01-18   \n5        10101                2  2003-01-09  2003-01-11   2003-01-18   \n6        10101                3  2003-01-09  2003-01-11   2003-01-18   \n7        10101                4  2003-01-09  2003-01-11   2003-01-18   \n8        10102                1  2003-01-10  2003-01-14   2003-01-18   \n9        10102                2  2003-01-10  2003-01-14   2003-01-18   \n\n   customernumber  employeenumber productcode   status  \\\n0             363            1216    S24_3969  Shipped   \n1             363            1216    S18_2248  Shipped   \n2             363            1216    S18_1749  Shipped   \n3             363            1216    S18_4409  Shipped   \n4             128            1504    S18_2795  Shipped   \n5             128            1504    S24_2022  Shipped   \n6             128            1504    S24_1937  Shipped   \n7             128            1504    S18_2325  Shipped   \n8             181            1286    S18_1367  Shipped   \n9             181            1286    S18_1342  Shipped   \n\n                 comments  quantityordered  priceeach  sales_amount  \n0                     NaN               49      35.29       1729.21  \n1                     NaN               50      55.09       2754.50  \n2                     NaN               30     136.00       4080.00  \n3                     NaN               22      75.46       1660.12  \n4  Check on availability.               26     167.06       4343.56  \n5  Check on availability.               46      44.35       2040.10  \n6  Check on availability.               45      32.53       1463.85  \n7  Check on availability.               25     108.06       2701.50  \n8                     NaN               41      43.13       1768.33  \n9                     NaN               39      95.55       3726.45  ",
            "text/html": "<div>\n<style scoped>\n    .dataframe tbody tr th:only-of-type {\n        vertical-align: middle;\n    }\n\n    .dataframe tbody tr th {\n        vertical-align: top;\n    }\n\n    .dataframe thead th {\n        text-align: right;\n    }\n</style>\n<table border=\"1\" class=\"dataframe\">\n  <thead>\n    <tr style=\"text-align: right;\">\n      <th></th>\n      <th>ordernumber</th>\n      <th>orderlinenumber</th>\n      <th>orderdate</th>\n      <th>shippeddate</th>\n      <th>requireddate</th>\n      <th>customernumber</th>\n      <th>employeenumber</th>\n      <th>productcode</th>\n      <th>status</th>\n      <th>comments</th>\n      <th>quantityordered</th>\n      <th>priceeach</th>\n      <th>sales_amount</th>\n    </tr>\n  </thead>\n  <tbody>\n    <tr>\n      <th>0</th>\n      <td>10100</td>\n      <td>1</td>\n      <td>2003-01-06</td>\n      <td>2003-01-10</td>\n      <td>2003-01-13</td>\n      <td>363</td>\n      <td>1216</td>\n      <td>S24_3969</td>\n      <td>Shipped</td>\n      <td>NaN</td>\n      <td>49</td>\n      <td>35.29</td>\n      <td>1729.21</td>\n    </tr>\n    <tr>\n      <th>1</th>\n      <td>10100</td>\n      <td>2</td>\n      <td>2003-01-06</td>\n      <td>2003-01-10</td>\n      <td>2003-01-13</td>\n      <td>363</td>\n      <td>1216</td>\n      <td>S18_2248</td>\n      <td>Shipped</td>\n      <td>NaN</td>\n      <td>50</td>\n      <td>55.09</td>\n      <td>2754.50</td>\n    </tr>\n    <tr>\n      <th>2</th>\n      <td>10100</td>\n      <td>3</td>\n      <td>2003-01-06</td>\n      <td>2003-01-10</td>\n      <td>2003-01-13</td>\n      <td>363</td>\n      <td>1216</td>\n      <td>S18_1749</td>\n      <td>Shipped</td>\n      <td>NaN</td>\n      <td>30</td>\n      <td>136.00</td>\n      <td>4080.00</td>\n    </tr>\n    <tr>\n      <th>3</th>\n      <td>10100</td>\n      <td>4</td>\n      <td>2003-01-06</td>\n      <td>2003-01-10</td>\n      <td>2003-01-13</td>\n      <td>363</td>\n      <td>1216</td>\n      <td>S18_4409</td>\n      <td>Shipped</td>\n      <td>NaN</td>\n      <td>22</td>\n      <td>75.46</td>\n      <td>1660.12</td>\n    </tr>\n    <tr>\n      <th>4</th>\n      <td>10101</td>\n      <td>1</td>\n      <td>2003-01-09</td>\n      <td>2003-01-11</td>\n      <td>2003-01-18</td>\n      <td>128</td>\n      <td>1504</td>\n      <td>S18_2795</td>\n      <td>Shipped</td>\n      <td>Check on availability.</td>\n      <td>26</td>\n      <td>167.06</td>\n      <td>4343.56</td>\n    </tr>\n    <tr>\n      <th>5</th>\n      <td>10101</td>\n      <td>2</td>\n      <td>2003-01-09</td>\n      <td>2003-01-11</td>\n      <td>2003-01-18</td>\n      <td>128</td>\n      <td>1504</td>\n      <td>S24_2022</td>\n      <td>Shipped</td>\n      <td>Check on availability.</td>\n      <td>46</td>\n      <td>44.35</td>\n      <td>2040.10</td>\n    </tr>\n    <tr>\n      <th>6</th>\n      <td>10101</td>\n      <td>3</td>\n      <td>2003-01-09</td>\n      <td>2003-01-11</td>\n      <td>2003-01-18</td>\n      <td>128</td>\n      <td>1504</td>\n      <td>S24_1937</td>\n      <td>Shipped</td>\n      <td>Check on availability.</td>\n      <td>45</td>\n      <td>32.53</td>\n      <td>1463.85</td>\n    </tr>\n    <tr>\n      <th>7</th>\n      <td>10101</td>\n      <td>4</td>\n      <td>2003-01-09</td>\n      <td>2003-01-11</td>\n      <td>2003-01-18</td>\n      <td>128</td>\n      <td>1504</td>\n      <td>S18_2325</td>\n      <td>Shipped</td>\n      <td>Check on availability.</td>\n      <td>25</td>\n      <td>108.06</td>\n      <td>2701.50</td>\n    </tr>\n    <tr>\n      <th>8</th>\n      <td>10102</td>\n      <td>1</td>\n      <td>2003-01-10</td>\n      <td>2003-01-14</td>\n      <td>2003-01-18</td>\n      <td>181</td>\n      <td>1286</td>\n      <td>S18_1367</td>\n      <td>Shipped</td>\n      <td>NaN</td>\n      <td>41</td>\n      <td>43.13</td>\n      <td>1768.33</td>\n    </tr>\n    <tr>\n      <th>9</th>\n      <td>10102</td>\n      <td>2</td>\n      <td>2003-01-10</td>\n      <td>2003-01-14</td>\n      <td>2003-01-18</td>\n      <td>181</td>\n      <td>1286</td>\n      <td>S18_1342</td>\n      <td>Shipped</td>\n      <td>NaN</td>\n      <td>39</td>\n      <td>95.55</td>\n      <td>3726.45</td>\n    </tr>\n  </tbody>\n</table>\n</div>"
          },
          "metadata": {}
        },
        {
          "output_type": "display_data",
          "data": {
            "text/plain": "     orderdate productcode  quantityordered  sales_amount\n5   2003-01-09    S24_2022               46       2040.10\n6   2003-01-09    S24_1937               45       1463.85\n7   2003-01-09    S18_2325               25       2701.50\n8   2003-01-10    S18_1367               41       1768.33\n9   2003-01-10    S18_1342               39       3726.45\n10  2003-01-29    S24_2300               36       3864.24\n11  2003-01-29    S18_2432               22       1283.48\n12  2003-01-29    S32_1268               31       2866.26\n13  2003-01-29    S10_4962               42       5026.14\n14  2003-01-29    S18_4600               36       3530.52",
            "text/html": "<div>\n<style scoped>\n    .dataframe tbody tr th:only-of-type {\n        vertical-align: middle;\n    }\n\n    .dataframe tbody tr th {\n        vertical-align: top;\n    }\n\n    .dataframe thead th {\n        text-align: right;\n    }\n</style>\n<table border=\"1\" class=\"dataframe\">\n  <thead>\n    <tr style=\"text-align: right;\">\n      <th></th>\n      <th>orderdate</th>\n      <th>productcode</th>\n      <th>quantityordered</th>\n      <th>sales_amount</th>\n    </tr>\n  </thead>\n  <tbody>\n    <tr>\n      <th>5</th>\n      <td>2003-01-09</td>\n      <td>S24_2022</td>\n      <td>46</td>\n      <td>2040.10</td>\n    </tr>\n    <tr>\n      <th>6</th>\n      <td>2003-01-09</td>\n      <td>S24_1937</td>\n      <td>45</td>\n      <td>1463.85</td>\n    </tr>\n    <tr>\n      <th>7</th>\n      <td>2003-01-09</td>\n      <td>S18_2325</td>\n      <td>25</td>\n      <td>2701.50</td>\n    </tr>\n    <tr>\n      <th>8</th>\n      <td>2003-01-10</td>\n      <td>S18_1367</td>\n      <td>41</td>\n      <td>1768.33</td>\n    </tr>\n    <tr>\n      <th>9</th>\n      <td>2003-01-10</td>\n      <td>S18_1342</td>\n      <td>39</td>\n      <td>3726.45</td>\n    </tr>\n    <tr>\n      <th>10</th>\n      <td>2003-01-29</td>\n      <td>S24_2300</td>\n      <td>36</td>\n      <td>3864.24</td>\n    </tr>\n    <tr>\n      <th>11</th>\n      <td>2003-01-29</td>\n      <td>S18_2432</td>\n      <td>22</td>\n      <td>1283.48</td>\n    </tr>\n    <tr>\n      <th>12</th>\n      <td>2003-01-29</td>\n      <td>S32_1268</td>\n      <td>31</td>\n      <td>2866.26</td>\n    </tr>\n    <tr>\n      <th>13</th>\n      <td>2003-01-29</td>\n      <td>S10_4962</td>\n      <td>42</td>\n      <td>5026.14</td>\n    </tr>\n    <tr>\n      <th>14</th>\n      <td>2003-01-29</td>\n      <td>S18_4600</td>\n      <td>36</td>\n      <td>3530.52</td>\n    </tr>\n  </tbody>\n</table>\n</div>"
          },
          "metadata": {}
        }
      ],
      "execution_count": 1,
      "metadata": {
        "gather": {
          "logged": 1739270601232
        }
      }
    }
  ],
  "metadata": {
    "kernelspec": {
      "name": "python310-sdkv2",
      "language": "python",
      "display_name": "Python 3.10 - SDK v2"
    },
    "language_info": {
      "name": "python",
      "version": "3.10.14",
      "mimetype": "text/x-python",
      "codemirror_mode": {
        "name": "ipython",
        "version": 3
      },
      "pygments_lexer": "ipython3",
      "nbconvert_exporter": "python",
      "file_extension": ".py"
    },
    "microsoft": {
      "ms_spell_check": {
        "ms_spell_check_language": "es"
      },
      "host": {
        "AzureML": {
          "notebookHasBeenCompleted": true
        }
      }
    },
    "kernel_info": {
      "name": "python310-sdkv2"
    },
    "nteract": {
      "version": "nteract-front-end@1.0.0"
    }
  },
  "nbformat": 4,
  "nbformat_minor": 2
}